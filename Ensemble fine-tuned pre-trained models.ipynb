{
 "cells": [
  {
   "cell_type": "code",
   "execution_count": 2,
   "id": "6fe14b28-b592-4a50-a170-6a2cbb870739",
   "metadata": {
    "tags": []
   },
   "outputs": [],
   "source": [
    "import os \n",
    "import glob\n",
    "import shutil\n",
    "import numpy as np\n",
    "import pandas as pd\n",
    "import seaborn as sns\n",
    "import matplotlib.pyplot as plt\n",
    "from skimage.io import imread,imsave\n",
    "from sklearn.model_selection import train_test_split\n",
    "\n",
    "import tensorflow as tf\n",
    "from tensorflow.keras.utils import plot_model\n",
    "from tensorflow.keras.preprocessing.image import ImageDataGenerator\n",
    "from tensorflow.keras.models import save_model, load_model, Model\n",
    "from tensorflow.keras.layers import Input,InputLayer, Dropout, Flatten, Dense, Activation, MaxPooling2D, Conv2D\n",
    "from sklearn.metrics import classification_report"
   ]
  },
  {
   "cell_type": "code",
   "execution_count": 1,
   "id": "ab6ada14-7fdc-46e8-bf96-0e6a8711d4f1",
   "metadata": {},
   "outputs": [],
   "source": [
    "def efficientnet_row(optimizer, loss, metrics, shape):\n",
    "    image_input = tf.keras.applications.EfficientNetB0(include_top=False, weights='imagenet', input_shape=shape)  # Change model to EfficientNet\n",
    "\n",
    "    for layer in image_input.layers:\n",
    "        layer.trainable = False\n",
    "        layer._name = layer._name + str('_img')\n",
    "\n",
    "    y = Flatten()(image_input.output)\n",
    "    c = Dropout(0.4)(y)\n",
    "    c = Dense(512)(c)\n",
    "    c = Dense(256)(c)\n",
    "    c = Dense(128)(c)\n",
    "    output_layer = Dense(3, activation='softmax')(c)\n",
    "\n",
    "    model = Model(inputs=image_input.input, outputs=output_layer)\n",
    "    model.compile(optimizer=optimizer, loss=loss, metrics=metrics)\n",
    "    return model"
   ]
  },
  {
   "cell_type": "code",
   "execution_count": 2,
   "id": "2dd7718f-2bc1-49aa-a350-0509421c84e9",
   "metadata": {
    "tags": []
   },
   "outputs": [],
   "source": [
    "def plot_confusion_matrix(true_lab,predict_lab,classes,path):\n",
    "  matrix_confusion = tf.math.confusion_matrix(labels=true_lab, predictions=predicted_lab, num_classes=len(classes))\n",
    "  ax = plt.subplot()\n",
    "  sns.heatmap(matrix_confusion, square=True, annot=True, cmap='Blues', fmt='d', cbar=True)\n",
    "  ax.set_xlabel('Predicted labels')\n",
    "  ax.set_ylabel('True labels')\n",
    "  ax.set_title('Confusion Matrix')\n",
    "  ax.xaxis.set_ticklabels(classes)\n",
    "  ax.yaxis.set_ticklabels(classes)\n",
    "  plt.savefig(f'{path}confusion_matrix.png')"
   ]
  },
  {
   "cell_type": "code",
   "execution_count": 3,
   "id": "39cad07b-337c-4a29-aa61-ee3c6b2d2b19",
   "metadata": {
    "tags": []
   },
   "outputs": [],
   "source": [
    "def dump_text(text,path):\n",
    "  text_file = open(path, \"w\")\n",
    "  text_file.write(text)\n",
    "  text_file.close()\n",
    "     "
   ]
  },
  {
   "cell_type": "code",
   "execution_count": 4,
   "id": "de39c34c-bad5-4b99-a0a9-0faa4c1667e0",
   "metadata": {
    "tags": []
   },
   "outputs": [
    {
     "ename": "NameError",
     "evalue": "name 'tf' is not defined",
     "output_type": "error",
     "traceback": [
      "\u001b[0;31m---------------------------------------------------------------------------\u001b[0m",
      "\u001b[0;31mNameError\u001b[0m                                 Traceback (most recent call last)",
      "Input \u001b[0;32mIn [4]\u001b[0m, in \u001b[0;36m<cell line: 1>\u001b[0;34m()\u001b[0m\n\u001b[0;32m----> 1\u001b[0m config \u001b[38;5;241m=\u001b[39m \u001b[43mtf\u001b[49m\u001b[38;5;241m.\u001b[39mcompat\u001b[38;5;241m.\u001b[39mv1\u001b[38;5;241m.\u001b[39mConfigProto()\n\u001b[1;32m      2\u001b[0m config\u001b[38;5;241m.\u001b[39mgpu_options\u001b[38;5;241m.\u001b[39mallow_growth \u001b[38;5;241m=\u001b[39m \u001b[38;5;28;01mTrue\u001b[39;00m\n\u001b[1;32m      3\u001b[0m session \u001b[38;5;241m=\u001b[39m tf\u001b[38;5;241m.\u001b[39mcompat\u001b[38;5;241m.\u001b[39mv1\u001b[38;5;241m.\u001b[39mSession(config\u001b[38;5;241m=\u001b[39mconfig)\n",
      "\u001b[0;31mNameError\u001b[0m: name 'tf' is not defined"
     ]
    }
   ],
   "source": [
    "config = tf.compat.v1.ConfigProto()\n",
    "config.gpu_options.allow_growth = True\n",
    "session = tf.compat.v1.Session(config=config)"
   ]
  },
  {
   "cell_type": "code",
   "execution_count": 7,
   "id": "c3cd990d-1787-463f-9008-9562a5ac1a4a",
   "metadata": {
    "tags": []
   },
   "outputs": [
    {
     "name": "stdout",
     "output_type": "stream",
     "text": [
      "Found 1901 images belonging to 3 classes.\n",
      "Found 494 images belonging to 3 classes.\n"
     ]
    }
   ],
   "source": [
    "root='AFFINE_REG_SKS_MASK_2D_IMAGES_DIR/'\n",
    "image_Shape=(436,364,3)\n",
    "training_image_datagen = ImageDataGenerator(horizontal_flip=True).flow_from_directory(\n",
    "                                                  directory=f'{root}/training/',\n",
    "                                                  target_size=(image_Shape[0], image_Shape[1]),\n",
    "                                                  class_mode='categorical',\n",
    "                                                  batch_size=4\n",
    "                                                  )\n",
    "\n",
    "testing_image_datagen = ImageDataGenerator().flow_from_directory(\n",
    "                                                  directory = f'{root}/testing/' ,\n",
    "                                                  target_size = (image_Shape[0] ,image_Shape[1]) ,\n",
    "                                                  class_mode = 'categorical' ,\n",
    "                                                  batch_size=1 ,\n",
    "                                                  shuffle = False\n",
    "                                                  )"
   ]
  },
  {
   "cell_type": "code",
   "execution_count": 8,
   "id": "4ec25013-2bb0-4689-9530-6514de9c8f8a",
   "metadata": {
    "tags": []
   },
   "outputs": [
    {
     "name": "stderr",
     "output_type": "stream",
     "text": [
      "2024-02-20 19:35:52.166096: I tensorflow/core/platform/cpu_feature_guard.cc:151] This TensorFlow binary is optimized with oneAPI Deep Neural Network Library (oneDNN) to use the following CPU instructions in performance-critical operations:  SSE4.1 SSE4.2 AVX AVX2 AVX512F FMA\n",
      "To enable them in other operations, rebuild TensorFlow with the appropriate compiler flags.\n",
      "2024-02-20 19:35:52.881245: I tensorflow/core/common_runtime/gpu/gpu_device.cc:1525] Created device /job:localhost/replica:0/task:0/device:GPU:0 with 9629 MB memory:  -> device: 0, name: NVIDIA GeForce RTX 2080 Ti, pci bus id: 0000:61:00.0, compute capability: 7.5\n"
     ]
    }
   ],
   "source": [
    "EPOCH = 50\n",
    "METRICS = [\n",
    "    tf.keras.metrics.CategoricalAccuracy(name='Accuracy'),\n",
    "    tf.keras.metrics.Precision(name='AD_Precision',class_id=0),\n",
    "    tf.keras.metrics.Precision(name='CN_Precision',class_id=1),\n",
    "    tf.keras.metrics.Precision(name='MCI_Precision',class_id=2),\n",
    "    tf.keras.metrics.Recall(name='AD_Recall',class_id=0),\n",
    "    tf.keras.metrics.Recall(name='CN_Recall',class_id=1),\n",
    "    tf.keras.metrics.Recall(name='MCI_Recall',class_id=2),\n",
    "    ]\n",
    "LOOS = 'categorical_crossentropy'"
   ]
  },
  {
   "cell_type": "code",
   "execution_count": 9,
   "id": "bb2fd531-5eff-4d76-aa32-c41a15936ce8",
   "metadata": {
    "tags": []
   },
   "outputs": [
    {
     "name": "stdout",
     "output_type": "stream",
     "text": [
      "Epoch 1/50\n"
     ]
    },
    {
     "name": "stderr",
     "output_type": "stream",
     "text": [
      "2024-02-20 19:36:01.501473: I tensorflow/stream_executor/cuda/cuda_dnn.cc:366] Loaded cuDNN version 8201\n"
     ]
    },
    {
     "name": "stdout",
     "output_type": "stream",
     "text": [
      "476/476 [==============================] - 33s 56ms/step - loss: 4.5155 - Accuracy: 0.4740 - AD_Precision: 0.2617 - CN_Precision: 0.3609 - MCI_Precision: 0.5917 - AD_Recall: 0.2530 - CN_Recall: 0.3553 - MCI_Recall: 0.5939 - val_loss: 2.1844 - val_Accuracy: 0.5749 - val_AD_Precision: 0.7000 - val_CN_Precision: 0.5157 - val_MCI_Precision: 0.6192 - val_AD_Recall: 0.0714 - val_CN_Recall: 0.7325 - val_MCI_Recall: 0.6736\n",
      "Epoch 2/50\n",
      "476/476 [==============================] - 21s 44ms/step - loss: 2.4097 - Accuracy: 0.5355 - AD_Precision: 0.3688 - CN_Precision: 0.4286 - MCI_Precision: 0.6411 - AD_Recall: 0.3554 - CN_Recall: 0.4194 - MCI_Recall: 0.6423 - val_loss: 3.3402 - val_Accuracy: 0.5324 - val_AD_Precision: 1.0000 - val_CN_Precision: 0.4653 - val_MCI_Precision: 0.6417 - val_AD_Recall: 0.0204 - val_CN_Recall: 0.8981 - val_MCI_Recall: 0.5021\n",
      "Epoch 3/50\n",
      "476/476 [==============================] - 21s 44ms/step - loss: 2.0824 - Accuracy: 0.5744 - AD_Precision: 0.3762 - CN_Precision: 0.5030 - MCI_Precision: 0.6639 - AD_Recall: 0.3434 - CN_Recall: 0.4854 - MCI_Recall: 0.6803 - val_loss: 1.5582 - val_Accuracy: 0.5020 - val_AD_Precision: 0.3475 - val_CN_Precision: 0.5317 - val_MCI_Precision: 0.7294 - val_AD_Recall: 0.5000 - val_CN_Recall: 0.8535 - val_MCI_Recall: 0.2594\n",
      "Epoch 4/50\n",
      "476/476 [==============================] - 22s 46ms/step - loss: 1.4565 - Accuracy: 0.6028 - AD_Precision: 0.4533 - CN_Precision: 0.5371 - MCI_Precision: 0.6856 - AD_Recall: 0.4096 - CN_Recall: 0.5204 - MCI_Recall: 0.6888 - val_loss: 0.9123 - val_Accuracy: 0.7065 - val_AD_Precision: 0.6829 - val_CN_Precision: 0.7329 - val_MCI_Precision: 0.7007 - val_AD_Recall: 0.2857 - val_CN_Recall: 0.7516 - val_MCI_Recall: 0.8326\n",
      "Epoch 5/50\n",
      "476/476 [==============================] - 21s 44ms/step - loss: 1.0804 - Accuracy: 0.6560 - AD_Precision: 0.5483 - CN_Precision: 0.6049 - MCI_Precision: 0.7165 - AD_Recall: 0.4789 - CN_Recall: 0.5709 - MCI_Recall: 0.7315 - val_loss: 1.0409 - val_Accuracy: 0.6255 - val_AD_Precision: 0.7250 - val_CN_Precision: 0.5276 - val_MCI_Precision: 0.8108 - val_AD_Recall: 0.2959 - val_CN_Recall: 0.9745 - val_MCI_Recall: 0.5021\n",
      "Epoch 6/50\n",
      "476/476 [==============================] - 21s 44ms/step - loss: 0.9285 - Accuracy: 0.6807 - AD_Precision: 0.5368 - CN_Precision: 0.6474 - MCI_Precision: 0.7474 - AD_Recall: 0.4608 - CN_Recall: 0.6097 - MCI_Recall: 0.7609 - val_loss: 0.8372 - val_Accuracy: 0.7024 - val_AD_Precision: 0.8462 - val_CN_Precision: 0.7171 - val_MCI_Precision: 0.6910 - val_AD_Recall: 0.2245 - val_CN_Recall: 0.6943 - val_MCI_Recall: 0.8703\n",
      "Epoch 7/50\n",
      "476/476 [==============================] - 21s 43ms/step - loss: 0.9134 - Accuracy: 0.6749 - AD_Precision: 0.5729 - CN_Precision: 0.6388 - MCI_Precision: 0.7381 - AD_Recall: 0.4970 - CN_Recall: 0.5942 - MCI_Recall: 0.7353 - val_loss: 0.7850 - val_Accuracy: 0.6984 - val_AD_Precision: 0.7500 - val_CN_Precision: 0.6528 - val_MCI_Precision: 0.7900 - val_AD_Recall: 0.2755 - val_CN_Recall: 0.8981 - val_MCI_Recall: 0.6611\n",
      "Epoch 8/50\n",
      "476/476 [==============================] - 21s 44ms/step - loss: 0.7514 - Accuracy: 0.7112 - AD_Precision: 0.5957 - CN_Precision: 0.7075 - MCI_Precision: 0.7600 - AD_Recall: 0.5060 - CN_Recall: 0.6388 - MCI_Recall: 0.7751 - val_loss: 0.8249 - val_Accuracy: 0.6923 - val_AD_Precision: 1.0000 - val_CN_Precision: 0.6682 - val_MCI_Precision: 0.7542 - val_AD_Recall: 0.1327 - val_CN_Recall: 0.8981 - val_MCI_Recall: 0.7573\n",
      "Epoch 9/50\n",
      "476/476 [==============================] - 21s 44ms/step - loss: 0.7090 - Accuracy: 0.7175 - AD_Precision: 0.6296 - CN_Precision: 0.7015 - MCI_Precision: 0.7769 - AD_Recall: 0.5120 - CN_Recall: 0.6388 - MCI_Recall: 0.7960 - val_loss: 1.0478 - val_Accuracy: 0.6822 - val_AD_Precision: 1.0000 - val_CN_Precision: 0.8462 - val_MCI_Precision: 0.6247 - val_AD_Recall: 0.0918 - val_CN_Recall: 0.6306 - val_MCI_Recall: 0.9540\n",
      "Epoch 10/50\n",
      "476/476 [==============================] - 21s 44ms/step - loss: 0.6771 - Accuracy: 0.7217 - AD_Precision: 0.6576 - CN_Precision: 0.7109 - MCI_Precision: 0.7750 - AD_Recall: 0.5090 - CN_Recall: 0.6350 - MCI_Recall: 0.7941 - val_loss: 0.9959 - val_Accuracy: 0.5668 - val_AD_Precision: 0.8438 - val_CN_Precision: 0.4872 - val_MCI_Precision: 0.8317 - val_AD_Recall: 0.2755 - val_CN_Recall: 0.9682 - val_MCI_Recall: 0.3515\n",
      "Epoch 11/50\n",
      "476/476 [==============================] - 21s 44ms/step - loss: 0.6185 - Accuracy: 0.7486 - AD_Precision: 0.6967 - CN_Precision: 0.7375 - MCI_Precision: 0.7866 - AD_Recall: 0.5120 - CN_Recall: 0.6602 - MCI_Recall: 0.8254 - val_loss: 0.7407 - val_Accuracy: 0.6943 - val_AD_Precision: 0.7414 - val_CN_Precision: 0.6476 - val_MCI_Precision: 0.8526 - val_AD_Recall: 0.4388 - val_CN_Recall: 0.9363 - val_MCI_Recall: 0.5565\n",
      "Epoch 12/50\n",
      "476/476 [==============================] - 21s 44ms/step - loss: 0.6602 - Accuracy: 0.7365 - AD_Precision: 0.7108 - CN_Precision: 0.7239 - MCI_Precision: 0.7865 - AD_Recall: 0.5331 - CN_Recall: 0.6466 - MCI_Recall: 0.8074 - val_loss: 1.0013 - val_Accuracy: 0.5364 - val_AD_Precision: 0.6447 - val_CN_Precision: 0.4983 - val_MCI_Precision: 0.8519 - val_AD_Recall: 0.5000 - val_CN_Recall: 0.9363 - val_MCI_Recall: 0.1925\n",
      "Epoch 13/50\n",
      "476/476 [==============================] - 21s 44ms/step - loss: 0.5883 - Accuracy: 0.7517 - AD_Precision: 0.7209 - CN_Precision: 0.7366 - MCI_Precision: 0.7881 - AD_Recall: 0.5602 - CN_Recall: 0.6680 - MCI_Recall: 0.8188 - val_loss: 0.7070 - val_Accuracy: 0.7065 - val_AD_Precision: 0.7674 - val_CN_Precision: 0.6532 - val_MCI_Precision: 0.8343 - val_AD_Recall: 0.3367 - val_CN_Recall: 0.9236 - val_MCI_Recall: 0.6318\n",
      "Epoch 14/50\n",
      "476/476 [==============================] - 21s 44ms/step - loss: 0.5684 - Accuracy: 0.7712 - AD_Precision: 0.7262 - CN_Precision: 0.7864 - MCI_Precision: 0.8037 - AD_Recall: 0.5753 - CN_Recall: 0.6718 - MCI_Recall: 0.8311 - val_loss: 0.7985 - val_Accuracy: 0.7004 - val_AD_Precision: 0.9565 - val_CN_Precision: 0.6344 - val_MCI_Precision: 0.7600 - val_AD_Recall: 0.2245 - val_CN_Recall: 0.9172 - val_MCI_Recall: 0.7155\n",
      "Epoch 15/50\n",
      "476/476 [==============================] - 22s 47ms/step - loss: 0.5922 - Accuracy: 0.7585 - AD_Precision: 0.6902 - CN_Precision: 0.7606 - MCI_Precision: 0.8059 - AD_Recall: 0.5301 - CN_Recall: 0.6971 - MCI_Recall: 0.8273 - val_loss: 0.6506 - val_Accuracy: 0.7611 - val_AD_Precision: 0.7455 - val_CN_Precision: 0.8014 - val_MCI_Precision: 0.7684 - val_AD_Recall: 0.4184 - val_CN_Recall: 0.7197 - val_MCI_Recall: 0.8745\n",
      "Epoch 16/50\n",
      "476/476 [==============================] - 21s 44ms/step - loss: 0.5445 - Accuracy: 0.7764 - AD_Precision: 0.8008 - CN_Precision: 0.7505 - MCI_Precision: 0.8152 - AD_Recall: 0.5934 - CN_Recall: 0.6777 - MCI_Recall: 0.8330 - val_loss: 0.7332 - val_Accuracy: 0.7368 - val_AD_Precision: 0.9524 - val_CN_Precision: 0.8243 - val_MCI_Precision: 0.7049 - val_AD_Recall: 0.2041 - val_CN_Recall: 0.7771 - val_MCI_Recall: 0.8996\n",
      "Epoch 17/50\n",
      "476/476 [==============================] - 21s 44ms/step - loss: 0.5021 - Accuracy: 0.8038 - AD_Precision: 0.7860 - CN_Precision: 0.7909 - MCI_Precision: 0.8412 - AD_Recall: 0.6416 - CN_Recall: 0.7126 - MCI_Recall: 0.8596 - val_loss: 1.3408 - val_Accuracy: 0.6275 - val_AD_Precision: 1.0000 - val_CN_Precision: 0.9452 - val_MCI_Precision: 0.5697 - val_AD_Recall: 0.0204 - val_CN_Recall: 0.4395 - val_MCI_Recall: 0.9916\n",
      "Epoch 18/50\n",
      "476/476 [==============================] - 21s 44ms/step - loss: 0.5489 - Accuracy: 0.7659 - AD_Precision: 0.7283 - CN_Precision: 0.7749 - MCI_Precision: 0.8024 - AD_Recall: 0.5572 - CN_Recall: 0.6951 - MCI_Recall: 0.8245 - val_loss: 0.6380 - val_Accuracy: 0.7348 - val_AD_Precision: 0.7407 - val_CN_Precision: 0.8868 - val_MCI_Precision: 0.6918 - val_AD_Recall: 0.4082 - val_CN_Recall: 0.5987 - val_MCI_Recall: 0.8828\n",
      "Epoch 19/50\n",
      "476/476 [==============================] - 21s 44ms/step - loss: 0.5563 - Accuracy: 0.7843 - AD_Precision: 0.7566 - CN_Precision: 0.7854 - MCI_Precision: 0.8172 - AD_Recall: 0.6084 - CN_Recall: 0.7107 - MCI_Recall: 0.8311 - val_loss: 0.7281 - val_Accuracy: 0.6943 - val_AD_Precision: 0.9000 - val_CN_Precision: 0.9024 - val_MCI_Precision: 0.6459 - val_AD_Recall: 0.3673 - val_CN_Recall: 0.4713 - val_MCI_Recall: 0.9540\n",
      "Epoch 20/50\n",
      "476/476 [==============================] - 22s 47ms/step - loss: 0.4573 - Accuracy: 0.8190 - AD_Precision: 0.8000 - CN_Precision: 0.8266 - MCI_Precision: 0.8504 - AD_Recall: 0.6265 - CN_Recall: 0.7495 - MCI_Recall: 0.8738 - val_loss: 0.5646 - val_Accuracy: 0.7652 - val_AD_Precision: 0.6186 - val_CN_Precision: 0.8857 - val_MCI_Precision: 0.8119 - val_AD_Recall: 0.6122 - val_CN_Recall: 0.7898 - val_MCI_Recall: 0.7406\n",
      "Epoch 21/50\n",
      "476/476 [==============================] - 21s 44ms/step - loss: 0.4913 - Accuracy: 0.7938 - AD_Precision: 0.7348 - CN_Precision: 0.8106 - MCI_Precision: 0.8309 - AD_Recall: 0.6175 - CN_Recall: 0.7398 - MCI_Recall: 0.8482 - val_loss: 0.7753 - val_Accuracy: 0.6721 - val_AD_Precision: 0.8222 - val_CN_Precision: 0.5785 - val_MCI_Precision: 0.8431 - val_AD_Recall: 0.3776 - val_CN_Recall: 0.9618 - val_MCI_Recall: 0.5397\n",
      "Epoch 22/50\n",
      "476/476 [==============================] - 21s 44ms/step - loss: 0.4852 - Accuracy: 0.8106 - AD_Precision: 0.7970 - CN_Precision: 0.7949 - MCI_Precision: 0.8423 - AD_Recall: 0.6506 - CN_Recall: 0.7223 - MCI_Recall: 0.8719 - val_loss: 0.8749 - val_Accuracy: 0.6822 - val_AD_Precision: 0.8605 - val_CN_Precision: 0.9375 - val_MCI_Precision: 0.6230 - val_AD_Recall: 0.3776 - val_CN_Recall: 0.3822 - val_MCI_Recall: 0.9749\n",
      "Epoch 23/50\n",
      "476/476 [==============================] - 21s 44ms/step - loss: 0.4608 - Accuracy: 0.8164 - AD_Precision: 0.8185 - CN_Precision: 0.8291 - MCI_Precision: 0.8446 - AD_Recall: 0.6386 - CN_Recall: 0.7534 - MCI_Recall: 0.8767 - val_loss: 0.8629 - val_Accuracy: 0.6862 - val_AD_Precision: 0.9630 - val_CN_Precision: 0.5914 - val_MCI_Precision: 0.8389 - val_AD_Recall: 0.2653 - val_CN_Recall: 0.9682 - val_MCI_Recall: 0.6318\n",
      "Epoch 24/50\n",
      "476/476 [==============================] - 21s 44ms/step - loss: 0.4589 - Accuracy: 0.8233 - AD_Precision: 0.8246 - CN_Precision: 0.8176 - MCI_Precision: 0.8480 - AD_Recall: 0.6657 - CN_Recall: 0.7573 - MCI_Recall: 0.8681 - val_loss: 0.8486 - val_Accuracy: 0.7348 - val_AD_Precision: 1.0000 - val_CN_Precision: 0.7333 - val_MCI_Precision: 0.7481 - val_AD_Recall: 0.1633 - val_CN_Recall: 0.9108 - val_MCI_Recall: 0.8452\n",
      "Epoch 25/50\n",
      "476/476 [==============================] - 21s 44ms/step - loss: 0.4383 - Accuracy: 0.8254 - AD_Precision: 0.8172 - CN_Precision: 0.8316 - MCI_Precision: 0.8454 - AD_Recall: 0.6867 - CN_Recall: 0.7767 - MCI_Recall: 0.8719 - val_loss: 0.6848 - val_Accuracy: 0.7227 - val_AD_Precision: 0.5226 - val_CN_Precision: 0.9293 - val_MCI_Precision: 0.8018 - val_AD_Recall: 0.8265 - val_CN_Recall: 0.5860 - val_MCI_Recall: 0.7280\n",
      "Epoch 26/50\n",
      "476/476 [==============================] - 21s 44ms/step - loss: 0.4434 - Accuracy: 0.8217 - AD_Precision: 0.7909 - CN_Precision: 0.8229 - MCI_Precision: 0.8458 - AD_Recall: 0.6837 - CN_Recall: 0.7670 - MCI_Recall: 0.8691 - val_loss: 0.6734 - val_Accuracy: 0.7429 - val_AD_Precision: 0.9697 - val_CN_Precision: 0.9083 - val_MCI_Precision: 0.6855 - val_AD_Recall: 0.3265 - val_CN_Recall: 0.6306 - val_MCI_Recall: 0.9665\n",
      "Epoch 27/50\n",
      "476/476 [==============================] - 22s 47ms/step - loss: 0.4418 - Accuracy: 0.8290 - AD_Precision: 0.8262 - CN_Precision: 0.8234 - MCI_Precision: 0.8499 - AD_Recall: 0.7018 - CN_Recall: 0.7515 - MCI_Recall: 0.8700 - val_loss: 0.6954 - val_Accuracy: 0.7672 - val_AD_Precision: 0.9583 - val_CN_Precision: 0.8302 - val_MCI_Precision: 0.7291 - val_AD_Recall: 0.2347 - val_CN_Recall: 0.8408 - val_MCI_Recall: 0.9121\n",
      "Epoch 28/50\n",
      "476/476 [==============================] - 22s 47ms/step - loss: 0.4087 - Accuracy: 0.8490 - AD_Precision: 0.8596 - CN_Precision: 0.8476 - MCI_Precision: 0.8655 - AD_Recall: 0.7560 - CN_Recall: 0.7883 - MCI_Recall: 0.8852 - val_loss: 0.6252 - val_Accuracy: 0.7854 - val_AD_Precision: 0.9429 - val_CN_Precision: 0.8716 - val_MCI_Precision: 0.7351 - val_AD_Recall: 0.3367 - val_CN_Recall: 0.8217 - val_MCI_Recall: 0.9289\n",
      "Epoch 29/50\n",
      "476/476 [==============================] - 22s 47ms/step - loss: 0.4093 - Accuracy: 0.8459 - AD_Precision: 0.8262 - CN_Precision: 0.8583 - MCI_Precision: 0.8627 - AD_Recall: 0.7018 - CN_Recall: 0.8117 - MCI_Recall: 0.8824 - val_loss: 0.5725 - val_Accuracy: 0.7874 - val_AD_Precision: 0.8154 - val_CN_Precision: 0.8591 - val_MCI_Precision: 0.7852 - val_AD_Recall: 0.5408 - val_CN_Recall: 0.8153 - val_MCI_Recall: 0.8410\n",
      "Epoch 30/50\n",
      "476/476 [==============================] - 21s 44ms/step - loss: 0.3954 - Accuracy: 0.8527 - AD_Precision: 0.8511 - CN_Precision: 0.8441 - MCI_Precision: 0.8800 - AD_Recall: 0.7229 - CN_Recall: 0.7883 - MCI_Recall: 0.9042 - val_loss: 0.6054 - val_Accuracy: 0.7814 - val_AD_Precision: 0.9000 - val_CN_Precision: 0.7437 - val_MCI_Precision: 0.8319 - val_AD_Recall: 0.4592 - val_CN_Recall: 0.9427 - val_MCI_Recall: 0.7866\n",
      "Epoch 31/50\n",
      "476/476 [==============================] - 21s 44ms/step - loss: 0.3910 - Accuracy: 0.8443 - AD_Precision: 0.8247 - CN_Precision: 0.8473 - MCI_Precision: 0.8675 - AD_Recall: 0.7229 - CN_Recall: 0.8078 - MCI_Recall: 0.8757 - val_loss: 0.5459 - val_Accuracy: 0.7814 - val_AD_Precision: 0.6481 - val_CN_Precision: 0.8194 - val_MCI_Precision: 0.8531 - val_AD_Recall: 0.7143 - val_CN_Recall: 0.8089 - val_MCI_Recall: 0.7531\n",
      "Epoch 32/50\n",
      "476/476 [==============================] - 21s 44ms/step - loss: 0.3758 - Accuracy: 0.8606 - AD_Precision: 0.8259 - CN_Precision: 0.8737 - MCI_Precision: 0.8844 - AD_Recall: 0.7289 - CN_Recall: 0.8058 - MCI_Recall: 0.9004 - val_loss: 0.6177 - val_Accuracy: 0.7713 - val_AD_Precision: 0.8600 - val_CN_Precision: 0.9016 - val_MCI_Precision: 0.7240 - val_AD_Recall: 0.4388 - val_CN_Recall: 0.7006 - val_MCI_Recall: 0.9331\n",
      "Epoch 33/50\n",
      "476/476 [==============================] - 21s 44ms/step - loss: 0.3517 - Accuracy: 0.8517 - AD_Precision: 0.8277 - CN_Precision: 0.8506 - MCI_Precision: 0.8770 - AD_Recall: 0.7380 - CN_Recall: 0.8291 - MCI_Recall: 0.8861 - val_loss: 0.6461 - val_Accuracy: 0.7733 - val_AD_Precision: 0.8421 - val_CN_Precision: 0.9364 - val_MCI_Precision: 0.7203 - val_AD_Recall: 0.4898 - val_CN_Recall: 0.6561 - val_MCI_Recall: 0.9372\n",
      "Epoch 34/50\n",
      "476/476 [==============================] - 21s 44ms/step - loss: 0.3760 - Accuracy: 0.8595 - AD_Precision: 0.8333 - CN_Precision: 0.8638 - MCI_Precision: 0.8800 - AD_Recall: 0.7229 - CN_Recall: 0.8252 - MCI_Recall: 0.8975 - val_loss: 0.6182 - val_Accuracy: 0.7713 - val_AD_Precision: 0.6281 - val_CN_Precision: 0.9600 - val_MCI_Precision: 0.8097 - val_AD_Recall: 0.7755 - val_CN_Recall: 0.6115 - val_MCI_Recall: 0.8368\n",
      "Epoch 35/50\n",
      "476/476 [==============================] - 21s 44ms/step - loss: 0.3541 - Accuracy: 0.8632 - AD_Precision: 0.8316 - CN_Precision: 0.8686 - MCI_Precision: 0.8841 - AD_Recall: 0.7440 - CN_Recall: 0.8214 - MCI_Recall: 0.8975 - val_loss: 0.9590 - val_Accuracy: 0.6680 - val_AD_Precision: 0.9500 - val_CN_Precision: 0.9623 - val_MCI_Precision: 0.6051 - val_AD_Recall: 0.3878 - val_CN_Recall: 0.3248 - val_MCI_Recall: 0.9874\n",
      "Epoch 36/50\n",
      "476/476 [==============================] - 23s 48ms/step - loss: 0.3724 - Accuracy: 0.8574 - AD_Precision: 0.8328 - CN_Precision: 0.8396 - MCI_Precision: 0.8859 - AD_Recall: 0.7500 - CN_Recall: 0.8233 - MCI_Recall: 0.8843 - val_loss: 0.5369 - val_Accuracy: 0.7915 - val_AD_Precision: 0.7041 - val_CN_Precision: 0.9328 - val_MCI_Precision: 0.7954 - val_AD_Recall: 0.7041 - val_CN_Recall: 0.7070 - val_MCI_Recall: 0.8619\n",
      "Epoch 37/50\n",
      "476/476 [==============================] - 21s 44ms/step - loss: 0.3550 - Accuracy: 0.8559 - AD_Precision: 0.8020 - CN_Precision: 0.8793 - MCI_Precision: 0.8749 - AD_Recall: 0.7078 - CN_Recall: 0.8350 - MCI_Recall: 0.8956 - val_loss: 0.6398 - val_Accuracy: 0.7814 - val_AD_Precision: 0.9722 - val_CN_Precision: 0.9365 - val_MCI_Precision: 0.7077 - val_AD_Recall: 0.3571 - val_CN_Recall: 0.7516 - val_MCI_Recall: 0.9623\n",
      "Epoch 38/50\n",
      "476/476 [==============================] - 23s 47ms/step - loss: 0.3602 - Accuracy: 0.8601 - AD_Precision: 0.8328 - CN_Precision: 0.8653 - MCI_Precision: 0.8858 - AD_Recall: 0.7349 - CN_Recall: 0.8233 - MCI_Recall: 0.9051 - val_loss: 0.5598 - val_Accuracy: 0.7996 - val_AD_Precision: 0.8429 - val_CN_Precision: 0.7460 - val_MCI_Precision: 0.8539 - val_AD_Recall: 0.6020 - val_CN_Recall: 0.8981 - val_MCI_Recall: 0.7824\n",
      "Epoch 39/50\n",
      "476/476 [==============================] - 21s 44ms/step - loss: 0.3249 - Accuracy: 0.8711 - AD_Precision: 0.8660 - CN_Precision: 0.8685 - MCI_Precision: 0.8922 - AD_Recall: 0.7590 - CN_Recall: 0.8466 - MCI_Recall: 0.9032 - val_loss: 0.8208 - val_Accuracy: 0.7733 - val_AD_Precision: 0.9677 - val_CN_Precision: 0.8889 - val_MCI_Precision: 0.7046 - val_AD_Recall: 0.3061 - val_CN_Recall: 0.7643 - val_MCI_Recall: 0.9582\n",
      "Epoch 40/50\n",
      "476/476 [==============================] - 21s 44ms/step - loss: 0.2975 - Accuracy: 0.8964 - AD_Precision: 0.8951 - CN_Precision: 0.8763 - MCI_Precision: 0.9125 - AD_Recall: 0.8223 - CN_Recall: 0.8388 - MCI_Recall: 0.9298 - val_loss: 0.8811 - val_Accuracy: 0.7470 - val_AD_Precision: 1.0000 - val_CN_Precision: 0.9328 - val_MCI_Precision: 0.6764 - val_AD_Recall: 0.2653 - val_CN_Recall: 0.7070 - val_MCI_Recall: 0.9707\n",
      "Epoch 41/50\n",
      "476/476 [==============================] - 21s 44ms/step - loss: 0.3492 - Accuracy: 0.8664 - AD_Precision: 0.8635 - CN_Precision: 0.8486 - MCI_Precision: 0.8931 - AD_Recall: 0.7620 - CN_Recall: 0.8272 - MCI_Recall: 0.9032 - val_loss: 0.6105 - val_Accuracy: 0.7874 - val_AD_Precision: 0.8571 - val_CN_Precision: 0.7487 - val_MCI_Precision: 0.8143 - val_AD_Recall: 0.4286 - val_CN_Recall: 0.9299 - val_MCI_Recall: 0.8075\n",
      "Epoch 42/50\n",
      "476/476 [==============================] - 21s 44ms/step - loss: 0.2960 - Accuracy: 0.8858 - AD_Precision: 0.8667 - CN_Precision: 0.8853 - MCI_Precision: 0.9018 - AD_Recall: 0.7831 - CN_Recall: 0.8544 - MCI_Recall: 0.9146 - val_loss: 0.6980 - val_Accuracy: 0.7632 - val_AD_Precision: 0.7174 - val_CN_Precision: 0.9451 - val_MCI_Precision: 0.7509 - val_AD_Recall: 0.6735 - val_CN_Recall: 0.5478 - val_MCI_Recall: 0.9205\n",
      "Epoch 43/50\n",
      "476/476 [==============================] - 21s 44ms/step - loss: 0.2943 - Accuracy: 0.8927 - AD_Precision: 0.8867 - CN_Precision: 0.8858 - MCI_Precision: 0.9112 - AD_Recall: 0.8253 - CN_Recall: 0.8583 - MCI_Recall: 0.9156 - val_loss: 0.7667 - val_Accuracy: 0.7814 - val_AD_Precision: 0.9697 - val_CN_Precision: 0.9030 - val_MCI_Precision: 0.7179 - val_AD_Recall: 0.3265 - val_CN_Recall: 0.7707 - val_MCI_Recall: 0.9582\n",
      "Epoch 44/50\n",
      "476/476 [==============================] - 21s 44ms/step - loss: 0.3172 - Accuracy: 0.8780 - AD_Precision: 0.8371 - CN_Precision: 0.8805 - MCI_Precision: 0.9026 - AD_Recall: 0.7741 - CN_Recall: 0.8583 - MCI_Recall: 0.9061 - val_loss: 0.5481 - val_Accuracy: 0.7996 - val_AD_Precision: 0.7857 - val_CN_Precision: 0.8889 - val_MCI_Precision: 0.7941 - val_AD_Recall: 0.5612 - val_CN_Recall: 0.7643 - val_MCI_Recall: 0.9038\n",
      "Epoch 45/50\n",
      "476/476 [==============================] - 21s 44ms/step - loss: 0.3219 - Accuracy: 0.8716 - AD_Precision: 0.8729 - CN_Precision: 0.8552 - MCI_Precision: 0.8890 - AD_Recall: 0.7861 - CN_Recall: 0.8369 - MCI_Recall: 0.9042 - val_loss: 0.8555 - val_Accuracy: 0.7652 - val_AD_Precision: 1.0000 - val_CN_Precision: 0.7910 - val_MCI_Precision: 0.7423 - val_AD_Recall: 0.2245 - val_CN_Recall: 0.8917 - val_MCI_Recall: 0.9038\n",
      "Epoch 46/50\n",
      "476/476 [==============================] - 23s 47ms/step - loss: 0.3190 - Accuracy: 0.8759 - AD_Precision: 0.8449 - CN_Precision: 0.8623 - MCI_Precision: 0.9009 - AD_Recall: 0.8042 - CN_Recall: 0.8272 - MCI_Recall: 0.9061 - val_loss: 0.6305 - val_Accuracy: 0.8016 - val_AD_Precision: 0.8525 - val_CN_Precision: 0.9407 - val_MCI_Precision: 0.7410 - val_AD_Recall: 0.5306 - val_CN_Recall: 0.7070 - val_MCI_Recall: 0.9456\n",
      "Epoch 47/50\n",
      "476/476 [==============================] - 21s 44ms/step - loss: 0.2950 - Accuracy: 0.8837 - AD_Precision: 0.8614 - CN_Precision: 0.8743 - MCI_Precision: 0.9057 - AD_Recall: 0.7861 - CN_Recall: 0.8505 - MCI_Recall: 0.9118 - val_loss: 0.5621 - val_Accuracy: 0.7935 - val_AD_Precision: 0.7317 - val_CN_Precision: 0.9113 - val_MCI_Precision: 0.7826 - val_AD_Recall: 0.6122 - val_CN_Recall: 0.7197 - val_MCI_Recall: 0.9038\n",
      "Epoch 48/50\n",
      "476/476 [==============================] - 22s 47ms/step - loss: 0.3158 - Accuracy: 0.8785 - AD_Precision: 0.8729 - CN_Precision: 0.8859 - MCI_Precision: 0.8901 - AD_Recall: 0.7861 - CN_Recall: 0.8447 - MCI_Recall: 0.9070 - val_loss: 0.4738 - val_Accuracy: 0.8381 - val_AD_Precision: 0.8590 - val_CN_Precision: 0.8373 - val_MCI_Precision: 0.8681 - val_AD_Recall: 0.6837 - val_CN_Recall: 0.8854 - val_MCI_Recall: 0.8536\n",
      "Epoch 49/50\n",
      "476/476 [==============================] - 21s 44ms/step - loss: 0.3039 - Accuracy: 0.8816 - AD_Precision: 0.8392 - CN_Precision: 0.8784 - MCI_Precision: 0.9056 - AD_Recall: 0.7861 - CN_Recall: 0.8699 - MCI_Recall: 0.9099 - val_loss: 0.5760 - val_Accuracy: 0.8158 - val_AD_Precision: 0.8594 - val_CN_Precision: 0.8971 - val_MCI_Precision: 0.7887 - val_AD_Recall: 0.5612 - val_CN_Recall: 0.7771 - val_MCI_Recall: 0.9372\n",
      "Epoch 50/50\n",
      "476/476 [==============================] - 21s 44ms/step - loss: 0.3048 - Accuracy: 0.8890 - AD_Precision: 0.8907 - CN_Precision: 0.8742 - MCI_Precision: 0.9067 - AD_Recall: 0.8343 - CN_Recall: 0.8369 - MCI_Recall: 0.9222 - val_loss: 0.5325 - val_Accuracy: 0.8158 - val_AD_Precision: 0.7625 - val_CN_Precision: 0.9051 - val_MCI_Precision: 0.8045 - val_AD_Recall: 0.6224 - val_CN_Recall: 0.7898 - val_MCI_Recall: 0.8954\n"
     ]
    }
   ],
   "source": [
    "savepath = 'models'\n",
    "lr=0.00001\n",
    "if not os.path.isdir(savepath):\n",
    "      os.makedirs(savepath)\n",
    "csvloger_callback = tf.keras.callbacks.CSVLogger(f'{savepath}history.csv', separator=',', append=False)\n",
    "\n",
    "modelcheckpoint_callback = tf.keras.callbacks.ModelCheckpoint(savepath+'efficientnet_row_10E-5_weights-epoch:{epoch:03d}-val_Accuracy:{val_Accuracy:.4f}.h5',monitor='val_Accuracy'\n",
    "    ,verbose=0,save_best_only=True,save_weights_only=True,mode='max',save_freq='epoch' , initial_value_threshold=0.85)\n",
    "\n",
    "OPT = tf.keras.optimizers.Adam(learning_rate=lr)\n",
    "model04 = efficientnet_row(OPT, LOOS,METRICS,image_Shape)\n",
    "history04 = model04.fit(training_image_datagen, epochs=EPOCH, validation_data=testing_image_datagen,callbacks=[csvloger_callback,modelcheckpoint_callback])\n",
    "model04 = efficientnet_row(OPT, LOOS,METRICS,image_Shape)\n",
    "model04.load_weights(glob.glob(f\"{savepath}efficientnet_row_10E-5_weights-epoch:*-val_Accuracy:{max(history04.history['val_Accuracy']):.4f}.h5\")[0])\n",
    "     "
   ]
  },
  {
   "cell_type": "code",
   "execution_count": 11,
   "id": "f3ff8bf5-f521-4abc-8d32-488f482752cf",
   "metadata": {
    "tags": []
   },
   "outputs": [],
   "source": [
    "model04.save(f\"{savepath}/efficientnet.h5\")"
   ]
  },
  {
   "cell_type": "code",
   "execution_count": 12,
   "id": "fb67e505-0239-4c24-8ed7-98645f48b555",
   "metadata": {
    "tags": []
   },
   "outputs": [
    {
     "name": "stdout",
     "output_type": "stream",
     "text": [
      "              precision    recall  f1-score   support\n",
      "\n",
      "          AD       0.82      0.70      0.76        98\n",
      "          CN       0.83      0.89      0.86       157\n",
      "         MCI       0.85      0.86      0.85       239\n",
      "\n",
      "    accuracy                           0.84       494\n",
      "   macro avg       0.83      0.82      0.82       494\n",
      "weighted avg       0.84      0.84      0.84       494\n",
      "\n"
     ]
    },
    {
     "data": {
      "image/png": "[encoded data removed]",
      "text/plain": [
       "<Figure size 432x288 with 2 Axes>"
      ]
     },
     "metadata": {
      "needs_background": "light"
     },
     "output_type": "display_data"
    }
   ],
   "source": [
    "p = model04.predict(testing_image_datagen)\n",
    "predicted_lab = p.argmax(axis=-1)\n",
    "true_lab = testing_image_datagen.classes\n",
    "plot_confusion_matrix(true_lab, predicted_lab, testing_image_datagen.class_indices.keys(),savepath)\n",
    "report = classification_report(true_lab, predicted_lab, target_names=testing_image_datagen.class_indices.keys())\n",
    "print(report)\n",
    "dump_text(report,f'{savepath}classification_report.txt')"
   ]
  },
  {
   "cell_type": "code",
   "execution_count": 14,
   "id": "e7bf41c5-1eee-47b2-a4e5-cb78f0eaa140",
   "metadata": {
    "tags": []
   },
   "outputs": [],
   "source": [
    "np.save(\"efficientnet_predictions1.npy\",p )"
   ]
  },
  {
   "cell_type": "code",
   "execution_count": 13,
   "id": "78fae0d0-88e4-47be-90ab-606559786f6c",
   "metadata": {
    "tags": []
   },
   "outputs": [],
   "source": [
    "np.save(\"efficientnet1_predictions.npy\", p1)"
   ]
  },
  {
   "cell_type": "code",
   "execution_count": 15,
   "id": "144ba125-e758-4072-9d7c-e460fb5f0d89",
   "metadata": {
    "tags": []
   },
   "outputs": [
    {
     "name": "stdout",
     "output_type": "stream",
     "text": [
      "              precision    recall  f1-score   support\n",
      "\n",
      "          AD       0.84      0.65      0.74        98\n",
      "          CN       0.91      0.82      0.86       157\n",
      "         MCI       0.79      0.92      0.85       239\n",
      "\n",
      "    accuracy                           0.84       494\n",
      "   macro avg       0.85      0.80      0.82       494\n",
      "weighted avg       0.84      0.84      0.83       494\n",
      "\n"
     ]
    },
    {
     "data": {
      "image/png": "[encoded data removed]",
      "text/plain": [
       "<Figure size 432x288 with 2 Axes>"
      ]
     },
     "metadata": {
      "needs_background": "light"
     },
     "output_type": "display_data"
    }
   ],
   "source": [
    "model07 = tf.keras.models.load_model('models/resnet50_model.h5')\n",
    "savepath = 'models'\n",
    "p2 = model07.predict(testing_image_datagen)\n",
    "predicted_lab = p2.argmax(axis=-1)\n",
    "true_lab = testing_image_datagen.classes\n",
    "plot_confusion_matrix(true_lab, predicted_lab, testing_image_datagen.class_indices.keys(),savepath)\n",
    "report = classification_report(true_lab, predicted_lab, target_names=testing_image_datagen.class_indices.keys())\n",
    "print(report)\n",
    "dump_text(report,f'{savepath}classification_report.txt')\n",
    "np.save(\"resnet1_predictions.npy\", p2)"
   ]
  },
  {
   "cell_type": "code",
   "execution_count": 16,
   "id": "a3a67aab-0dc2-482e-95d0-011ecbd309d8",
   "metadata": {
    "tags": []
   },
   "outputs": [
    {
     "name": "stdout",
     "output_type": "stream",
     "text": [
      "              precision    recall  f1-score   support\n",
      "\n",
      "          AD       0.84      0.64      0.73        98\n",
      "          CN       0.94      0.78      0.85       157\n",
      "         MCI       0.79      0.95      0.86       239\n",
      "\n",
      "    accuracy                           0.84       494\n",
      "   macro avg       0.86      0.79      0.81       494\n",
      "weighted avg       0.85      0.84      0.83       494\n",
      "\n"
     ]
    },
    {
     "data": {
      "image/png": "[encoded data removed]",
      "text/plain": [
       "<Figure size 432x288 with 2 Axes>"
      ]
     },
     "metadata": {
      "needs_background": "light"
     },
     "output_type": "display_data"
    }
   ],
   "source": [
    "model08 = tf.keras.models.load_model('models/inceptionv3_model.h5')\n",
    "savepath = 'models'\n",
    "p3 = model08.predict(testing_image_datagen)\n",
    "predicted_lab = p3.argmax(axis=-1)\n",
    "true_lab = testing_image_datagen.classes\n",
    "plot_confusion_matrix(true_lab, predicted_lab, testing_image_datagen.class_indices.keys(),savepath)\n",
    "report = classification_report(true_lab, predicted_lab, target_names=testing_image_datagen.class_indices.keys())\n",
    "print(report)\n",
    "dump_text(report,f'{savepath}classification_report.txt')\n",
    "np.save(\"inceptionv31_predictions.npy\", p3)"
   ]
  },
  {
   "cell_type": "code",
   "execution_count": 7,
   "id": "925578fc-344d-429a-b83c-e13e27e586c6",
   "metadata": {
    "tags": []
   },
   "outputs": [
    {
     "name": "stdout",
     "output_type": "stream",
     "text": [
      "              precision    recall  f1-score   support\n",
      "\n",
      "          AD       0.82      0.70      0.76        98\n",
      "          CN       0.89      0.83      0.86       157\n",
      "         MCI       0.83      0.91      0.87       239\n",
      "\n",
      "    accuracy                           0.85       494\n",
      "   macro avg       0.85      0.82      0.83       494\n",
      "weighted avg       0.85      0.85      0.84       494\n",
      "\n"
     ]
    },
    {
     "ename": "NameError",
     "evalue": "name 'dump_text' is not defined",
     "output_type": "error",
     "traceback": [
      "\u001b[0;31m---------------------------------------------------------------------------\u001b[0m",
      "\u001b[0;31mNameError\u001b[0m                                 Traceback (most recent call last)",
      "Input \u001b[0;32mIn [7]\u001b[0m, in \u001b[0;36m<cell line: 9>\u001b[0;34m()\u001b[0m\n\u001b[1;32m      7\u001b[0m report \u001b[38;5;241m=\u001b[39m classification_report(true_lab, predicted_lab, target_names\u001b[38;5;241m=\u001b[39mtesting_image_datagen\u001b[38;5;241m.\u001b[39mclass_indices\u001b[38;5;241m.\u001b[39mkeys())\n\u001b[1;32m      8\u001b[0m \u001b[38;5;28mprint\u001b[39m(report)\n\u001b[0;32m----> 9\u001b[0m \u001b[43mdump_text\u001b[49m(report,\u001b[38;5;124mf\u001b[39m\u001b[38;5;124m'\u001b[39m\u001b[38;5;132;01m{\u001b[39;00msavepath\u001b[38;5;132;01m}\u001b[39;00m\u001b[38;5;124mclassification_report.txt\u001b[39m\u001b[38;5;124m'\u001b[39m)\n\u001b[1;32m     10\u001b[0m np\u001b[38;5;241m.\u001b[39msave(\u001b[38;5;124m\"\u001b[39m\u001b[38;5;124mdensenet201_predictions1.npy\u001b[39m\u001b[38;5;124m\"\u001b[39m, p3)\n",
      "\u001b[0;31mNameError\u001b[0m: name 'dump_text' is not defined"
     ]
    },
    {
     "data": {
      "image/png": "[encoded data removed]",
      "text/plain": [
       "<Figure size 432x288 with 2 Axes>"
      ]
     },
     "metadata": {
      "needs_background": "light"
     },
     "output_type": "display_data"
    }
   ],
   "source": [
    "model09 = tf.keras.models.load_model('models/densenet201_model.h5')\n",
    "savepath = 'models'\n",
    "p3 = model09.predict(testing_image_datagen)\n",
    "predicted_lab = p3.argmax(axis=-1)\n",
    "true_lab = testing_image_datagen.classes\n",
    "plot_confusion_matrix(true_lab, predicted_lab, testing_image_datagen.class_indices.keys(),savepath)\n",
    "report = classification_report(true_lab, predicted_lab, target_names=testing_image_datagen.class_indices.keys())\n",
    "print(report)\n",
    "dump_text(report,f'{savepath}classification_report.txt')\n",
    "np.save(\"densenet201_predictions1.npy\", p3)"
   ]
  },
  {
   "cell_type": "code",
   "execution_count": 8,
   "id": "46d20cba-540e-467a-a605-e8b72f56fc36",
   "metadata": {
    "tags": []
   },
   "outputs": [],
   "source": [
    "np.save(\"densenet201_predictions1.npy\", p3)"
   ]
  },
  {
   "cell_type": "code",
   "execution_count": 10,
   "id": "5f060c44-26b9-4b23-bd4f-f92049a5b446",
   "metadata": {
    "tags": []
   },
   "outputs": [
    {
     "name": "stdout",
     "output_type": "stream",
     "text": [
      "Meta-model accuracy: 0.8383838383838383\n"
     ]
    }
   ],
   "source": [
    "import numpy as np\n",
    "from sklearn.model_selection import train_test_split\n",
    "from sklearn.linear_model import LogisticRegression\n",
    "from sklearn.metrics import accuracy_score\n",
    "\n",
    "# Step 1: Generate predictions from your models\n",
    "predictions_resnet = np.load(\"resnet1_predictions.npy\")\n",
    "predictions_inception = np.load(\"inceptionv31_predictions.npy\")\n",
    "predictions_efficientnet = np.load(\"efficientnet_predictions1.npy\")\n",
    "predictions_xception = np.load(\"xception1_predictions.npy\")\n",
    "predictions_densenet = np.load(\"densenet201_predictions1.npy\")\n",
    "\n",
    "# Step 2: Apply class mapping to the predicted classes\n",
    "class_mapping = {0: 0, 1: 1, 2: 3}  # Adjust according to your actual class labels\n",
    "\n",
    "def map_class(cls):\n",
    "    return class_mapping.get(cls, -1)  # Return -1 for unknown classes\n",
    "\n",
    "predicted_classes_resnet_mapped = np.array([map_class(cls) for cls in np.argmax(predictions_resnet, axis=1)])\n",
    "predicted_classes_inception_mapped = np.array([map_class(cls) for cls in np.argmax(predictions_inception, axis=1)])\n",
    "predicted_classes_efficientnet_mapped = np.array([map_class(cls) for cls in np.argmax(predictions_efficientnet, axis=1)])\n",
    "predicted_classes_xception_mapped = np.array([map_class(cls) for cls in np.argmax(predictions_xception, axis=1)])\n",
    "predicted_classes_densenet_mapped = np.array([map_class(cls) for cls in np.argmax(predictions_densenet, axis=1)])\n",
    "\n",
    "# Step 3: Stack the mapped predicted classes along with other features\n",
    "stacked_features = np.column_stack((predicted_classes_resnet_mapped, \n",
    "                                    predicted_classes_inception_mapped, \n",
    "                                    predicted_classes_efficientnet_mapped,\n",
    "                                    predicted_classes_xception_mapped,\n",
    "                                    predicted_classes_densenet_mapped))\n",
    "\n",
    "# Additional features can also be stacked with the predicted classes\n",
    "\n",
    "# Step 4: Train a meta-model using the stacked dataset\n",
    "X_train, X_test, y_train, y_test = train_test_split(stacked_features,true_lab, test_size=0.2, random_state=42)\n",
    "\n",
    "meta_model = LogisticRegression()\n",
    "meta_model.fit(X_train, y_train)\n",
    "\n",
    "# Evaluate the meta-model\n",
    "accuracy = meta_model.score(X_test, y_test)\n",
    "print(\"Meta-model accuracy:\", accuracy)\n",
    "predictions_lr = meta_model.predict(X_test)"
   ]
  },
  {
   "cell_type": "code",
   "execution_count": 11,
   "id": "dfd4758c-1ed2-4004-8bad-1e4bb58ebfe5",
   "metadata": {
    "tags": []
   },
   "outputs": [
    {
     "name": "stdout",
     "output_type": "stream",
     "text": [
      "Meta-model accuracy: 0.8383838383838383\n",
      "Meta-model precision: 0.8645021645021645\n",
      "Meta-model recall: 0.8383838383838383\n",
      "Meta-model confusion matrix:\n",
      "[[17  9  1]\n",
      " [ 1 23  2]\n",
      " [ 0  3 43]]\n"
     ]
    }
   ],
   "source": [
    "from sklearn.metrics import accuracy_score, precision_score, recall_score, confusion_matrix\n",
    "\n",
    "# Step 1: Make predictions using the meta-model\n",
    "meta_predictions = meta_model.predict(X_test)\n",
    "\n",
    "# Step 2: Compute metrics\n",
    "accuracy = accuracy_score(y_test, meta_predictions)\n",
    "precision = precision_score(y_test, meta_predictions, average='weighted')\n",
    "recall = recall_score(y_test, meta_predictions, average='weighted')\n",
    "conf_matrix = confusion_matrix(y_test, meta_predictions)\n",
    "\n",
    "# Step 3: Print results\n",
    "print(\"Meta-model accuracy:\", accuracy)\n",
    "print(\"Meta-model precision:\", precision)\n",
    "print(\"Meta-model recall:\", recall)\n",
    "print(\"Meta-model confusion matrix:\")\n",
    "print(conf_matrix)"
   ]
  },
  {
   "cell_type": "code",
   "execution_count": 13,
   "id": "da6146dd-4565-408c-839c-e755291a34eb",
   "metadata": {
    "tags": []
   },
   "outputs": [
    {
     "name": "stdout",
     "output_type": "stream",
     "text": [
      "Best Gradient Boosting accuracy: 0.8787878787878788\n"
     ]
    }
   ],
   "source": [
    "import numpy as np\n",
    "from sklearn.ensemble import GradientBoostingClassifier\n",
    "from sklearn.model_selection import train_test_split, GridSearchCV\n",
    "from sklearn.metrics import accuracy_score\n",
    "\n",
    "# Load the saved predictions\n",
    "predictions_resnet = np.load(\"resnet1_predictions.npy\")\n",
    "predictions_inception = np.load(\"inceptionv31_predictions.npy\")\n",
    "predictions_efficientnet = np.load(\"efficientnet_predictions1.npy\")\n",
    "predictions_xception = np.load(\"xception1_predictions.npy\")\n",
    "predictions_densenet = np.load(\"densenet201_predictions1.npy\")\n",
    "\n",
    "# Combine the predictions\n",
    "stacked_features = np.hstack((predictions_resnet, predictions_inception, predictions_efficientnet, predictions_xception, predictions_densenet))\n",
    "\n",
    "# Load or define your target variable\n",
    "# For example:\n",
    "# target_variable = np.load(\"target_variable.npy\")\n",
    "\n",
    "# Split data into train and test sets\n",
    "X_train, X_test, y_train, y_test = train_test_split(stacked_features, true_lab, test_size=0.2, random_state=42)\n",
    "\n",
    "# Count occurrences of each class\n",
    "class_counts = np.bincount(y_train)\n",
    "\n",
    "# Determine the majority class and its count\n",
    "majority_class = np.argmax(class_counts)\n",
    "majority_class_count = np.max(class_counts)\n",
    "\n",
    "# Oversample the minority class\n",
    "minority_class_indices = np.where(y_train != majority_class)[0]\n",
    "oversampled_indices = np.random.choice(minority_class_indices, size=majority_class_count, replace=True)\n",
    "X_train_oversampled = np.concatenate((X_train, X_train[oversampled_indices]), axis=0)\n",
    "y_train_oversampled = np.concatenate((y_train, y_train[oversampled_indices]), axis=0)\n",
    "\n",
    "# Initialize Gradient Boosting classifier\n",
    "gradient_boosting = GradientBoostingClassifier(random_state=42)\n",
    "\n",
    "# Define the grid of hyperparameters to search\n",
    "param_grid = {\n",
    "    'n_estimators': [100, 200, 300],\n",
    "    'learning_rate': [0.05, 0.1, 0.2],\n",
    "    'max_depth': [3, 4, 5],\n",
    "    'min_samples_split': [2, 3, 4],\n",
    "    'min_samples_leaf': [1, 2, 3]\n",
    "}\n",
    "\n",
    "# Perform grid search cross-validation\n",
    "grid_search = GridSearchCV(gradient_boosting, param_grid, cv=5, scoring='accuracy', n_jobs=-1)\n",
    "grid_search.fit(X_train_oversampled, y_train_oversampled)\n",
    "\n",
    "# Get the best model from the grid search\n",
    "best_gradient_boosting = grid_search.best_estimator_\n",
    "\n",
    "# Train the best model\n",
    "best_gradient_boosting.fit(X_train_oversampled, y_train_oversampled)\n",
    "\n",
    "# Make predictions on the test data\n",
    "predictions = best_gradient_boosting.predict(X_test)\n",
    "\n",
    "# Evaluate the model\n",
    "accuracy = accuracy_score(y_test, predictions)\n",
    "print(\"Best Gradient Boosting accuracy:\", accuracy)"
   ]
  },
  {
   "cell_type": "code",
   "execution_count": 14,
   "id": "d2cd86cc-5f5e-4256-87a6-f9c4b25485d8",
   "metadata": {
    "tags": []
   },
   "outputs": [],
   "source": [
    "np.save(\"gradientboosting.npy\",predictions )"
   ]
  },
  {
   "cell_type": "code",
   "execution_count": 15,
   "id": "8f8a6ffa-7d01-48b9-8ed4-5dc19c94e149",
   "metadata": {
    "tags": []
   },
   "outputs": [],
   "source": [
    "np.save(\"stacking.npy\",predictions_lr )"
   ]
  },
  {
   "cell_type": "code",
   "execution_count": null,
   "id": "e840d74d-254a-4abd-a605-a7c03c752e23",
   "metadata": {},
   "outputs": [],
   "source": []
  }
 ],
 "metadata": {
  "kernelspec": {
   "display_name": "Tensorflow-2.7.0",
   "language": "python",
   "name": "tensorflow-2.7.0"
  },
  "language_info": {
   "codemirror_mode": {
    "name": "ipython",
    "version": 3
   },
   "file_extension": ".py",
   "mimetype": "text/x-python",
   "name": "python",
   "nbconvert_exporter": "python",
   "pygments_lexer": "ipython3",
   "version": "3.9.12"
  }
 },
 "nbformat": 4,
 "nbformat_minor": 5
}
