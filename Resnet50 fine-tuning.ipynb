{
 "cells": [
  {
   "cell_type": "markdown",
   "id": "a4fd4c69-5454-46be-a33d-cc96b1ba2674",
   "metadata": {
    "tags": []
   },
   "source": [
    "### import os\n",
    "import shutil"
   ]
  },
  {
   "cell_type": "markdown",
   "id": "37f32100-4e67-4114-b361-b15a62ac1805",
   "metadata": {},
   "source": [
    "Importing Packages"
   ]
  },
  {
   "cell_type": "code",
   "execution_count": 1,
   "id": "3765152f-bf9f-4e91-9068-60d679b29094",
   "metadata": {
    "tags": []
   },
   "outputs": [],
   "source": [
    "import os \n",
    "import glob\n",
    "import shutil\n",
    "import numpy as np\n",
    "import pandas as pd\n",
    "import seaborn as sns\n",
    "import matplotlib.pyplot as plt\n",
    "from skimage.io import imread,imsave\n",
    "from sklearn.model_selection import train_test_split\n",
    "\n",
    "import tensorflow as tf\n",
    "from tensorflow.keras.utils import plot_model\n",
    "from tensorflow.keras.preprocessing.image import ImageDataGenerator\n",
    "from tensorflow.keras.models import save_model, load_model, Model\n",
    "from tensorflow.keras.layers import Input,InputLayer, Dropout, Flatten, Dense, Activation, MaxPooling2D, Conv2D\n",
    "from sklearn.metrics import classification_report"
   ]
  },
  {
   "cell_type": "code",
   "execution_count": 2,
   "id": "bdc53880-480f-477c-af9e-4ddfe095a090",
   "metadata": {
    "tags": []
   },
   "outputs": [],
   "source": [
    "root='/blue/oguzhan/swetha.lenkala/AFFINE_REG_SKS_MASK_2D_IMAGES_DIR'"
   ]
  },
  {
   "cell_type": "markdown",
   "id": "70773b87-900a-4e84-8e0c-2257d67eab62",
   "metadata": {},
   "source": [
    "ResNet50 Model with 60 epochs and Learning rate=0.0001"
   ]
  },
  {
   "cell_type": "code",
   "execution_count": 3,
   "id": "a8cd3067-f843-41d7-abfc-9f64da1edc7d",
   "metadata": {
    "tags": []
   },
   "outputs": [],
   "source": [
    "def resnet50_row(optimizer, loss,metrics,shape):\n",
    "  image_input = tf.keras.applications.ResNet50(include_top=False,weights='imagenet',input_shape=shape)\n",
    "\n",
    "  for layer in image_input.layers:\n",
    "      layer.trainable = True\n",
    "      layer._name = layer._name  + str('_img')\n",
    "\n",
    "  y = Flatten() (image_input.output)\n",
    "  c = Dropout(0.4) (y)\n",
    "  c = Dense(512) (c)\n",
    "  c = Dense(256) (c)\n",
    "  c = Dense(128) (c)\n",
    "  output_layer = Dense(3, activation='softmax')(c)\n",
    "\n",
    "  model = Model(inputs=image_input.input,outputs=output_layer)\n",
    "  model.compile(optimizer=optimizer, loss=loss, metrics=metrics)\n",
    "  return model"
   ]
  },
  {
   "cell_type": "code",
   "execution_count": 4,
   "id": "34e3858e-c07a-4234-ac9c-0a17fac251e1",
   "metadata": {
    "tags": []
   },
   "outputs": [],
   "source": [
    "def plot_confusion_matrix(true_lab,predict_lab,classes,path):\n",
    "  matrix_confusion = tf.math.confusion_matrix(labels=true_lab, predictions=predicted_lab, num_classes=len(classes))\n",
    "  ax = plt.subplot()\n",
    "  sns.heatmap(matrix_confusion, square=True, annot=True, cmap='Blues', fmt='d', cbar=True)\n",
    "  ax.set_xlabel('Predicted labels')\n",
    "  ax.set_ylabel('True labels')\n",
    "  ax.set_title('Confusion Matrix')\n",
    "  ax.xaxis.set_ticklabels(classes)\n",
    "  ax.yaxis.set_ticklabels(classes)\n",
    "  plt.savefig(f'{path}confusion_matrix.png')\n",
    "     "
   ]
  },
  {
   "cell_type": "code",
   "execution_count": 5,
   "id": "9ec0b44e-49b6-4035-b681-c55549c49b02",
   "metadata": {
    "tags": []
   },
   "outputs": [],
   "source": [
    "def dump_text(text,path):\n",
    "  text_file = open(path, \"w\")\n",
    "  text_file.write(text)\n",
    "  text_file.close()"
   ]
  },
  {
   "cell_type": "code",
   "execution_count": 6,
   "id": "7fbcfc4c-7668-444d-874b-064a7287cb92",
   "metadata": {
    "tags": []
   },
   "outputs": [
    {
     "name": "stderr",
     "output_type": "stream",
     "text": [
      "2024-04-01 11:29:08.703436: I tensorflow/core/platform/cpu_feature_guard.cc:151] This TensorFlow binary is optimized with oneAPI Deep Neural Network Library (oneDNN) to use the following CPU instructions in performance-critical operations:  SSE4.1 SSE4.2 AVX AVX2 AVX512F FMA\n",
      "To enable them in other operations, rebuild TensorFlow with the appropriate compiler flags.\n",
      "2024-04-01 11:29:09.542933: I tensorflow/core/common_runtime/gpu/gpu_device.cc:1525] Created device /job:localhost/replica:0/task:0/device:GPU:0 with 9629 MB memory:  -> device: 0, name: NVIDIA GeForce RTX 2080 Ti, pci bus id: 0000:1a:00.0, compute capability: 7.5\n"
     ]
    }
   ],
   "source": [
    "config = tf.compat.v1.ConfigProto()\n",
    "config.gpu_options.allow_growth = True\n",
    "session = tf.compat.v1.Session(config=config)"
   ]
  },
  {
   "cell_type": "code",
   "execution_count": 7,
   "id": "6e4f3bf7-22cb-4485-a23a-04abfaa47427",
   "metadata": {
    "tags": []
   },
   "outputs": [
    {
     "name": "stdout",
     "output_type": "stream",
     "text": [
      "Found 1901 images belonging to 3 classes.\n",
      "Found 478 images belonging to 3 classes.\n"
     ]
    }
   ],
   "source": [
    "image_Shape=(436,364,3)\n",
    "training_image_datagen = ImageDataGenerator(horizontal_flip=True).flow_from_directory(\n",
    "                                                  directory=f'{root}/training/',\n",
    "                                                  target_size=(image_Shape[0], image_Shape[1]),\n",
    "                                                  class_mode='categorical',\n",
    "                                                  batch_size=4\n",
    "                                                  )\n",
    "\n",
    "testing_image_datagen = ImageDataGenerator().flow_from_directory(\n",
    "                                                  directory = f'{root}/testing/' ,\n",
    "                                                  target_size = (image_Shape[0] ,image_Shape[1]) ,\n",
    "                                                  class_mode = 'categorical' ,\n",
    "                                                  batch_size=1 ,\n",
    "                                                  shuffle = False\n",
    "                                                  )"
   ]
  },
  {
   "cell_type": "code",
   "execution_count": 8,
   "id": "d115a93a-f6a9-401b-b22f-a8add33977ae",
   "metadata": {
    "tags": []
   },
   "outputs": [
    {
     "data": {
      "text/plain": [
       "{'AD': 0, 'CN': 1, 'MCI': 2}"
      ]
     },
     "execution_count": 8,
     "metadata": {},
     "output_type": "execute_result"
    }
   ],
   "source": [
    "training_image_datagen.class_indices"
   ]
  },
  {
   "cell_type": "code",
   "execution_count": 8,
   "id": "84aebb2b-0a60-4cd7-b9e8-0b33b40a4fe0",
   "metadata": {
    "tags": []
   },
   "outputs": [
    {
     "name": "stderr",
     "output_type": "stream",
     "text": [
      "2024-04-01 11:29:17.659285: I tensorflow/core/common_runtime/gpu/gpu_device.cc:1525] Created device /job:localhost/replica:0/task:0/device:GPU:0 with 9629 MB memory:  -> device: 0, name: NVIDIA GeForce RTX 2080 Ti, pci bus id: 0000:1a:00.0, compute capability: 7.5\n"
     ]
    }
   ],
   "source": [
    "\n",
    "METRICS = [\n",
    "    tf.keras.metrics.CategoricalAccuracy(name='Accuracy'),\n",
    "    tf.keras.metrics.Precision(name='AD_Precision',class_id=0),\n",
    "    tf.keras.metrics.Precision(name='CN_Precision',class_id=1),\n",
    "    tf.keras.metrics.Precision(name='MCI_Precision',class_id=2),\n",
    "    tf.keras.metrics.Recall(name='AD_Recall',class_id=0),\n",
    "    tf.keras.metrics.Recall(name='CN_Recall',class_id=1),\n",
    "    tf.keras.metrics.Recall(name='MCI_Recall',class_id=2),\n",
    "    ]\n",
    "LOOS = 'categorical_crossentropy'"
   ]
  },
  {
   "cell_type": "code",
   "execution_count": 10,
   "id": "18663a80-e939-48a3-9b05-90f5e2e34655",
   "metadata": {
    "tags": []
   },
   "outputs": [
    {
     "name": "stdout",
     "output_type": "stream",
     "text": [
      "Epoch 1/60\n"
     ]
    },
    {
     "name": "stderr",
     "output_type": "stream",
     "text": [
      "2024-02-23 11:05:02.697168: I tensorflow/stream_executor/cuda/cuda_dnn.cc:366] Loaded cuDNN version 8201\n"
     ]
    },
    {
     "name": "stdout",
     "output_type": "stream",
     "text": [
      "476/476 [==============================] - 68s 116ms/step - loss: 7.1332 - Accuracy: 0.5239 - AD_Precision: 0.3440 - CN_Precision: 0.4212 - MCI_Precision: 0.6292 - AD_Recall: 0.2922 - CN_Recall: 0.3786 - MCI_Recall: 0.6328 - val_loss: 1.5720 - val_Accuracy: 0.4798 - val_AD_Precision: 0.4889 - val_CN_Precision: 0.4301 - val_MCI_Precision: 0.6371 - val_AD_Recall: 0.2245 - val_CN_Recall: 0.7452 - val_MCI_Recall: 0.3305\n",
      "Epoch 2/60\n",
      "476/476 [==============================] - 54s 113ms/step - loss: 1.0826 - Accuracy: 0.6733 - AD_Precision: 0.5684 - CN_Precision: 0.6185 - MCI_Precision: 0.7431 - AD_Recall: 0.4880 - CN_Recall: 0.5981 - MCI_Recall: 0.7381 - val_loss: 1.0799 - val_Accuracy: 0.6518 - val_AD_Precision: 0.8000 - val_CN_Precision: 0.9420 - val_MCI_Precision: 0.6000 - val_AD_Recall: 0.2041 - val_CN_Recall: 0.4140 - val_MCI_Recall: 0.9791\n",
      "Epoch 3/60\n",
      "476/476 [==============================] - 57s 119ms/step - loss: 0.9306 - Accuracy: 0.7296 - AD_Precision: 0.6355 - CN_Precision: 0.6958 - MCI_Precision: 0.7831 - AD_Recall: 0.5934 - CN_Recall: 0.6796 - MCI_Recall: 0.7846 - val_loss: 2.2981 - val_Accuracy: 0.5931 - val_AD_Precision: 1.0000 - val_CN_Precision: 0.9487 - val_MCI_Precision: 0.5436 - val_AD_Recall: 0.1633 - val_CN_Recall: 0.2357 - val_MCI_Recall: 0.9916\n",
      "Epoch 4/60\n",
      "476/476 [==============================] - 54s 113ms/step - loss: 0.8831 - Accuracy: 0.7459 - AD_Precision: 0.6527 - CN_Precision: 0.7183 - MCI_Precision: 0.7977 - AD_Recall: 0.6114 - CN_Recall: 0.6932 - MCI_Recall: 0.8008 - val_loss: 0.6659 - val_Accuracy: 0.7308 - val_AD_Precision: 0.6092 - val_CN_Precision: 0.7719 - val_MCI_Precision: 0.8146 - val_AD_Recall: 0.5408 - val_CN_Recall: 0.8408 - val_MCI_Recall: 0.6987\n",
      "Epoch 5/60\n",
      "476/476 [==============================] - 58s 121ms/step - loss: 0.6777 - Accuracy: 0.8001 - AD_Precision: 0.7070 - CN_Precision: 0.7910 - MCI_Precision: 0.8419 - AD_Recall: 0.6687 - CN_Recall: 0.7864 - MCI_Recall: 0.8435 - val_loss: 1.4111 - val_Accuracy: 0.6478 - val_AD_Precision: 0.8438 - val_CN_Precision: 0.5529 - val_MCI_Precision: 0.7513 - val_AD_Recall: 0.2755 - val_CN_Recall: 0.8981 - val_MCI_Recall: 0.6192\n",
      "Epoch 6/60\n",
      "476/476 [==============================] - 52s 109ms/step - loss: 0.4599 - Accuracy: 0.8485 - AD_Precision: 0.7893 - CN_Precision: 0.8406 - MCI_Precision: 0.8796 - AD_Recall: 0.7560 - CN_Recall: 0.8194 - MCI_Recall: 0.8805 - val_loss: 1.0172 - val_Accuracy: 0.7308 - val_AD_Precision: 0.5122 - val_CN_Precision: 0.8000 - val_MCI_Precision: 0.8205 - val_AD_Recall: 0.6429 - val_CN_Recall: 0.8408 - val_MCI_Recall: 0.6695\n",
      "Epoch 7/60\n",
      "476/476 [==============================] - 59s 124ms/step - loss: 0.5151 - Accuracy: 0.8422 - AD_Precision: 0.7594 - CN_Precision: 0.8437 - MCI_Precision: 0.8734 - AD_Recall: 0.7319 - CN_Recall: 0.8175 - MCI_Recall: 0.8833 - val_loss: 0.8438 - val_Accuracy: 0.7429 - val_AD_Precision: 0.5913 - val_CN_Precision: 0.7895 - val_MCI_Precision: 0.8256 - val_AD_Recall: 0.6939 - val_CN_Recall: 0.8599 - val_MCI_Recall: 0.6736\n",
      "Epoch 8/60\n",
      "476/476 [==============================] - 52s 108ms/step - loss: 0.5678 - Accuracy: 0.8301 - AD_Precision: 0.7810 - CN_Precision: 0.8039 - MCI_Precision: 0.8642 - AD_Recall: 0.7410 - CN_Recall: 0.7961 - MCI_Recall: 0.8634 - val_loss: 1.3348 - val_Accuracy: 0.7206 - val_AD_Precision: 0.9667 - val_CN_Precision: 0.6931 - val_MCI_Precision: 0.7249 - val_AD_Recall: 0.2959 - val_CN_Recall: 0.8344 - val_MCI_Recall: 0.8159\n",
      "Epoch 9/60\n",
      "476/476 [==============================] - 58s 122ms/step - loss: 0.4326 - Accuracy: 0.8632 - AD_Precision: 0.8275 - CN_Precision: 0.8418 - MCI_Precision: 0.8896 - AD_Recall: 0.7801 - CN_Recall: 0.8369 - MCI_Recall: 0.8947 - val_loss: 1.2094 - val_Accuracy: 0.7348 - val_AD_Precision: 0.9583 - val_CN_Precision: 0.6822 - val_MCI_Precision: 0.7640 - val_AD_Recall: 0.2347 - val_CN_Recall: 0.9299 - val_MCI_Recall: 0.7992\n",
      "Epoch 10/60\n",
      "476/476 [==============================] - 55s 116ms/step - loss: 0.3789 - Accuracy: 0.8785 - AD_Precision: 0.8553 - CN_Precision: 0.8521 - MCI_Precision: 0.9054 - AD_Recall: 0.8193 - CN_Recall: 0.8388 - MCI_Recall: 0.9080 - val_loss: 1.3233 - val_Accuracy: 0.7429 - val_AD_Precision: 0.9444 - val_CN_Precision: 0.8158 - val_MCI_Precision: 0.6904 - val_AD_Recall: 0.5204 - val_CN_Recall: 0.5924 - val_MCI_Recall: 0.9331\n",
      "Epoch 11/60\n",
      "476/476 [==============================] - 56s 118ms/step - loss: 0.4143 - Accuracy: 0.8716 - AD_Precision: 0.8248 - CN_Precision: 0.8665 - MCI_Precision: 0.8910 - AD_Recall: 0.7801 - CN_Recall: 0.8447 - MCI_Recall: 0.9070 - val_loss: 0.8122 - val_Accuracy: 0.7854 - val_AD_Precision: 0.7444 - val_CN_Precision: 0.7460 - val_MCI_Precision: 0.8551 - val_AD_Recall: 0.6837 - val_CN_Recall: 0.8981 - val_MCI_Recall: 0.7406\n",
      "Epoch 12/60\n",
      "476/476 [==============================] - 58s 121ms/step - loss: 0.3547 - Accuracy: 0.8916 - AD_Precision: 0.8454 - CN_Precision: 0.8798 - MCI_Precision: 0.9140 - AD_Recall: 0.8072 - CN_Recall: 0.8816 - MCI_Recall: 0.9175 - val_loss: 3.7786 - val_Accuracy: 0.5709 - val_AD_Precision: 0.7544 - val_CN_Precision: 1.0000 - val_MCI_Precision: 0.5417 - val_AD_Recall: 0.4388 - val_CN_Recall: 0.0318 - val_MCI_Recall: 0.9791\n",
      "Epoch 13/60\n",
      "476/476 [==============================] - 58s 121ms/step - loss: 0.3180 - Accuracy: 0.9032 - AD_Precision: 0.8697 - CN_Precision: 0.8992 - MCI_Precision: 0.9220 - AD_Recall: 0.8645 - CN_Recall: 0.8660 - MCI_Recall: 0.9307 - val_loss: 1.8173 - val_Accuracy: 0.6478 - val_AD_Precision: 0.8116 - val_CN_Precision: 0.5144 - val_MCI_Precision: 0.8462 - val_AD_Recall: 0.5714 - val_CN_Recall: 0.9108 - val_MCI_Recall: 0.5063\n",
      "Epoch 14/60\n",
      "476/476 [==============================] - 60s 126ms/step - loss: 0.3490 - Accuracy: 0.9027 - AD_Precision: 0.8388 - CN_Precision: 0.9073 - MCI_Precision: 0.9240 - AD_Recall: 0.8464 - CN_Recall: 0.8932 - MCI_Recall: 0.9231 - val_loss: 0.7596 - val_Accuracy: 0.8219 - val_AD_Precision: 0.8261 - val_CN_Precision: 0.8235 - val_MCI_Precision: 0.8320 - val_AD_Recall: 0.5816 - val_CN_Recall: 0.8917 - val_MCI_Recall: 0.8703\n",
      "Epoch 15/60\n",
      "476/476 [==============================] - 51s 108ms/step - loss: 0.2775 - Accuracy: 0.9158 - AD_Precision: 0.8941 - CN_Precision: 0.9062 - MCI_Precision: 0.9336 - AD_Recall: 0.8645 - CN_Recall: 0.9010 - MCI_Recall: 0.9345 - val_loss: 1.4721 - val_Accuracy: 0.7794 - val_AD_Precision: 0.9286 - val_CN_Precision: 0.9344 - val_MCI_Precision: 0.7021 - val_AD_Recall: 0.3980 - val_CN_Recall: 0.7261 - val_MCI_Recall: 0.9665\n",
      "Epoch 16/60\n",
      "476/476 [==============================] - 52s 108ms/step - loss: 0.2803 - Accuracy: 0.9106 - AD_Precision: 0.8799 - CN_Precision: 0.8971 - MCI_Precision: 0.9321 - AD_Recall: 0.8825 - CN_Recall: 0.8971 - MCI_Recall: 0.9241 - val_loss: 1.2846 - val_Accuracy: 0.7389 - val_AD_Precision: 0.7761 - val_CN_Precision: 0.9101 - val_MCI_Precision: 0.6856 - val_AD_Recall: 0.5306 - val_CN_Recall: 0.5159 - val_MCI_Recall: 0.9582\n",
      "Epoch 17/60\n",
      "476/476 [==============================] - 55s 115ms/step - loss: 0.2569 - Accuracy: 0.9269 - AD_Precision: 0.9154 - CN_Precision: 0.9077 - MCI_Precision: 0.9422 - AD_Recall: 0.9127 - CN_Recall: 0.8971 - MCI_Recall: 0.9431 - val_loss: 0.8895 - val_Accuracy: 0.7996 - val_AD_Precision: 0.7143 - val_CN_Precision: 0.9191 - val_MCI_Precision: 0.7656 - val_AD_Recall: 0.6122 - val_CN_Recall: 0.7962 - val_MCI_Recall: 0.8745\n",
      "Epoch 18/60\n",
      "476/476 [==============================] - 52s 109ms/step - loss: 0.2586 - Accuracy: 0.9211 - AD_Precision: 0.8852 - CN_Precision: 0.9226 - MCI_Precision: 0.9365 - AD_Recall: 0.8825 - CN_Recall: 0.9029 - MCI_Recall: 0.9374 - val_loss: 0.8448 - val_Accuracy: 0.8138 - val_AD_Precision: 0.9014 - val_CN_Precision: 0.8025 - val_MCI_Precision: 0.8110 - val_AD_Recall: 0.6531 - val_CN_Recall: 0.8280 - val_MCI_Recall: 0.8619\n",
      "Epoch 19/60\n",
      "476/476 [==============================] - 53s 112ms/step - loss: 0.1835 - Accuracy: 0.9490 - AD_Precision: 0.9121 - CN_Precision: 0.9646 - MCI_Precision: 0.9573 - AD_Recall: 0.9066 - CN_Recall: 0.9534 - MCI_Recall: 0.9564 - val_loss: 2.1257 - val_Accuracy: 0.7551 - val_AD_Precision: 1.0000 - val_CN_Precision: 0.9219 - val_MCI_Precision: 0.6792 - val_AD_Recall: 0.2041 - val_CN_Recall: 0.7516 - val_MCI_Recall: 0.9833\n",
      "Epoch 20/60\n",
      "476/476 [==============================] - 52s 108ms/step - loss: 0.3165 - Accuracy: 0.9258 - AD_Precision: 0.8916 - CN_Precision: 0.9130 - MCI_Precision: 0.9436 - AD_Recall: 0.8916 - CN_Recall: 0.9165 - MCI_Recall: 0.9374 - val_loss: 8.7413 - val_Accuracy: 0.5688 - val_AD_Precision: 0.0000e+00 - val_CN_Precision: 0.9362 - val_MCI_Precision: 0.5302 - val_AD_Recall: 0.0000e+00 - val_CN_Recall: 0.2803 - val_MCI_Recall: 0.9916\n",
      "Epoch 21/60\n",
      "476/476 [==============================] - 54s 113ms/step - loss: 0.2799 - Accuracy: 0.9158 - AD_Precision: 0.8607 - CN_Precision: 0.9259 - MCI_Precision: 0.9311 - AD_Recall: 0.8373 - CN_Recall: 0.9223 - MCI_Recall: 0.9364 - val_loss: 0.9382 - val_Accuracy: 0.8117 - val_AD_Precision: 0.7640 - val_CN_Precision: 0.8947 - val_MCI_Precision: 0.7910 - val_AD_Recall: 0.6939 - val_CN_Recall: 0.7580 - val_MCI_Recall: 0.8870\n",
      "Epoch 22/60\n",
      "476/476 [==============================] - 52s 109ms/step - loss: 0.1713 - Accuracy: 0.9432 - AD_Precision: 0.9235 - CN_Precision: 0.9393 - MCI_Precision: 0.9564 - AD_Recall: 0.9096 - CN_Recall: 0.9320 - MCI_Recall: 0.9583 - val_loss: 1.4840 - val_Accuracy: 0.7024 - val_AD_Precision: 0.7531 - val_CN_Precision: 0.8955 - val_MCI_Precision: 0.6598 - val_AD_Recall: 0.6224 - val_CN_Recall: 0.3822 - val_MCI_Recall: 0.9414\n",
      "Epoch 23/60\n",
      "476/476 [==============================] - 52s 109ms/step - loss: 0.2046 - Accuracy: 0.9448 - AD_Precision: 0.9360 - CN_Precision: 0.9352 - MCI_Precision: 0.9547 - AD_Recall: 0.9247 - CN_Recall: 0.9243 - MCI_Recall: 0.9602 - val_loss: 2.2346 - val_Accuracy: 0.5466 - val_AD_Precision: 0.3251 - val_CN_Precision: 0.9135 - val_MCI_Precision: 0.7961 - val_AD_Recall: 0.9388 - val_CN_Recall: 0.6051 - val_MCI_Recall: 0.3431\n",
      "Epoch 24/60\n",
      "476/476 [==============================] - 51s 108ms/step - loss: 0.2671 - Accuracy: 0.9206 - AD_Precision: 0.8614 - CN_Precision: 0.9307 - MCI_Precision: 0.9411 - AD_Recall: 0.8614 - CN_Recall: 0.9126 - MCI_Recall: 0.9402 - val_loss: 0.9786 - val_Accuracy: 0.8178 - val_AD_Precision: 0.7128 - val_CN_Precision: 0.8516 - val_MCI_Precision: 0.8436 - val_AD_Recall: 0.6837 - val_CN_Recall: 0.8408 - val_MCI_Recall: 0.8577\n",
      "Epoch 25/60\n",
      "476/476 [==============================] - 56s 118ms/step - loss: 0.1602 - Accuracy: 0.9605 - AD_Precision: 0.9551 - CN_Precision: 0.9486 - MCI_Precision: 0.9679 - AD_Recall: 0.9608 - CN_Recall: 0.9320 - MCI_Recall: 0.9725 - val_loss: 3.1700 - val_Accuracy: 0.6478 - val_AD_Precision: 1.0000 - val_CN_Precision: 0.9464 - val_MCI_Precision: 0.5799 - val_AD_Recall: 0.3163 - val_CN_Recall: 0.3376 - val_MCI_Recall: 0.9874\n",
      "Epoch 26/60\n",
      "476/476 [==============================] - 52s 108ms/step - loss: 0.1960 - Accuracy: 0.9442 - AD_Precision: 0.9184 - CN_Precision: 0.9411 - MCI_Precision: 0.9547 - AD_Recall: 0.9157 - CN_Recall: 0.9301 - MCI_Recall: 0.9602 - val_loss: 1.3039 - val_Accuracy: 0.7955 - val_AD_Precision: 0.9500 - val_CN_Precision: 0.9381 - val_MCI_Precision: 0.7201 - val_AD_Recall: 0.5816 - val_CN_Recall: 0.6752 - val_MCI_Recall: 0.9582\n",
      "Epoch 27/60\n",
      "476/476 [==============================] - 51s 108ms/step - loss: 0.1761 - Accuracy: 0.9532 - AD_Precision: 0.9483 - CN_Precision: 0.9395 - MCI_Precision: 0.9640 - AD_Recall: 0.9398 - CN_Recall: 0.9340 - MCI_Recall: 0.9658 - val_loss: 1.1353 - val_Accuracy: 0.7996 - val_AD_Precision: 0.7805 - val_CN_Precision: 0.8356 - val_MCI_Precision: 0.7849 - val_AD_Recall: 0.6531 - val_CN_Recall: 0.7771 - val_MCI_Recall: 0.8703\n",
      "Epoch 28/60\n",
      "476/476 [==============================] - 54s 113ms/step - loss: 0.1420 - Accuracy: 0.9621 - AD_Precision: 0.9463 - CN_Precision: 0.9567 - MCI_Precision: 0.9716 - AD_Recall: 0.9548 - CN_Recall: 0.9437 - MCI_Recall: 0.9725 - val_loss: 1.1579 - val_Accuracy: 0.8259 - val_AD_Precision: 0.8276 - val_CN_Precision: 0.8543 - val_MCI_Precision: 0.8086 - val_AD_Recall: 0.7347 - val_CN_Recall: 0.8217 - val_MCI_Recall: 0.8661\n",
      "Epoch 29/60\n",
      "476/476 [==============================] - 52s 110ms/step - loss: 0.1864 - Accuracy: 0.9495 - AD_Precision: 0.9277 - CN_Precision: 0.9480 - MCI_Precision: 0.9586 - AD_Recall: 0.9277 - CN_Recall: 0.9204 - MCI_Recall: 0.9658 - val_loss: 1.9666 - val_Accuracy: 0.7328 - val_AD_Precision: 0.5508 - val_CN_Precision: 0.9032 - val_MCI_Precision: 0.7536 - val_AD_Recall: 0.6633 - val_CN_Recall: 0.5350 - val_MCI_Recall: 0.8828\n",
      "Epoch 30/60\n",
      "476/476 [==============================] - 51s 108ms/step - loss: 0.1533 - Accuracy: 0.9558 - AD_Precision: 0.9305 - CN_Precision: 0.9644 - MCI_Precision: 0.9614 - AD_Recall: 0.9277 - CN_Recall: 0.9476 - MCI_Recall: 0.9677 - val_loss: 2.1259 - val_Accuracy: 0.7308 - val_AD_Precision: 0.9167 - val_CN_Precision: 0.7987 - val_MCI_Precision: 0.6854 - val_AD_Recall: 0.2245 - val_CN_Recall: 0.7580 - val_MCI_Recall: 0.9205\n",
      "Epoch 31/60\n",
      "476/476 [==============================] - 51s 108ms/step - loss: 0.1553 - Accuracy: 0.9621 - AD_Precision: 0.9573 - CN_Precision: 0.9571 - MCI_Precision: 0.9669 - AD_Recall: 0.9458 - CN_Recall: 0.9534 - MCI_Recall: 0.9687 - val_loss: 0.8479 - val_Accuracy: 0.8036 - val_AD_Precision: 0.6952 - val_CN_Precision: 0.9023 - val_MCI_Precision: 0.8048 - val_AD_Recall: 0.7449 - val_CN_Recall: 0.7643 - val_MCI_Recall: 0.8452\n",
      "Epoch 32/60\n",
      "476/476 [==============================] - 51s 108ms/step - loss: 0.1010 - Accuracy: 0.9711 - AD_Precision: 0.9635 - CN_Precision: 0.9705 - MCI_Precision: 0.9745 - AD_Recall: 0.9548 - CN_Recall: 0.9592 - MCI_Recall: 0.9791 - val_loss: 1.6543 - val_Accuracy: 0.7551 - val_AD_Precision: 0.6639 - val_CN_Precision: 0.7044 - val_MCI_Precision: 0.8862 - val_AD_Recall: 0.8061 - val_CN_Recall: 0.9108 - val_MCI_Recall: 0.6192\n",
      "Epoch 33/60\n",
      "476/476 [==============================] - 51s 108ms/step - loss: 0.1807 - Accuracy: 0.9548 - AD_Precision: 0.9431 - CN_Precision: 0.9448 - MCI_Precision: 0.9650 - AD_Recall: 0.9488 - CN_Recall: 0.9301 - MCI_Recall: 0.9668 - val_loss: 2.6975 - val_Accuracy: 0.7591 - val_AD_Precision: 0.9722 - val_CN_Precision: 0.8176 - val_MCI_Precision: 0.7087 - val_AD_Recall: 0.3571 - val_CN_Recall: 0.7707 - val_MCI_Recall: 0.9163\n",
      "Epoch 34/60\n",
      "476/476 [==============================] - 51s 108ms/step - loss: 0.1674 - Accuracy: 0.9569 - AD_Precision: 0.9333 - CN_Precision: 0.9551 - MCI_Precision: 0.9651 - AD_Recall: 0.9277 - CN_Recall: 0.9495 - MCI_Recall: 0.9696 - val_loss: 2.0536 - val_Accuracy: 0.7510 - val_AD_Precision: 0.6036 - val_CN_Precision: 0.9300 - val_MCI_Precision: 0.7482 - val_AD_Recall: 0.6837 - val_CN_Recall: 0.5924 - val_MCI_Recall: 0.8828\n",
      "Epoch 35/60\n",
      "476/476 [==============================] - 57s 119ms/step - loss: 0.1594 - Accuracy: 0.9600 - AD_Precision: 0.9486 - CN_Precision: 0.9516 - MCI_Precision: 0.9685 - AD_Recall: 0.9458 - CN_Recall: 0.9553 - MCI_Recall: 0.9639 - val_loss: 1.5958 - val_Accuracy: 0.7976 - val_AD_Precision: 0.8571 - val_CN_Precision: 0.8497 - val_MCI_Precision: 0.7606 - val_AD_Recall: 0.4898 - val_CN_Recall: 0.8280 - val_MCI_Recall: 0.9038\n",
      "Epoch 36/60\n",
      "476/476 [==============================] - 56s 117ms/step - loss: 0.1625 - Accuracy: 0.9590 - AD_Precision: 0.9369 - CN_Precision: 0.9608 - MCI_Precision: 0.9669 - AD_Recall: 0.9398 - CN_Recall: 0.9515 - MCI_Recall: 0.9687 - val_loss: 1.1275 - val_Accuracy: 0.8198 - val_AD_Precision: 0.7273 - val_CN_Precision: 0.9034 - val_MCI_Precision: 0.8023 - val_AD_Recall: 0.6531 - val_CN_Recall: 0.8344 - val_MCI_Recall: 0.8661\n",
      "Epoch 37/60\n",
      "476/476 [==============================] - 58s 122ms/step - loss: 0.0769 - Accuracy: 0.9753 - AD_Precision: 0.9669 - CN_Precision: 0.9708 - MCI_Precision: 0.9801 - AD_Recall: 0.9669 - CN_Recall: 0.9670 - MCI_Recall: 0.9820 - val_loss: 2.2253 - val_Accuracy: 0.7551 - val_AD_Precision: 0.9429 - val_CN_Precision: 0.6558 - val_MCI_Precision: 0.8216 - val_AD_Recall: 0.3367 - val_CN_Recall: 0.8981 - val_MCI_Recall: 0.8285\n",
      "Epoch 38/60\n",
      "476/476 [==============================] - 52s 109ms/step - loss: 0.2268 - Accuracy: 0.9463 - AD_Precision: 0.9305 - CN_Precision: 0.9339 - MCI_Precision: 0.9592 - AD_Recall: 0.9277 - CN_Recall: 0.9320 - MCI_Recall: 0.9583 - val_loss: 1.3795 - val_Accuracy: 0.7692 - val_AD_Precision: 0.8525 - val_CN_Precision: 0.6890 - val_MCI_Precision: 0.8326 - val_AD_Recall: 0.5306 - val_CN_Recall: 0.9172 - val_MCI_Recall: 0.7699\n",
      "Epoch 39/60\n",
      "476/476 [==============================] - 55s 114ms/step - loss: 0.1635 - Accuracy: 0.9569 - AD_Precision: 0.9518 - CN_Precision: 0.9435 - MCI_Precision: 0.9686 - AD_Recall: 0.9518 - CN_Recall: 0.9398 - MCI_Recall: 0.9658 - val_loss: 1.8002 - val_Accuracy: 0.7955 - val_AD_Precision: 0.9348 - val_CN_Precision: 0.8857 - val_MCI_Precision: 0.7338 - val_AD_Recall: 0.4388 - val_CN_Recall: 0.7898 - val_MCI_Recall: 0.9456\n",
      "Epoch 40/60\n",
      "476/476 [==============================] - 51s 108ms/step - loss: 0.1004 - Accuracy: 0.9705 - AD_Precision: 0.9608 - CN_Precision: 0.9686 - MCI_Precision: 0.9745 - AD_Recall: 0.9608 - CN_Recall: 0.9573 - MCI_Recall: 0.9791 - val_loss: 1.9391 - val_Accuracy: 0.7976 - val_AD_Precision: 0.9767 - val_CN_Precision: 0.8107 - val_MCI_Precision: 0.7679 - val_AD_Recall: 0.4286 - val_CN_Recall: 0.8726 - val_MCI_Recall: 0.8996\n",
      "Epoch 41/60\n",
      "476/476 [==============================] - 51s 108ms/step - loss: 0.1250 - Accuracy: 0.9690 - AD_Precision: 0.9517 - CN_Precision: 0.9633 - MCI_Precision: 0.9772 - AD_Recall: 0.9488 - CN_Recall: 0.9689 - MCI_Recall: 0.9753 - val_loss: 1.8979 - val_Accuracy: 0.8097 - val_AD_Precision: 0.9259 - val_CN_Precision: 0.9030 - val_MCI_Precision: 0.7484 - val_AD_Recall: 0.5102 - val_CN_Recall: 0.7707 - val_MCI_Recall: 0.9582\n",
      "Epoch 42/60\n",
      "476/476 [==============================] - 51s 108ms/step - loss: 0.1311 - Accuracy: 0.9674 - AD_Precision: 0.9514 - CN_Precision: 0.9685 - MCI_Precision: 0.9727 - AD_Recall: 0.9428 - CN_Recall: 0.9553 - MCI_Recall: 0.9801 - val_loss: 1.6225 - val_Accuracy: 0.8239 - val_AD_Precision: 0.8939 - val_CN_Precision: 0.8160 - val_MCI_Precision: 0.8113 - val_AD_Recall: 0.6020 - val_CN_Recall: 0.8471 - val_MCI_Recall: 0.8996\n",
      "Epoch 43/60\n",
      "476/476 [==============================] - 51s 108ms/step - loss: 0.2351 - Accuracy: 0.9469 - AD_Precision: 0.9424 - CN_Precision: 0.9265 - MCI_Precision: 0.9601 - AD_Recall: 0.9367 - CN_Recall: 0.9301 - MCI_Recall: 0.9583 - val_loss: 1.9054 - val_Accuracy: 0.8097 - val_AD_Precision: 0.9783 - val_CN_Precision: 0.8649 - val_MCI_Precision: 0.7567 - val_AD_Recall: 0.4592 - val_CN_Recall: 0.8153 - val_MCI_Recall: 0.9498\n",
      "Epoch 44/60\n",
      "476/476 [==============================] - 58s 121ms/step - loss: 0.1143 - Accuracy: 0.9721 - AD_Precision: 0.9637 - CN_Precision: 0.9688 - MCI_Precision: 0.9763 - AD_Recall: 0.9608 - CN_Recall: 0.9650 - MCI_Recall: 0.9763 - val_loss: 1.0057 - val_Accuracy: 0.8117 - val_AD_Precision: 0.7071 - val_CN_Precision: 0.8921 - val_MCI_Precision: 0.8207 - val_AD_Recall: 0.7143 - val_CN_Recall: 0.7898 - val_MCI_Recall: 0.8619\n",
      "Epoch 45/60\n",
      "476/476 [==============================] - 54s 113ms/step - loss: 0.0411 - Accuracy: 0.9858 - AD_Precision: 0.9819 - CN_Precision: 0.9862 - MCI_Precision: 0.9877 - AD_Recall: 0.9789 - CN_Recall: 0.9748 - MCI_Recall: 0.9934 - val_loss: 1.2365 - val_Accuracy: 0.8603 - val_AD_Precision: 0.9420 - val_CN_Precision: 0.9161 - val_MCI_Precision: 0.8114 - val_AD_Recall: 0.6633 - val_CN_Recall: 0.8344 - val_MCI_Recall: 0.9540\n",
      "Epoch 46/60\n",
      "476/476 [==============================] - 51s 108ms/step - loss: 0.1559 - Accuracy: 0.9637 - AD_Precision: 0.9635 - CN_Precision: 0.9512 - MCI_Precision: 0.9716 - AD_Recall: 0.9548 - CN_Recall: 0.9456 - MCI_Recall: 0.9753 - val_loss: 1.5338 - val_Accuracy: 0.7895 - val_AD_Precision: 0.7711 - val_CN_Precision: 0.7530 - val_MCI_Precision: 0.8223 - val_AD_Recall: 0.6531 - val_CN_Recall: 0.7962 - val_MCI_Recall: 0.8326\n",
      "Epoch 47/60\n",
      "476/476 [==============================] - 52s 110ms/step - loss: 0.1417 - Accuracy: 0.9637 - AD_Precision: 0.9515 - CN_Precision: 0.9574 - MCI_Precision: 0.9714 - AD_Recall: 0.9458 - CN_Recall: 0.9612 - MCI_Recall: 0.9677 - val_loss: 2.1431 - val_Accuracy: 0.8117 - val_AD_Precision: 1.0000 - val_CN_Precision: 0.8889 - val_MCI_Precision: 0.7475 - val_AD_Recall: 0.4592 - val_CN_Recall: 0.8153 - val_MCI_Recall: 0.9540\n",
      "Epoch 48/60\n",
      "476/476 [==============================] - 51s 108ms/step - loss: 0.1093 - Accuracy: 0.9763 - AD_Precision: 0.9758 - CN_Precision: 0.9689 - MCI_Precision: 0.9801 - AD_Recall: 0.9729 - CN_Recall: 0.9670 - MCI_Recall: 0.9801 - val_loss: 1.4934 - val_Accuracy: 0.8057 - val_AD_Precision: 0.8052 - val_CN_Precision: 0.8012 - val_MCI_Precision: 0.8145 - val_AD_Recall: 0.6327 - val_CN_Recall: 0.8471 - val_MCI_Recall: 0.8452\n",
      "Epoch 49/60\n",
      "476/476 [==============================] - 51s 108ms/step - loss: 0.1150 - Accuracy: 0.9695 - AD_Precision: 0.9459 - CN_Precision: 0.9764 - MCI_Precision: 0.9736 - AD_Recall: 0.9488 - CN_Recall: 0.9650 - MCI_Recall: 0.9782 - val_loss: 1.8380 - val_Accuracy: 0.8036 - val_AD_Precision: 0.8966 - val_CN_Precision: 0.8815 - val_MCI_Precision: 0.7500 - val_AD_Recall: 0.5306 - val_CN_Recall: 0.7580 - val_MCI_Recall: 0.9414\n",
      "Epoch 50/60\n",
      "476/476 [==============================] - 55s 116ms/step - loss: 0.0985 - Accuracy: 0.9742 - AD_Precision: 0.9611 - CN_Precision: 0.9746 - MCI_Precision: 0.9791 - AD_Recall: 0.9669 - CN_Recall: 0.9670 - MCI_Recall: 0.9801 - val_loss: 2.0641 - val_Accuracy: 0.8239 - val_AD_Precision: 0.7391 - val_CN_Precision: 0.8732 - val_MCI_Precision: 0.8269 - val_AD_Recall: 0.6939 - val_CN_Recall: 0.7898 - val_MCI_Recall: 0.8996\n",
      "Epoch 51/60\n",
      "476/476 [==============================] - 51s 108ms/step - loss: 0.1627 - Accuracy: 0.9679 - AD_Precision: 0.9520 - CN_Precision: 0.9628 - MCI_Precision: 0.9754 - AD_Recall: 0.9548 - CN_Recall: 0.9553 - MCI_Recall: 0.9782 - val_loss: 1.8964 - val_Accuracy: 0.7834 - val_AD_Precision: 0.9592 - val_CN_Precision: 0.7351 - val_MCI_Precision: 0.7846 - val_AD_Recall: 0.4796 - val_CN_Recall: 0.8662 - val_MCI_Recall: 0.8536\n",
      "Epoch 52/60\n",
      "476/476 [==============================] - 51s 108ms/step - loss: 0.1778 - Accuracy: 0.9605 - AD_Precision: 0.9362 - CN_Precision: 0.9609 - MCI_Precision: 0.9679 - AD_Recall: 0.9277 - CN_Recall: 0.9553 - MCI_Recall: 0.9725 - val_loss: 2.6765 - val_Accuracy: 0.7105 - val_AD_Precision: 1.0000 - val_CN_Precision: 0.5655 - val_MCI_Precision: 0.8636 - val_AD_Recall: 0.2857 - val_CN_Recall: 0.9618 - val_MCI_Recall: 0.7155\n",
      "Epoch 53/60\n",
      "476/476 [==============================] - 51s 108ms/step - loss: 0.1042 - Accuracy: 0.9711 - AD_Precision: 0.9577 - CN_Precision: 0.9763 - MCI_Precision: 0.9746 - AD_Recall: 0.9548 - CN_Recall: 0.9612 - MCI_Recall: 0.9810 - val_loss: 1.6255 - val_Accuracy: 0.7429 - val_AD_Precision: 0.5000 - val_CN_Precision: 0.8442 - val_MCI_Precision: 0.8771 - val_AD_Recall: 0.8163 - val_CN_Recall: 0.8280 - val_MCI_Recall: 0.6569\n",
      "Epoch 54/60\n",
      "476/476 [==============================] - 51s 108ms/step - loss: 0.0717 - Accuracy: 0.9826 - AD_Precision: 0.9731 - CN_Precision: 0.9767 - MCI_Precision: 0.9895 - AD_Recall: 0.9819 - CN_Recall: 0.9786 - MCI_Recall: 0.9848 - val_loss: 1.6582 - val_Accuracy: 0.8381 - val_AD_Precision: 0.8767 - val_CN_Precision: 0.8710 - val_MCI_Precision: 0.8113 - val_AD_Recall: 0.6531 - val_CN_Recall: 0.8599 - val_MCI_Recall: 0.8996\n",
      "Epoch 55/60\n",
      "476/476 [==============================] - 51s 108ms/step - loss: 0.0837 - Accuracy: 0.9805 - AD_Precision: 0.9701 - CN_Precision: 0.9824 - MCI_Precision: 0.9830 - AD_Recall: 0.9759 - CN_Recall: 0.9728 - MCI_Recall: 0.9848 - val_loss: 2.7185 - val_Accuracy: 0.7773 - val_AD_Precision: 1.0000 - val_CN_Precision: 0.8905 - val_MCI_Precision: 0.7022 - val_AD_Recall: 0.3878 - val_CN_Recall: 0.7771 - val_MCI_Recall: 0.9372\n",
      "Epoch 56/60\n",
      "476/476 [==============================] - 57s 119ms/step - loss: 0.1345 - Accuracy: 0.9653 - AD_Precision: 0.9637 - CN_Precision: 0.9574 - MCI_Precision: 0.9696 - AD_Recall: 0.9608 - CN_Recall: 0.9612 - MCI_Recall: 0.9687 - val_loss: 2.5915 - val_Accuracy: 0.7874 - val_AD_Precision: 1.0000 - val_CN_Precision: 0.7188 - val_MCI_Precision: 0.7984 - val_AD_Recall: 0.5000 - val_CN_Recall: 0.8790 - val_MCI_Recall: 0.8452\n",
      "Epoch 57/60\n",
      "476/476 [==============================] - 52s 108ms/step - loss: 0.1613 - Accuracy: 0.9637 - AD_Precision: 0.9635 - CN_Precision: 0.9516 - MCI_Precision: 0.9697 - AD_Recall: 0.9548 - CN_Recall: 0.9534 - MCI_Recall: 0.9715 - val_loss: 3.1138 - val_Accuracy: 0.7429 - val_AD_Precision: 0.9787 - val_CN_Precision: 0.8835 - val_MCI_Precision: 0.6686 - val_AD_Recall: 0.4694 - val_CN_Recall: 0.5796 - val_MCI_Recall: 0.9623\n",
      "Epoch 58/60\n",
      "476/476 [==============================] - 51s 108ms/step - loss: 0.1199 - Accuracy: 0.9684 - AD_Precision: 0.9607 - CN_Precision: 0.9590 - MCI_Precision: 0.9754 - AD_Recall: 0.9578 - CN_Recall: 0.9534 - MCI_Recall: 0.9782 - val_loss: 1.8751 - val_Accuracy: 0.7976 - val_AD_Precision: 0.7400 - val_CN_Precision: 0.7831 - val_MCI_Precision: 0.8370 - val_AD_Recall: 0.7551 - val_CN_Recall: 0.8280 - val_MCI_Recall: 0.7950\n",
      "Epoch 59/60\n",
      "476/476 [==============================] - 51s 108ms/step - loss: 0.1109 - Accuracy: 0.9748 - AD_Precision: 0.9611 - CN_Precision: 0.9706 - MCI_Precision: 0.9820 - AD_Recall: 0.9669 - CN_Recall: 0.9612 - MCI_Recall: 0.9839 - val_loss: 1.4664 - val_Accuracy: 0.7996 - val_AD_Precision: 0.6333 - val_CN_Precision: 0.8750 - val_MCI_Precision: 0.8391 - val_AD_Recall: 0.7755 - val_CN_Recall: 0.8025 - val_MCI_Recall: 0.8075\n",
      "Epoch 60/60\n",
      "476/476 [==============================] - 56s 118ms/step - loss: 0.1232 - Accuracy: 0.9711 - AD_Precision: 0.9577 - CN_Precision: 0.9687 - MCI_Precision: 0.9763 - AD_Recall: 0.9548 - CN_Recall: 0.9612 - MCI_Recall: 0.9791 - val_loss: 2.1561 - val_Accuracy: 0.8198 - val_AD_Precision: 0.9444 - val_CN_Precision: 0.8447 - val_MCI_Precision: 0.7814 - val_AD_Recall: 0.5204 - val_CN_Recall: 0.8662 - val_MCI_Recall: 0.9121\n"
     ]
    }
   ],
   "source": [
    "# learning_rate=10E-5\n",
    "savepath = 'models'\n",
    "lr=0.0001\n",
    "if not os.path.isdir(savepath):\n",
    "      os.makedirs(savepath)\n",
    "csvloger_callback = tf.keras.callbacks.CSVLogger(f'{savepath}history.csv', separator=',', append=False)\n",
    "\n",
    "modelcheckpoint_callback = tf.keras.callbacks.ModelCheckpoint(savepath+'resnet50_row_10E-5_weights-epoch:{epoch:03d}-val_Accuracy:{val_Accuracy:.4f}.h5',monitor='val_Accuracy'\n",
    "    ,verbose=0,save_best_only=True,save_weights_only=True,mode='max',save_freq='epoch' , initial_value_threshold=0.85)\n",
    "\n",
    "OPT = tf.keras.optimizers.Adam(learning_rate=lr)\n",
    "model05 = resnet50_row(OPT, LOOS,METRICS,image_Shape)\n",
    "history05 = model05.fit(training_image_datagen, epochs=EPOCH, validation_data=testing_image_datagen,callbacks=[csvloger_callback,modelcheckpoint_callback])\n",
    "model05 = resnet50_row(OPT, LOOS,METRICS,image_Shape)\n",
    "model05.load_weights(glob.glob(f\"{savepath}resnet50_row_10E-5_weights-epoch:*-val_Accuracy:{max(history05.history['val_Accuracy']):.4f}.h5\")[0])\n",
    "model05.save(f\"{savepath}/Resnet_60_0.0001.h5\")"
   ]
  },
  {
   "cell_type": "code",
   "execution_count": 11,
   "id": "2f790b03-e38c-4477-89f5-911628fcc2ba",
   "metadata": {},
   "outputs": [
    {
     "name": "stderr",
     "output_type": "stream",
     "text": [
      "/apps/tensorflow/2.7.0/lib/python3.9/site-packages/keras/engine/functional.py:1410: CustomMaskWarning: Custom mask layers require a config and must override get_config. When loading, the custom mask layer must be passed to the custom_objects argument.\n",
      "  layer_config = serialize_layer_fn(layer)\n"
     ]
    }
   ],
   "source": [
    "model05.save(f\"{savepath}/Resnet_60_0.0001.h5\")"
   ]
  },
  {
   "cell_type": "code",
   "execution_count": 12,
   "id": "13aeca91-83ea-4112-bac2-18ae5c3bfd51",
   "metadata": {
    "tags": []
   },
   "outputs": [
    {
     "name": "stdout",
     "output_type": "stream",
     "text": [
      "              precision    recall  f1-score   support\n",
      "\n",
      "          AD       0.94      0.66      0.78        98\n",
      "          CN       0.92      0.83      0.87       157\n",
      "         MCI       0.81      0.96      0.88       239\n",
      "\n",
      "    accuracy                           0.86       494\n",
      "   macro avg       0.89      0.82      0.84       494\n",
      "weighted avg       0.87      0.86      0.86       494\n",
      "\n"
     ]
    },
    {
     "data": {
      "image/png": "[encoded data removed]",
      "text/plain": [
       "<Figure size 432x288 with 2 Axes>"
      ]
     },
     "metadata": {
      "needs_background": "light"
     },
     "output_type": "display_data"
    }
   ],
   "source": [
    "p = model05.predict(testing_image_datagen)\n",
    "predicted_lab = p.argmax(axis=-1)\n",
    "true_lab = testing_image_datagen.classes\n",
    "plot_confusion_matrix(true_lab, predicted_lab, testing_image_datagen.class_indices.keys(),savepath)\n",
    "report = classification_report(true_lab, predicted_lab, target_names=testing_image_datagen.class_indices.keys())\n",
    "print(report)\n",
    "dump_text(report,f'{savepath}classification_report.txt')"
   ]
  },
  {
   "cell_type": "code",
   "execution_count": 13,
   "id": "c83baad4-b456-4b1a-b46f-a2e8e9c6ddd4",
   "metadata": {
    "tags": []
   },
   "outputs": [],
   "source": [
    "np.save(\"resnet_60_0.0001.npy\",p )"
   ]
  },
  {
   "cell_type": "markdown",
   "id": "480277c7-3802-4cd3-958e-6a0f69336e9f",
   "metadata": {},
   "source": [
    "ResNet50 Model with 60 epochs and Learning rate=0.001"
   ]
  },
  {
   "cell_type": "code",
   "execution_count": 14,
   "id": "240ab8bc-fd49-4160-8f64-4f01fe36e5dd",
   "metadata": {
    "tags": []
   },
   "outputs": [],
   "source": [
    "def resnet50_row(optimizer, loss,metrics,shape):\n",
    "  image_input = tf.keras.applications.ResNet50(include_top=False,weights='imagenet',input_shape=shape)\n",
    "\n",
    "  for layer in image_input.layers:\n",
    "      layer.trainable = True\n",
    "      layer._name = layer._name  + str('_img')\n",
    "\n",
    "  y = Flatten() (image_input.output)\n",
    "  c = Dropout(0.4) (y)\n",
    "  c = Dense(512) (c)\n",
    "  c = Dense(256) (c)\n",
    "  c = Dense(128) (c)\n",
    "  output_layer = Dense(3, activation='softmax')(c)\n",
    "\n",
    "  model = Model(inputs=image_input.input,outputs=output_layer)\n",
    "  model.compile(optimizer=optimizer, loss=loss, metrics=metrics)\n",
    "  return model"
   ]
  },
  {
   "cell_type": "code",
   "execution_count": 15,
   "id": "5dccbd03-63cb-4a35-bf93-f7eaa2d6a658",
   "metadata": {
    "tags": []
   },
   "outputs": [],
   "source": [
    "def plot_confusion_matrix(true_lab,predict_lab,classes,path):\n",
    "  matrix_confusion = tf.math.confusion_matrix(labels=true_lab, predictions=predicted_lab, num_classes=len(classes))\n",
    "  ax = plt.subplot()\n",
    "  sns.heatmap(matrix_confusion, square=True, annot=True, cmap='Blues', fmt='d', cbar=True)\n",
    "  ax.set_xlabel('Predicted labels')\n",
    "  ax.set_ylabel('True labels')\n",
    "  ax.set_title('Confusion Matrix')\n",
    "  ax.xaxis.set_ticklabels(classes)\n",
    "  ax.yaxis.set_ticklabels(classes)\n",
    "  plt.savefig(f'{path}confusion_matrix.png')"
   ]
  },
  {
   "cell_type": "code",
   "execution_count": 16,
   "id": "2b0030ab-ee85-40f1-9c34-6a2fcbe2c928",
   "metadata": {
    "tags": []
   },
   "outputs": [],
   "source": [
    "def dump_text(text,path):\n",
    "  text_file = open(path, \"w\")\n",
    "  text_file.write(text)\n",
    "  text_file.close()\n",
    "     "
   ]
  },
  {
   "cell_type": "code",
   "execution_count": 17,
   "id": "d9dfa4c5-1b3c-458a-b944-d3c819b8db5e",
   "metadata": {
    "tags": []
   },
   "outputs": [
    {
     "name": "stderr",
     "output_type": "stream",
     "text": [
      "2024-02-23 13:01:43.777251: I tensorflow/core/common_runtime/gpu/gpu_device.cc:1525] Created device /job:localhost/replica:0/task:0/device:GPU:0 with 9629 MB memory:  -> device: 0, name: NVIDIA GeForce RTX 2080 Ti, pci bus id: 0000:1b:00.0, compute capability: 7.5\n"
     ]
    }
   ],
   "source": [
    "config = tf.compat.v1.ConfigProto()\n",
    "config.gpu_options.allow_growth = True\n",
    "session = tf.compat.v1.Session(config=config)"
   ]
  },
  {
   "cell_type": "code",
   "execution_count": 18,
   "id": "c953ff50-4d80-49e5-a3e8-06e5b946009f",
   "metadata": {
    "tags": []
   },
   "outputs": [
    {
     "name": "stdout",
     "output_type": "stream",
     "text": [
      "Found 1901 images belonging to 3 classes.\n",
      "Found 494 images belonging to 3 classes.\n"
     ]
    }
   ],
   "source": [
    "training_image_datagen = ImageDataGenerator(horizontal_flip=True).flow_from_directory(\n",
    "                                                  directory=f'{root}/training/',\n",
    "                                                  target_size=(image_Shape[0], image_Shape[1]),\n",
    "                                                  class_mode='categorical',\n",
    "                                                  batch_size=4\n",
    "                                                  )\n",
    "\n",
    "testing_image_datagen = ImageDataGenerator().flow_from_directory(\n",
    "                                                  directory = f'{root}/testing/' ,\n",
    "                                                  target_size = (image_Shape[0] ,image_Shape[1]) ,\n",
    "                                                  class_mode = 'categorical' ,\n",
    "                                                  batch_size=1 ,\n",
    "                                                  shuffle = False\n",
    "                                                  )"
   ]
  },
  {
   "cell_type": "code",
   "execution_count": 19,
   "id": "e4fe0031-34a4-47fd-b471-34d5c18b24d7",
   "metadata": {
    "tags": []
   },
   "outputs": [],
   "source": [
    "EPOCH = 60\n",
    "METRICS = [\n",
    "    tf.keras.metrics.CategoricalAccuracy(name='Accuracy'),\n",
    "    tf.keras.metrics.Precision(name='AD_Precision',class_id=0),\n",
    "    tf.keras.metrics.Precision(name='CN_Precision',class_id=1),\n",
    "    tf.keras.metrics.Precision(name='MCI_Precision',class_id=2),\n",
    "    tf.keras.metrics.Recall(name='AD_Recall',class_id=0),\n",
    "    tf.keras.metrics.Recall(name='CN_Recall',class_id=1),\n",
    "    tf.keras.metrics.Recall(name='MCI_Recall',class_id=2),\n",
    "    ]\n",
    "LOOS = 'categorical_crossentropy'"
   ]
  },
  {
   "cell_type": "code",
   "execution_count": 21,
   "id": "10611139-7372-4511-8c38-4034467d31d9",
   "metadata": {
    "tags": []
   },
   "outputs": [
    {
     "name": "stdout",
     "output_type": "stream",
     "text": [
      "Epoch 1/60\n",
      "476/476 [==============================] - 58s 114ms/step - loss: 16.9457 - Accuracy: 0.4892 - AD_Precision: 0.1880 - CN_Precision: 0.2969 - MCI_Precision: 0.5699 - AD_Recall: 0.0753 - CN_Recall: 0.1320 - MCI_Recall: 0.5958 - val_loss: 1.0497 - val_Accuracy: 0.4838 - val_AD_Precision: 0.0000e+00 - val_CN_Precision: 0.0000e+00 - val_MCI_Precision: 0.4805 - val_AD_Recall: 0.0000e+00 - val_CN_Recall: 0.0000e+00 - val_MCI_Recall: 0.9791\n",
      "Epoch 2/60\n",
      "476/476 [==============================] - 57s 120ms/step - loss: 1.1001 - Accuracy: 0.5055 - AD_Precision: 0.1463 - CN_Precision: 0.3287 - MCI_Precision: 0.5623 - AD_Recall: 0.0181 - CN_Recall: 0.0913 - MCI_Recall: 0.6082 - val_loss: 1.3054 - val_Accuracy: 0.4838 - val_AD_Precision: 0.0000e+00 - val_CN_Precision: 0.0000e+00 - val_MCI_Precision: 0.4838 - val_AD_Recall: 0.0000e+00 - val_CN_Recall: 0.0000e+00 - val_MCI_Recall: 1.0000\n",
      "Epoch 3/60\n",
      "476/476 [==============================] - 52s 108ms/step - loss: 1.0722 - Accuracy: 0.5087 - AD_Precision: 0.1333 - CN_Precision: 0.2653 - MCI_Precision: 0.5515 - AD_Recall: 0.0060 - CN_Recall: 0.0505 - MCI_Recall: 0.6651 - val_loss: 1.1131 - val_Accuracy: 0.4838 - val_AD_Precision: 0.0000e+00 - val_CN_Precision: 0.0000e+00 - val_MCI_Precision: 0.4838 - val_AD_Recall: 0.0000e+00 - val_CN_Recall: 0.0000e+00 - val_MCI_Recall: 1.0000\n",
      "Epoch 4/60\n",
      "476/476 [==============================] - 52s 109ms/step - loss: 1.0743 - Accuracy: 0.5082 - AD_Precision: 0.2045 - CN_Precision: 0.2879 - MCI_Precision: 0.5599 - AD_Recall: 0.0271 - CN_Recall: 0.0738 - MCI_Recall: 0.6784 - val_loss: 1.3243 - val_Accuracy: 0.4838 - val_AD_Precision: 0.0000e+00 - val_CN_Precision: 0.0000e+00 - val_MCI_Precision: 0.4838 - val_AD_Recall: 0.0000e+00 - val_CN_Recall: 0.0000e+00 - val_MCI_Recall: 1.0000\n",
      "Epoch 5/60\n",
      "476/476 [==============================] - 52s 109ms/step - loss: 1.1262 - Accuracy: 0.5055 - AD_Precision: 0.2099 - CN_Precision: 0.2968 - MCI_Precision: 0.5647 - AD_Recall: 0.0512 - CN_Recall: 0.0893 - MCI_Recall: 0.6338 - val_loss: 1.1339 - val_Accuracy: 0.4838 - val_AD_Precision: 0.0000e+00 - val_CN_Precision: 0.0000e+00 - val_MCI_Precision: 0.4838 - val_AD_Recall: 0.0000e+00 - val_CN_Recall: 0.0000e+00 - val_MCI_Recall: 1.0000\n",
      "Epoch 6/60\n",
      "476/476 [==============================] - 54s 113ms/step - loss: 1.0551 - Accuracy: 0.5176 - AD_Precision: 0.0769 - CN_Precision: 0.3895 - MCI_Precision: 0.5570 - AD_Recall: 0.0030 - CN_Recall: 0.0718 - MCI_Recall: 0.6537 - val_loss: 1.0330 - val_Accuracy: 0.4919 - val_AD_Precision: 0.0000e+00 - val_CN_Precision: 1.0000 - val_MCI_Precision: 0.0000e+00 - val_AD_Recall: 0.0000e+00 - val_CN_Recall: 0.0127 - val_MCI_Recall: 0.0000e+00\n",
      "Epoch 7/60\n",
      "476/476 [==============================] - 52s 109ms/step - loss: 1.0452 - Accuracy: 0.5034 - AD_Precision: 0.2188 - CN_Precision: 0.3492 - MCI_Precision: 0.5621 - AD_Recall: 0.0211 - CN_Recall: 0.0854 - MCI_Recall: 0.6698 - val_loss: 1.0389 - val_Accuracy: 0.4838 - val_AD_Precision: 0.0000e+00 - val_CN_Precision: 0.0000e+00 - val_MCI_Precision: 0.0000e+00 - val_AD_Recall: 0.0000e+00 - val_CN_Recall: 0.0000e+00 - val_MCI_Recall: 0.0000e+00\n",
      "Epoch 8/60\n",
      "476/476 [==============================] - 54s 113ms/step - loss: 1.0626 - Accuracy: 0.5208 - AD_Precision: 0.2432 - CN_Precision: 0.3720 - MCI_Precision: 0.5598 - AD_Recall: 0.0271 - CN_Recall: 0.1184 - MCI_Recall: 0.6793 - val_loss: 10.9345 - val_Accuracy: 0.4879 - val_AD_Precision: 0.0000e+00 - val_CN_Precision: 1.0000 - val_MCI_Precision: 0.4858 - val_AD_Recall: 0.0000e+00 - val_CN_Recall: 0.0127 - val_MCI_Recall: 1.0000\n",
      "Epoch 9/60\n",
      "476/476 [==============================] - 52s 108ms/step - loss: 1.1292 - Accuracy: 0.4934 - AD_Precision: 0.2100 - CN_Precision: 0.4195 - MCI_Precision: 0.5712 - AD_Recall: 0.0633 - CN_Recall: 0.2175 - MCI_Recall: 0.6091 - val_loss: 1.0859 - val_Accuracy: 0.4879 - val_AD_Precision: 0.0000e+00 - val_CN_Precision: 1.0000 - val_MCI_Precision: 0.4858 - val_AD_Recall: 0.0000e+00 - val_CN_Recall: 0.0127 - val_MCI_Recall: 1.0000\n",
      "Epoch 10/60\n",
      "476/476 [==============================] - 52s 108ms/step - loss: 1.2221 - Accuracy: 0.5071 - AD_Precision: 0.2449 - CN_Precision: 0.4243 - MCI_Precision: 0.5823 - AD_Recall: 0.1084 - CN_Recall: 0.2505 - MCI_Recall: 0.6243 - val_loss: 4.6463 - val_Accuracy: 0.2530 - val_AD_Precision: 0.2131 - val_CN_Precision: 0.3730 - val_MCI_Precision: 0.0000e+00 - val_AD_Recall: 0.7959 - val_CN_Recall: 0.2994 - val_MCI_Recall: 0.0000e+00\n",
      "Epoch 11/60\n",
      "476/476 [==============================] - 52s 108ms/step - loss: 1.3249 - Accuracy: 0.4908 - AD_Precision: 0.2434 - CN_Precision: 0.4000 - MCI_Precision: 0.5811 - AD_Recall: 0.1386 - CN_Recall: 0.2485 - MCI_Recall: 0.6053 - val_loss: 1.6399 - val_Accuracy: 0.4879 - val_AD_Precision: 0.0000e+00 - val_CN_Precision: 1.0000 - val_MCI_Precision: 0.4858 - val_AD_Recall: 0.0000e+00 - val_CN_Recall: 0.0127 - val_MCI_Recall: 1.0000\n",
      "Epoch 12/60\n",
      "476/476 [==============================] - 52s 109ms/step - loss: 1.1694 - Accuracy: 0.4871 - AD_Precision: 0.2276 - CN_Precision: 0.3684 - MCI_Precision: 0.5764 - AD_Recall: 0.0994 - CN_Recall: 0.1631 - MCI_Recall: 0.5873 - val_loss: 2.7515 - val_Accuracy: 0.4838 - val_AD_Precision: 0.0000e+00 - val_CN_Precision: 0.0000e+00 - val_MCI_Precision: 0.4838 - val_AD_Recall: 0.0000e+00 - val_CN_Recall: 0.0000e+00 - val_MCI_Recall: 1.0000\n",
      "Epoch 13/60\n",
      "476/476 [==============================] - 54s 113ms/step - loss: 1.1601 - Accuracy: 0.4892 - AD_Precision: 0.1939 - CN_Precision: 0.4542 - MCI_Precision: 0.5631 - AD_Recall: 0.0964 - CN_Recall: 0.2505 - MCI_Recall: 0.5759 - val_loss: 1.6789 - val_Accuracy: 0.3178 - val_AD_Precision: 0.0000e+00 - val_CN_Precision: 0.3150 - val_MCI_Precision: 0.0000e+00 - val_AD_Recall: 0.0000e+00 - val_CN_Recall: 0.9873 - val_MCI_Recall: 0.0000e+00\n",
      "Epoch 14/60\n",
      "476/476 [==============================] - 52s 108ms/step - loss: 0.9816 - Accuracy: 0.5555 - AD_Precision: 0.3039 - CN_Precision: 0.5614 - MCI_Precision: 0.6035 - AD_Recall: 0.0934 - CN_Recall: 0.3107 - MCI_Recall: 0.6528 - val_loss: 1.5070 - val_Accuracy: 0.2126 - val_AD_Precision: 0.2141 - val_CN_Precision: 0.7500 - val_MCI_Precision: 0.0000e+00 - val_AD_Recall: 0.8673 - val_CN_Recall: 0.0191 - val_MCI_Recall: 0.0000e+00\n",
      "Epoch 15/60\n",
      "476/476 [==============================] - 52s 108ms/step - loss: 0.9502 - Accuracy: 0.5618 - AD_Precision: 0.3778 - CN_Precision: 0.5407 - MCI_Precision: 0.6078 - AD_Recall: 0.1024 - CN_Recall: 0.2835 - MCI_Recall: 0.6499 - val_loss: 2.9672 - val_Accuracy: 0.4838 - val_AD_Precision: 0.0000e+00 - val_CN_Precision: 0.0000e+00 - val_MCI_Precision: 0.4858 - val_AD_Recall: 0.0000e+00 - val_CN_Recall: 0.0000e+00 - val_MCI_Recall: 1.0000\n",
      "Epoch 16/60\n",
      "476/476 [==============================] - 54s 114ms/step - loss: 0.9560 - Accuracy: 0.5713 - AD_Precision: 0.3750 - CN_Precision: 0.5525 - MCI_Precision: 0.6242 - AD_Recall: 0.0723 - CN_Recall: 0.3165 - MCI_Recall: 0.6603 - val_loss: 2.8233 - val_Accuracy: 0.3623 - val_AD_Precision: 0.0000e+00 - val_CN_Precision: 0.3455 - val_MCI_Precision: 0.5192 - val_AD_Recall: 0.0000e+00 - val_CN_Recall: 0.9682 - val_MCI_Recall: 0.1130\n",
      "Epoch 17/60\n",
      "476/476 [==============================] - 52s 108ms/step - loss: 0.9379 - Accuracy: 0.5686 - AD_Precision: 0.4205 - CN_Precision: 0.5791 - MCI_Precision: 0.6256 - AD_Recall: 0.1114 - CN_Recall: 0.3126 - MCI_Recall: 0.6309 - val_loss: 2.8116 - val_Accuracy: 0.4838 - val_AD_Precision: 0.0000e+00 - val_CN_Precision: 0.0000e+00 - val_MCI_Precision: 0.4838 - val_AD_Recall: 0.0000e+00 - val_CN_Recall: 0.0000e+00 - val_MCI_Recall: 1.0000\n",
      "Epoch 18/60\n",
      "476/476 [==============================] - 53s 112ms/step - loss: 0.9154 - Accuracy: 0.5739 - AD_Precision: 0.4348 - CN_Precision: 0.5728 - MCI_Precision: 0.6184 - AD_Recall: 0.0602 - CN_Recall: 0.3359 - MCI_Recall: 0.6490 - val_loss: 1.1169 - val_Accuracy: 0.4798 - val_AD_Precision: 0.5000 - val_CN_Precision: 0.0000e+00 - val_MCI_Precision: 0.4923 - val_AD_Recall: 0.0102 - val_CN_Recall: 0.0000e+00 - val_MCI_Recall: 0.9372\n",
      "Epoch 19/60\n",
      "476/476 [==============================] - 54s 113ms/step - loss: 0.9056 - Accuracy: 0.5944 - AD_Precision: 0.3846 - CN_Precision: 0.6395 - MCI_Precision: 0.6261 - AD_Recall: 0.0452 - CN_Recall: 0.3650 - MCI_Recall: 0.6973 - val_loss: 0.8780 - val_Accuracy: 0.6154 - val_AD_Precision: 0.0000e+00 - val_CN_Precision: 0.7209 - val_MCI_Precision: 0.5946 - val_AD_Recall: 0.0000e+00 - val_CN_Recall: 0.5924 - val_MCI_Recall: 0.8285\n",
      "Epoch 20/60\n",
      "476/476 [==============================] - 52s 108ms/step - loss: 0.8395 - Accuracy: 0.6197 - AD_Precision: 0.5167 - CN_Precision: 0.6538 - MCI_Precision: 0.6552 - AD_Recall: 0.0934 - CN_Recall: 0.4291 - MCI_Recall: 0.7429 - val_loss: 1.9428 - val_Accuracy: 0.5951 - val_AD_Precision: 0.0000e+00 - val_CN_Precision: 0.7882 - val_MCI_Precision: 0.5567 - val_AD_Recall: 0.0000e+00 - val_CN_Recall: 0.4268 - val_MCI_Recall: 0.9456\n",
      "Epoch 21/60\n",
      "476/476 [==============================] - 52s 109ms/step - loss: 0.8159 - Accuracy: 0.6397 - AD_Precision: 0.4458 - CN_Precision: 0.7202 - MCI_Precision: 0.6732 - AD_Recall: 0.1114 - CN_Recall: 0.5049 - MCI_Recall: 0.7486 - val_loss: 1.5746 - val_Accuracy: 0.6093 - val_AD_Precision: 0.0000e+00 - val_CN_Precision: 0.7130 - val_MCI_Precision: 0.5778 - val_AD_Recall: 0.0000e+00 - val_CN_Recall: 0.5223 - val_MCI_Recall: 0.9163\n",
      "Epoch 22/60\n",
      "476/476 [==============================] - 57s 120ms/step - loss: 0.7757 - Accuracy: 0.6775 - AD_Precision: 0.5517 - CN_Precision: 0.7318 - MCI_Precision: 0.6982 - AD_Recall: 0.1446 - CN_Recall: 0.5456 - MCI_Recall: 0.7770 - val_loss: 1.1094 - val_Accuracy: 0.4291 - val_AD_Precision: 0.0000e+00 - val_CN_Precision: 0.4305 - val_MCI_Precision: 0.6129 - val_AD_Recall: 0.0000e+00 - val_CN_Recall: 0.8280 - val_MCI_Recall: 0.0795\n",
      "Epoch 23/60\n",
      "476/476 [==============================] - 59s 123ms/step - loss: 0.8413 - Accuracy: 0.6339 - AD_Precision: 0.4842 - CN_Precision: 0.6785 - MCI_Precision: 0.6726 - AD_Recall: 0.1386 - CN_Recall: 0.4835 - MCI_Recall: 0.7543 - val_loss: 1.0162 - val_Accuracy: 0.4717 - val_AD_Precision: 0.2713 - val_CN_Precision: 0.8269 - val_MCI_Precision: 0.5594 - val_AD_Recall: 0.3571 - val_CN_Recall: 0.2739 - val_MCI_Recall: 0.3347\n",
      "Epoch 24/60\n",
      "476/476 [==============================] - 52s 108ms/step - loss: 0.7614 - Accuracy: 0.6739 - AD_Precision: 0.5000 - CN_Precision: 0.7177 - MCI_Precision: 0.7157 - AD_Recall: 0.1837 - CN_Recall: 0.5825 - MCI_Recall: 0.7524 - val_loss: 4.6631 - val_Accuracy: 0.4879 - val_AD_Precision: 0.0000e+00 - val_CN_Precision: 1.0000 - val_MCI_Precision: 0.4858 - val_AD_Recall: 0.0000e+00 - val_CN_Recall: 0.0127 - val_MCI_Recall: 1.0000\n",
      "Epoch 25/60\n",
      "476/476 [==============================] - 53s 112ms/step - loss: 0.7114 - Accuracy: 0.6954 - AD_Precision: 0.5827 - CN_Precision: 0.7500 - MCI_Precision: 0.7235 - AD_Recall: 0.2440 - CN_Recall: 0.6408 - MCI_Recall: 0.7894 - val_loss: 1.1726 - val_Accuracy: 0.6093 - val_AD_Precision: 0.0000e+00 - val_CN_Precision: 0.8276 - val_MCI_Precision: 0.5664 - val_AD_Recall: 0.0000e+00 - val_CN_Recall: 0.4586 - val_MCI_Recall: 0.9456\n",
      "Epoch 26/60\n",
      "476/476 [==============================] - 52s 108ms/step - loss: 0.7036 - Accuracy: 0.7086 - AD_Precision: 0.5547 - CN_Precision: 0.7995 - MCI_Precision: 0.7425 - AD_Recall: 0.2289 - CN_Recall: 0.6505 - MCI_Recall: 0.8017 - val_loss: 1.0891 - val_Accuracy: 0.6032 - val_AD_Precision: 1.0000 - val_CN_Precision: 0.7624 - val_MCI_Precision: 0.5741 - val_AD_Recall: 0.0306 - val_CN_Recall: 0.4904 - val_MCI_Recall: 0.9079\n",
      "Epoch 27/60\n",
      "476/476 [==============================] - 58s 122ms/step - loss: 0.6045 - Accuracy: 0.7570 - AD_Precision: 0.6935 - CN_Precision: 0.8053 - MCI_Precision: 0.7898 - AD_Recall: 0.4157 - CN_Recall: 0.7068 - MCI_Recall: 0.8235 - val_loss: 3.6313 - val_Accuracy: 0.3259 - val_AD_Precision: 0.0000e+00 - val_CN_Precision: 0.3217 - val_MCI_Precision: 0.8000 - val_AD_Recall: 0.0000e+00 - val_CN_Recall: 1.0000 - val_MCI_Recall: 0.0167\n",
      "Epoch 28/60\n",
      "476/476 [==============================] - 52s 109ms/step - loss: 0.5379 - Accuracy: 0.7896 - AD_Precision: 0.6854 - CN_Precision: 0.8634 - MCI_Precision: 0.8065 - AD_Recall: 0.4398 - CN_Recall: 0.7981 - MCI_Recall: 0.8501 - val_loss: 1.3783 - val_Accuracy: 0.4271 - val_AD_Precision: 0.2997 - val_CN_Precision: 0.8600 - val_MCI_Precision: 0.6957 - val_AD_Recall: 0.9082 - val_CN_Recall: 0.2739 - val_MCI_Recall: 0.1339\n",
      "Epoch 29/60\n",
      "476/476 [==============================] - 52s 109ms/step - loss: 0.6103 - Accuracy: 0.7717 - AD_Precision: 0.6978 - CN_Precision: 0.8170 - MCI_Precision: 0.8073 - AD_Recall: 0.4729 - CN_Recall: 0.7282 - MCI_Recall: 0.8425 - val_loss: 1.3836 - val_Accuracy: 0.3927 - val_AD_Precision: 1.0000 - val_CN_Precision: 0.3617 - val_MCI_Precision: 0.8000 - val_AD_Recall: 0.0204 - val_CN_Recall: 0.9745 - val_MCI_Recall: 0.1172\n",
      "Epoch 30/60\n",
      "476/476 [==============================] - 52s 109ms/step - loss: 0.5008 - Accuracy: 0.8038 - AD_Precision: 0.7124 - CN_Precision: 0.8625 - MCI_Precision: 0.8255 - AD_Recall: 0.5000 - CN_Recall: 0.8039 - MCI_Recall: 0.8615 - val_loss: 1.8631 - val_Accuracy: 0.5870 - val_AD_Precision: 0.0000e+00 - val_CN_Precision: 0.5205 - val_MCI_Precision: 0.6573 - val_AD_Recall: 0.0000e+00 - val_CN_Recall: 0.8089 - val_MCI_Recall: 0.6820\n",
      "Epoch 31/60\n",
      "476/476 [==============================] - 54s 114ms/step - loss: 0.4341 - Accuracy: 0.8296 - AD_Precision: 0.7406 - CN_Precision: 0.8638 - MCI_Precision: 0.8650 - AD_Recall: 0.5934 - CN_Recall: 0.8252 - MCI_Recall: 0.8634 - val_loss: 1.0143 - val_Accuracy: 0.7024 - val_AD_Precision: 0.6250 - val_CN_Precision: 0.7267 - val_MCI_Precision: 0.7511 - val_AD_Recall: 0.5102 - val_CN_Recall: 0.7452 - val_MCI_Recall: 0.7448\n",
      "Epoch 32/60\n",
      "476/476 [==============================] - 52s 109ms/step - loss: 0.4076 - Accuracy: 0.8501 - AD_Precision: 0.7652 - CN_Precision: 0.8959 - MCI_Precision: 0.8703 - AD_Recall: 0.6084 - CN_Recall: 0.8524 - MCI_Recall: 0.8852 - val_loss: 3.1314 - val_Accuracy: 0.6336 - val_AD_Precision: 1.0000 - val_CN_Precision: 0.5350 - val_MCI_Precision: 0.7269 - val_AD_Recall: 0.0204 - val_CN_Recall: 0.8280 - val_MCI_Recall: 0.7573\n",
      "Epoch 33/60\n",
      "476/476 [==============================] - 52s 110ms/step - loss: 0.3495 - Accuracy: 0.8564 - AD_Precision: 0.7684 - CN_Precision: 0.8806 - MCI_Precision: 0.8832 - AD_Recall: 0.6596 - CN_Recall: 0.8738 - MCI_Recall: 0.8966 - val_loss: 2.2355 - val_Accuracy: 0.2996 - val_AD_Precision: 0.2271 - val_CN_Precision: 0.8136 - val_MCI_Precision: 0.0000e+00 - val_AD_Recall: 0.9592 - val_CN_Recall: 0.3057 - val_MCI_Recall: 0.0000e+00\n",
      "Epoch 34/60\n",
      "476/476 [==============================] - 52s 109ms/step - loss: 0.3384 - Accuracy: 0.8738 - AD_Precision: 0.8057 - CN_Precision: 0.9069 - MCI_Precision: 0.8923 - AD_Recall: 0.6867 - CN_Recall: 0.8893 - MCI_Recall: 0.9042 - val_loss: 1.7011 - val_Accuracy: 0.6822 - val_AD_Precision: 0.9444 - val_CN_Precision: 0.8288 - val_MCI_Precision: 0.6240 - val_AD_Recall: 0.1735 - val_CN_Recall: 0.5860 - val_MCI_Recall: 0.9372\n",
      "Epoch 35/60\n",
      "476/476 [==============================] - 52s 108ms/step - loss: 0.3252 - Accuracy: 0.8853 - AD_Precision: 0.8445 - CN_Precision: 0.8978 - MCI_Precision: 0.9019 - AD_Recall: 0.7199 - CN_Recall: 0.8699 - MCI_Recall: 0.9241 - val_loss: 1.2664 - val_Accuracy: 0.6903 - val_AD_Precision: 0.8095 - val_CN_Precision: 0.7222 - val_MCI_Precision: 0.6858 - val_AD_Recall: 0.1735 - val_CN_Recall: 0.7452 - val_MCI_Recall: 0.8494\n",
      "Epoch 36/60\n",
      "476/476 [==============================] - 52s 108ms/step - loss: 0.2899 - Accuracy: 0.8969 - AD_Precision: 0.8333 - CN_Precision: 0.9257 - MCI_Precision: 0.9119 - AD_Recall: 0.7380 - CN_Recall: 0.8951 - MCI_Recall: 0.9326 - val_loss: 2.0295 - val_Accuracy: 0.6640 - val_AD_Precision: 0.0000e+00 - val_CN_Precision: 0.6683 - val_MCI_Precision: 0.6632 - val_AD_Recall: 0.0000e+00 - val_CN_Recall: 0.8599 - val_MCI_Recall: 0.8075\n",
      "Epoch 37/60\n",
      "476/476 [==============================] - 52s 108ms/step - loss: 0.2871 - Accuracy: 0.8958 - AD_Precision: 0.8409 - CN_Precision: 0.9091 - MCI_Precision: 0.9180 - AD_Recall: 0.7801 - CN_Recall: 0.8932 - MCI_Recall: 0.9241 - val_loss: 3.0818 - val_Accuracy: 0.6134 - val_AD_Precision: 0.8571 - val_CN_Precision: 0.6881 - val_MCI_Precision: 0.5862 - val_AD_Recall: 0.0612 - val_CN_Recall: 0.4777 - val_MCI_Recall: 0.9247\n",
      "Epoch 38/60\n",
      "476/476 [==============================] - 52s 108ms/step - loss: 0.3057 - Accuracy: 0.8822 - AD_Precision: 0.8249 - CN_Precision: 0.8959 - MCI_Precision: 0.9040 - AD_Recall: 0.7380 - CN_Recall: 0.8854 - MCI_Recall: 0.9118 - val_loss: 1.2695 - val_Accuracy: 0.6761 - val_AD_Precision: 0.7857 - val_CN_Precision: 0.5766 - val_MCI_Precision: 0.8111 - val_AD_Recall: 0.4490 - val_CN_Recall: 0.9108 - val_MCI_Recall: 0.6109\n",
      "Epoch 39/60\n",
      "476/476 [==============================] - 52s 109ms/step - loss: 0.2299 - Accuracy: 0.9169 - AD_Precision: 0.8692 - CN_Precision: 0.9175 - MCI_Precision: 0.9348 - AD_Recall: 0.8404 - CN_Recall: 0.9068 - MCI_Recall: 0.9393 - val_loss: 0.9873 - val_Accuracy: 0.6194 - val_AD_Precision: 0.8333 - val_CN_Precision: 0.8000 - val_MCI_Precision: 0.5707 - val_AD_Recall: 0.0510 - val_CN_Recall: 0.4841 - val_MCI_Recall: 0.9289\n",
      "Epoch 40/60\n",
      "476/476 [==============================] - 52s 108ms/step - loss: 0.2041 - Accuracy: 0.9190 - AD_Precision: 0.8750 - CN_Precision: 0.9259 - MCI_Precision: 0.9333 - AD_Recall: 0.8223 - CN_Recall: 0.9223 - MCI_Recall: 0.9431 - val_loss: 1.7889 - val_Accuracy: 0.6822 - val_AD_Precision: 0.9091 - val_CN_Precision: 0.8034 - val_MCI_Precision: 0.6299 - val_AD_Recall: 0.2041 - val_CN_Recall: 0.5987 - val_MCI_Recall: 0.9331\n",
      "Epoch 41/60\n",
      "476/476 [==============================] - 52s 109ms/step - loss: 0.2012 - Accuracy: 0.9337 - AD_Precision: 0.9016 - CN_Precision: 0.9413 - MCI_Precision: 0.9437 - AD_Recall: 0.8283 - CN_Recall: 0.9340 - MCI_Recall: 0.9545 - val_loss: 7.9181 - val_Accuracy: 0.2267 - val_AD_Precision: 0.2038 - val_CN_Precision: 0.0000e+00 - val_MCI_Precision: 0.6957 - val_AD_Recall: 0.9796 - val_CN_Recall: 0.0000e+00 - val_MCI_Recall: 0.0669\n",
      "Epoch 42/60\n",
      "476/476 [==============================] - 52s 109ms/step - loss: 0.2113 - Accuracy: 0.9279 - AD_Precision: 0.8903 - CN_Precision: 0.9381 - MCI_Precision: 0.9454 - AD_Recall: 0.8554 - CN_Recall: 0.9126 - MCI_Recall: 0.9526 - val_loss: 1.5687 - val_Accuracy: 0.6478 - val_AD_Precision: 0.7067 - val_CN_Precision: 0.5441 - val_MCI_Precision: 0.8657 - val_AD_Recall: 0.5408 - val_CN_Recall: 0.9427 - val_MCI_Recall: 0.4854\n",
      "Epoch 43/60\n",
      "476/476 [==============================] - 52s 108ms/step - loss: 0.2360 - Accuracy: 0.9095 - AD_Precision: 0.8571 - CN_Precision: 0.9098 - MCI_Precision: 0.9338 - AD_Recall: 0.7952 - CN_Recall: 0.9204 - MCI_Recall: 0.9364 - val_loss: 3.4003 - val_Accuracy: 0.2814 - val_AD_Precision: 0.2267 - val_CN_Precision: 1.0000 - val_MCI_Precision: 0.5577 - val_AD_Recall: 0.9694 - val_CN_Recall: 0.0828 - val_MCI_Recall: 0.1213\n",
      "Epoch 44/60\n",
      "476/476 [==============================] - 54s 113ms/step - loss: 0.1466 - Accuracy: 0.9474 - AD_Precision: 0.9161 - CN_Precision: 0.9606 - MCI_Precision: 0.9548 - AD_Recall: 0.8886 - CN_Recall: 0.9476 - MCI_Recall: 0.9620 - val_loss: 1.6049 - val_Accuracy: 0.7186 - val_AD_Precision: 0.8929 - val_CN_Precision: 0.6898 - val_MCI_Precision: 0.7190 - val_AD_Recall: 0.2551 - val_CN_Recall: 0.8217 - val_MCI_Recall: 0.8243\n",
      "Epoch 45/60\n",
      "476/476 [==============================] - 60s 127ms/step - loss: 0.2462 - Accuracy: 0.9195 - AD_Precision: 0.8719 - CN_Precision: 0.9213 - MCI_Precision: 0.9379 - AD_Recall: 0.8404 - CN_Recall: 0.9087 - MCI_Recall: 0.9450 - val_loss: 0.8720 - val_Accuracy: 0.7227 - val_AD_Precision: 0.8611 - val_CN_Precision: 0.8042 - val_MCI_Precision: 0.6898 - val_AD_Recall: 0.3163 - val_CN_Recall: 0.7325 - val_MCI_Recall: 0.8745\n",
      "Epoch 46/60\n",
      "476/476 [==============================] - 53s 112ms/step - loss: 0.1202 - Accuracy: 0.9584 - AD_Precision: 0.9356 - CN_Precision: 0.9667 - MCI_Precision: 0.9640 - AD_Recall: 0.9187 - CN_Recall: 0.9573 - MCI_Recall: 0.9658 - val_loss: 1.8582 - val_Accuracy: 0.6134 - val_AD_Precision: 0.8519 - val_CN_Precision: 0.9400 - val_MCI_Precision: 0.5628 - val_AD_Recall: 0.2347 - val_CN_Recall: 0.2994 - val_MCI_Recall: 0.9749\n",
      "Epoch 47/60\n",
      "476/476 [==============================] - 54s 114ms/step - loss: 0.1620 - Accuracy: 0.9442 - AD_Precision: 0.9024 - CN_Precision: 0.9431 - MCI_Precision: 0.9584 - AD_Recall: 0.8916 - CN_Recall: 0.9340 - MCI_Recall: 0.9611 - val_loss: 1.6528 - val_Accuracy: 0.6741 - val_AD_Precision: 0.9688 - val_CN_Precision: 0.5615 - val_MCI_Precision: 0.7711 - val_AD_Recall: 0.3163 - val_CN_Recall: 0.9299 - val_MCI_Recall: 0.6485\n",
      "Epoch 48/60\n",
      "476/476 [==============================] - 54s 113ms/step - loss: 0.1667 - Accuracy: 0.9395 - AD_Precision: 0.9040 - CN_Precision: 0.9392 - MCI_Precision: 0.9546 - AD_Recall: 0.8795 - CN_Recall: 0.9301 - MCI_Recall: 0.9583 - val_loss: 1.1066 - val_Accuracy: 0.7692 - val_AD_Precision: 0.8364 - val_CN_Precision: 0.7647 - val_MCI_Precision: 0.7623 - val_AD_Recall: 0.4694 - val_CN_Recall: 0.8280 - val_MCI_Recall: 0.8452\n",
      "Epoch 49/60\n",
      "476/476 [==============================] - 57s 119ms/step - loss: 0.1392 - Accuracy: 0.9569 - AD_Precision: 0.9388 - CN_Precision: 0.9569 - MCI_Precision: 0.9660 - AD_Recall: 0.9247 - CN_Recall: 0.9495 - MCI_Recall: 0.9696 - val_loss: 1.0930 - val_Accuracy: 0.6700 - val_AD_Precision: 0.5352 - val_CN_Precision: 0.9672 - val_MCI_Precision: 0.7074 - val_AD_Recall: 0.7755 - val_CN_Recall: 0.3758 - val_MCI_Recall: 0.7992\n",
      "Epoch 50/60\n",
      "476/476 [==============================] - 52s 109ms/step - loss: 0.1799 - Accuracy: 0.9421 - AD_Precision: 0.9083 - CN_Precision: 0.9395 - MCI_Precision: 0.9546 - AD_Recall: 0.8946 - CN_Recall: 0.9340 - MCI_Recall: 0.9583 - val_loss: 3.9956 - val_Accuracy: 0.6073 - val_AD_Precision: 0.5096 - val_CN_Precision: 1.0000 - val_MCI_Precision: 0.6152 - val_AD_Recall: 0.5408 - val_CN_Recall: 0.1274 - val_MCI_Recall: 0.9498\n",
      "Epoch 51/60\n",
      "476/476 [==============================] - 54s 113ms/step - loss: 0.1875 - Accuracy: 0.9395 - AD_Precision: 0.8960 - CN_Precision: 0.9446 - MCI_Precision: 0.9520 - AD_Recall: 0.8825 - CN_Recall: 0.9262 - MCI_Recall: 0.9592 - val_loss: 0.7034 - val_Accuracy: 0.7976 - val_AD_Precision: 0.7927 - val_CN_Precision: 0.8047 - val_MCI_Precision: 0.8225 - val_AD_Recall: 0.6633 - val_CN_Recall: 0.8662 - val_MCI_Recall: 0.7950\n",
      "Epoch 52/60\n",
      "476/476 [==============================] - 52s 109ms/step - loss: 0.1071 - Accuracy: 0.9605 - AD_Precision: 0.9215 - CN_Precision: 0.9745 - MCI_Precision: 0.9679 - AD_Recall: 0.9187 - CN_Recall: 0.9650 - MCI_Recall: 0.9715 - val_loss: 1.0207 - val_Accuracy: 0.7733 - val_AD_Precision: 0.8382 - val_CN_Precision: 0.9052 - val_MCI_Precision: 0.7237 - val_AD_Recall: 0.5816 - val_CN_Recall: 0.6688 - val_MCI_Recall: 0.9205\n",
      "Epoch 53/60\n",
      "476/476 [==============================] - 56s 119ms/step - loss: 0.0964 - Accuracy: 0.9637 - AD_Precision: 0.9426 - CN_Precision: 0.9705 - MCI_Precision: 0.9697 - AD_Recall: 0.9398 - CN_Recall: 0.9573 - MCI_Recall: 0.9706 - val_loss: 1.5547 - val_Accuracy: 0.7429 - val_AD_Precision: 0.9118 - val_CN_Precision: 0.7219 - val_MCI_Precision: 0.7453 - val_AD_Recall: 0.3163 - val_CN_Recall: 0.8599 - val_MCI_Recall: 0.8326\n",
      "Epoch 54/60\n",
      "476/476 [==============================] - 57s 119ms/step - loss: 0.1395 - Accuracy: 0.9542 - AD_Precision: 0.9470 - CN_Precision: 0.9453 - MCI_Precision: 0.9605 - AD_Recall: 0.9157 - CN_Recall: 0.9398 - MCI_Recall: 0.9687 - val_loss: 1.9960 - val_Accuracy: 0.7186 - val_AD_Precision: 1.0000 - val_CN_Precision: 0.8727 - val_MCI_Precision: 0.6525 - val_AD_Recall: 0.2857 - val_CN_Recall: 0.6115 - val_MCI_Recall: 0.9665\n",
      "Epoch 55/60\n",
      "476/476 [==============================] - 52s 109ms/step - loss: 0.0995 - Accuracy: 0.9658 - AD_Precision: 0.9486 - CN_Precision: 0.9683 - MCI_Precision: 0.9735 - AD_Recall: 0.9458 - CN_Recall: 0.9495 - MCI_Recall: 0.9772 - val_loss: 2.1836 - val_Accuracy: 0.7247 - val_AD_Precision: 1.0000 - val_CN_Precision: 0.7233 - val_MCI_Precision: 0.7016 - val_AD_Recall: 0.2653 - val_CN_Recall: 0.7325 - val_MCI_Recall: 0.8954\n",
      "Epoch 56/60\n",
      "476/476 [==============================] - 52s 109ms/step - loss: 0.1841 - Accuracy: 0.9490 - AD_Precision: 0.9039 - CN_Precision: 0.9530 - MCI_Precision: 0.9638 - AD_Recall: 0.9066 - CN_Recall: 0.9456 - MCI_Recall: 0.9602 - val_loss: 16.9978 - val_Accuracy: 0.6660 - val_AD_Precision: 0.0000e+00 - val_CN_Precision: 0.7143 - val_MCI_Precision: 0.6455 - val_AD_Recall: 0.0000e+00 - val_CN_Recall: 0.6688 - val_MCI_Recall: 0.9372\n",
      "Epoch 57/60\n",
      "476/476 [==============================] - 54s 113ms/step - loss: 0.1810 - Accuracy: 0.9490 - AD_Precision: 0.9233 - CN_Precision: 0.9505 - MCI_Precision: 0.9595 - AD_Recall: 0.9066 - CN_Recall: 0.9320 - MCI_Recall: 0.9677 - val_loss: 0.8525 - val_Accuracy: 0.8016 - val_AD_Precision: 0.8250 - val_CN_Precision: 0.8077 - val_MCI_Precision: 0.7937 - val_AD_Recall: 0.6735 - val_CN_Recall: 0.8025 - val_MCI_Recall: 0.8368\n",
      "Epoch 58/60\n",
      "476/476 [==============================] - 55s 116ms/step - loss: 0.0499 - Accuracy: 0.9826 - AD_Precision: 0.9700 - CN_Precision: 0.9863 - MCI_Precision: 0.9849 - AD_Recall: 0.9729 - CN_Recall: 0.9786 - MCI_Recall: 0.9877 - val_loss: 1.6660 - val_Accuracy: 0.6721 - val_AD_Precision: 0.4450 - val_CN_Precision: 0.8188 - val_MCI_Precision: 0.8272 - val_AD_Recall: 0.8673 - val_CN_Recall: 0.7197 - val_MCI_Recall: 0.5607\n",
      "Epoch 59/60\n",
      "476/476 [==============================] - 52s 108ms/step - loss: 0.0895 - Accuracy: 0.9679 - AD_Precision: 0.9458 - CN_Precision: 0.9746 - MCI_Precision: 0.9753 - AD_Recall: 0.9458 - CN_Recall: 0.9670 - MCI_Recall: 0.9753 - val_loss: 1.0532 - val_Accuracy: 0.7976 - val_AD_Precision: 0.7901 - val_CN_Precision: 0.8062 - val_MCI_Precision: 0.7992 - val_AD_Recall: 0.6531 - val_CN_Recall: 0.8217 - val_MCI_Recall: 0.8326\n",
      "Epoch 60/60\n",
      "476/476 [==============================] - 58s 121ms/step - loss: 0.1003 - Accuracy: 0.9690 - AD_Precision: 0.9605 - CN_Precision: 0.9648 - MCI_Precision: 0.9754 - AD_Recall: 0.9518 - CN_Recall: 0.9592 - MCI_Recall: 0.9782 - val_loss: 2.1979 - val_Accuracy: 0.6680 - val_AD_Precision: 0.4792 - val_CN_Precision: 0.6471 - val_MCI_Precision: 0.9071 - val_AD_Recall: 0.7041 - val_CN_Recall: 0.8408 - val_MCI_Recall: 0.5314\n"
     ]
    },
    {
     "name": "stderr",
     "output_type": "stream",
     "text": [
      "/apps/tensorflow/2.7.0/lib/python3.9/site-packages/keras/engine/functional.py:1410: CustomMaskWarning: Custom mask layers require a config and must override get_config. When loading, the custom mask layer must be passed to the custom_objects argument.\n",
      "  layer_config = serialize_layer_fn(layer)\n"
     ]
    }
   ],
   "source": [
    "# learning_rate=10E-5\n",
    "savepath = 'models'\n",
    "lr=0.001\n",
    "if not os.path.isdir(savepath):\n",
    "      os.makedirs(savepath)\n",
    "csvloger_callback = tf.keras.callbacks.CSVLogger(f'{savepath}history.csv', separator=',', append=False)\n",
    "\n",
    "modelcheckpoint_callback = tf.keras.callbacks.ModelCheckpoint(savepath+'resnet50_row_10E-5_weights-epoch:{epoch:03d}-val_Accuracy:{val_Accuracy:.4f}.h5',monitor='val_Accuracy'\n",
    "    ,verbose=0,save_best_only=True,save_weights_only=True,mode='max',save_freq='epoch' , initial_value_threshold=0.85)\n",
    "\n",
    "OPT = tf.keras.optimizers.Adam(learning_rate=lr)\n",
    "model02 = resnet50_row(OPT, LOOS,METRICS,image_Shape)\n",
    "history02 = model02.fit(training_image_datagen, epochs=EPOCH, validation_data=testing_image_datagen,callbacks=[csvloger_callback,modelcheckpoint_callback])\n",
    "model02 = resnet50_row(OPT, LOOS,METRICS,image_Shape)\n",
    "model02.load_weights(glob.glob(f\"{savepath}resnet50_row_10E-5_weights-epoch:*-val_Accuracy:{max(history02.history['val_Accuracy']):.4f}.h5\")[0])\n",
    "model02.save(f\"{savepath}/Resnet_60_0.001.h5\")"
   ]
  },
  {
   "cell_type": "code",
   "execution_count": 22,
   "id": "31fe2638-4068-46db-bdf8-481d06c3a444",
   "metadata": {},
   "outputs": [
    {
     "name": "stdout",
     "output_type": "stream",
     "text": [
      "              precision    recall  f1-score   support\n",
      "\n",
      "          AD       0.81      0.67      0.74        98\n",
      "          CN       0.80      0.80      0.80       157\n",
      "         MCI       0.80      0.85      0.82       239\n",
      "\n",
      "    accuracy                           0.80       494\n",
      "   macro avg       0.80      0.78      0.79       494\n",
      "weighted avg       0.80      0.80      0.80       494\n",
      "\n"
     ]
    },
    {
     "data": {
      "image/png": "[encoded data removed]",
      "text/plain": [
       "<Figure size 432x288 with 2 Axes>"
      ]
     },
     "metadata": {
      "needs_background": "light"
     },
     "output_type": "display_data"
    }
   ],
   "source": [
    "p = model02.predict(testing_image_datagen)\n",
    "predicted_lab = p.argmax(axis=-1)\n",
    "true_lab = testing_image_datagen.classes\n",
    "plot_confusion_matrix(true_lab, predicted_lab, testing_image_datagen.class_indices.keys(),savepath)\n",
    "report = classification_report(true_lab, predicted_lab, target_names=testing_image_datagen.class_indices.keys())\n",
    "print(report)\n",
    "dump_text(report,f'{savepath}classification_report.txt')"
   ]
  },
  {
   "cell_type": "code",
   "execution_count": 23,
   "id": "9f80cf00-f66c-4cbc-9da5-77b3628f03ff",
   "metadata": {
    "tags": []
   },
   "outputs": [],
   "source": [
    "np.save(\"resnet_60_0.001.npy\",p )"
   ]
  },
  {
   "cell_type": "markdown",
   "id": "7f7ea7d9-2e22-402c-8ca4-7e9f815f42ac",
   "metadata": {},
   "source": [
    "Resnet_50 with Epochs 50 and learning rate=0.0001 opt=RMS prop"
   ]
  },
  {
   "cell_type": "code",
   "execution_count": 3,
   "id": "446bb972-80e4-4695-9363-ddad5270cc3e",
   "metadata": {
    "tags": []
   },
   "outputs": [],
   "source": [
    "def resnet50_row(optimizer, loss,metrics,shape):\n",
    "  image_input = tf.keras.applications.ResNet50(include_top=False,weights='imagenet',input_shape=shape)\n",
    "\n",
    "  for layer in image_input.layers:\n",
    "      layer.trainable = True\n",
    "      layer._name = layer._name  + str('_img')\n",
    "\n",
    "  y = Flatten() (image_input.output)\n",
    "  c = Dropout(0.4) (y)\n",
    "  c = Dense(512) (c)\n",
    "  c = Dense(256) (c)\n",
    "  c = Dense(128) (c)\n",
    "  output_layer = Dense(3, activation='softmax')(c)\n",
    "\n",
    "  model = Model(inputs=image_input.input,outputs=output_layer)\n",
    "  model.compile(optimizer=optimizer, loss=loss, metrics=metrics)\n",
    "  return model"
   ]
  },
  {
   "cell_type": "code",
   "execution_count": 4,
   "id": "de6b3fc4-6a3e-479e-9b96-a7e7595201fd",
   "metadata": {
    "tags": []
   },
   "outputs": [],
   "source": [
    "def plot_confusion_matrix(true_lab,predict_lab,classes,path):\n",
    "  matrix_confusion = tf.math.confusion_matrix(labels=true_lab, predictions=predicted_lab, num_classes=len(classes))\n",
    "  ax = plt.subplot()\n",
    "  sns.heatmap(matrix_confusion, square=True, annot=True, cmap='Blues', fmt='d', cbar=True)\n",
    "  ax.set_xlabel('Predicted labels')\n",
    "  ax.set_ylabel('True labels')\n",
    "  ax.set_title('Confusion Matrix')\n",
    "  ax.xaxis.set_ticklabels(classes)\n",
    "  ax.yaxis.set_ticklabels(classes)\n",
    "  plt.savefig(f'{path}confusion_matrix.png')"
   ]
  },
  {
   "cell_type": "code",
   "execution_count": 5,
   "id": "82c07848-a9f6-4c72-83e4-801f540b5a7a",
   "metadata": {
    "tags": []
   },
   "outputs": [],
   "source": [
    "def dump_text(text,path):\n",
    "  text_file = open(path, \"w\")\n",
    "  text_file.write(text)\n",
    "  text_file.close()"
   ]
  },
  {
   "cell_type": "code",
   "execution_count": 6,
   "id": "cda1699e-35d0-4445-8bfa-bf54b2b9a167",
   "metadata": {
    "tags": []
   },
   "outputs": [
    {
     "name": "stderr",
     "output_type": "stream",
     "text": [
      "2024-02-23 15:06:53.780385: I tensorflow/core/platform/cpu_feature_guard.cc:151] This TensorFlow binary is optimized with oneAPI Deep Neural Network Library (oneDNN) to use the following CPU instructions in performance-critical operations:  SSE4.1 SSE4.2 AVX AVX2 AVX512F FMA\n",
      "To enable them in other operations, rebuild TensorFlow with the appropriate compiler flags.\n",
      "2024-02-23 15:06:56.313768: I tensorflow/core/common_runtime/gpu/gpu_device.cc:1525] Created device /job:localhost/replica:0/task:0/device:GPU:0 with 9629 MB memory:  -> device: 0, name: NVIDIA GeForce RTX 2080 Ti, pci bus id: 0000:1b:00.0, compute capability: 7.5\n"
     ]
    }
   ],
   "source": [
    "config = tf.compat.v1.ConfigProto()\n",
    "config.gpu_options.allow_growth = True\n",
    "session = tf.compat.v1.Session(config=config)"
   ]
  },
  {
   "cell_type": "code",
   "execution_count": 7,
   "id": "7e64e8ed-fb9e-4c87-8e81-cf5c5a38739d",
   "metadata": {
    "tags": []
   },
   "outputs": [
    {
     "name": "stdout",
     "output_type": "stream",
     "text": [
      "Found 1901 images belonging to 3 classes.\n",
      "Found 494 images belonging to 3 classes.\n"
     ]
    }
   ],
   "source": [
    "image_Shape=(436,364,3)\n",
    "training_image_datagen = ImageDataGenerator(horizontal_flip=True).flow_from_directory(\n",
    "                                                  directory=f'{root}/training/',\n",
    "                                                  target_size=(image_Shape[0], image_Shape[1]),\n",
    "                                                  class_mode='categorical',\n",
    "                                                  batch_size=4\n",
    "                                                  )\n",
    "\n",
    "testing_image_datagen = ImageDataGenerator().flow_from_directory(\n",
    "                                                  directory = f'{root}/testing/' ,\n",
    "                                                  target_size = (image_Shape[0] ,image_Shape[1]) ,\n",
    "                                                  class_mode = 'categorical' ,\n",
    "                                                  batch_size=1 ,\n",
    "                                                  shuffle = False\n",
    "                                                  )"
   ]
  },
  {
   "cell_type": "code",
   "execution_count": 8,
   "id": "ee089cf5-2d22-4b0e-bf22-4b3e8d913cb4",
   "metadata": {
    "tags": []
   },
   "outputs": [
    {
     "name": "stderr",
     "output_type": "stream",
     "text": [
      "2024-02-23 15:07:34.023462: I tensorflow/core/common_runtime/gpu/gpu_device.cc:1525] Created device /job:localhost/replica:0/task:0/device:GPU:0 with 9629 MB memory:  -> device: 0, name: NVIDIA GeForce RTX 2080 Ti, pci bus id: 0000:1b:00.0, compute capability: 7.5\n"
     ]
    }
   ],
   "source": [
    "EPOCH = 50\n",
    "METRICS = [\n",
    "    tf.keras.metrics.CategoricalAccuracy(name='Accuracy'),\n",
    "    tf.keras.metrics.Precision(name='AD_Precision',class_id=0),\n",
    "    tf.keras.metrics.Precision(name='CN_Precision',class_id=1),\n",
    "    tf.keras.metrics.Precision(name='MCI_Precision',class_id=2),\n",
    "    tf.keras.metrics.Recall(name='AD_Recall',class_id=0),\n",
    "    tf.keras.metrics.Recall(name='CN_Recall',class_id=1),\n",
    "    tf.keras.metrics.Recall(name='MCI_Recall',class_id=2),\n",
    "    ]\n",
    "LOOS = 'categorical_crossentropy'"
   ]
  },
  {
   "cell_type": "code",
   "execution_count": 9,
   "id": "afb386bd-3e76-4725-be4c-857d21086156",
   "metadata": {
    "tags": []
   },
   "outputs": [
    {
     "name": "stdout",
     "output_type": "stream",
     "text": [
      "Epoch 1/50\n"
     ]
    },
    {
     "name": "stderr",
     "output_type": "stream",
     "text": [
      "2024-02-23 15:07:52.632361: I tensorflow/stream_executor/cuda/cuda_dnn.cc:366] Loaded cuDNN version 8201\n"
     ]
    },
    {
     "name": "stdout",
     "output_type": "stream",
     "text": [
      "476/476 [==============================] - 83s 141ms/step - loss: 10.1524 - Accuracy: 0.4829 - AD_Precision: 0.2391 - CN_Precision: 0.3553 - MCI_Precision: 0.5761 - AD_Recall: 0.1325 - CN_Recall: 0.2408 - MCI_Recall: 0.5892 - val_loss: 2.1769 - val_Accuracy: 0.4838 - val_AD_Precision: 0.0000e+00 - val_CN_Precision: 0.0000e+00 - val_MCI_Precision: 0.4838 - val_AD_Recall: 0.0000e+00 - val_CN_Recall: 0.0000e+00 - val_MCI_Recall: 1.0000\n",
      "Epoch 2/50\n",
      "476/476 [==============================] - 69s 144ms/step - loss: 1.0443 - Accuracy: 0.5450 - AD_Precision: 0.3165 - CN_Precision: 0.5068 - MCI_Precision: 0.6058 - AD_Recall: 0.0753 - CN_Recall: 0.2913 - MCI_Recall: 0.6110 - val_loss: 1.7297 - val_Accuracy: 0.5283 - val_AD_Precision: 1.0000 - val_CN_Precision: 0.8696 - val_MCI_Precision: 0.5075 - val_AD_Recall: 0.0204 - val_CN_Recall: 0.1274 - val_MCI_Recall: 0.9874\n",
      "Epoch 3/50\n",
      "476/476 [==============================] - 69s 145ms/step - loss: 0.8690 - Accuracy: 0.6281 - AD_Precision: 0.5393 - CN_Precision: 0.6256 - MCI_Precision: 0.6744 - AD_Recall: 0.2892 - CN_Recall: 0.4932 - MCI_Recall: 0.7154 - val_loss: 1.6647 - val_Accuracy: 0.5972 - val_AD_Precision: 1.0000 - val_CN_Precision: 0.6975 - val_MCI_Precision: 0.5722 - val_AD_Recall: 0.0204 - val_CN_Recall: 0.5287 - val_MCI_Recall: 0.8787\n",
      "Epoch 4/50\n",
      "476/476 [==============================] - 69s 144ms/step - loss: 0.6887 - Accuracy: 0.7333 - AD_Precision: 0.6374 - CN_Precision: 0.7709 - MCI_Precision: 0.7534 - AD_Recall: 0.5030 - CN_Recall: 0.6796 - MCI_Recall: 0.7941 - val_loss: 2.5787 - val_Accuracy: 0.6457 - val_AD_Precision: 1.0000 - val_CN_Precision: 0.9351 - val_MCI_Precision: 0.5827 - val_AD_Recall: 0.1122 - val_CN_Recall: 0.4586 - val_MCI_Recall: 0.9874\n",
      "Epoch 5/50\n",
      "476/476 [==============================] - 67s 140ms/step - loss: 0.5531 - Accuracy: 0.8064 - AD_Precision: 0.7350 - CN_Precision: 0.8378 - MCI_Precision: 0.8151 - AD_Recall: 0.6265 - CN_Recall: 0.7825 - MCI_Recall: 0.8491 - val_loss: 4.8011 - val_Accuracy: 0.5951 - val_AD_Precision: 1.0000 - val_CN_Precision: 0.9286 - val_MCI_Precision: 0.5473 - val_AD_Recall: 0.0510 - val_CN_Recall: 0.3312 - val_MCI_Recall: 0.9916\n",
      "Epoch 6/50\n",
      "476/476 [==============================] - 66s 140ms/step - loss: 0.4316 - Accuracy: 0.8580 - AD_Precision: 0.8092 - CN_Precision: 0.8773 - MCI_Precision: 0.8689 - AD_Recall: 0.7410 - CN_Recall: 0.8466 - MCI_Recall: 0.8928 - val_loss: 15.8842 - val_Accuracy: 0.5466 - val_AD_Precision: 1.0000 - val_CN_Precision: 0.9000 - val_MCI_Precision: 0.5185 - val_AD_Recall: 0.0510 - val_CN_Recall: 0.1720 - val_MCI_Recall: 0.9958\n",
      "Epoch 7/50\n",
      "476/476 [==============================] - 69s 145ms/step - loss: 0.3989 - Accuracy: 0.8811 - AD_Precision: 0.8208 - CN_Precision: 0.9104 - MCI_Precision: 0.8899 - AD_Recall: 0.7590 - CN_Recall: 0.8874 - MCI_Recall: 0.9127 - val_loss: 2.2244 - val_Accuracy: 0.6498 - val_AD_Precision: 0.7736 - val_CN_Precision: 0.9138 - val_MCI_Precision: 0.5958 - val_AD_Recall: 0.4184 - val_CN_Recall: 0.3376 - val_MCI_Recall: 0.9498\n",
      "Epoch 8/50\n",
      "476/476 [==============================] - 69s 144ms/step - loss: 0.3028 - Accuracy: 0.8969 - AD_Precision: 0.8476 - CN_Precision: 0.9039 - MCI_Precision: 0.9101 - AD_Recall: 0.8373 - CN_Recall: 0.8951 - MCI_Recall: 0.9127 - val_loss: 1.4021 - val_Accuracy: 0.7955 - val_AD_Precision: 0.9268 - val_CN_Precision: 0.8070 - val_MCI_Precision: 0.7687 - val_AD_Recall: 0.3878 - val_CN_Recall: 0.8790 - val_MCI_Recall: 0.9038\n",
      "Epoch 9/50\n",
      "476/476 [==============================] - 67s 140ms/step - loss: 0.2596 - Accuracy: 0.9248 - AD_Precision: 0.9000 - CN_Precision: 0.9331 - MCI_Precision: 0.9324 - AD_Recall: 0.8675 - CN_Recall: 0.9204 - MCI_Recall: 0.9421 - val_loss: 16.8231 - val_Accuracy: 0.5830 - val_AD_Precision: 0.0000e+00 - val_CN_Precision: 0.9615 - val_MCI_Precision: 0.5385 - val_AD_Recall: 0.0000e+00 - val_CN_Recall: 0.3185 - val_MCI_Recall: 0.9958\n",
      "Epoch 10/50\n",
      "476/476 [==============================] - 66s 139ms/step - loss: 0.2363 - Accuracy: 0.9290 - AD_Precision: 0.9083 - CN_Precision: 0.9293 - MCI_Precision: 0.9369 - AD_Recall: 0.8946 - CN_Recall: 0.9184 - MCI_Recall: 0.9431 - val_loss: 30.3624 - val_Accuracy: 0.5324 - val_AD_Precision: 1.0000 - val_CN_Precision: 1.0000 - val_MCI_Precision: 0.5085 - val_AD_Recall: 0.0306 - val_CN_Recall: 0.1338 - val_MCI_Recall: 1.0000\n",
      "Epoch 11/50\n",
      "476/476 [==============================] - 66s 139ms/step - loss: 0.2398 - Accuracy: 0.9306 - AD_Precision: 0.9169 - CN_Precision: 0.9275 - MCI_Precision: 0.9376 - AD_Recall: 0.8976 - CN_Recall: 0.9184 - MCI_Recall: 0.9412 - val_loss: 22.7858 - val_Accuracy: 0.6457 - val_AD_Precision: 0.9545 - val_CN_Precision: 1.0000 - val_MCI_Precision: 0.5787 - val_AD_Recall: 0.2143 - val_CN_Recall: 0.3758 - val_MCI_Recall: 1.0000\n",
      "Epoch 12/50\n",
      "476/476 [==============================] - 69s 144ms/step - loss: 0.2022 - Accuracy: 0.9416 - AD_Precision: 0.9055 - CN_Precision: 0.9566 - MCI_Precision: 0.9491 - AD_Recall: 0.8946 - CN_Recall: 0.9417 - MCI_Recall: 0.9554 - val_loss: 11.3767 - val_Accuracy: 0.8057 - val_AD_Precision: 0.9273 - val_CN_Precision: 0.9219 - val_MCI_Precision: 0.7363 - val_AD_Recall: 0.5204 - val_CN_Recall: 0.7516 - val_MCI_Recall: 0.9582\n",
      "Epoch 13/50\n",
      "476/476 [==============================] - 66s 139ms/step - loss: 0.2252 - Accuracy: 0.9411 - AD_Precision: 0.9130 - CN_Precision: 0.9512 - MCI_Precision: 0.9482 - AD_Recall: 0.8855 - CN_Recall: 0.9456 - MCI_Recall: 0.9554 - val_loss: 2.1265 - val_Accuracy: 0.7692 - val_AD_Precision: 0.9130 - val_CN_Precision: 0.8138 - val_MCI_Precision: 0.7261 - val_AD_Recall: 0.4286 - val_CN_Recall: 0.7516 - val_MCI_Recall: 0.9205\n",
      "Epoch 14/50\n",
      "476/476 [==============================] - 66s 140ms/step - loss: 0.1971 - Accuracy: 0.9437 - AD_Precision: 0.9266 - CN_Precision: 0.9523 - MCI_Precision: 0.9457 - AD_Recall: 0.9127 - CN_Recall: 0.9301 - MCI_Recall: 0.9592 - val_loss: 9.3490 - val_Accuracy: 0.7045 - val_AD_Precision: 1.0000 - val_CN_Precision: 0.9346 - val_MCI_Precision: 0.6273 - val_AD_Recall: 0.1429 - val_CN_Recall: 0.6369 - val_MCI_Recall: 0.9791\n",
      "Epoch 15/50\n",
      "476/476 [==============================] - 67s 140ms/step - loss: 0.1496 - Accuracy: 0.9611 - AD_Precision: 0.9503 - CN_Precision: 0.9648 - MCI_Precision: 0.9669 - AD_Recall: 0.9217 - CN_Recall: 0.9592 - MCI_Recall: 0.9715 - val_loss: 1.7740 - val_Accuracy: 0.7976 - val_AD_Precision: 0.7234 - val_CN_Precision: 0.9333 - val_MCI_Precision: 0.7634 - val_AD_Recall: 0.6939 - val_CN_Recall: 0.7134 - val_MCI_Recall: 0.8912\n",
      "Epoch 16/50\n",
      "476/476 [==============================] - 66s 139ms/step - loss: 0.1798 - Accuracy: 0.9590 - AD_Precision: 0.9414 - CN_Precision: 0.9686 - MCI_Precision: 0.9595 - AD_Recall: 0.9187 - CN_Recall: 0.9592 - MCI_Recall: 0.9677 - val_loss: 2.3285 - val_Accuracy: 0.7935 - val_AD_Precision: 0.8704 - val_CN_Precision: 0.8435 - val_MCI_Precision: 0.7552 - val_AD_Recall: 0.4796 - val_CN_Recall: 0.7898 - val_MCI_Recall: 0.9163\n",
      "Epoch 17/50\n",
      "476/476 [==============================] - 66s 140ms/step - loss: 0.1236 - Accuracy: 0.9648 - AD_Precision: 0.9692 - CN_Precision: 0.9588 - MCI_Precision: 0.9670 - AD_Recall: 0.9488 - CN_Recall: 0.9495 - MCI_Recall: 0.9734 - val_loss: 1.9089 - val_Accuracy: 0.8057 - val_AD_Precision: 0.8525 - val_CN_Precision: 0.9051 - val_MCI_Precision: 0.7551 - val_AD_Recall: 0.5306 - val_CN_Recall: 0.7898 - val_MCI_Recall: 0.9289\n",
      "Epoch 18/50\n",
      "476/476 [==============================] - 66s 139ms/step - loss: 0.1553 - Accuracy: 0.9574 - AD_Precision: 0.9422 - CN_Precision: 0.9533 - MCI_Precision: 0.9640 - AD_Recall: 0.9337 - CN_Recall: 0.9515 - MCI_Recall: 0.9668 - val_loss: 6.6151 - val_Accuracy: 0.7854 - val_AD_Precision: 1.0000 - val_CN_Precision: 0.9040 - val_MCI_Precision: 0.7134 - val_AD_Recall: 0.4184 - val_CN_Recall: 0.7197 - val_MCI_Recall: 0.9791\n",
      "Epoch 19/50\n",
      "476/476 [==============================] - 66s 140ms/step - loss: 0.1243 - Accuracy: 0.9690 - AD_Precision: 0.9569 - CN_Precision: 0.9728 - MCI_Precision: 0.9716 - AD_Recall: 0.9367 - CN_Recall: 0.9709 - MCI_Recall: 0.9744 - val_loss: 12.1167 - val_Accuracy: 0.7065 - val_AD_Precision: 1.0000 - val_CN_Precision: 0.9018 - val_MCI_Precision: 0.6398 - val_AD_Recall: 0.1020 - val_CN_Recall: 0.6433 - val_MCI_Recall: 0.9958\n",
      "Epoch 20/50\n",
      "476/476 [==============================] - 66s 139ms/step - loss: 0.1317 - Accuracy: 0.9674 - AD_Precision: 0.9483 - CN_Precision: 0.9707 - MCI_Precision: 0.9716 - AD_Recall: 0.9398 - CN_Recall: 0.9650 - MCI_Recall: 0.9744 - val_loss: 4.2691 - val_Accuracy: 0.8036 - val_AD_Precision: 0.8966 - val_CN_Precision: 0.8699 - val_MCI_Precision: 0.7543 - val_AD_Recall: 0.5306 - val_CN_Recall: 0.8089 - val_MCI_Recall: 0.9121\n",
      "Epoch 21/50\n",
      "476/476 [==============================] - 67s 140ms/step - loss: 0.1191 - Accuracy: 0.9748 - AD_Precision: 0.9758 - CN_Precision: 0.9725 - MCI_Precision: 0.9755 - AD_Recall: 0.9699 - CN_Recall: 0.9631 - MCI_Recall: 0.9820 - val_loss: 2.3672 - val_Accuracy: 0.7996 - val_AD_Precision: 0.9273 - val_CN_Precision: 0.7882 - val_MCI_Precision: 0.7807 - val_AD_Recall: 0.5204 - val_CN_Recall: 0.8535 - val_MCI_Recall: 0.8787\n",
      "Epoch 22/50\n",
      "476/476 [==============================] - 66s 140ms/step - loss: 0.0993 - Accuracy: 0.9758 - AD_Precision: 0.9727 - CN_Precision: 0.9690 - MCI_Precision: 0.9810 - AD_Recall: 0.9669 - CN_Recall: 0.9709 - MCI_Recall: 0.9801 - val_loss: 7.6965 - val_Accuracy: 0.7773 - val_AD_Precision: 0.8571 - val_CN_Precision: 0.8926 - val_MCI_Precision: 0.7161 - val_AD_Recall: 0.5510 - val_CN_Recall: 0.6879 - val_MCI_Recall: 0.9289\n",
      "Epoch 23/50\n",
      "476/476 [==============================] - 69s 144ms/step - loss: 0.0878 - Accuracy: 0.9763 - AD_Precision: 0.9726 - CN_Precision: 0.9842 - MCI_Precision: 0.9756 - AD_Recall: 0.9639 - CN_Recall: 0.9650 - MCI_Recall: 0.9848 - val_loss: 4.3399 - val_Accuracy: 0.8239 - val_AD_Precision: 0.9206 - val_CN_Precision: 0.9297 - val_MCI_Precision: 0.7591 - val_AD_Recall: 0.5918 - val_CN_Recall: 0.7580 - val_MCI_Recall: 0.9623\n",
      "Epoch 24/50\n",
      "476/476 [==============================] - 66s 140ms/step - loss: 0.1531 - Accuracy: 0.9648 - AD_Precision: 0.9458 - CN_Precision: 0.9725 - MCI_Precision: 0.9669 - AD_Recall: 0.9458 - CN_Recall: 0.9631 - MCI_Recall: 0.9706 - val_loss: 5.6663 - val_Accuracy: 0.7955 - val_AD_Precision: 0.9623 - val_CN_Precision: 0.9237 - val_MCI_Precision: 0.7214 - val_AD_Recall: 0.5204 - val_CN_Recall: 0.6943 - val_MCI_Recall: 0.9749\n",
      "Epoch 25/50\n",
      "476/476 [==============================] - 67s 140ms/step - loss: 0.0992 - Accuracy: 0.9711 - AD_Precision: 0.9608 - CN_Precision: 0.9706 - MCI_Precision: 0.9754 - AD_Recall: 0.9608 - CN_Recall: 0.9631 - MCI_Recall: 0.9772 - val_loss: 4.8847 - val_Accuracy: 0.7895 - val_AD_Precision: 0.7750 - val_CN_Precision: 0.7965 - val_MCI_Precision: 0.7893 - val_AD_Recall: 0.6327 - val_CN_Recall: 0.8726 - val_MCI_Recall: 0.7992\n",
      "Epoch 26/50\n",
      "476/476 [==============================] - 69s 144ms/step - loss: 0.1140 - Accuracy: 0.9774 - AD_Precision: 0.9605 - CN_Precision: 0.9902 - MCI_Precision: 0.9774 - AD_Recall: 0.9518 - CN_Recall: 0.9806 - MCI_Recall: 0.9839 - val_loss: 1.7646 - val_Accuracy: 0.8259 - val_AD_Precision: 0.8824 - val_CN_Precision: 0.8354 - val_MCI_Precision: 0.8046 - val_AD_Recall: 0.6122 - val_CN_Recall: 0.8726 - val_MCI_Recall: 0.8787\n",
      "Epoch 27/50\n",
      "476/476 [==============================] - 66s 140ms/step - loss: 0.1165 - Accuracy: 0.9753 - AD_Precision: 0.9816 - CN_Precision: 0.9727 - MCI_Precision: 0.9755 - AD_Recall: 0.9639 - CN_Recall: 0.9670 - MCI_Recall: 0.9820 - val_loss: 1.6526 - val_Accuracy: 0.8198 - val_AD_Precision: 0.9091 - val_CN_Precision: 0.8832 - val_MCI_Precision: 0.7698 - val_AD_Recall: 0.6122 - val_CN_Recall: 0.7707 - val_MCI_Recall: 0.9372\n",
      "Epoch 28/50\n",
      "476/476 [==============================] - 69s 146ms/step - loss: 0.0951 - Accuracy: 0.9779 - AD_Precision: 0.9701 - CN_Precision: 0.9764 - MCI_Precision: 0.9810 - AD_Recall: 0.9789 - CN_Recall: 0.9650 - MCI_Recall: 0.9820 - val_loss: 4.3368 - val_Accuracy: 0.8300 - val_AD_Precision: 0.8148 - val_CN_Precision: 0.8471 - val_MCI_Precision: 0.8242 - val_AD_Recall: 0.6735 - val_CN_Recall: 0.8471 - val_MCI_Recall: 0.8828\n",
      "Epoch 29/50\n",
      "476/476 [==============================] - 67s 140ms/step - loss: 0.1070 - Accuracy: 0.9737 - AD_Precision: 0.9573 - CN_Precision: 0.9825 - MCI_Precision: 0.9745 - AD_Recall: 0.9458 - CN_Recall: 0.9786 - MCI_Recall: 0.9791 - val_loss: 11.3792 - val_Accuracy: 0.8259 - val_AD_Precision: 0.9773 - val_CN_Precision: 0.8896 - val_MCI_Precision: 0.7703 - val_AD_Recall: 0.4388 - val_CN_Recall: 0.8726 - val_MCI_Recall: 0.9540\n",
      "Epoch 30/50\n",
      "476/476 [==============================] - 67s 140ms/step - loss: 0.1048 - Accuracy: 0.9779 - AD_Precision: 0.9727 - CN_Precision: 0.9823 - MCI_Precision: 0.9802 - AD_Recall: 0.9669 - CN_Recall: 0.9689 - MCI_Recall: 0.9848 - val_loss: 3.3842 - val_Accuracy: 0.8178 - val_AD_Precision: 0.9123 - val_CN_Precision: 0.8618 - val_MCI_Precision: 0.7746 - val_AD_Recall: 0.5306 - val_CN_Recall: 0.8344 - val_MCI_Recall: 0.9205\n",
      "Epoch 31/50\n",
      "476/476 [==============================] - 66s 140ms/step - loss: 0.0854 - Accuracy: 0.9800 - AD_Precision: 0.9700 - CN_Precision: 0.9843 - MCI_Precision: 0.9811 - AD_Recall: 0.9729 - CN_Recall: 0.9728 - MCI_Recall: 0.9858 - val_loss: 3.1248 - val_Accuracy: 0.7935 - val_AD_Precision: 0.8514 - val_CN_Precision: 0.7246 - val_MCI_Precision: 0.8524 - val_AD_Recall: 0.6429 - val_CN_Recall: 0.9554 - val_MCI_Recall: 0.7490\n",
      "Epoch 32/50\n",
      "476/476 [==============================] - 66s 139ms/step - loss: 0.0945 - Accuracy: 0.9769 - AD_Precision: 0.9699 - CN_Precision: 0.9767 - MCI_Precision: 0.9800 - AD_Recall: 0.9699 - CN_Recall: 0.9767 - MCI_Recall: 0.9763 - val_loss: 2.4102 - val_Accuracy: 0.8239 - val_AD_Precision: 0.9355 - val_CN_Precision: 0.9167 - val_MCI_Precision: 0.7600 - val_AD_Recall: 0.5918 - val_CN_Recall: 0.7707 - val_MCI_Recall: 0.9540\n",
      "Epoch 33/50\n",
      "476/476 [==============================] - 66s 139ms/step - loss: 0.0840 - Accuracy: 0.9832 - AD_Precision: 0.9759 - CN_Precision: 0.9901 - MCI_Precision: 0.9831 - AD_Recall: 0.9759 - CN_Recall: 0.9689 - MCI_Recall: 0.9924 - val_loss: 3.3094 - val_Accuracy: 0.8259 - val_AD_Precision: 0.9138 - val_CN_Precision: 0.8636 - val_MCI_Precision: 0.7872 - val_AD_Recall: 0.5408 - val_CN_Recall: 0.8471 - val_MCI_Recall: 0.9289\n",
      "Epoch 34/50\n",
      "476/476 [==============================] - 67s 141ms/step - loss: 0.0903 - Accuracy: 0.9790 - AD_Precision: 0.9760 - CN_Precision: 0.9784 - MCI_Precision: 0.9839 - AD_Recall: 0.9819 - CN_Recall: 0.9670 - MCI_Recall: 0.9839 - val_loss: 2.9110 - val_Accuracy: 0.8016 - val_AD_Precision: 0.9057 - val_CN_Precision: 0.7931 - val_MCI_Precision: 0.7895 - val_AD_Recall: 0.4898 - val_CN_Recall: 0.8790 - val_MCI_Recall: 0.8787\n",
      "Epoch 35/50\n",
      "476/476 [==============================] - 67s 140ms/step - loss: 0.1248 - Accuracy: 0.9769 - AD_Precision: 0.9726 - CN_Precision: 0.9785 - MCI_Precision: 0.9792 - AD_Recall: 0.9639 - CN_Recall: 0.9709 - MCI_Recall: 0.9820 - val_loss: 4.5020 - val_Accuracy: 0.8239 - val_AD_Precision: 0.8592 - val_CN_Precision: 0.8936 - val_MCI_Precision: 0.7801 - val_AD_Recall: 0.6224 - val_CN_Recall: 0.8025 - val_MCI_Recall: 0.9205\n",
      "Epoch 36/50\n",
      "476/476 [==============================] - 67s 140ms/step - loss: 0.0728 - Accuracy: 0.9879 - AD_Precision: 0.9820 - CN_Precision: 0.9921 - MCI_Precision: 0.9877 - AD_Recall: 0.9849 - CN_Recall: 0.9786 - MCI_Recall: 0.9934 - val_loss: 6.0962 - val_Accuracy: 0.7085 - val_AD_Precision: 0.9318 - val_CN_Precision: 0.8586 - val_MCI_Precision: 0.6400 - val_AD_Recall: 0.4184 - val_CN_Recall: 0.5414 - val_MCI_Recall: 0.9372\n",
      "Epoch 37/50\n",
      "476/476 [==============================] - 67s 140ms/step - loss: 0.0832 - Accuracy: 0.9842 - AD_Precision: 0.9787 - CN_Precision: 0.9883 - MCI_Precision: 0.9849 - AD_Recall: 0.9699 - CN_Recall: 0.9864 - MCI_Recall: 0.9877 - val_loss: 6.4330 - val_Accuracy: 0.8057 - val_AD_Precision: 0.9455 - val_CN_Precision: 0.9077 - val_MCI_Precision: 0.7379 - val_AD_Recall: 0.5306 - val_CN_Recall: 0.7516 - val_MCI_Recall: 0.9540\n",
      "Epoch 38/50\n",
      "476/476 [==============================] - 67s 140ms/step - loss: 0.1139 - Accuracy: 0.9790 - AD_Precision: 0.9726 - CN_Precision: 0.9786 - MCI_Precision: 0.9820 - AD_Recall: 0.9639 - CN_Recall: 0.9748 - MCI_Recall: 0.9848 - val_loss: 6.8525 - val_Accuracy: 0.7834 - val_AD_Precision: 1.0000 - val_CN_Precision: 0.8952 - val_MCI_Precision: 0.7125 - val_AD_Recall: 0.4388 - val_CN_Recall: 0.7070 - val_MCI_Recall: 0.9749\n",
      "Epoch 39/50\n",
      "476/476 [==============================] - 67s 140ms/step - loss: 0.0927 - Accuracy: 0.9769 - AD_Precision: 0.9640 - CN_Precision: 0.9747 - MCI_Precision: 0.9820 - AD_Recall: 0.9669 - CN_Recall: 0.9728 - MCI_Recall: 0.9820 - val_loss: 9.0725 - val_Accuracy: 0.7105 - val_AD_Precision: 0.9600 - val_CN_Precision: 0.9420 - val_MCI_Precision: 0.6347 - val_AD_Recall: 0.4898 - val_CN_Recall: 0.4140 - val_MCI_Recall: 0.9958\n",
      "Epoch 40/50\n",
      "476/476 [==============================] - 69s 144ms/step - loss: 0.1077 - Accuracy: 0.9816 - AD_Precision: 0.9730 - CN_Precision: 0.9863 - MCI_Precision: 0.9820 - AD_Recall: 0.9759 - CN_Recall: 0.9767 - MCI_Recall: 0.9839 - val_loss: 2.9002 - val_Accuracy: 0.8381 - val_AD_Precision: 0.8533 - val_CN_Precision: 0.9535 - val_MCI_Precision: 0.7828 - val_AD_Recall: 0.6531 - val_CN_Recall: 0.7834 - val_MCI_Recall: 0.9498\n",
      "Epoch 41/50\n",
      "476/476 [==============================] - 68s 143ms/step - loss: 0.0532 - Accuracy: 0.9853 - AD_Precision: 0.9819 - CN_Precision: 0.9902 - MCI_Precision: 0.9849 - AD_Recall: 0.9819 - CN_Recall: 0.9786 - MCI_Recall: 0.9886 - val_loss: 2.0256 - val_Accuracy: 0.8279 - val_AD_Precision: 0.9365 - val_CN_Precision: 0.7989 - val_MCI_Precision: 0.8210 - val_AD_Recall: 0.6020 - val_CN_Recall: 0.8854 - val_MCI_Recall: 0.8828\n",
      "Epoch 42/50\n",
      "476/476 [==============================] - 67s 140ms/step - loss: 0.0974 - Accuracy: 0.9790 - AD_Precision: 0.9819 - CN_Precision: 0.9727 - MCI_Precision: 0.9810 - AD_Recall: 0.9789 - CN_Recall: 0.9689 - MCI_Recall: 0.9820 - val_loss: 5.6850 - val_Accuracy: 0.7895 - val_AD_Precision: 0.9535 - val_CN_Precision: 0.9015 - val_MCI_Precision: 0.7233 - val_AD_Recall: 0.4184 - val_CN_Recall: 0.7580 - val_MCI_Recall: 0.9623\n",
      "Epoch 43/50\n",
      "476/476 [==============================] - 69s 145ms/step - loss: 0.0716 - Accuracy: 0.9874 - AD_Precision: 0.9818 - CN_Precision: 0.9941 - MCI_Precision: 0.9858 - AD_Recall: 0.9729 - CN_Recall: 0.9883 - MCI_Recall: 0.9905 - val_loss: 18.2353 - val_Accuracy: 0.8401 - val_AD_Precision: 0.8519 - val_CN_Precision: 0.8904 - val_MCI_Precision: 0.8120 - val_AD_Recall: 0.7041 - val_CN_Recall: 0.8280 - val_MCI_Recall: 0.9038\n",
      "Epoch 44/50\n",
      "476/476 [==============================] - 66s 139ms/step - loss: 0.0738 - Accuracy: 0.9879 - AD_Precision: 0.9790 - CN_Precision: 0.9902 - MCI_Precision: 0.9896 - AD_Recall: 0.9849 - CN_Recall: 0.9786 - MCI_Recall: 0.9924 - val_loss: 20.2629 - val_Accuracy: 0.8198 - val_AD_Precision: 0.6371 - val_CN_Precision: 0.9247 - val_MCI_Precision: 0.8527 - val_AD_Recall: 0.8061 - val_CN_Recall: 0.8599 - val_MCI_Recall: 0.7992\n",
      "Epoch 45/50\n",
      "476/476 [==============================] - 67s 140ms/step - loss: 0.0557 - Accuracy: 0.9900 - AD_Precision: 0.9940 - CN_Precision: 0.9902 - MCI_Precision: 0.9886 - AD_Recall: 0.9940 - CN_Recall: 0.9806 - MCI_Recall: 0.9915 - val_loss: 15.0196 - val_Accuracy: 0.8138 - val_AD_Precision: 0.8481 - val_CN_Precision: 0.9407 - val_MCI_Precision: 0.7542 - val_AD_Recall: 0.6837 - val_CN_Recall: 0.7070 - val_MCI_Recall: 0.9372\n",
      "Epoch 46/50\n",
      "476/476 [==============================] - 67s 140ms/step - loss: 0.0836 - Accuracy: 0.9842 - AD_Precision: 0.9849 - CN_Precision: 0.9863 - MCI_Precision: 0.9867 - AD_Recall: 0.9819 - CN_Recall: 0.9767 - MCI_Recall: 0.9877 - val_loss: 6.7782 - val_Accuracy: 0.8259 - val_AD_Precision: 0.8714 - val_CN_Precision: 0.7978 - val_MCI_Precision: 0.8333 - val_AD_Recall: 0.6224 - val_CN_Recall: 0.9045 - val_MCI_Recall: 0.8577\n",
      "Epoch 47/50\n",
      "476/476 [==============================] - 67s 140ms/step - loss: 0.0883 - Accuracy: 0.9884 - AD_Precision: 0.9820 - CN_Precision: 0.9883 - MCI_Precision: 0.9905 - AD_Recall: 0.9849 - CN_Recall: 0.9825 - MCI_Recall: 0.9924 - val_loss: 10.2160 - val_Accuracy: 0.7733 - val_AD_Precision: 0.9808 - val_CN_Precision: 0.9792 - val_MCI_Precision: 0.6850 - val_AD_Recall: 0.5204 - val_CN_Recall: 0.5987 - val_MCI_Recall: 0.9916\n",
      "Epoch 48/50\n",
      "476/476 [==============================] - 68s 142ms/step - loss: 0.0499 - Accuracy: 0.9890 - AD_Precision: 0.9821 - CN_Precision: 0.9882 - MCI_Precision: 0.9915 - AD_Recall: 0.9910 - CN_Recall: 0.9786 - MCI_Recall: 0.9924 - val_loss: 13.2689 - val_Accuracy: 0.8300 - val_AD_Precision: 0.7927 - val_CN_Precision: 0.8926 - val_MCI_Precision: 0.8061 - val_AD_Recall: 0.6633 - val_CN_Recall: 0.8471 - val_MCI_Recall: 0.8870\n",
      "Epoch 49/50\n",
      "476/476 [==============================] - 67s 140ms/step - loss: 0.0845 - Accuracy: 0.9847 - AD_Precision: 0.9788 - CN_Precision: 0.9902 - MCI_Precision: 0.9858 - AD_Recall: 0.9729 - CN_Recall: 0.9806 - MCI_Recall: 0.9896 - val_loss: 12.5792 - val_Accuracy: 0.8057 - val_AD_Precision: 0.8727 - val_CN_Precision: 0.9111 - val_MCI_Precision: 0.7467 - val_AD_Recall: 0.4898 - val_CN_Recall: 0.7834 - val_MCI_Recall: 0.9498\n",
      "Epoch 50/50\n",
      "476/476 [==============================] - 67s 140ms/step - loss: 0.0736 - Accuracy: 0.9858 - AD_Precision: 0.9849 - CN_Precision: 0.9844 - MCI_Precision: 0.9895 - AD_Recall: 0.9849 - CN_Recall: 0.9786 - MCI_Recall: 0.9877 - val_loss: 7.8172 - val_Accuracy: 0.8401 - val_AD_Precision: 0.9643 - val_CN_Precision: 0.9220 - val_MCI_Precision: 0.7778 - val_AD_Recall: 0.5510 - val_CN_Recall: 0.8280 - val_MCI_Recall: 0.9665\n"
     ]
    },
    {
     "name": "stderr",
     "output_type": "stream",
     "text": [
      "/apps/tensorflow/2.7.0/lib/python3.9/site-packages/keras/engine/functional.py:1410: CustomMaskWarning: Custom mask layers require a config and must override get_config. When loading, the custom mask layer must be passed to the custom_objects argument.\n",
      "  layer_config = serialize_layer_fn(layer)\n"
     ]
    }
   ],
   "source": [
    "# learning_rate=10E-5\n",
    "savepath = 'models'\n",
    "lr=0.0001\n",
    "if not os.path.isdir(savepath):\n",
    "      os.makedirs(savepath)\n",
    "csvloger_callback = tf.keras.callbacks.CSVLogger(f'{savepath}history.csv', separator=',', append=False)\n",
    "\n",
    "modelcheckpoint_callback = tf.keras.callbacks.ModelCheckpoint(savepath+'resnet50_row_10E-5_weights-epoch:{epoch:03d}-val_Accuracy:{val_Accuracy:.4f}.h5',monitor='val_Accuracy'\n",
    "    ,verbose=0,save_best_only=True,save_weights_only=True,mode='max',save_freq='epoch' , initial_value_threshold=0.85)\n",
    "\n",
    "OPT = tf.keras.optimizers.RMSprop(learning_rate=lr)\n",
    "model02 = resnet50_row(OPT, LOOS,METRICS,image_Shape)\n",
    "history02 = model02.fit(training_image_datagen, epochs=EPOCH, validation_data=testing_image_datagen,callbacks=[csvloger_callback,modelcheckpoint_callback])\n",
    "model02 = resnet50_row(OPT, LOOS,METRICS,image_Shape)\n",
    "model02.load_weights(glob.glob(f\"{savepath}resnet50_row_10E-5_weights-epoch:*-val_Accuracy:{max(history02.history['val_Accuracy']):.4f}.h5\")[0])\n",
    "model02.save(f\"{savepath}/Resnet_60_0.001.h5\")"
   ]
  },
  {
   "cell_type": "code",
   "execution_count": 10,
   "id": "3d66029c-0694-4975-b2e4-af531ed5339b",
   "metadata": {
    "tags": []
   },
   "outputs": [
    {
     "name": "stdout",
     "output_type": "stream",
     "text": [
      "              precision    recall  f1-score   support\n",
      "\n",
      "          AD       0.85      0.70      0.77        98\n",
      "          CN       0.88      0.83      0.86       157\n",
      "         MCI       0.81      0.90      0.86       239\n",
      "\n",
      "    accuracy                           0.84       494\n",
      "   macro avg       0.85      0.81      0.83       494\n",
      "weighted avg       0.84      0.84      0.84       494\n",
      "\n"
     ]
    },
    {
     "data": {
      "image/png": "[encoded data removed]",
      "text/plain": [
       "<Figure size 432x288 with 2 Axes>"
      ]
     },
     "metadata": {
      "needs_background": "light"
     },
     "output_type": "display_data"
    }
   ],
   "source": [
    "p = model02.predict(testing_image_datagen)\n",
    "predicted_lab = p.argmax(axis=-1)\n",
    "true_lab = testing_image_datagen.classes\n",
    "plot_confusion_matrix(true_lab, predicted_lab, testing_image_datagen.class_indices.keys(),savepath)\n",
    "report = classification_report(true_lab, predicted_lab, target_names=testing_image_datagen.class_indices.keys())\n",
    "print(report)\n",
    "dump_text(report,f'{savepath}classification_report.txt')"
   ]
  },
  {
   "cell_type": "code",
   "execution_count": 11,
   "id": "bdee2a76-9410-4535-b9b2-c83027050a99",
   "metadata": {
    "tags": []
   },
   "outputs": [],
   "source": [
    "np.save(\"resnet_60_0.0001.npy\",p )"
   ]
  },
  {
   "cell_type": "markdown",
   "id": "7e2f0e08-b881-4b41-9d29-e139df876f03",
   "metadata": {},
   "source": [
    "Resnet 50 with epochs=50, learning rate=0.00001 opt=RMS PROP"
   ]
  },
  {
   "cell_type": "code",
   "execution_count": 3,
   "id": "7330e6b3-8652-4196-af4c-554ab7dd66b0",
   "metadata": {
    "tags": []
   },
   "outputs": [],
   "source": [
    "def resnet50_row(optimizer, loss,metrics,shape):\n",
    "  image_input = tf.keras.applications.ResNet50(include_top=False,weights='imagenet',input_shape=shape)\n",
    "\n",
    "  for layer in image_input.layers:\n",
    "      layer.trainable = True\n",
    "      layer._name = layer._name  + str('_img')\n",
    "\n",
    "  y = Flatten() (image_input.output)\n",
    "  c = Dropout(0.4) (y)\n",
    "  c = Dense(512) (c)\n",
    "  c = Dense(256) (c)\n",
    "  c = Dense(128) (c)\n",
    "  output_layer = Dense(3, activation='softmax')(c)\n",
    "\n",
    "  model = Model(inputs=image_input.input,outputs=output_layer)\n",
    "  model.compile(optimizer=optimizer, loss=loss, metrics=metrics)\n",
    "  return model"
   ]
  },
  {
   "cell_type": "code",
   "execution_count": 4,
   "id": "7a1f2c7d-df0d-4202-8761-f3987c5cbf8e",
   "metadata": {
    "tags": []
   },
   "outputs": [],
   "source": [
    "def plot_confusion_matrix(true_lab,predict_lab,classes,path):\n",
    "  matrix_confusion = tf.math.confusion_matrix(labels=true_lab, predictions=predicted_lab, num_classes=len(classes))\n",
    "  ax = plt.subplot()\n",
    "  sns.heatmap(matrix_confusion, square=True, annot=True, cmap='Blues', fmt='d', cbar=True)\n",
    "  ax.set_xlabel('Predicted labels')\n",
    "  ax.set_ylabel('True labels')\n",
    "  ax.set_title('Confusion Matrix')\n",
    "  ax.xaxis.set_ticklabels(classes)\n",
    "  ax.yaxis.set_ticklabels(classes)\n",
    "  plt.savefig(f'{path}confusion_matrix.png')"
   ]
  },
  {
   "cell_type": "code",
   "execution_count": 5,
   "id": "778c0352-4f71-4718-a082-e08acbfcb7ff",
   "metadata": {
    "tags": []
   },
   "outputs": [],
   "source": [
    "def dump_text(text,path):\n",
    "  text_file = open(path, \"w\")\n",
    "  text_file.write(text)\n",
    "  text_file.close()\n",
    "     "
   ]
  },
  {
   "cell_type": "code",
   "execution_count": 6,
   "id": "9e2e08ce-3c4a-4059-a74a-8e8d9e95d585",
   "metadata": {
    "tags": []
   },
   "outputs": [
    {
     "name": "stderr",
     "output_type": "stream",
     "text": [
      "2024-02-23 18:11:59.052791: I tensorflow/core/platform/cpu_feature_guard.cc:151] This TensorFlow binary is optimized with oneAPI Deep Neural Network Library (oneDNN) to use the following CPU instructions in performance-critical operations:  SSE4.1 SSE4.2 AVX AVX2 AVX512F FMA\n",
      "To enable them in other operations, rebuild TensorFlow with the appropriate compiler flags.\n",
      "2024-02-23 18:11:59.862928: I tensorflow/core/common_runtime/gpu/gpu_device.cc:1525] Created device /job:localhost/replica:0/task:0/device:GPU:0 with 9629 MB memory:  -> device: 0, name: NVIDIA GeForce RTX 2080 Ti, pci bus id: 0000:60:00.0, compute capability: 7.5\n"
     ]
    }
   ],
   "source": [
    "config = tf.compat.v1.ConfigProto()\n",
    "config.gpu_options.allow_growth = True\n",
    "session = tf.compat.v1.Session(config=config)"
   ]
  },
  {
   "cell_type": "code",
   "execution_count": 7,
   "id": "64883503-9ebc-4b37-9d9f-7c6aa2a1f130",
   "metadata": {
    "tags": []
   },
   "outputs": [
    {
     "name": "stdout",
     "output_type": "stream",
     "text": [
      "Found 1901 images belonging to 3 classes.\n",
      "Found 494 images belonging to 3 classes.\n"
     ]
    }
   ],
   "source": [
    "image_Shape=(436,364,3)\n",
    "training_image_datagen = ImageDataGenerator(horizontal_flip=True).flow_from_directory(\n",
    "                                                  directory=f'{root}/training/',\n",
    "                                                  target_size=(image_Shape[0], image_Shape[1]),\n",
    "                                                  class_mode='categorical',\n",
    "                                                  batch_size=4\n",
    "                                                  )\n",
    "\n",
    "testing_image_datagen = ImageDataGenerator().flow_from_directory(\n",
    "                                                  directory = f'{root}/testing/' ,\n",
    "                                                  target_size = (image_Shape[0] ,image_Shape[1]) ,\n",
    "                                                  class_mode = 'categorical' ,\n",
    "                                                  batch_size=1 ,\n",
    "                                                  shuffle = False\n",
    "                                                  )\n",
    "     "
   ]
  },
  {
   "cell_type": "code",
   "execution_count": 8,
   "id": "c0248023-b562-4490-9a8e-1aae2e35c367",
   "metadata": {
    "tags": []
   },
   "outputs": [
    {
     "name": "stderr",
     "output_type": "stream",
     "text": [
      "2024-02-23 18:12:08.654614: I tensorflow/core/common_runtime/gpu/gpu_device.cc:1525] Created device /job:localhost/replica:0/task:0/device:GPU:0 with 9629 MB memory:  -> device: 0, name: NVIDIA GeForce RTX 2080 Ti, pci bus id: 0000:60:00.0, compute capability: 7.5\n"
     ]
    }
   ],
   "source": [
    "EPOCH = 50\n",
    "METRICS = [\n",
    "    tf.keras.metrics.CategoricalAccuracy(name='Accuracy'),\n",
    "    tf.keras.metrics.Precision(name='AD_Precision',class_id=0),\n",
    "    tf.keras.metrics.Precision(name='CN_Precision',class_id=1),\n",
    "    tf.keras.metrics.Precision(name='MCI_Precision',class_id=2),\n",
    "    tf.keras.metrics.Recall(name='AD_Recall',class_id=0),\n",
    "    tf.keras.metrics.Recall(name='CN_Recall',class_id=1),\n",
    "    tf.keras.metrics.Recall(name='MCI_Recall',class_id=2),\n",
    "    ]\n",
    "LOOS = 'categorical_crossentropy'"
   ]
  },
  {
   "cell_type": "code",
   "execution_count": 9,
   "id": "8fd6bbc3-b040-433b-92fb-47aaef6b6204",
   "metadata": {
    "tags": []
   },
   "outputs": [
    {
     "name": "stdout",
     "output_type": "stream",
     "text": [
      "Epoch 1/50\n"
     ]
    },
    {
     "name": "stderr",
     "output_type": "stream",
     "text": [
      "2024-02-23 18:12:33.060932: I tensorflow/stream_executor/cuda/cuda_dnn.cc:366] Loaded cuDNN version 8201\n"
     ]
    },
    {
     "name": "stdout",
     "output_type": "stream",
     "text": [
      "476/476 [==============================] - 78s 142ms/step - loss: 6.9050 - Accuracy: 0.5071 - AD_Precision: 0.2774 - CN_Precision: 0.4111 - MCI_Precision: 0.6228 - AD_Recall: 0.2741 - CN_Recall: 0.4039 - MCI_Recall: 0.6281 - val_loss: 13.3490 - val_Accuracy: 0.4109 - val_AD_Precision: 0.0000e+00 - val_CN_Precision: 0.3593 - val_MCI_Precision: 0.7183 - val_AD_Recall: 0.0000e+00 - val_CN_Recall: 0.9682 - val_MCI_Recall: 0.2134\n",
      "Epoch 2/50\n",
      "476/476 [==============================] - 69s 145ms/step - loss: 3.2204 - Accuracy: 0.7059 - AD_Precision: 0.5759 - CN_Precision: 0.6609 - MCI_Precision: 0.7694 - AD_Recall: 0.5602 - CN_Recall: 0.6621 - MCI_Recall: 0.7723 - val_loss: 2.9594 - val_Accuracy: 0.6579 - val_AD_Precision: 0.5042 - val_CN_Precision: 0.7020 - val_MCI_Precision: 0.7117 - val_AD_Recall: 0.6122 - val_CN_Recall: 0.6752 - val_MCI_Recall: 0.6611\n",
      "Epoch 3/50\n",
      "476/476 [==============================] - 70s 146ms/step - loss: 1.7918 - Accuracy: 0.8001 - AD_Precision: 0.7469 - CN_Precision: 0.7607 - MCI_Precision: 0.8358 - AD_Recall: 0.7289 - CN_Recall: 0.7592 - MCI_Recall: 0.8406 - val_loss: 3.7489 - val_Accuracy: 0.7126 - val_AD_Precision: 0.8043 - val_CN_Precision: 0.7463 - val_MCI_Precision: 0.6847 - val_AD_Recall: 0.3776 - val_CN_Recall: 0.6369 - val_MCI_Recall: 0.8996\n",
      "Epoch 4/50\n",
      "476/476 [==============================] - 70s 146ms/step - loss: 1.1934 - Accuracy: 0.8480 - AD_Precision: 0.7546 - CN_Precision: 0.8365 - MCI_Precision: 0.8822 - AD_Recall: 0.7410 - CN_Recall: 0.8447 - MCI_Recall: 0.8814 - val_loss: 2.7428 - val_Accuracy: 0.7530 - val_AD_Precision: 0.8679 - val_CN_Precision: 0.7469 - val_MCI_Precision: 0.7348 - val_AD_Recall: 0.4694 - val_CN_Recall: 0.7707 - val_MCI_Recall: 0.8577\n",
      "Epoch 5/50\n",
      "476/476 [==============================] - 67s 142ms/step - loss: 0.8316 - Accuracy: 0.8837 - AD_Precision: 0.8606 - CN_Precision: 0.8477 - MCI_Precision: 0.9084 - AD_Recall: 0.8554 - CN_Recall: 0.8427 - MCI_Recall: 0.9127 - val_loss: 3.0445 - val_Accuracy: 0.7470 - val_AD_Precision: 0.9189 - val_CN_Precision: 0.8480 - val_MCI_Precision: 0.6879 - val_AD_Recall: 0.3469 - val_CN_Recall: 0.6752 - val_MCI_Recall: 0.9498\n",
      "Epoch 6/50\n",
      "476/476 [==============================] - 70s 146ms/step - loss: 0.5638 - Accuracy: 0.9153 - AD_Precision: 0.8865 - CN_Precision: 0.9008 - MCI_Precision: 0.9321 - AD_Recall: 0.8705 - CN_Recall: 0.8990 - MCI_Recall: 0.9374 - val_loss: 3.0611 - val_Accuracy: 0.7753 - val_AD_Precision: 0.9167 - val_CN_Precision: 0.8345 - val_MCI_Precision: 0.7233 - val_AD_Recall: 0.4490 - val_CN_Recall: 0.7707 - val_MCI_Recall: 0.9079\n",
      "Epoch 7/50\n",
      "476/476 [==============================] - 67s 141ms/step - loss: 0.4700 - Accuracy: 0.9290 - AD_Precision: 0.9144 - CN_Precision: 0.9086 - MCI_Precision: 0.9433 - AD_Recall: 0.9006 - CN_Recall: 0.9068 - MCI_Recall: 0.9478 - val_loss: 3.3355 - val_Accuracy: 0.7510 - val_AD_Precision: 0.8036 - val_CN_Precision: 0.9018 - val_MCI_Precision: 0.6902 - val_AD_Recall: 0.4592 - val_CN_Recall: 0.6433 - val_MCI_Recall: 0.9414\n",
      "Epoch 8/50\n",
      "476/476 [==============================] - 67s 141ms/step - loss: 0.3657 - Accuracy: 0.9300 - AD_Precision: 0.9292 - CN_Precision: 0.9015 - MCI_Precision: 0.9442 - AD_Recall: 0.9096 - CN_Recall: 0.9068 - MCI_Recall: 0.9478 - val_loss: 3.7213 - val_Accuracy: 0.7551 - val_AD_Precision: 0.9286 - val_CN_Precision: 0.6968 - val_MCI_Precision: 0.7689 - val_AD_Recall: 0.3980 - val_CN_Recall: 0.8344 - val_MCI_Recall: 0.8494\n",
      "Epoch 9/50\n",
      "476/476 [==============================] - 69s 146ms/step - loss: 0.2581 - Accuracy: 0.9521 - AD_Precision: 0.9275 - CN_Precision: 0.9510 - MCI_Precision: 0.9604 - AD_Recall: 0.9247 - CN_Recall: 0.9417 - MCI_Recall: 0.9658 - val_loss: 2.9121 - val_Accuracy: 0.7854 - val_AD_Precision: 0.9057 - val_CN_Precision: 0.9244 - val_MCI_Precision: 0.7165 - val_AD_Recall: 0.4898 - val_CN_Recall: 0.7006 - val_MCI_Recall: 0.9623\n",
      "Epoch 10/50\n",
      "476/476 [==============================] - 67s 142ms/step - loss: 0.2599 - Accuracy: 0.9590 - AD_Precision: 0.9453 - CN_Precision: 0.9588 - MCI_Precision: 0.9633 - AD_Recall: 0.9367 - CN_Recall: 0.9495 - MCI_Recall: 0.9706 - val_loss: 2.9926 - val_Accuracy: 0.7449 - val_AD_Precision: 0.5031 - val_CN_Precision: 0.8529 - val_MCI_Precision: 0.8673 - val_AD_Recall: 0.8265 - val_CN_Recall: 0.7389 - val_MCI_Recall: 0.7113\n",
      "Epoch 11/50\n",
      "476/476 [==============================] - 67s 141ms/step - loss: 0.2525 - Accuracy: 0.9553 - AD_Precision: 0.9394 - CN_Precision: 0.9513 - MCI_Precision: 0.9622 - AD_Recall: 0.9337 - CN_Recall: 0.9476 - MCI_Recall: 0.9658 - val_loss: 3.5274 - val_Accuracy: 0.7510 - val_AD_Precision: 0.8108 - val_CN_Precision: 0.9767 - val_MCI_Precision: 0.6807 - val_AD_Recall: 0.6122 - val_CN_Recall: 0.5350 - val_MCI_Recall: 0.9456\n",
      "Epoch 12/50\n",
      "476/476 [==============================] - 67s 141ms/step - loss: 0.2092 - Accuracy: 0.9648 - AD_Precision: 0.9636 - CN_Precision: 0.9494 - MCI_Precision: 0.9726 - AD_Recall: 0.9578 - CN_Recall: 0.9476 - MCI_Recall: 0.9753 - val_loss: 4.0248 - val_Accuracy: 0.7287 - val_AD_Precision: 0.7067 - val_CN_Precision: 0.9643 - val_MCI_Precision: 0.6746 - val_AD_Recall: 0.5408 - val_CN_Recall: 0.5159 - val_MCI_Recall: 0.9456\n",
      "Epoch 13/50\n",
      "476/476 [==============================] - 67s 141ms/step - loss: 0.1268 - Accuracy: 0.9711 - AD_Precision: 0.9670 - CN_Precision: 0.9666 - MCI_Precision: 0.9745 - AD_Recall: 0.9699 - CN_Recall: 0.9553 - MCI_Recall: 0.9791 - val_loss: 4.2596 - val_Accuracy: 0.7510 - val_AD_Precision: 0.8667 - val_CN_Precision: 0.9515 - val_MCI_Precision: 0.6754 - val_AD_Recall: 0.3980 - val_CN_Recall: 0.6242 - val_MCI_Recall: 0.9749\n",
      "Epoch 14/50\n",
      "476/476 [==============================] - 67s 141ms/step - loss: 0.1805 - Accuracy: 0.9726 - AD_Precision: 0.9666 - CN_Precision: 0.9727 - MCI_Precision: 0.9745 - AD_Recall: 0.9578 - CN_Recall: 0.9670 - MCI_Recall: 0.9801 - val_loss: 3.1086 - val_Accuracy: 0.7794 - val_AD_Precision: 0.8095 - val_CN_Precision: 0.8984 - val_MCI_Precision: 0.7228 - val_AD_Recall: 0.5204 - val_CN_Recall: 0.7325 - val_MCI_Recall: 0.9163\n",
      "Epoch 15/50\n",
      "476/476 [==============================] - 67s 141ms/step - loss: 0.1271 - Accuracy: 0.9763 - AD_Precision: 0.9612 - CN_Precision: 0.9804 - MCI_Precision: 0.9801 - AD_Recall: 0.9699 - CN_Recall: 0.9709 - MCI_Recall: 0.9801 - val_loss: 3.0208 - val_Accuracy: 0.7814 - val_AD_Precision: 0.8030 - val_CN_Precision: 0.8289 - val_MCI_Precision: 0.7527 - val_AD_Recall: 0.5408 - val_CN_Recall: 0.8025 - val_MCI_Recall: 0.8661\n",
      "Epoch 16/50\n",
      "476/476 [==============================] - 69s 146ms/step - loss: 0.1253 - Accuracy: 0.9753 - AD_Precision: 0.9724 - CN_Precision: 0.9747 - MCI_Precision: 0.9764 - AD_Recall: 0.9548 - CN_Recall: 0.9728 - MCI_Recall: 0.9820 - val_loss: 3.1843 - val_Accuracy: 0.8036 - val_AD_Precision: 0.7857 - val_CN_Precision: 0.7955 - val_MCI_Precision: 0.8145 - val_AD_Recall: 0.5612 - val_CN_Recall: 0.8917 - val_MCI_Recall: 0.8452\n",
      "Epoch 17/50\n",
      "476/476 [==============================] - 68s 142ms/step - loss: 0.1190 - Accuracy: 0.9769 - AD_Precision: 0.9696 - CN_Precision: 0.9805 - MCI_Precision: 0.9774 - AD_Recall: 0.9608 - CN_Recall: 0.9748 - MCI_Recall: 0.9829 - val_loss: 3.4499 - val_Accuracy: 0.7895 - val_AD_Precision: 0.8507 - val_CN_Precision: 0.8915 - val_MCI_Precision: 0.7315 - val_AD_Recall: 0.5816 - val_CN_Recall: 0.7325 - val_MCI_Recall: 0.9121\n",
      "Epoch 18/50\n",
      "476/476 [==============================] - 67s 141ms/step - loss: 0.0906 - Accuracy: 0.9847 - AD_Precision: 0.9760 - CN_Precision: 0.9882 - MCI_Precision: 0.9858 - AD_Recall: 0.9789 - CN_Recall: 0.9786 - MCI_Recall: 0.9896 - val_loss: 3.1521 - val_Accuracy: 0.7935 - val_AD_Precision: 0.8387 - val_CN_Precision: 0.9225 - val_MCI_Precision: 0.7294 - val_AD_Recall: 0.5306 - val_CN_Recall: 0.7580 - val_MCI_Recall: 0.9247\n",
      "Epoch 19/50\n",
      "476/476 [==============================] - 69s 146ms/step - loss: 0.0746 - Accuracy: 0.9863 - AD_Precision: 0.9850 - CN_Precision: 0.9806 - MCI_Precision: 0.9905 - AD_Recall: 0.9880 - CN_Recall: 0.9806 - MCI_Recall: 0.9886 - val_loss: 3.9322 - val_Accuracy: 0.8057 - val_AD_Precision: 0.9423 - val_CN_Precision: 0.8210 - val_MCI_Precision: 0.7714 - val_AD_Recall: 0.5000 - val_CN_Recall: 0.8471 - val_MCI_Recall: 0.9038\n",
      "Epoch 20/50\n",
      "476/476 [==============================] - 67s 141ms/step - loss: 0.0826 - Accuracy: 0.9847 - AD_Precision: 0.9846 - CN_Precision: 0.9864 - MCI_Precision: 0.9840 - AD_Recall: 0.9639 - CN_Recall: 0.9825 - MCI_Recall: 0.9924 - val_loss: 5.0270 - val_Accuracy: 0.7854 - val_AD_Precision: 0.9773 - val_CN_Precision: 0.8939 - val_MCI_Precision: 0.7138 - val_AD_Recall: 0.4388 - val_CN_Recall: 0.7516 - val_MCI_Recall: 0.9498\n",
      "Epoch 21/50\n",
      "476/476 [==============================] - 67s 142ms/step - loss: 0.0831 - Accuracy: 0.9826 - AD_Precision: 0.9759 - CN_Precision: 0.9805 - MCI_Precision: 0.9858 - AD_Recall: 0.9759 - CN_Recall: 0.9786 - MCI_Recall: 0.9867 - val_loss: 5.0183 - val_Accuracy: 0.7389 - val_AD_Precision: 0.9184 - val_CN_Precision: 0.9457 - val_MCI_Precision: 0.6601 - val_AD_Recall: 0.4592 - val_CN_Recall: 0.5541 - val_MCI_Recall: 0.9749\n",
      "Epoch 22/50\n",
      "476/476 [==============================] - 67s 141ms/step - loss: 0.0535 - Accuracy: 0.9884 - AD_Precision: 0.9910 - CN_Precision: 0.9863 - MCI_Precision: 0.9886 - AD_Recall: 0.9970 - CN_Recall: 0.9786 - MCI_Recall: 0.9905 - val_loss: 3.6069 - val_Accuracy: 0.7915 - val_AD_Precision: 0.9000 - val_CN_Precision: 0.8333 - val_MCI_Precision: 0.7491 - val_AD_Recall: 0.4592 - val_CN_Recall: 0.8280 - val_MCI_Recall: 0.8996\n",
      "Epoch 23/50\n",
      "476/476 [==============================] - 67s 141ms/step - loss: 0.0411 - Accuracy: 0.9905 - AD_Precision: 0.9939 - CN_Precision: 0.9903 - MCI_Precision: 0.9896 - AD_Recall: 0.9819 - CN_Recall: 0.9883 - MCI_Recall: 0.9943 - val_loss: 4.9335 - val_Accuracy: 0.7834 - val_AD_Precision: 0.9111 - val_CN_Precision: 0.8777 - val_MCI_Precision: 0.7226 - val_AD_Recall: 0.4184 - val_CN_Recall: 0.7771 - val_MCI_Recall: 0.9372\n",
      "Epoch 24/50\n",
      "476/476 [==============================] - 67s 141ms/step - loss: 0.0480 - Accuracy: 0.9874 - AD_Precision: 0.9790 - CN_Precision: 0.9883 - MCI_Precision: 0.9896 - AD_Recall: 0.9819 - CN_Recall: 0.9806 - MCI_Recall: 0.9924 - val_loss: 3.2706 - val_Accuracy: 0.7976 - val_AD_Precision: 0.7821 - val_CN_Precision: 0.9194 - val_MCI_Precision: 0.7500 - val_AD_Recall: 0.6224 - val_CN_Recall: 0.7261 - val_MCI_Recall: 0.9163\n",
      "Epoch 25/50\n",
      "476/476 [==============================] - 67s 142ms/step - loss: 0.0556 - Accuracy: 0.9874 - AD_Precision: 0.9789 - CN_Precision: 0.9903 - MCI_Precision: 0.9886 - AD_Recall: 0.9789 - CN_Recall: 0.9883 - MCI_Recall: 0.9896 - val_loss: 4.1554 - val_Accuracy: 0.7794 - val_AD_Precision: 0.9200 - val_CN_Precision: 0.8676 - val_MCI_Precision: 0.7175 - val_AD_Recall: 0.4694 - val_CN_Recall: 0.7516 - val_MCI_Recall: 0.9247\n",
      "Epoch 26/50\n",
      "476/476 [==============================] - 68s 142ms/step - loss: 0.0438 - Accuracy: 0.9905 - AD_Precision: 0.9848 - CN_Precision: 0.9941 - MCI_Precision: 0.9915 - AD_Recall: 0.9789 - CN_Recall: 0.9883 - MCI_Recall: 0.9943 - val_loss: 3.4973 - val_Accuracy: 0.7895 - val_AD_Precision: 0.8615 - val_CN_Precision: 0.9032 - val_MCI_Precision: 0.7303 - val_AD_Recall: 0.5714 - val_CN_Recall: 0.7134 - val_MCI_Recall: 0.9289\n",
      "Epoch 27/50\n",
      "476/476 [==============================] - 68s 142ms/step - loss: 0.0587 - Accuracy: 0.9905 - AD_Precision: 0.9850 - CN_Precision: 0.9961 - MCI_Precision: 0.9896 - AD_Recall: 0.9880 - CN_Recall: 0.9845 - MCI_Recall: 0.9943 - val_loss: 3.8080 - val_Accuracy: 0.8057 - val_AD_Precision: 0.9464 - val_CN_Precision: 0.8803 - val_MCI_Precision: 0.7458 - val_AD_Recall: 0.5408 - val_CN_Recall: 0.7962 - val_MCI_Recall: 0.9205\n",
      "Epoch 28/50\n",
      "476/476 [==============================] - 69s 146ms/step - loss: 0.0165 - Accuracy: 0.9958 - AD_Precision: 0.9970 - CN_Precision: 0.9961 - MCI_Precision: 0.9953 - AD_Recall: 0.9970 - CN_Recall: 0.9903 - MCI_Recall: 0.9981 - val_loss: 3.6629 - val_Accuracy: 0.8138 - val_AD_Precision: 0.8571 - val_CN_Precision: 0.8303 - val_MCI_Precision: 0.7962 - val_AD_Recall: 0.5510 - val_CN_Recall: 0.8726 - val_MCI_Recall: 0.8828\n",
      "Epoch 29/50\n",
      "476/476 [==============================] - 67s 141ms/step - loss: 0.0335 - Accuracy: 0.9942 - AD_Precision: 0.9970 - CN_Precision: 0.9980 - MCI_Precision: 0.9915 - AD_Recall: 0.9910 - CN_Recall: 0.9883 - MCI_Recall: 0.9981 - val_loss: 4.0782 - val_Accuracy: 0.7713 - val_AD_Precision: 0.7812 - val_CN_Precision: 0.9813 - val_MCI_Precision: 0.6997 - val_AD_Recall: 0.5102 - val_CN_Recall: 0.6688 - val_MCI_Recall: 0.9456\n",
      "Epoch 30/50\n",
      "476/476 [==============================] - 67s 141ms/step - loss: 0.0608 - Accuracy: 0.9895 - AD_Precision: 0.9849 - CN_Precision: 0.9961 - MCI_Precision: 0.9877 - AD_Recall: 0.9819 - CN_Recall: 0.9864 - MCI_Recall: 0.9934 - val_loss: 3.7833 - val_Accuracy: 0.7895 - val_AD_Precision: 0.8679 - val_CN_Precision: 0.8750 - val_MCI_Precision: 0.7340 - val_AD_Recall: 0.4694 - val_CN_Recall: 0.8025 - val_MCI_Recall: 0.9121\n",
      "Epoch 31/50\n",
      "476/476 [==============================] - 67s 142ms/step - loss: 0.0378 - Accuracy: 0.9937 - AD_Precision: 0.9940 - CN_Precision: 0.9980 - MCI_Precision: 0.9915 - AD_Recall: 0.9940 - CN_Recall: 0.9864 - MCI_Recall: 0.9972 - val_loss: 3.9484 - val_Accuracy: 0.7834 - val_AD_Precision: 0.8936 - val_CN_Precision: 0.7895 - val_MCI_Precision: 0.7609 - val_AD_Recall: 0.4286 - val_CN_Recall: 0.8599 - val_MCI_Recall: 0.8787\n",
      "Epoch 32/50\n",
      "476/476 [==============================] - 67s 141ms/step - loss: 0.0284 - Accuracy: 0.9942 - AD_Precision: 0.9940 - CN_Precision: 0.9941 - MCI_Precision: 0.9943 - AD_Recall: 0.9970 - CN_Recall: 0.9883 - MCI_Recall: 0.9962 - val_loss: 3.5596 - val_Accuracy: 0.7996 - val_AD_Precision: 0.9259 - val_CN_Precision: 0.8323 - val_MCI_Precision: 0.7579 - val_AD_Recall: 0.5102 - val_CN_Recall: 0.8217 - val_MCI_Recall: 0.9038\n",
      "Epoch 33/50\n",
      "476/476 [==============================] - 67s 141ms/step - loss: 0.0439 - Accuracy: 0.9916 - AD_Precision: 0.9970 - CN_Precision: 0.9864 - MCI_Precision: 0.9924 - AD_Recall: 0.9940 - CN_Recall: 0.9845 - MCI_Recall: 0.9943 - val_loss: 3.5150 - val_Accuracy: 0.8097 - val_AD_Precision: 0.9412 - val_CN_Precision: 0.8462 - val_MCI_Precision: 0.7666 - val_AD_Recall: 0.4898 - val_CN_Recall: 0.8408 - val_MCI_Recall: 0.9205\n",
      "Epoch 34/50\n",
      "476/476 [==============================] - 67s 141ms/step - loss: 0.0292 - Accuracy: 0.9932 - AD_Precision: 0.9939 - CN_Precision: 0.9980 - MCI_Precision: 0.9906 - AD_Recall: 0.9849 - CN_Recall: 0.9903 - MCI_Recall: 0.9972 - val_loss: 4.6474 - val_Accuracy: 0.8097 - val_AD_Precision: 0.9020 - val_CN_Precision: 0.8103 - val_MCI_Precision: 0.7918 - val_AD_Recall: 0.4694 - val_CN_Recall: 0.8981 - val_MCI_Recall: 0.8912\n",
      "Epoch 35/50\n",
      "476/476 [==============================] - 69s 146ms/step - loss: 0.0363 - Accuracy: 0.9932 - AD_Precision: 0.9939 - CN_Precision: 0.9961 - MCI_Precision: 0.9915 - AD_Recall: 0.9880 - CN_Recall: 0.9883 - MCI_Recall: 0.9972 - val_loss: 3.8350 - val_Accuracy: 0.8178 - val_AD_Precision: 0.9000 - val_CN_Precision: 0.7978 - val_MCI_Precision: 0.8125 - val_AD_Recall: 0.5510 - val_CN_Recall: 0.9045 - val_MCI_Recall: 0.8703\n",
      "Epoch 36/50\n",
      "476/476 [==============================] - 67s 141ms/step - loss: 0.0304 - Accuracy: 0.9947 - AD_Precision: 0.9970 - CN_Precision: 0.9961 - MCI_Precision: 0.9934 - AD_Recall: 0.9970 - CN_Recall: 0.9864 - MCI_Recall: 0.9981 - val_loss: 3.9464 - val_Accuracy: 0.8077 - val_AD_Precision: 0.9286 - val_CN_Precision: 0.7886 - val_MCI_Precision: 0.7947 - val_AD_Recall: 0.5306 - val_CN_Recall: 0.8790 - val_MCI_Recall: 0.8745\n",
      "Epoch 37/50\n",
      "476/476 [==============================] - 70s 146ms/step - loss: 0.0447 - Accuracy: 0.9932 - AD_Precision: 0.9939 - CN_Precision: 0.9942 - MCI_Precision: 0.9924 - AD_Recall: 0.9880 - CN_Recall: 0.9903 - MCI_Recall: 0.9962 - val_loss: 3.6726 - val_Accuracy: 0.8198 - val_AD_Precision: 0.8551 - val_CN_Precision: 0.9254 - val_MCI_Precision: 0.7621 - val_AD_Recall: 0.6020 - val_CN_Recall: 0.7898 - val_MCI_Recall: 0.9247\n",
      "Epoch 38/50\n",
      "476/476 [==============================] - 67s 142ms/step - loss: 0.0365 - Accuracy: 0.9921 - AD_Precision: 0.9909 - CN_Precision: 0.9961 - MCI_Precision: 0.9906 - AD_Recall: 0.9880 - CN_Recall: 0.9883 - MCI_Recall: 0.9953 - val_loss: 3.6130 - val_Accuracy: 0.8158 - val_AD_Precision: 0.8636 - val_CN_Precision: 0.8873 - val_MCI_Precision: 0.7692 - val_AD_Recall: 0.5816 - val_CN_Recall: 0.8025 - val_MCI_Recall: 0.9205\n",
      "Epoch 39/50\n",
      "476/476 [==============================] - 67s 141ms/step - loss: 0.0344 - Accuracy: 0.9926 - AD_Precision: 0.9940 - CN_Precision: 0.9941 - MCI_Precision: 0.9924 - AD_Recall: 0.9940 - CN_Recall: 0.9864 - MCI_Recall: 0.9953 - val_loss: 3.6925 - val_Accuracy: 0.8077 - val_AD_Precision: 0.9000 - val_CN_Precision: 0.9091 - val_MCI_Precision: 0.7450 - val_AD_Recall: 0.5510 - val_CN_Recall: 0.7643 - val_MCI_Recall: 0.9414\n",
      "Epoch 40/50\n",
      "476/476 [==============================] - 67s 141ms/step - loss: 0.0842 - Accuracy: 0.9932 - AD_Precision: 0.9910 - CN_Precision: 0.9980 - MCI_Precision: 0.9915 - AD_Recall: 0.9910 - CN_Recall: 0.9845 - MCI_Recall: 0.9981 - val_loss: 4.1124 - val_Accuracy: 0.8077 - val_AD_Precision: 0.8772 - val_CN_Precision: 0.8951 - val_MCI_Precision: 0.7517 - val_AD_Recall: 0.5102 - val_CN_Recall: 0.8153 - val_MCI_Recall: 0.9247\n",
      "Epoch 41/50\n",
      "476/476 [==============================] - 67s 141ms/step - loss: 0.0115 - Accuracy: 0.9974 - AD_Precision: 0.9970 - CN_Precision: 1.0000 - MCI_Precision: 0.9962 - AD_Recall: 1.0000 - CN_Recall: 0.9922 - MCI_Recall: 0.9991 - val_loss: 4.2843 - val_Accuracy: 0.8097 - val_AD_Precision: 0.9057 - val_CN_Precision: 0.8973 - val_MCI_Precision: 0.7492 - val_AD_Recall: 0.4898 - val_CN_Recall: 0.8344 - val_MCI_Recall: 0.9247\n",
      "Epoch 42/50\n",
      "476/476 [==============================] - 69s 146ms/step - loss: 0.0176 - Accuracy: 0.9963 - AD_Precision: 0.9970 - CN_Precision: 0.9961 - MCI_Precision: 0.9962 - AD_Recall: 0.9970 - CN_Recall: 0.9922 - MCI_Recall: 0.9981 - val_loss: 3.2369 - val_Accuracy: 0.8401 - val_AD_Precision: 0.8472 - val_CN_Precision: 0.9013 - val_MCI_Precision: 0.8067 - val_AD_Recall: 0.6224 - val_CN_Recall: 0.8726 - val_MCI_Recall: 0.9079\n",
      "Epoch 43/50\n",
      "476/476 [==============================] - 67s 141ms/step - loss: 0.0342 - Accuracy: 0.9953 - AD_Precision: 0.9940 - CN_Precision: 0.9961 - MCI_Precision: 0.9953 - AD_Recall: 0.9940 - CN_Recall: 0.9922 - MCI_Recall: 0.9972 - val_loss: 4.0028 - val_Accuracy: 0.8259 - val_AD_Precision: 0.8507 - val_CN_Precision: 0.9172 - val_MCI_Precision: 0.7730 - val_AD_Recall: 0.5816 - val_CN_Recall: 0.8471 - val_MCI_Recall: 0.9121\n",
      "Epoch 44/50\n",
      "476/476 [==============================] - 67s 141ms/step - loss: 0.0253 - Accuracy: 0.9926 - AD_Precision: 0.9970 - CN_Precision: 0.9922 - MCI_Precision: 0.9915 - AD_Recall: 0.9940 - CN_Recall: 0.9845 - MCI_Recall: 0.9962 - val_loss: 4.4063 - val_Accuracy: 0.8158 - val_AD_Precision: 0.9615 - val_CN_Precision: 0.9021 - val_MCI_Precision: 0.7492 - val_AD_Recall: 0.5102 - val_CN_Recall: 0.8217 - val_MCI_Recall: 0.9372\n",
      "Epoch 45/50\n",
      "476/476 [==============================] - 67s 141ms/step - loss: 0.0341 - Accuracy: 0.9942 - AD_Precision: 0.9970 - CN_Precision: 0.9922 - MCI_Precision: 0.9943 - AD_Recall: 1.0000 - CN_Recall: 0.9883 - MCI_Recall: 0.9953 - val_loss: 4.6512 - val_Accuracy: 0.8239 - val_AD_Precision: 0.9444 - val_CN_Precision: 0.9091 - val_MCI_Precision: 0.7609 - val_AD_Recall: 0.5204 - val_CN_Recall: 0.8280 - val_MCI_Recall: 0.9456\n",
      "Epoch 46/50\n",
      "476/476 [==============================] - 67s 141ms/step - loss: 0.0357 - Accuracy: 0.9958 - AD_Precision: 0.9940 - CN_Precision: 0.9980 - MCI_Precision: 0.9953 - AD_Recall: 0.9940 - CN_Recall: 0.9903 - MCI_Recall: 0.9991 - val_loss: 5.6811 - val_Accuracy: 0.7794 - val_AD_Precision: 0.9778 - val_CN_Precision: 0.9397 - val_MCI_Precision: 0.6967 - val_AD_Recall: 0.4490 - val_CN_Recall: 0.6943 - val_MCI_Recall: 0.9707\n",
      "Epoch 47/50\n",
      "476/476 [==============================] - 67s 141ms/step - loss: 0.0228 - Accuracy: 0.9953 - AD_Precision: 0.9970 - CN_Precision: 0.9961 - MCI_Precision: 0.9943 - AD_Recall: 0.9940 - CN_Recall: 0.9883 - MCI_Recall: 0.9991 - val_loss: 5.0345 - val_Accuracy: 0.7935 - val_AD_Precision: 0.9744 - val_CN_Precision: 0.9457 - val_MCI_Precision: 0.7117 - val_AD_Recall: 0.3878 - val_CN_Recall: 0.7771 - val_MCI_Recall: 0.9707\n",
      "Epoch 48/50\n",
      "476/476 [==============================] - 67s 141ms/step - loss: 0.0493 - Accuracy: 0.9932 - AD_Precision: 0.9940 - CN_Precision: 0.9961 - MCI_Precision: 0.9915 - AD_Recall: 0.9910 - CN_Recall: 0.9845 - MCI_Recall: 0.9981 - val_loss: 4.8939 - val_Accuracy: 0.8016 - val_AD_Precision: 0.9400 - val_CN_Precision: 0.9375 - val_MCI_Precision: 0.7247 - val_AD_Recall: 0.4796 - val_CN_Recall: 0.7643 - val_MCI_Recall: 0.9582\n",
      "Epoch 49/50\n",
      "476/476 [==============================] - 67s 142ms/step - loss: 0.0539 - Accuracy: 0.9926 - AD_Precision: 0.9880 - CN_Precision: 0.9942 - MCI_Precision: 0.9934 - AD_Recall: 0.9910 - CN_Recall: 0.9903 - MCI_Recall: 0.9934 - val_loss: 4.7640 - val_Accuracy: 0.8057 - val_AD_Precision: 0.9600 - val_CN_Precision: 0.8364 - val_MCI_Precision: 0.7599 - val_AD_Recall: 0.4898 - val_CN_Recall: 0.8790 - val_MCI_Recall: 0.8870\n",
      "Epoch 50/50\n",
      "476/476 [==============================] - 67s 141ms/step - loss: 0.0243 - Accuracy: 0.9963 - AD_Precision: 0.9940 - CN_Precision: 1.0000 - MCI_Precision: 0.9953 - AD_Recall: 1.0000 - CN_Recall: 0.9903 - MCI_Recall: 0.9981 - val_loss: 4.7978 - val_Accuracy: 0.8178 - val_AD_Precision: 0.9400 - val_CN_Precision: 0.8710 - val_MCI_Precision: 0.7682 - val_AD_Recall: 0.4796 - val_CN_Recall: 0.8599 - val_MCI_Recall: 0.9289\n"
     ]
    },
    {
     "name": "stderr",
     "output_type": "stream",
     "text": [
      "/apps/tensorflow/2.7.0/lib/python3.9/site-packages/keras/engine/functional.py:1410: CustomMaskWarning: Custom mask layers require a config and must override get_config. When loading, the custom mask layer must be passed to the custom_objects argument.\n",
      "  layer_config = serialize_layer_fn(layer)\n"
     ]
    }
   ],
   "source": [
    "# learning_rate=10E-5\n",
    "savepath = 'models'\n",
    "lr=0.00001\n",
    "if not os.path.isdir(savepath):\n",
    "      os.makedirs(savepath)\n",
    "csvloger_callback = tf.keras.callbacks.CSVLogger(f'{savepath}history.csv', separator=',', append=False)\n",
    "\n",
    "modelcheckpoint_callback = tf.keras.callbacks.ModelCheckpoint(savepath+'resnet50_row_10E-5_weights-epoch:{epoch:03d}-val_Accuracy:{val_Accuracy:.4f}.h5',monitor='val_Accuracy'\n",
    "    ,verbose=0,save_best_only=True,save_weights_only=True,mode='max',save_freq='epoch' , initial_value_threshold=0.85)\n",
    "\n",
    "OPT = tf.keras.optimizers.RMSprop(learning_rate=lr)\n",
    "model03 = resnet50_row(OPT, LOOS,METRICS,image_Shape)\n",
    "history03 = model03.fit(training_image_datagen, epochs=EPOCH, validation_data=testing_image_datagen,callbacks=[csvloger_callback,modelcheckpoint_callback])\n",
    "model03 = resnet50_row(OPT, LOOS,METRICS,image_Shape)\n",
    "model03.load_weights(glob.glob(f\"{savepath}resnet50_row_10E-5_weights-epoch:*-val_Accuracy:{max(history03.history['val_Accuracy']):.4f}.h5\")[0])\n",
    "model03.save(f\"{savepath}/Resnet_50_0.00001.h5\")"
   ]
  },
  {
   "cell_type": "code",
   "execution_count": 26,
   "id": "6091b664-0a0f-4fac-be78-08efaf11d09c",
   "metadata": {
    "tags": []
   },
   "outputs": [],
   "source": [
    "model04.load_weights(glob.glob(f\"{savepath}efficientnet_row_10E-5_weights-epoch:*-val_Accuracy:{max(history04.history['val_Accuracy']):.4f}.h5\")[0])\n",
    "     "
   ]
  },
  {
   "cell_type": "code",
   "execution_count": null,
   "id": "5baae167-0652-4275-ae49-6b0eabd7a6c5",
   "metadata": {
    "tags": []
   },
   "outputs": [
    {
     "name": "stdout",
     "output_type": "stream",
     "text": [
      "              precision    recall  f1-score   support\n",
      "\n",
      "          AD       0.85      0.62      0.72        98\n",
      "          CN       0.90      0.87      0.88       157\n",
      "         MCI       0.81      0.91      0.85       239\n",
      "\n",
      "    accuracy                           0.84       494\n",
      "   macro avg       0.85      0.80      0.82       494\n",
      "weighted avg       0.84      0.84      0.84       494\n",
      "\n"
     ]
    }
   ],
   "source": [
    "p = model03.predict(testing_image_datagen)\n",
    "predicted_lab = p.argmax(axis=-1)\n",
    "true_lab = testing_image_datagen.classes\n",
    "plot_confusion_matrix(true_lab, predicted_lab, testing_image_datagen.class_indices.keys(),savepath)\n",
    "report = classification_report(true_lab, predicted_lab, target_names=testing_image_datagen.class_indices.keys())\n",
    "print(report)\n",
    "dump_text(report,f'{savepath}classification_report.txt')\n",
    "np.save(\"resnet_50_0.00001.npy\",p )"
   ]
  },
  {
   "cell_type": "markdown",
   "id": "16b86803-5e43-4b50-b84a-6886421d600c",
   "metadata": {},
   "source": [
    "Resnet 50 with epochs 50 learning rate =0.000001 opt= Rmsprop"
   ]
  },
  {
   "cell_type": "code",
   "execution_count": 12,
   "id": "8c6e8947-ae5c-4128-a832-5ce28363fbbe",
   "metadata": {
    "tags": []
   },
   "outputs": [],
   "source": [
    "\n",
    "def resnet50_row(optimizer, loss,metrics,shape):\n",
    "  image_input = tf.keras.applications.ResNet50(include_top=False,weights='imagenet',input_shape=shape)\n",
    "\n",
    "  for layer in image_input.layers:\n",
    "      layer.trainable = True\n",
    "      layer._name = layer._name  + str('_img')\n",
    "\n",
    "  y = Flatten() (image_input.output)\n",
    "  c = Dropout(0.4) (y)\n",
    "  c = Dense(512) (c)\n",
    "  c = Dense(256) (c)\n",
    "  c = Dense(128) (c)\n",
    "  output_layer = Dense(3, activation='softmax')(c)\n",
    "\n",
    "  model = Model(inputs=image_input.input,outputs=output_layer)\n",
    "  model.compile(optimizer=optimizer, loss=loss, metrics=metrics)\n",
    "  return model"
   ]
  },
  {
   "cell_type": "code",
   "execution_count": 6,
   "id": "8eea3eaa-3183-47c3-8503-68825a076f37",
   "metadata": {
    "tags": []
   },
   "outputs": [],
   "source": [
    "def plot_confusion_matrix(true_lab,predict_lab,classes,path):\n",
    "  matrix_confusion = tf.math.confusion_matrix(labels=true_lab, predictions=predicted_lab, num_classes=len(classes))\n",
    "  ax = plt.subplot()\n",
    "  sns.heatmap(matrix_confusion, square=True, annot=True, cmap='Blues', fmt='d', cbar=True)\n",
    "  ax.set_xlabel('Predicted labels')\n",
    "  ax.set_ylabel('True labels')\n",
    "  ax.set_title('Confusion Matrix')\n",
    "  ax.xaxis.set_ticklabels(classes)\n",
    "  ax.yaxis.set_ticklabels(classes)\n",
    "  plt.savefig(f'{path}confusion_matrix.png')\n",
    "     "
   ]
  },
  {
   "cell_type": "code",
   "execution_count": 7,
   "id": "611b0ad6-b4da-46fe-8268-4785b3472632",
   "metadata": {
    "tags": []
   },
   "outputs": [],
   "source": [
    "def dump_text(text,path):\n",
    "  text_file = open(path, \"w\")\n",
    "  text_file.write(text)\n",
    "  text_file.close()\n",
    "     "
   ]
  },
  {
   "cell_type": "code",
   "execution_count": 8,
   "id": "76fafc85-a685-4db0-bea1-7ee64885ba0b",
   "metadata": {
    "tags": []
   },
   "outputs": [
    {
     "name": "stderr",
     "output_type": "stream",
     "text": [
      "2024-02-08 14:08:54.814033: I tensorflow/core/platform/cpu_feature_guard.cc:151] This TensorFlow binary is optimized with oneAPI Deep Neural Network Library (oneDNN) to use the following CPU instructions in performance-critical operations:  SSE4.1 SSE4.2 AVX AVX2 AVX512F FMA\n",
      "To enable them in other operations, rebuild TensorFlow with the appropriate compiler flags.\n",
      "2024-02-08 14:08:57.975842: I tensorflow/core/common_runtime/gpu/gpu_device.cc:1525] Created device /job:localhost/replica:0/task:0/device:GPU:0 with 9629 MB memory:  -> device: 0, name: NVIDIA GeForce RTX 2080 Ti, pci bus id: 0000:1a:00.0, compute capability: 7.5\n"
     ]
    }
   ],
   "source": [
    "config = tf.compat.v1.ConfigProto()\n",
    "config.gpu_options.allow_growth = True\n",
    "session = tf.compat.v1.Session(config=config)\n",
    "     "
   ]
  },
  {
   "cell_type": "code",
   "execution_count": 10,
   "id": "9b3d232b-d650-4077-bb12-549ddb924b0f",
   "metadata": {
    "tags": []
   },
   "outputs": [
    {
     "name": "stdout",
     "output_type": "stream",
     "text": [
      "Found 1901 images belonging to 3 classes.\n",
      "Found 478 images belonging to 3 classes.\n"
     ]
    }
   ],
   "source": [
    "image_Shape=(436,364,3)\n",
    "training_image_datagen = ImageDataGenerator(horizontal_flip=True).flow_from_directory(\n",
    "                                                  directory=f'{root}/training/',\n",
    "                                                  target_size=(image_Shape[0], image_Shape[1]),\n",
    "                                                  class_mode='categorical',\n",
    "                                                  batch_size=4\n",
    "                                                  )\n",
    "\n",
    "testing_image_datagen = ImageDataGenerator().flow_from_directory(\n",
    "                                                  directory = f'{root}/testing/' ,\n",
    "                                                  target_size = (image_Shape[0] ,image_Shape[1]) ,\n",
    "                                                  class_mode = 'categorical' ,\n",
    "                                                  batch_size=1 ,\n",
    "                                                  shuffle = False\n",
    "                                                  )\n",
    "     "
   ]
  },
  {
   "cell_type": "code",
   "execution_count": 11,
   "id": "57220f33-0b3c-4c68-b888-799db96d2f91",
   "metadata": {
    "tags": []
   },
   "outputs": [
    {
     "name": "stderr",
     "output_type": "stream",
     "text": [
      "2024-02-08 14:09:33.171011: I tensorflow/core/common_runtime/gpu/gpu_device.cc:1525] Created device /job:localhost/replica:0/task:0/device:GPU:0 with 9629 MB memory:  -> device: 0, name: NVIDIA GeForce RTX 2080 Ti, pci bus id: 0000:1a:00.0, compute capability: 7.5\n"
     ]
    }
   ],
   "source": [
    "EPOCH = 50\n",
    "METRICS = [\n",
    "    tf.keras.metrics.CategoricalAccuracy(name='Accuracy'),\n",
    "    tf.keras.metrics.Precision(name='AD_Precision',class_id=0),\n",
    "    tf.keras.metrics.Precision(name='CN_Precision',class_id=1),\n",
    "    tf.keras.metrics.Precision(name='MCI_Precision',class_id=2),\n",
    "    tf.keras.metrics.Recall(name='AD_Recall',class_id=0),\n",
    "    tf.keras.metrics.Recall(name='CN_Recall',class_id=1),\n",
    "    tf.keras.metrics.Recall(name='MCI_Recall',class_id=2),\n",
    "    ]\n",
    "LOOS = 'categorical_crossentropy'"
   ]
  },
  {
   "cell_type": "code",
   "execution_count": null,
   "id": "a6d3ed81-361f-4937-8759-ba277ef6e5d2",
   "metadata": {
    "collapsed": true,
    "jupyter": {
     "outputs_hidden": true
    },
    "tags": []
   },
   "outputs": [
    {
     "name": "stdout",
     "output_type": "stream",
     "text": [
      "Epoch 1/50\n",
      "476/476 [==============================] - 70s 147ms/step - loss: 0.0258 - Accuracy: 0.9953 - AD_Precision: 1.0000 - CN_Precision: 0.9961 - MCI_Precision: 0.9934 - AD_Recall: 1.0000 - CN_Recall: 0.9864 - MCI_Recall: 0.9981 - val_loss: 4.3964 - val_Accuracy: 0.8036 - val_AD_Precision: 0.9245 - val_CN_Precision: 0.9444 - val_MCI_Precision: 0.7270 - val_AD_Recall: 0.5000 - val_CN_Recall: 0.7580 - val_MCI_Recall: 0.9582\n",
      "Epoch 2/50\n",
      "476/476 [==============================] - 69s 145ms/step - loss: 0.0138 - Accuracy: 0.9979 - AD_Precision: 1.0000 - CN_Precision: 1.0000 - MCI_Precision: 0.9962 - AD_Recall: 1.0000 - CN_Recall: 0.9922 - MCI_Recall: 1.0000 - val_loss: 3.1679 - val_Accuracy: 0.8381 - val_AD_Precision: 0.8090 - val_CN_Precision: 0.8912 - val_MCI_Precision: 0.8178 - val_AD_Recall: 0.7347 - val_CN_Recall: 0.8344 - val_MCI_Recall: 0.8828\n",
      "Epoch 3/50\n",
      "476/476 [==============================] - 68s 142ms/step - loss: 0.0401 - Accuracy: 0.9947 - AD_Precision: 0.9970 - CN_Precision: 0.9941 - MCI_Precision: 0.9943 - AD_Recall: 0.9970 - CN_Recall: 0.9883 - MCI_Recall: 0.9953 - val_loss: 3.6325 - val_Accuracy: 0.8239 - val_AD_Precision: 0.7922 - val_CN_Precision: 0.9407 - val_MCI_Precision: 0.7766 - val_AD_Recall: 0.6224 - val_CN_Recall: 0.8089 - val_MCI_Recall: 0.9163\n",
      "Epoch 4/50\n",
      "476/476 [==============================] - 68s 143ms/step - loss: 0.0401 - Accuracy: 0.9947 - AD_Precision: 0.9940 - CN_Precision: 0.9961 - MCI_Precision: 0.9943 - AD_Recall: 0.9970 - CN_Recall: 0.9864 - MCI_Recall: 0.9972 - val_loss: 4.0672 - val_Accuracy: 0.8158 - val_AD_Precision: 0.9434 - val_CN_Precision: 0.9021 - val_MCI_Precision: 0.7517 - val_AD_Recall: 0.5102 - val_CN_Recall: 0.8217 - val_MCI_Recall: 0.9372\n",
      "Epoch 5/50\n",
      "476/476 [==============================] - 68s 142ms/step - loss: 0.0361 - Accuracy: 0.9958 - AD_Precision: 1.0000 - CN_Precision: 0.9980 - MCI_Precision: 0.9934 - AD_Recall: 0.9940 - CN_Recall: 0.9903 - MCI_Recall: 0.9991 - val_loss: 3.9452 - val_Accuracy: 0.8117 - val_AD_Precision: 0.9412 - val_CN_Precision: 0.8405 - val_MCI_Precision: 0.7714 - val_AD_Recall: 0.4898 - val_CN_Recall: 0.8726 - val_MCI_Recall: 0.9038\n",
      "Epoch 6/50\n",
      "476/476 [==============================] - 67s 141ms/step - loss: 0.0541 - Accuracy: 0.9953 - AD_Precision: 0.9940 - CN_Precision: 1.0000 - MCI_Precision: 0.9934 - AD_Recall: 0.9970 - CN_Recall: 0.9864 - MCI_Recall: 0.9991 - val_loss: 3.6163 - val_Accuracy: 0.8198 - val_AD_Precision: 0.9153 - val_CN_Precision: 0.8447 - val_MCI_Precision: 0.7847 - val_AD_Recall: 0.5510 - val_CN_Recall: 0.8662 - val_MCI_Recall: 0.8996\n",
      "Epoch 7/50\n",
      "476/476 [==============================] - 67s 141ms/step - loss: 0.0284 - Accuracy: 0.9953 - AD_Precision: 0.9910 - CN_Precision: 0.9961 - MCI_Precision: 0.9962 - AD_Recall: 0.9970 - CN_Recall: 0.9883 - MCI_Recall: 0.9981 - val_loss: 4.6967 - val_Accuracy: 0.8057 - val_AD_Precision: 0.9783 - val_CN_Precision: 0.9130 - val_MCI_Precision: 0.7323 - val_AD_Recall: 0.4592 - val_CN_Recall: 0.8025 - val_MCI_Recall: 0.9498\n",
      "Epoch 8/50\n",
      "476/476 [==============================] - 67s 141ms/step - loss: 0.0091 - Accuracy: 0.9968 - AD_Precision: 1.0000 - CN_Precision: 1.0000 - MCI_Precision: 0.9953 - AD_Recall: 0.9970 - CN_Recall: 0.9922 - MCI_Recall: 0.9991 - val_loss: 3.9646 - val_Accuracy: 0.8198 - val_AD_Precision: 0.8889 - val_CN_Precision: 0.9248 - val_MCI_Precision: 0.7584 - val_AD_Recall: 0.5714 - val_CN_Recall: 0.7834 - val_MCI_Recall: 0.9456\n",
      "Epoch 9/50\n",
      "476/476 [==============================] - 67s 141ms/step - loss: 0.0340 - Accuracy: 0.9937 - AD_Precision: 0.9909 - CN_Precision: 0.9941 - MCI_Precision: 0.9943 - AD_Recall: 0.9880 - CN_Recall: 0.9864 - MCI_Recall: 0.9991 - val_loss: 5.7490 - val_Accuracy: 0.8158 - val_AD_Precision: 0.8966 - val_CN_Precision: 0.9328 - val_MCI_Precision: 0.7483 - val_AD_Recall: 0.5306 - val_CN_Recall: 0.7962 - val_MCI_Recall: 0.9456\n",
      "Epoch 10/50\n",
      "476/476 [==============================] - 67s 142ms/step - loss: 0.0255 - Accuracy: 0.9947 - AD_Precision: 0.9970 - CN_Precision: 0.9961 - MCI_Precision: 0.9934 - AD_Recall: 0.9940 - CN_Recall: 0.9883 - MCI_Recall: 0.9981 - val_loss: 3.7285 - val_Accuracy: 0.8057 - val_AD_Precision: 0.8871 - val_CN_Precision: 0.9365 - val_MCI_Precision: 0.7353 - val_AD_Recall: 0.5612 - val_CN_Recall: 0.7516 - val_MCI_Recall: 0.9414\n",
      "Epoch 11/50\n",
      "476/476 [==============================] - 68s 143ms/step - loss: 0.0184 - Accuracy: 0.9937 - AD_Precision: 0.9940 - CN_Precision: 0.9942 - MCI_Precision: 0.9934 - AD_Recall: 0.9910 - CN_Recall: 0.9922 - MCI_Recall: 0.9953 - val_loss: 4.2925 - val_Accuracy: 0.8117 - val_AD_Precision: 0.9057 - val_CN_Precision: 0.8274 - val_MCI_Precision: 0.7839 - val_AD_Recall: 0.4898 - val_CN_Recall: 0.8854 - val_MCI_Recall: 0.8954\n",
      "Epoch 12/50\n",
      "476/476 [==============================] - 67s 141ms/step - loss: 0.0199 - Accuracy: 0.9958 - AD_Precision: 1.0000 - CN_Precision: 0.9961 - MCI_Precision: 0.9943 - AD_Recall: 0.9970 - CN_Recall: 0.9903 - MCI_Recall: 0.9981 - val_loss: 4.7584 - val_Accuracy: 0.8036 - val_AD_Precision: 0.9375 - val_CN_Precision: 0.8253 - val_MCI_Precision: 0.7679 - val_AD_Recall: 0.4592 - val_CN_Recall: 0.8726 - val_MCI_Recall: 0.8996\n",
      "Epoch 13/50\n",
      "476/476 [==============================] - 67s 141ms/step - loss: 0.0272 - Accuracy: 0.9947 - AD_Precision: 0.9970 - CN_Precision: 0.9961 - MCI_Precision: 0.9934 - AD_Recall: 0.9970 - CN_Recall: 0.9883 - MCI_Recall: 0.9972 - val_loss: 4.5267 - val_Accuracy: 0.8138 - val_AD_Precision: 0.8868 - val_CN_Precision: 0.8986 - val_MCI_Precision: 0.7603 - val_AD_Recall: 0.4796 - val_CN_Recall: 0.8471 - val_MCI_Recall: 0.9289\n",
      "Epoch 14/50\n",
      "476/476 [==============================] - 67s 142ms/step - loss: 0.0321 - Accuracy: 0.9937 - AD_Precision: 0.9939 - CN_Precision: 0.9961 - MCI_Precision: 0.9924 - AD_Recall: 0.9880 - CN_Recall: 0.9903 - MCI_Recall: 0.9972 - val_loss: 4.6581 - val_Accuracy: 0.7996 - val_AD_Precision: 0.8846 - val_CN_Precision: 0.9137 - val_MCI_Precision: 0.7327 - val_AD_Recall: 0.4694 - val_CN_Recall: 0.8089 - val_MCI_Recall: 0.9289\n",
      "Epoch 15/50\n",
      "476/476 [==============================] - 67s 141ms/step - loss: 0.0194 - Accuracy: 0.9942 - AD_Precision: 1.0000 - CN_Precision: 0.9941 - MCI_Precision: 0.9924 - AD_Recall: 0.9970 - CN_Recall: 0.9864 - MCI_Recall: 0.9972 - val_loss: 4.8152 - val_Accuracy: 0.8057 - val_AD_Precision: 0.8772 - val_CN_Precision: 0.9603 - val_MCI_Precision: 0.7299 - val_AD_Recall: 0.5102 - val_CN_Recall: 0.7707 - val_MCI_Recall: 0.9498\n",
      "Epoch 16/50\n",
      "476/476 [==============================] - 67s 142ms/step - loss: 0.0522 - Accuracy: 0.9947 - AD_Precision: 0.9970 - CN_Precision: 0.9980 - MCI_Precision: 0.9925 - AD_Recall: 0.9910 - CN_Recall: 0.9903 - MCI_Recall: 0.9981 - val_loss: 3.9418 - val_Accuracy: 0.8077 - val_AD_Precision: 0.7887 - val_CN_Precision: 0.9457 - val_MCI_Precision: 0.7517 - val_AD_Recall: 0.5714 - val_CN_Recall: 0.7771 - val_MCI_Recall: 0.9247\n",
      "Epoch 17/50\n",
      "476/476 [==============================] - 67s 142ms/step - loss: 0.0415 - Accuracy: 0.9947 - AD_Precision: 0.9939 - CN_Precision: 1.0000 - MCI_Precision: 0.9925 - AD_Recall: 0.9880 - CN_Recall: 0.9903 - MCI_Recall: 0.9991 - val_loss: 5.5676 - val_Accuracy: 0.8057 - val_AD_Precision: 0.8824 - val_CN_Precision: 0.9209 - val_MCI_Precision: 0.7401 - val_AD_Recall: 0.4592 - val_CN_Recall: 0.8153 - val_MCI_Recall: 0.9414\n",
      "Epoch 18/50\n",
      "476/476 [==============================] - 67s 141ms/step - loss: 0.0640 - Accuracy: 0.9926 - AD_Precision: 0.9880 - CN_Precision: 0.9980 - MCI_Precision: 0.9915 - AD_Recall: 0.9880 - CN_Recall: 0.9845 - MCI_Recall: 0.9981 - val_loss: 4.7373 - val_Accuracy: 0.8036 - val_AD_Precision: 0.9400 - val_CN_Precision: 0.9248 - val_MCI_Precision: 0.7299 - val_AD_Recall: 0.4796 - val_CN_Recall: 0.7834 - val_MCI_Recall: 0.9498\n",
      "Epoch 19/50\n",
      "476/476 [==============================] - 67s 141ms/step - loss: 0.0116 - Accuracy: 0.9963 - AD_Precision: 0.9970 - CN_Precision: 0.9980 - MCI_Precision: 0.9953 - AD_Recall: 0.9970 - CN_Recall: 0.9903 - MCI_Recall: 0.9981 - val_loss: 4.4863 - val_Accuracy: 0.8117 - val_AD_Precision: 0.8679 - val_CN_Precision: 0.8766 - val_MCI_Precision: 0.7666 - val_AD_Recall: 0.4694 - val_CN_Recall: 0.8599 - val_MCI_Recall: 0.9205\n",
      "Epoch 20/50\n",
      "476/476 [==============================] - 67s 141ms/step - loss: 0.0342 - Accuracy: 0.9958 - AD_Precision: 0.9970 - CN_Precision: 1.0000 - MCI_Precision: 0.9934 - AD_Recall: 0.9940 - CN_Recall: 0.9903 - MCI_Recall: 0.9991 - val_loss: 4.0952 - val_Accuracy: 0.8239 - val_AD_Precision: 0.8182 - val_CN_Precision: 0.9677 - val_MCI_Precision: 0.7645 - val_AD_Recall: 0.6429 - val_CN_Recall: 0.7643 - val_MCI_Recall: 0.9372\n",
      "Epoch 21/50\n",
      "476/476 [==============================] - 67s 141ms/step - loss: 0.0432 - Accuracy: 0.9937 - AD_Precision: 0.9880 - CN_Precision: 0.9980 - MCI_Precision: 0.9934 - AD_Recall: 0.9910 - CN_Recall: 0.9903 - MCI_Recall: 0.9962 - val_loss: 5.1950 - val_Accuracy: 0.7854 - val_AD_Precision: 0.9302 - val_CN_Precision: 0.8841 - val_MCI_Precision: 0.7220 - val_AD_Recall: 0.4082 - val_CN_Recall: 0.7771 - val_MCI_Recall: 0.9456\n",
      "Epoch 22/50\n",
      "476/476 [==============================] - 68s 142ms/step - loss: 0.0357 - Accuracy: 0.9958 - AD_Precision: 0.9940 - CN_Precision: 1.0000 - MCI_Precision: 0.9943 - AD_Recall: 0.9970 - CN_Recall: 0.9903 - MCI_Recall: 0.9981 - val_loss: 5.0035 - val_Accuracy: 0.7895 - val_AD_Precision: 0.8980 - val_CN_Precision: 0.9590 - val_MCI_Precision: 0.7112 - val_AD_Recall: 0.4490 - val_CN_Recall: 0.7452 - val_MCI_Recall: 0.9582\n",
      "Epoch 23/50\n",
      "476/476 [==============================] - 68s 142ms/step - loss: 0.0199 - Accuracy: 0.9958 - AD_Precision: 1.0000 - CN_Precision: 0.9961 - MCI_Precision: 0.9943 - AD_Recall: 0.9970 - CN_Recall: 0.9883 - MCI_Recall: 0.9991 - val_loss: 4.3793 - val_Accuracy: 0.8016 - val_AD_Precision: 0.9091 - val_CN_Precision: 0.9370 - val_MCI_Precision: 0.7276 - val_AD_Recall: 0.5102 - val_CN_Recall: 0.7580 - val_MCI_Recall: 0.9498\n",
      "Epoch 24/50\n",
      "476/476 [==============================] - 68s 143ms/step - loss: 0.0294 - Accuracy: 0.9958 - AD_Precision: 0.9970 - CN_Precision: 0.9980 - MCI_Precision: 0.9943 - AD_Recall: 1.0000 - CN_Recall: 0.9864 - MCI_Recall: 0.9991 - val_loss: 5.2442 - val_Accuracy: 0.7895 - val_AD_Precision: 0.9184 - val_CN_Precision: 0.7374 - val_MCI_Precision: 0.8057 - val_AD_Recall: 0.4592 - val_CN_Recall: 0.9299 - val_MCI_Recall: 0.8326\n",
      "Epoch 25/50\n",
      "476/476 [==============================] - 67s 141ms/step - loss: 0.0480 - Accuracy: 0.9942 - AD_Precision: 0.9940 - CN_Precision: 0.9961 - MCI_Precision: 0.9934 - AD_Recall: 0.9940 - CN_Recall: 0.9903 - MCI_Recall: 0.9962 - val_loss: 5.7898 - val_Accuracy: 0.7834 - val_AD_Precision: 0.8571 - val_CN_Precision: 0.9818 - val_MCI_Precision: 0.7043 - val_AD_Recall: 0.4898 - val_CN_Recall: 0.6879 - val_MCI_Recall: 0.9665\n",
      "Epoch 26/50\n",
      "476/476 [==============================] - 67s 141ms/step - loss: 0.0303 - Accuracy: 0.9942 - AD_Precision: 0.9970 - CN_Precision: 0.9980 - MCI_Precision: 0.9915 - AD_Recall: 0.9940 - CN_Recall: 0.9864 - MCI_Recall: 0.9981 - val_loss: 4.3966 - val_Accuracy: 0.8158 - val_AD_Precision: 0.9074 - val_CN_Precision: 0.9014 - val_MCI_Precision: 0.7584 - val_AD_Recall: 0.5000 - val_CN_Recall: 0.8153 - val_MCI_Recall: 0.9456\n",
      "Epoch 27/50\n",
      "476/476 [==============================] - 67s 141ms/step - loss: 0.0285 - Accuracy: 0.9947 - AD_Precision: 1.0000 - CN_Precision: 0.9942 - MCI_Precision: 0.9934 - AD_Recall: 0.9940 - CN_Recall: 0.9903 - MCI_Recall: 0.9972 - val_loss: 5.9053 - val_Accuracy: 0.7976 - val_AD_Precision: 0.9167 - val_CN_Precision: 0.9124 - val_MCI_Precision: 0.7282 - val_AD_Recall: 0.4490 - val_CN_Recall: 0.7962 - val_MCI_Recall: 0.9414\n",
      "Epoch 28/50\n",
      "476/476 [==============================] - 67s 141ms/step - loss: 0.0540 - Accuracy: 0.9942 - AD_Precision: 0.9910 - CN_Precision: 0.9961 - MCI_Precision: 0.9943 - AD_Recall: 0.9910 - CN_Recall: 0.9903 - MCI_Recall: 0.9972 - val_loss: 4.8813 - val_Accuracy: 0.7874 - val_AD_Precision: 0.8966 - val_CN_Precision: 0.9906 - val_MCI_Precision: 0.7030 - val_AD_Recall: 0.5306 - val_CN_Recall: 0.6688 - val_MCI_Recall: 0.9707\n",
      "Epoch 29/50\n",
      "476/476 [==============================] - 67s 141ms/step - loss: 0.0311 - Accuracy: 0.9947 - AD_Precision: 0.9940 - CN_Precision: 0.9961 - MCI_Precision: 0.9943 - AD_Recall: 0.9970 - CN_Recall: 0.9883 - MCI_Recall: 0.9972 - val_loss: 4.4176 - val_Accuracy: 0.8077 - val_AD_Precision: 0.8750 - val_CN_Precision: 0.8784 - val_MCI_Precision: 0.7586 - val_AD_Recall: 0.5000 - val_CN_Recall: 0.8280 - val_MCI_Recall: 0.9205\n",
      "Epoch 30/50\n",
      "476/476 [==============================] - 67s 141ms/step - loss: 0.0250 - Accuracy: 0.9963 - AD_Precision: 1.0000 - CN_Precision: 1.0000 - MCI_Precision: 0.9934 - AD_Recall: 0.9940 - CN_Recall: 0.9903 - MCI_Recall: 1.0000 - val_loss: 4.6181 - val_Accuracy: 0.8077 - val_AD_Precision: 0.9057 - val_CN_Precision: 0.8725 - val_MCI_Precision: 0.7568 - val_AD_Recall: 0.4898 - val_CN_Recall: 0.8280 - val_MCI_Recall: 0.9247\n",
      "Epoch 31/50\n",
      "476/476 [==============================] - 67s 142ms/step - loss: 0.0136 - Accuracy: 0.9963 - AD_Precision: 0.9940 - CN_Precision: 0.9980 - MCI_Precision: 0.9962 - AD_Recall: 0.9970 - CN_Recall: 0.9922 - MCI_Recall: 0.9981 - val_loss: 4.6974 - val_Accuracy: 0.7874 - val_AD_Precision: 0.6239 - val_CN_Precision: 0.9730 - val_MCI_Precision: 0.7774 - val_AD_Recall: 0.6939 - val_CN_Recall: 0.6879 - val_MCI_Recall: 0.8912\n",
      "Epoch 32/50\n",
      "476/476 [==============================] - 67s 141ms/step - loss: 0.0191 - Accuracy: 0.9958 - AD_Precision: 0.9970 - CN_Precision: 0.9980 - MCI_Precision: 0.9943 - AD_Recall: 1.0000 - CN_Recall: 0.9883 - MCI_Recall: 0.9981 - val_loss: 4.2153 - val_Accuracy: 0.8239 - val_AD_Precision: 0.8333 - val_CN_Precision: 0.9155 - val_MCI_Precision: 0.7762 - val_AD_Recall: 0.5612 - val_CN_Recall: 0.8280 - val_MCI_Recall: 0.9289\n",
      "Epoch 33/50\n",
      "476/476 [==============================] - 68s 143ms/step - loss: 0.0304 - Accuracy: 0.9963 - AD_Precision: 0.9970 - CN_Precision: 1.0000 - MCI_Precision: 0.9943 - AD_Recall: 1.0000 - CN_Recall: 0.9883 - MCI_Recall: 0.9991 - val_loss: 3.8217 - val_Accuracy: 0.8259 - val_AD_Precision: 0.8169 - val_CN_Precision: 0.9041 - val_MCI_Precision: 0.7870 - val_AD_Recall: 0.5918 - val_CN_Recall: 0.8408 - val_MCI_Recall: 0.9121\n",
      "Epoch 34/50\n",
      "476/476 [==============================] - 67s 142ms/step - loss: 0.0276 - Accuracy: 0.9937 - AD_Precision: 0.9939 - CN_Precision: 0.9961 - MCI_Precision: 0.9925 - AD_Recall: 0.9849 - CN_Recall: 0.9903 - MCI_Recall: 0.9981 - val_loss: 5.5909 - val_Accuracy: 0.8178 - val_AD_Precision: 0.9074 - val_CN_Precision: 0.8599 - val_MCI_Precision: 0.7774 - val_AD_Recall: 0.5000 - val_CN_Recall: 0.8599 - val_MCI_Recall: 0.9205\n",
      "Epoch 35/50\n",
      "476/476 [==============================] - 67s 141ms/step - loss: 0.0410 - Accuracy: 0.9932 - AD_Precision: 0.9910 - CN_Precision: 0.9961 - MCI_Precision: 0.9952 - AD_Recall: 0.9910 - CN_Recall: 0.9922 - MCI_Recall: 0.9924 - val_loss: 5.3125 - val_Accuracy: 0.7996 - val_AD_Precision: 1.0000 - val_CN_Precision: 0.7747 - val_MCI_Precision: 0.7844 - val_AD_Recall: 0.4388 - val_CN_Recall: 0.8981 - val_MCI_Recall: 0.8828\n",
      "Epoch 36/50\n",
      "476/476 [==============================] - 67s 141ms/step - loss: 0.0190 - Accuracy: 0.9963 - AD_Precision: 0.9970 - CN_Precision: 0.9980 - MCI_Precision: 0.9953 - AD_Recall: 0.9970 - CN_Recall: 0.9922 - MCI_Recall: 0.9981 - val_loss: 5.1248 - val_Accuracy: 0.8036 - val_AD_Precision: 0.8750 - val_CN_Precision: 0.9426 - val_MCI_Precision: 0.7338 - val_AD_Recall: 0.5714 - val_CN_Recall: 0.7325 - val_MCI_Recall: 0.9456\n",
      "Epoch 37/50\n",
      "476/476 [==============================] - 67s 141ms/step - loss: 0.0713 - Accuracy: 0.9926 - AD_Precision: 0.9880 - CN_Precision: 0.9980 - MCI_Precision: 0.9915 - AD_Recall: 0.9880 - CN_Recall: 0.9883 - MCI_Recall: 0.9962 - val_loss: 4.9003 - val_Accuracy: 0.8077 - val_AD_Precision: 0.9123 - val_CN_Precision: 0.9667 - val_MCI_Precision: 0.7287 - val_AD_Recall: 0.5306 - val_CN_Recall: 0.7389 - val_MCI_Recall: 0.9665\n",
      "Epoch 38/50\n",
      "476/476 [==============================] - 68s 142ms/step - loss: 0.0364 - Accuracy: 0.9942 - AD_Precision: 0.9910 - CN_Precision: 0.9980 - MCI_Precision: 0.9934 - AD_Recall: 0.9910 - CN_Recall: 0.9903 - MCI_Recall: 0.9972 - val_loss: 5.2486 - val_Accuracy: 0.8279 - val_AD_Precision: 0.8814 - val_CN_Precision: 0.8820 - val_MCI_Precision: 0.7847 - val_AD_Recall: 0.5306 - val_CN_Recall: 0.9045 - val_MCI_Recall: 0.8996\n",
      "Epoch 39/50\n",
      "476/476 [==============================] - 67s 142ms/step - loss: 0.0117 - Accuracy: 0.9979 - AD_Precision: 1.0000 - CN_Precision: 1.0000 - MCI_Precision: 0.9962 - AD_Recall: 1.0000 - CN_Recall: 0.9922 - MCI_Recall: 1.0000 - val_loss: 5.8863 - val_Accuracy: 0.7915 - val_AD_Precision: 0.8750 - val_CN_Precision: 0.9023 - val_MCI_Precision: 0.7279 - val_AD_Recall: 0.5000 - val_CN_Recall: 0.7643 - val_MCI_Recall: 0.9289\n",
      "Epoch 40/50\n",
      "476/476 [==============================] - 68s 142ms/step - loss: 0.0789 - Accuracy: 0.9947 - AD_Precision: 0.9970 - CN_Precision: 0.9961 - MCI_Precision: 0.9934 - AD_Recall: 0.9940 - CN_Recall: 0.9883 - MCI_Recall: 0.9981 - val_loss: 3.7923 - val_Accuracy: 0.8198 - val_AD_Precision: 0.7396 - val_CN_Precision: 0.8621 - val_MCI_Precision: 0.8261 - val_AD_Recall: 0.7245 - val_CN_Recall: 0.7962 - val_MCI_Recall: 0.8745\n",
      "Epoch 41/50\n",
      "476/476 [==============================] - 68s 143ms/step - loss: 0.0256 - Accuracy: 0.9942 - AD_Precision: 0.9940 - CN_Precision: 0.9941 - MCI_Precision: 0.9943 - AD_Recall: 0.9970 - CN_Recall: 0.9883 - MCI_Recall: 0.9953 - val_loss: 4.2558 - val_Accuracy: 0.8158 - val_AD_Precision: 0.8730 - val_CN_Precision: 0.9259 - val_MCI_Precision: 0.7534 - val_AD_Recall: 0.5612 - val_CN_Recall: 0.7962 - val_MCI_Recall: 0.9331\n",
      "Epoch 42/50\n",
      "476/476 [==============================] - 67s 142ms/step - loss: 0.0197 - Accuracy: 0.9963 - AD_Precision: 0.9970 - CN_Precision: 0.9980 - MCI_Precision: 0.9953 - AD_Recall: 0.9970 - CN_Recall: 0.9903 - MCI_Recall: 0.9991 - val_loss: 6.0987 - val_Accuracy: 0.7996 - val_AD_Precision: 0.9107 - val_CN_Precision: 0.9741 - val_MCI_Precision: 0.7174 - val_AD_Recall: 0.5204 - val_CN_Recall: 0.7197 - val_MCI_Recall: 0.9665\n",
      "Epoch 43/50\n",
      "476/476 [==============================] - 67s 140ms/step - loss: 0.0373 - Accuracy: 0.9942 - AD_Precision: 0.9880 - CN_Precision: 1.0000 - MCI_Precision: 0.9934 - AD_Recall: 0.9910 - CN_Recall: 0.9903 - MCI_Recall: 0.9972 - val_loss: 5.4219 - val_Accuracy: 0.8198 - val_AD_Precision: 0.9808 - val_CN_Precision: 0.9259 - val_MCI_Precision: 0.7459 - val_AD_Recall: 0.5204 - val_CN_Recall: 0.7962 - val_MCI_Recall: 0.9582\n",
      "Epoch 44/50\n",
      "476/476 [==============================] - 67s 141ms/step - loss: 0.0640 - Accuracy: 0.9963 - AD_Precision: 0.9970 - CN_Precision: 1.0000 - MCI_Precision: 0.9943 - AD_Recall: 0.9940 - CN_Recall: 0.9922 - MCI_Recall: 0.9991 - val_loss: 6.0714 - val_Accuracy: 0.8057 - val_AD_Precision: 0.9412 - val_CN_Precision: 0.9669 - val_MCI_Precision: 0.7236 - val_AD_Recall: 0.4898 - val_CN_Recall: 0.7452 - val_MCI_Recall: 0.9749\n",
      "Epoch 45/50\n",
      "476/476 [==============================] - 67s 142ms/step - loss: 0.0109 - Accuracy: 0.9958 - AD_Precision: 0.9970 - CN_Precision: 0.9980 - MCI_Precision: 0.9943 - AD_Recall: 0.9940 - CN_Recall: 0.9922 - MCI_Recall: 0.9981 - val_loss: 5.9213 - val_Accuracy: 0.8117 - val_AD_Precision: 0.9800 - val_CN_Precision: 0.9380 - val_MCI_Precision: 0.7333 - val_AD_Recall: 0.5000 - val_CN_Recall: 0.7707 - val_MCI_Recall: 0.9665\n",
      "Epoch 46/50\n",
      "476/476 [==============================] - 68s 143ms/step - loss: 0.0106 - Accuracy: 0.9974 - AD_Precision: 0.9970 - CN_Precision: 1.0000 - MCI_Precision: 0.9962 - AD_Recall: 1.0000 - CN_Recall: 0.9903 - MCI_Recall: 1.0000 - val_loss: 4.9026 - val_Accuracy: 0.8198 - val_AD_Precision: 0.9000 - val_CN_Precision: 0.9466 - val_MCI_Precision: 0.7492 - val_AD_Recall: 0.5510 - val_CN_Recall: 0.7898 - val_MCI_Recall: 0.9498\n",
      "Epoch 47/50\n",
      "476/476 [==============================] - 67s 141ms/step - loss: 0.0242 - Accuracy: 0.9963 - AD_Precision: 0.9970 - CN_Precision: 1.0000 - MCI_Precision: 0.9943 - AD_Recall: 0.9970 - CN_Recall: 0.9903 - MCI_Recall: 0.9991 - val_loss: 6.0293 - val_Accuracy: 0.7976 - val_AD_Precision: 0.9130 - val_CN_Precision: 0.9254 - val_MCI_Precision: 0.7261 - val_AD_Recall: 0.4286 - val_CN_Recall: 0.7898 - val_MCI_Recall: 0.9540\n",
      "Epoch 48/50\n",
      "476/476 [==============================] - 67s 141ms/step - loss: 0.0432 - Accuracy: 0.9958 - AD_Precision: 0.9970 - CN_Precision: 1.0000 - MCI_Precision: 0.9934 - AD_Recall: 0.9940 - CN_Recall: 0.9903 - MCI_Recall: 0.9991 - val_loss: 4.1978 - val_Accuracy: 0.8279 - val_AD_Precision: 0.9492 - val_CN_Precision: 0.8491 - val_MCI_Precision: 0.7899 - val_AD_Recall: 0.5714 - val_CN_Recall: 0.8599 - val_MCI_Recall: 0.9121\n",
      "Epoch 49/50\n",
      "476/476 [==============================] - 67s 142ms/step - loss: 0.0537 - Accuracy: 0.9947 - AD_Precision: 0.9910 - CN_Precision: 1.0000 - MCI_Precision: 0.9934 - AD_Recall: 0.9940 - CN_Recall: 0.9903 - MCI_Recall: 0.9972 - val_loss: 6.1720 - val_Accuracy: 0.8097 - val_AD_Precision: 0.9400 - val_CN_Precision: 0.8836 - val_MCI_Precision: 0.7517 - val_AD_Recall: 0.4796 - val_CN_Recall: 0.8217 - val_MCI_Recall: 0.9372\n",
      "Epoch 50/50\n",
      "401/476 [========================>.....] - ETA: 9s - loss: 0.0194 - Accuracy: 0.9956 - AD_Precision: 0.9965 - CN_Precision: 0.9977 - MCI_Precision: 0.9944 - AD_Recall: 0.9965 - CN_Recall: 0.9885 - MCI_Recall: 0.9989"
     ]
    }
   ],
   "source": [
    "# learning_rate=10E-5\n",
    "savepath = 'models'\n",
    "lr=0.000001\n",
    "if not os.path.isdir(savepath):\n",
    "      os.makedirs(savepath)\n",
    "csvloger_callback = tf.keras.callbacks.CSVLogger(f'{savepath}history.csv', separator=',', append=False)\n",
    "\n",
    "modelcheckpoint_callback = tf.keras.callbacks.ModelCheckpoint(savepath+'resnet50_row_10E-5_weights-epoch:{epoch:03d}-val_Accuracy:{val_Accuracy:.4f}.h5',monitor='val_Accuracy'\n",
    "    ,verbose=0,save_best_only=True,save_weights_only=True,mode='max',save_freq='epoch' , initial_value_threshold=0.85)\n",
    "\n",
    "OPT = tf.keras.optimizers.RMSprop(learning_rate=lr)\n",
    "model04 = resnet50_row(OPT, LOOS,METRICS,image_Shape)\n",
    "history04 = model03.fit(training_image_datagen, epochs=EPOCH, validation_data=testing_image_datagen,callbacks=[csvloger_callback,modelcheckpoint_callback])\n",
    "model04 = resnet50_row(OPT, LOOS,METRICS,image_Shape)\n",
    "model04.load_weights(glob.glob(f\"{savepath}resnet50_row_10E-5_weights-epoch:*-val_Accuracy:{max(history04.history['val_Accuracy']):.4f}.h5\")[0])\n",
    "model04.save(f\"{savepath}/Resnet_50_0.000001.h5\")\n",
    "p1 = model04.predict(testing_image_datagen)\n",
    "predicted_lab = p1.argmax(axis=-1)\n",
    "true_lab = testing_image_datagen.classes\n",
    "plot_confusion_matrix(true_lab, predicted_lab, testing_image_datagen.class_indices.keys(),savepath)\n",
    "report = classification_report(true_lab, predicted_lab, target_names=testing_image_datagen.class_indices.keys())\n",
    "print(report)\n",
    "dump_text(report,f'{savepath}classification_report.txt')\n",
    "np.save(\"resnet_50_0.000001.npy\",p1 )"
   ]
  },
  {
   "cell_type": "code",
   "execution_count": 15,
   "id": "8dabfb85-8ec8-47e3-ba33-b405d75db6fb",
   "metadata": {
    "tags": []
   },
   "outputs": [
    {
     "name": "stdout",
     "output_type": "stream",
     "text": [
      "              precision    recall  f1-score   support\n",
      "\n",
      "          AD       0.55      0.52      0.53        91\n",
      "          CN       0.72      0.69      0.70       148\n",
      "         MCI       0.74      0.78      0.76       239\n",
      "\n",
      "    accuracy                           0.70       478\n",
      "   macro avg       0.67      0.66      0.67       478\n",
      "weighted avg       0.70      0.70      0.70       478\n",
      "\n"
     ]
    },
    {
     "data": {
      "image/png": "[encoded data removed]",
      "text/plain": [
       "<Figure size 432x288 with 2 Axes>"
      ]
     },
     "metadata": {
      "needs_background": "light"
     },
     "output_type": "display_data"
    }
   ],
   "source": [
    "p = model05.predict(testing_image_datagen)\n",
    "predicted_lab = p.argmax(axis=-1)\n",
    "true_lab = testing_image_datagen.classes\n",
    "plot_confusion_matrix(true_lab, predicted_lab, testing_image_datagen.class_indices.keys(),savepath)\n",
    "report = classification_report(true_lab, predicted_lab, target_names=testing_image_datagen.class_indices.keys())\n",
    "print(report)\n",
    "dump_text(report,f'{savepath}classification_report.txt')"
   ]
  },
  {
   "cell_type": "code",
   "execution_count": 17,
   "id": "d2e0127b-d426-4c9c-9da9-7c9125f3f4be",
   "metadata": {},
   "outputs": [
    {
     "name": "stdout",
     "output_type": "stream",
     "text": [
      "The tensorboard extension is already loaded. To reload it, use:\n",
      "  %reload_ext tensorboard\n"
     ]
    }
   ],
   "source": [
    "%load_ext tensorboard\n",
    "import tensorflow as tf\n",
    "from tensorboard.plugins.hparams import api as hp\n"
   ]
  },
  {
   "cell_type": "code",
   "execution_count": 12,
   "id": "7be465dc-7036-4331-afb4-d50a50d271b0",
   "metadata": {},
   "outputs": [],
   "source": [
    "EPOCH =70"
   ]
  },
  {
   "cell_type": "code",
   "execution_count": 14,
   "id": "e466a9d4-4614-4b35-b76a-46032b87bafe",
   "metadata": {
    "tags": []
   },
   "outputs": [
    {
     "name": "stdout",
     "output_type": "stream",
     "text": [
      "Epoch 1/70\n"
     ]
    },
    {
     "name": "stderr",
     "output_type": "stream",
     "text": [
      "2024-03-31 20:01:49.801362: I tensorflow/stream_executor/cuda/cuda_dnn.cc:366] Loaded cuDNN version 8201\n"
     ]
    },
    {
     "name": "stdout",
     "output_type": "stream",
     "text": [
      "476/476 [==============================] - 195s 388ms/step - loss: 10.6856 - Accuracy: 0.4671 - AD_Precision: 0.2466 - CN_Precision: 0.3351 - MCI_Precision: 0.5749 - AD_Recall: 0.1627 - CN_Recall: 0.2524 - MCI_Recall: 0.5569 - val_loss: 1.8871 - val_Accuracy: 0.3975 - val_AD_Precision: 0.0000e+00 - val_CN_Precision: 0.3562 - val_MCI_Precision: 0.6250 - val_AD_Recall: 0.0000e+00 - val_CN_Recall: 0.9459 - val_MCI_Recall: 0.2092\n",
      "Epoch 2/70\n",
      "476/476 [==============================] - 152s 320ms/step - loss: 1.0358 - Accuracy: 0.5445 - AD_Precision: 0.4176 - CN_Precision: 0.5038 - MCI_Precision: 0.6006 - AD_Recall: 0.1145 - CN_Recall: 0.2583 - MCI_Recall: 0.5949 - val_loss: 1.8364 - val_Accuracy: 0.5167 - val_AD_Precision: 0.0000e+00 - val_CN_Precision: 0.7500 - val_MCI_Precision: 0.5107 - val_AD_Recall: 0.0000e+00 - val_CN_Recall: 0.0608 - val_MCI_Recall: 0.9958\n",
      "Epoch 3/70\n",
      "476/476 [==============================] - 180s 378ms/step - loss: 0.8821 - Accuracy: 0.6202 - AD_Precision: 0.4851 - CN_Precision: 0.6439 - MCI_Precision: 0.6473 - AD_Recall: 0.1958 - CN_Recall: 0.5126 - MCI_Recall: 0.7068 - val_loss: 0.8139 - val_Accuracy: 0.6799 - val_AD_Precision: 0.6129 - val_CN_Precision: 0.6606 - val_MCI_Precision: 0.7614 - val_AD_Recall: 0.4176 - val_CN_Recall: 0.7365 - val_MCI_Recall: 0.6276\n",
      "Epoch 4/70\n",
      "476/476 [==============================] - 164s 344ms/step - loss: 0.7128 - Accuracy: 0.7180 - AD_Precision: 0.6393 - CN_Precision: 0.7273 - MCI_Precision: 0.7541 - AD_Recall: 0.4699 - CN_Recall: 0.6369 - MCI_Recall: 0.7856 - val_loss: 1.8576 - val_Accuracy: 0.5941 - val_AD_Precision: 1.0000 - val_CN_Precision: 0.8846 - val_MCI_Precision: 0.5556 - val_AD_Recall: 0.0330 - val_CN_Recall: 0.3108 - val_MCI_Recall: 0.9833\n",
      "Epoch 5/70\n",
      "476/476 [==============================] - 162s 341ms/step - loss: 0.5840 - Accuracy: 0.7922 - AD_Precision: 0.7375 - CN_Precision: 0.8204 - MCI_Precision: 0.8055 - AD_Recall: 0.5753 - CN_Recall: 0.7806 - MCI_Recall: 0.8330 - val_loss: 2.2501 - val_Accuracy: 0.7280 - val_AD_Precision: 0.9286 - val_CN_Precision: 0.8594 - val_MCI_Precision: 0.6707 - val_AD_Recall: 0.1429 - val_CN_Recall: 0.7432 - val_MCI_Recall: 0.9372\n",
      "Epoch 6/70\n",
      "476/476 [==============================] - 182s 382ms/step - loss: 0.4486 - Accuracy: 0.8553 - AD_Precision: 0.7955 - CN_Precision: 0.8695 - MCI_Precision: 0.8758 - AD_Recall: 0.7500 - CN_Recall: 0.8408 - MCI_Recall: 0.8833 - val_loss: 0.8332 - val_Accuracy: 0.7866 - val_AD_Precision: 0.8600 - val_CN_Precision: 0.9375 - val_MCI_Precision: 0.7252 - val_AD_Recall: 0.4725 - val_CN_Recall: 0.7095 - val_MCI_Recall: 0.9498\n",
      "Epoch 7/70\n",
      "476/476 [==============================] - 175s 368ms/step - loss: 0.3738 - Accuracy: 0.8748 - AD_Precision: 0.8482 - CN_Precision: 0.8968 - MCI_Precision: 0.8812 - AD_Recall: 0.7741 - CN_Recall: 0.8602 - MCI_Recall: 0.9080 - val_loss: 2.1246 - val_Accuracy: 0.6653 - val_AD_Precision: 0.4451 - val_CN_Precision: 0.9417 - val_MCI_Precision: 0.7330 - val_AD_Recall: 0.8462 - val_CN_Recall: 0.6554 - val_MCI_Recall: 0.5858\n",
      "Epoch 8/70\n",
      "476/476 [==============================] - 196s 412ms/step - loss: 0.2843 - Accuracy: 0.9132 - AD_Precision: 0.8801 - CN_Precision: 0.9289 - MCI_Precision: 0.9184 - AD_Recall: 0.8404 - CN_Recall: 0.9126 - MCI_Recall: 0.9288 - val_loss: 5.7081 - val_Accuracy: 0.7510 - val_AD_Precision: 0.9500 - val_CN_Precision: 0.7840 - val_MCI_Precision: 0.7196 - val_AD_Recall: 0.2088 - val_CN_Recall: 0.8581 - val_MCI_Recall: 0.8912\n",
      "Epoch 9/70\n",
      "476/476 [==============================] - 116s 242ms/step - loss: 0.2784 - Accuracy: 0.9127 - AD_Precision: 0.8701 - CN_Precision: 0.9256 - MCI_Precision: 0.9245 - AD_Recall: 0.8675 - CN_Recall: 0.8932 - MCI_Recall: 0.9298 - val_loss: 8.2932 - val_Accuracy: 0.6757 - val_AD_Precision: 0.9667 - val_CN_Precision: 0.8841 - val_MCI_Precision: 0.6148 - val_AD_Recall: 0.3187 - val_CN_Recall: 0.4122 - val_MCI_Recall: 0.9749\n",
      "Epoch 10/70\n",
      "476/476 [==============================] - 184s 386ms/step - loss: 0.2542 - Accuracy: 0.9290 - AD_Precision: 0.9122 - CN_Precision: 0.9316 - MCI_Precision: 0.9352 - AD_Recall: 0.8765 - CN_Recall: 0.9262 - MCI_Recall: 0.9450 - val_loss: 5.8453 - val_Accuracy: 0.7427 - val_AD_Precision: 0.8276 - val_CN_Precision: 0.8318 - val_MCI_Precision: 0.6965 - val_AD_Recall: 0.5275 - val_CN_Recall: 0.6014 - val_MCI_Recall: 0.9121\n",
      "Epoch 11/70\n",
      "476/476 [==============================] - 185s 388ms/step - loss: 0.2363 - Accuracy: 0.9332 - AD_Precision: 0.9190 - CN_Precision: 0.9318 - MCI_Precision: 0.9407 - AD_Recall: 0.8886 - CN_Recall: 0.9282 - MCI_Recall: 0.9478 - val_loss: 1.8018 - val_Accuracy: 0.7427 - val_AD_Precision: 0.8889 - val_CN_Precision: 0.9457 - val_MCI_Precision: 0.6744 - val_AD_Recall: 0.3516 - val_CN_Recall: 0.5878 - val_MCI_Recall: 0.9791\n",
      "Epoch 12/70\n",
      "476/476 [==============================] - 149s 313ms/step - loss: 0.1790 - Accuracy: 0.9506 - AD_Precision: 0.9202 - CN_Precision: 0.9577 - MCI_Precision: 0.9600 - AD_Recall: 0.9036 - CN_Recall: 0.9670 - MCI_Recall: 0.9554 - val_loss: 2.1973 - val_Accuracy: 0.7385 - val_AD_Precision: 0.9722 - val_CN_Precision: 0.9756 - val_MCI_Precision: 0.6620 - val_AD_Recall: 0.3846 - val_CN_Recall: 0.5405 - val_MCI_Recall: 0.9916\n",
      "Epoch 13/70\n",
      "476/476 [==============================] - 155s 327ms/step - loss: 0.1929 - Accuracy: 0.9416 - AD_Precision: 0.9226 - CN_Precision: 0.9434 - MCI_Precision: 0.9500 - AD_Recall: 0.8976 - CN_Recall: 0.9379 - MCI_Recall: 0.9554 - val_loss: 4.5284 - val_Accuracy: 0.7720 - val_AD_Precision: 0.9130 - val_CN_Precision: 0.8992 - val_MCI_Precision: 0.7108 - val_AD_Recall: 0.2308 - val_CN_Recall: 0.7838 - val_MCI_Recall: 0.9665\n",
      "Epoch 14/70\n",
      "476/476 [==============================] - 186s 391ms/step - loss: 0.1578 - Accuracy: 0.9558 - AD_Precision: 0.9275 - CN_Precision: 0.9624 - MCI_Precision: 0.9642 - AD_Recall: 0.9247 - CN_Recall: 0.9437 - MCI_Recall: 0.9696 - val_loss: 23.4630 - val_Accuracy: 0.7218 - val_AD_Precision: 0.9000 - val_CN_Precision: 0.8175 - val_MCI_Precision: 0.6767 - val_AD_Recall: 0.0989 - val_CN_Recall: 0.7568 - val_MCI_Recall: 0.9372\n",
      "Epoch 15/70\n",
      "476/476 [==============================] - 184s 386ms/step - loss: 0.1205 - Accuracy: 0.9648 - AD_Precision: 0.9545 - CN_Precision: 0.9646 - MCI_Precision: 0.9679 - AD_Recall: 0.9488 - CN_Recall: 0.9534 - MCI_Recall: 0.9734 - val_loss: 2.8500 - val_Accuracy: 0.7908 - val_AD_Precision: 0.8889 - val_CN_Precision: 0.9423 - val_MCI_Precision: 0.7250 - val_AD_Recall: 0.5275 - val_CN_Recall: 0.6622 - val_MCI_Recall: 0.9707\n",
      "Epoch 16/70\n",
      "476/476 [==============================] - 187s 394ms/step - loss: 0.1190 - Accuracy: 0.9674 - AD_Precision: 0.9607 - CN_Precision: 0.9667 - MCI_Precision: 0.9697 - AD_Recall: 0.9578 - CN_Recall: 0.9573 - MCI_Recall: 0.9725 - val_loss: 2.1344 - val_Accuracy: 0.8180 - val_AD_Precision: 0.7176 - val_CN_Precision: 0.8889 - val_MCI_Precision: 0.8140 - val_AD_Recall: 0.6703 - val_CN_Recall: 0.8108 - val_MCI_Recall: 0.8787\n",
      "Epoch 17/70\n",
      "476/476 [==============================] - 145s 304ms/step - loss: 0.1369 - Accuracy: 0.9605 - AD_Precision: 0.9367 - CN_Precision: 0.9688 - MCI_Precision: 0.9668 - AD_Recall: 0.9367 - CN_Recall: 0.9631 - MCI_Recall: 0.9658 - val_loss: 1.9121 - val_Accuracy: 0.8222 - val_AD_Precision: 0.8182 - val_CN_Precision: 0.7917 - val_MCI_Precision: 0.8443 - val_AD_Recall: 0.5934 - val_CN_Recall: 0.8986 - val_MCI_Recall: 0.8619\n",
      "Epoch 18/70\n",
      "476/476 [==============================] - 168s 353ms/step - loss: 0.1356 - Accuracy: 0.9721 - AD_Precision: 0.9571 - CN_Precision: 0.9748 - MCI_Precision: 0.9754 - AD_Recall: 0.9398 - CN_Recall: 0.9748 - MCI_Recall: 0.9791 - val_loss: 4.1031 - val_Accuracy: 0.7552 - val_AD_Precision: 0.9565 - val_CN_Precision: 0.8222 - val_MCI_Precision: 0.7125 - val_AD_Recall: 0.2418 - val_CN_Recall: 0.7500 - val_MCI_Recall: 0.9540\n",
      "Epoch 19/70\n",
      "476/476 [==============================] - 170s 357ms/step - loss: 0.1512 - Accuracy: 0.9579 - AD_Precision: 0.9403 - CN_Precision: 0.9546 - MCI_Precision: 0.9659 - AD_Recall: 0.9488 - CN_Recall: 0.9398 - MCI_Recall: 0.9677 - val_loss: 1.4833 - val_Accuracy: 0.8389 - val_AD_Precision: 0.8630 - val_CN_Precision: 0.9262 - val_MCI_Precision: 0.7979 - val_AD_Recall: 0.6923 - val_CN_Recall: 0.7635 - val_MCI_Recall: 0.9414\n",
      "Epoch 20/70\n",
      "476/476 [==============================] - 160s 337ms/step - loss: 0.1347 - Accuracy: 0.9669 - AD_Precision: 0.9508 - CN_Precision: 0.9725 - MCI_Precision: 0.9709 - AD_Recall: 0.9307 - CN_Recall: 0.9631 - MCI_Recall: 0.9801 - val_loss: 2.7197 - val_Accuracy: 0.7950 - val_AD_Precision: 0.9583 - val_CN_Precision: 0.8171 - val_MCI_Precision: 0.7690 - val_AD_Recall: 0.2527 - val_CN_Recall: 0.9054 - val_MCI_Recall: 0.9331\n",
      "Epoch 21/70\n",
      "476/476 [==============================] - 177s 372ms/step - loss: 0.1042 - Accuracy: 0.9726 - AD_Precision: 0.9640 - CN_Precision: 0.9688 - MCI_Precision: 0.9782 - AD_Recall: 0.9669 - CN_Recall: 0.9631 - MCI_Recall: 0.9772 - val_loss: 6.8425 - val_Accuracy: 0.7197 - val_AD_Precision: 0.9565 - val_CN_Precision: 0.8505 - val_MCI_Precision: 0.6638 - val_AD_Recall: 0.2418 - val_CN_Recall: 0.6149 - val_MCI_Recall: 0.9665\n",
      "Epoch 22/70\n",
      "476/476 [==============================] - 149s 313ms/step - loss: 0.1151 - Accuracy: 0.9711 - AD_Precision: 0.9453 - CN_Precision: 0.9747 - MCI_Precision: 0.9782 - AD_Recall: 0.9367 - CN_Recall: 0.9728 - MCI_Recall: 0.9791 - val_loss: 1.9280 - val_Accuracy: 0.8515 - val_AD_Precision: 0.9492 - val_CN_Precision: 0.8543 - val_MCI_Precision: 0.8308 - val_AD_Recall: 0.6154 - val_CN_Recall: 0.8716 - val_MCI_Recall: 0.9247\n",
      "Epoch 23/70\n",
      "476/476 [==============================] - 189s 397ms/step - loss: 0.1025 - Accuracy: 0.9732 - AD_Precision: 0.9729 - CN_Precision: 0.9706 - MCI_Precision: 0.9745 - AD_Recall: 0.9729 - CN_Recall: 0.9631 - MCI_Recall: 0.9772 - val_loss: 1.3585 - val_Accuracy: 0.8389 - val_AD_Precision: 0.8333 - val_CN_Precision: 0.8160 - val_MCI_Precision: 0.8565 - val_AD_Recall: 0.7143 - val_CN_Recall: 0.8986 - val_MCI_Recall: 0.8494\n",
      "Epoch 24/70\n",
      "476/476 [==============================] - 195s 411ms/step - loss: 0.0909 - Accuracy: 0.9805 - AD_Precision: 0.9729 - CN_Precision: 0.9843 - MCI_Precision: 0.9820 - AD_Recall: 0.9729 - CN_Recall: 0.9748 - MCI_Recall: 0.9858 - val_loss: 2.9961 - val_Accuracy: 0.7448 - val_AD_Precision: 0.7209 - val_CN_Precision: 0.8929 - val_MCI_Precision: 0.7110 - val_AD_Recall: 0.6813 - val_CN_Recall: 0.5068 - val_MCI_Recall: 0.9163\n",
      "Epoch 25/70\n",
      "476/476 [==============================] - 196s 411ms/step - loss: 0.1146 - Accuracy: 0.9779 - AD_Precision: 0.9612 - CN_Precision: 0.9842 - MCI_Precision: 0.9811 - AD_Recall: 0.9699 - CN_Recall: 0.9689 - MCI_Recall: 0.9829 - val_loss: 3.5196 - val_Accuracy: 0.7824 - val_AD_Precision: 0.9773 - val_CN_Precision: 0.6900 - val_MCI_Precision: 0.8248 - val_AD_Recall: 0.4725 - val_CN_Recall: 0.9324 - val_MCI_Recall: 0.8075\n",
      "Epoch 26/70\n",
      "476/476 [==============================] - 177s 372ms/step - loss: 0.1018 - Accuracy: 0.9769 - AD_Precision: 0.9669 - CN_Precision: 0.9842 - MCI_Precision: 0.9791 - AD_Recall: 0.9669 - CN_Recall: 0.9689 - MCI_Recall: 0.9763 - val_loss: 1.8482 - val_Accuracy: 0.8473 - val_AD_Precision: 0.8228 - val_CN_Precision: 0.8947 - val_MCI_Precision: 0.8302 - val_AD_Recall: 0.7143 - val_CN_Recall: 0.8041 - val_MCI_Recall: 0.9205\n",
      "Epoch 27/70\n",
      "476/476 [==============================] - 189s 397ms/step - loss: 0.1135 - Accuracy: 0.9769 - AD_Precision: 0.9699 - CN_Precision: 0.9821 - MCI_Precision: 0.9765 - AD_Recall: 0.9699 - CN_Recall: 0.9612 - MCI_Recall: 0.9867 - val_loss: 1.5715 - val_Accuracy: 0.8661 - val_AD_Precision: 0.8784 - val_CN_Precision: 0.9191 - val_MCI_Precision: 0.8358 - val_AD_Recall: 0.7143 - val_CN_Recall: 0.8446 - val_MCI_Recall: 0.9372\n",
      "Epoch 28/70\n",
      "476/476 [==============================] - 176s 370ms/step - loss: 0.0713 - Accuracy: 0.9816 - AD_Precision: 0.9761 - CN_Precision: 0.9804 - MCI_Precision: 0.9839 - AD_Recall: 0.9849 - CN_Recall: 0.9709 - MCI_Recall: 0.9848 - val_loss: 2.5115 - val_Accuracy: 0.8222 - val_AD_Precision: 0.8438 - val_CN_Precision: 0.9322 - val_MCI_Precision: 0.7763 - val_AD_Recall: 0.5934 - val_CN_Recall: 0.7432 - val_MCI_Recall: 0.9582\n",
      "Epoch 29/70\n",
      "476/476 [==============================] - 182s 384ms/step - loss: 0.0920 - Accuracy: 0.9784 - AD_Precision: 0.9670 - CN_Precision: 0.9805 - MCI_Precision: 0.9811 - AD_Recall: 0.9699 - CN_Recall: 0.9748 - MCI_Recall: 0.9829 - val_loss: 1.8413 - val_Accuracy: 0.8138 - val_AD_Precision: 0.6979 - val_CN_Precision: 0.8692 - val_MCI_Precision: 0.8294 - val_AD_Recall: 0.7363 - val_CN_Recall: 0.7635 - val_MCI_Recall: 0.8745\n",
      "Epoch 30/70\n",
      "476/476 [==============================] - 178s 374ms/step - loss: 0.1034 - Accuracy: 0.9800 - AD_Precision: 0.9641 - CN_Precision: 0.9862 - MCI_Precision: 0.9821 - AD_Recall: 0.9699 - CN_Recall: 0.9709 - MCI_Recall: 0.9867 - val_loss: 2.2562 - val_Accuracy: 0.8347 - val_AD_Precision: 0.8462 - val_CN_Precision: 0.8621 - val_MCI_Precision: 0.8172 - val_AD_Recall: 0.6044 - val_CN_Recall: 0.8446 - val_MCI_Recall: 0.9163\n",
      "Epoch 31/70\n",
      "476/476 [==============================] - 189s 397ms/step - loss: 0.0856 - Accuracy: 0.9821 - AD_Precision: 0.9697 - CN_Precision: 0.9864 - MCI_Precision: 0.9839 - AD_Recall: 0.9639 - CN_Recall: 0.9825 - MCI_Recall: 0.9858 - val_loss: 1.6657 - val_Accuracy: 0.8661 - val_AD_Precision: 0.9265 - val_CN_Precision: 0.8978 - val_MCI_Precision: 0.8346 - val_AD_Recall: 0.6923 - val_CN_Recall: 0.8311 - val_MCI_Recall: 0.9498\n",
      "Epoch 32/70\n",
      "476/476 [==============================] - 170s 358ms/step - loss: 0.0965 - Accuracy: 0.9826 - AD_Precision: 0.9760 - CN_Precision: 0.9862 - MCI_Precision: 0.9858 - AD_Recall: 0.9789 - CN_Recall: 0.9728 - MCI_Recall: 0.9858 - val_loss: 2.5893 - val_Accuracy: 0.8264 - val_AD_Precision: 0.7692 - val_CN_Precision: 0.9266 - val_MCI_Precision: 0.8058 - val_AD_Recall: 0.7692 - val_CN_Recall: 0.6824 - val_MCI_Recall: 0.9372\n",
      "Epoch 33/70\n",
      "476/476 [==============================] - 172s 361ms/step - loss: 0.0831 - Accuracy: 0.9832 - AD_Precision: 0.9819 - CN_Precision: 0.9805 - MCI_Precision: 0.9858 - AD_Recall: 0.9789 - CN_Recall: 0.9767 - MCI_Recall: 0.9867 - val_loss: 2.0114 - val_Accuracy: 0.8054 - val_AD_Precision: 0.7439 - val_CN_Precision: 0.8516 - val_MCI_Precision: 0.8022 - val_AD_Recall: 0.6703 - val_CN_Recall: 0.7365 - val_MCI_Recall: 0.8996\n",
      "Epoch 34/70\n",
      "476/476 [==============================] - 191s 399ms/step - loss: 0.0762 - Accuracy: 0.9837 - AD_Precision: 0.9818 - CN_Precision: 0.9825 - MCI_Precision: 0.9858 - AD_Recall: 0.9759 - CN_Recall: 0.9806 - MCI_Recall: 0.9858 - val_loss: 5.4826 - val_Accuracy: 0.8410 - val_AD_Precision: 0.8750 - val_CN_Precision: 0.9187 - val_MCI_Precision: 0.7986 - val_AD_Recall: 0.6923 - val_CN_Recall: 0.7635 - val_MCI_Recall: 0.9456\n",
      "Epoch 35/70\n",
      "476/476 [==============================] - 194s 408ms/step - loss: 0.0951 - Accuracy: 0.9826 - AD_Precision: 0.9819 - CN_Precision: 0.9823 - MCI_Precision: 0.9830 - AD_Recall: 0.9819 - CN_Recall: 0.9709 - MCI_Recall: 0.9886 - val_loss: 2.2980 - val_Accuracy: 0.8598 - val_AD_Precision: 0.9474 - val_CN_Precision: 0.9275 - val_MCI_Precision: 0.8092 - val_AD_Recall: 0.5934 - val_CN_Recall: 0.8649 - val_MCI_Recall: 0.9582\n",
      "Epoch 36/70\n",
      "476/476 [==============================] - 196s 413ms/step - loss: 0.0908 - Accuracy: 0.9853 - AD_Precision: 0.9703 - CN_Precision: 0.9881 - MCI_Precision: 0.9887 - AD_Recall: 0.9849 - CN_Recall: 0.9709 - MCI_Recall: 0.9924 - val_loss: 1.3514 - val_Accuracy: 0.8515 - val_AD_Precision: 0.7064 - val_CN_Precision: 0.9328 - val_MCI_Precision: 0.8723 - val_AD_Recall: 0.8462 - val_CN_Recall: 0.8446 - val_MCI_Recall: 0.8577\n",
      "Epoch 37/70\n",
      "476/476 [==============================] - 146s 307ms/step - loss: 0.0995 - Accuracy: 0.9847 - AD_Precision: 0.9730 - CN_Precision: 0.9844 - MCI_Precision: 0.9886 - AD_Recall: 0.9759 - CN_Recall: 0.9825 - MCI_Recall: 0.9886 - val_loss: 2.3733 - val_Accuracy: 0.8452 - val_AD_Precision: 0.9636 - val_CN_Precision: 0.9587 - val_MCI_Precision: 0.7781 - val_AD_Recall: 0.5824 - val_CN_Recall: 0.7838 - val_MCI_Recall: 0.9833\n",
      "Epoch 38/70\n",
      "476/476 [==============================] - 177s 370ms/step - loss: 0.1068 - Accuracy: 0.9805 - AD_Precision: 0.9788 - CN_Precision: 0.9804 - MCI_Precision: 0.9812 - AD_Recall: 0.9729 - CN_Recall: 0.9689 - MCI_Recall: 0.9886 - val_loss: 1.8759 - val_Accuracy: 0.8556 - val_AD_Precision: 0.9194 - val_CN_Precision: 0.9449 - val_MCI_Precision: 0.8056 - val_AD_Recall: 0.6264 - val_CN_Recall: 0.8108 - val_MCI_Recall: 0.9707\n",
      "Epoch 39/70\n",
      "476/476 [==============================] - 174s 366ms/step - loss: 0.0641 - Accuracy: 0.9842 - AD_Precision: 0.9879 - CN_Precision: 0.9824 - MCI_Precision: 0.9839 - AD_Recall: 0.9819 - CN_Recall: 0.9748 - MCI_Recall: 0.9886 - val_loss: 2.6049 - val_Accuracy: 0.8431 - val_AD_Precision: 0.8615 - val_CN_Precision: 0.9440 - val_MCI_Precision: 0.7951 - val_AD_Recall: 0.6154 - val_CN_Recall: 0.7973 - val_MCI_Recall: 0.9582\n",
      "Epoch 40/70\n",
      "476/476 [==============================] - 171s 357ms/step - loss: 0.0731 - Accuracy: 0.9842 - AD_Precision: 0.9760 - CN_Precision: 0.9844 - MCI_Precision: 0.9867 - AD_Recall: 0.9789 - CN_Recall: 0.9786 - MCI_Recall: 0.9886 - val_loss: 2.4670 - val_Accuracy: 0.8243 - val_AD_Precision: 0.8806 - val_CN_Precision: 0.9304 - val_MCI_Precision: 0.7703 - val_AD_Recall: 0.6484 - val_CN_Recall: 0.7230 - val_MCI_Recall: 0.9540\n",
      "Epoch 41/70\n",
      "476/476 [==============================] - 184s 385ms/step - loss: 0.0890 - Accuracy: 0.9858 - AD_Precision: 0.9787 - CN_Precision: 0.9883 - MCI_Precision: 0.9868 - AD_Recall: 0.9699 - CN_Recall: 0.9845 - MCI_Recall: 0.9896 - val_loss: 2.4799 - val_Accuracy: 0.8452 - val_AD_Precision: 0.7927 - val_CN_Precision: 0.9291 - val_MCI_Precision: 0.8216 - val_AD_Recall: 0.7143 - val_CN_Recall: 0.7973 - val_MCI_Recall: 0.9247\n",
      "Epoch 42/70\n",
      "476/476 [==============================] - 183s 384ms/step - loss: 0.0955 - Accuracy: 0.9874 - AD_Precision: 0.9850 - CN_Precision: 0.9882 - MCI_Precision: 0.9877 - AD_Recall: 0.9910 - CN_Recall: 0.9767 - MCI_Recall: 0.9915 - val_loss: 1.7776 - val_Accuracy: 0.8494 - val_AD_Precision: 0.9077 - val_CN_Precision: 0.9173 - val_MCI_Precision: 0.8036 - val_AD_Recall: 0.6484 - val_CN_Recall: 0.8243 - val_MCI_Recall: 0.9414\n",
      "Epoch 43/70\n",
      "476/476 [==============================] - 178s 372ms/step - loss: 0.0757 - Accuracy: 0.9874 - AD_Precision: 0.9848 - CN_Precision: 0.9863 - MCI_Precision: 0.9887 - AD_Recall: 0.9759 - CN_Recall: 0.9806 - MCI_Recall: 0.9943 - val_loss: 2.5625 - val_Accuracy: 0.8556 - val_AD_Precision: 0.8118 - val_CN_Precision: 0.8725 - val_MCI_Precision: 0.8642 - val_AD_Recall: 0.7582 - val_CN_Recall: 0.8784 - val_MCI_Recall: 0.8787\n",
      "Epoch 44/70\n",
      "476/476 [==============================] - 174s 365ms/step - loss: 0.0672 - Accuracy: 0.9879 - AD_Precision: 0.9849 - CN_Precision: 0.9903 - MCI_Precision: 0.9877 - AD_Recall: 0.9819 - CN_Recall: 0.9864 - MCI_Recall: 0.9905 - val_loss: 1.7233 - val_Accuracy: 0.8410 - val_AD_Precision: 0.9500 - val_CN_Precision: 0.8153 - val_MCI_Precision: 0.8314 - val_AD_Recall: 0.6264 - val_CN_Recall: 0.8649 - val_MCI_Recall: 0.9079\n",
      "Epoch 45/70\n",
      "476/476 [==============================] - 169s 356ms/step - loss: 0.0403 - Accuracy: 0.9900 - AD_Precision: 0.9910 - CN_Precision: 0.9883 - MCI_Precision: 0.9905 - AD_Recall: 0.9910 - CN_Recall: 0.9864 - MCI_Recall: 0.9905 - val_loss: 3.7405 - val_Accuracy: 0.8473 - val_AD_Precision: 0.9000 - val_CN_Precision: 0.8061 - val_MCI_Precision: 0.8595 - val_AD_Recall: 0.6923 - val_CN_Recall: 0.8986 - val_MCI_Recall: 0.8703\n",
      "Epoch 46/70\n",
      "476/476 [==============================] - 162s 341ms/step - loss: 0.0489 - Accuracy: 0.9900 - AD_Precision: 0.9939 - CN_Precision: 0.9902 - MCI_Precision: 0.9886 - AD_Recall: 0.9880 - CN_Recall: 0.9845 - MCI_Recall: 0.9905 - val_loss: 2.9128 - val_Accuracy: 0.8452 - val_AD_Precision: 0.8333 - val_CN_Precision: 0.8571 - val_MCI_Precision: 0.8419 - val_AD_Recall: 0.7143 - val_CN_Recall: 0.8514 - val_MCI_Recall: 0.8912\n",
      "Epoch 47/70\n",
      "476/476 [==============================] - 167s 348ms/step - loss: 0.1316 - Accuracy: 0.9826 - AD_Precision: 0.9698 - CN_Precision: 0.9843 - MCI_Precision: 0.9858 - AD_Recall: 0.9669 - CN_Recall: 0.9767 - MCI_Recall: 0.9905 - val_loss: 3.3009 - val_Accuracy: 0.8180 - val_AD_Precision: 0.9756 - val_CN_Precision: 0.7554 - val_MCI_Precision: 0.8373 - val_AD_Recall: 0.4396 - val_CN_Recall: 0.9392 - val_MCI_Recall: 0.8828\n",
      "Epoch 48/70\n",
      "476/476 [==============================] - 167s 352ms/step - loss: 0.0693 - Accuracy: 0.9826 - AD_Precision: 0.9758 - CN_Precision: 0.9863 - MCI_Precision: 0.9830 - AD_Recall: 0.9699 - CN_Recall: 0.9767 - MCI_Recall: 0.9896 - val_loss: 2.1091 - val_Accuracy: 0.8640 - val_AD_Precision: 0.8202 - val_CN_Precision: 0.8733 - val_MCI_Precision: 0.8745 - val_AD_Recall: 0.8022 - val_CN_Recall: 0.8851 - val_MCI_Recall: 0.8745\n",
      "Epoch 49/70\n",
      "476/476 [==============================] - 166s 349ms/step - loss: 0.0454 - Accuracy: 0.9916 - AD_Precision: 0.9970 - CN_Precision: 0.9922 - MCI_Precision: 0.9896 - AD_Recall: 0.9940 - CN_Recall: 0.9825 - MCI_Recall: 0.9953 - val_loss: 3.2731 - val_Accuracy: 0.8598 - val_AD_Precision: 0.8933 - val_CN_Precision: 0.8533 - val_MCI_Precision: 0.8538 - val_AD_Recall: 0.7363 - val_CN_Recall: 0.8649 - val_MCI_Recall: 0.9038\n",
      "Epoch 50/70\n",
      "476/476 [==============================] - 180s 379ms/step - loss: 0.1172 - Accuracy: 0.9821 - AD_Precision: 0.9702 - CN_Precision: 0.9824 - MCI_Precision: 0.9858 - AD_Recall: 0.9819 - CN_Recall: 0.9748 - MCI_Recall: 0.9848 - val_loss: 3.8742 - val_Accuracy: 0.8264 - val_AD_Precision: 0.9020 - val_CN_Precision: 0.9355 - val_MCI_Precision: 0.7690 - val_AD_Recall: 0.5055 - val_CN_Recall: 0.7838 - val_MCI_Recall: 0.9749\n",
      "Epoch 51/70\n",
      "476/476 [==============================] - 188s 396ms/step - loss: 0.0578 - Accuracy: 0.9916 - AD_Precision: 0.9880 - CN_Precision: 0.9961 - MCI_Precision: 0.9905 - AD_Recall: 0.9910 - CN_Recall: 0.9845 - MCI_Recall: 0.9943 - val_loss: 3.6700 - val_Accuracy: 0.8326 - val_AD_Precision: 0.9524 - val_CN_Precision: 0.7459 - val_MCI_Precision: 0.8696 - val_AD_Recall: 0.6593 - val_CN_Recall: 0.9324 - val_MCI_Recall: 0.8368\n",
      "Epoch 52/70\n",
      "476/476 [==============================] - 158s 332ms/step - loss: 0.0845 - Accuracy: 0.9895 - AD_Precision: 0.9850 - CN_Precision: 0.9883 - MCI_Precision: 0.9915 - AD_Recall: 0.9880 - CN_Recall: 0.9864 - MCI_Recall: 0.9915 - val_loss: 4.4843 - val_Accuracy: 0.8368 - val_AD_Precision: 0.8310 - val_CN_Precision: 0.9735 - val_MCI_Precision: 0.7857 - val_AD_Recall: 0.6484 - val_CN_Recall: 0.7432 - val_MCI_Recall: 0.9665\n",
      "Epoch 53/70\n",
      "476/476 [==============================] - 145s 306ms/step - loss: 0.0866 - Accuracy: 0.9858 - AD_Precision: 0.9760 - CN_Precision: 0.9921 - MCI_Precision: 0.9858 - AD_Recall: 0.9789 - CN_Recall: 0.9806 - MCI_Recall: 0.9905 - val_loss: 3.0721 - val_Accuracy: 0.8285 - val_AD_Precision: 0.9016 - val_CN_Precision: 0.9113 - val_MCI_Precision: 0.7782 - val_AD_Recall: 0.6044 - val_CN_Recall: 0.7635 - val_MCI_Recall: 0.9540\n",
      "Epoch 54/70\n",
      "476/476 [==============================] - 149s 313ms/step - loss: 0.0526 - Accuracy: 0.9905 - AD_Precision: 0.9880 - CN_Precision: 0.9903 - MCI_Precision: 0.9933 - AD_Recall: 0.9880 - CN_Recall: 0.9903 - MCI_Recall: 0.9839 - val_loss: 3.7776 - val_Accuracy: 0.8368 - val_AD_Precision: 0.8710 - val_CN_Precision: 0.9365 - val_MCI_Precision: 0.7862 - val_AD_Recall: 0.5934 - val_CN_Recall: 0.7973 - val_MCI_Recall: 0.9540\n",
      "Epoch 55/70\n",
      "476/476 [==============================] - 145s 304ms/step - loss: 0.0539 - Accuracy: 0.9921 - AD_Precision: 0.9940 - CN_Precision: 0.9941 - MCI_Precision: 0.9905 - AD_Recall: 0.9910 - CN_Recall: 0.9864 - MCI_Recall: 0.9943 - val_loss: 4.1863 - val_Accuracy: 0.8452 - val_AD_Precision: 0.9365 - val_CN_Precision: 0.9344 - val_MCI_Precision: 0.7884 - val_AD_Recall: 0.6484 - val_CN_Recall: 0.7703 - val_MCI_Recall: 0.9665\n",
      "Epoch 56/70\n",
      "476/476 [==============================] - 161s 338ms/step - loss: 0.0307 - Accuracy: 0.9932 - AD_Precision: 0.9909 - CN_Precision: 0.9980 - MCI_Precision: 0.9915 - AD_Recall: 0.9880 - CN_Recall: 0.9864 - MCI_Recall: 0.9962 - val_loss: 2.7076 - val_Accuracy: 0.8619 - val_AD_Precision: 0.8261 - val_CN_Precision: 0.8221 - val_MCI_Precision: 0.9058 - val_AD_Recall: 0.8352 - val_CN_Recall: 0.9054 - val_MCI_Recall: 0.8452\n",
      "Epoch 57/70\n",
      "476/476 [==============================] - 142s 298ms/step - loss: 0.0889 - Accuracy: 0.9874 - AD_Precision: 0.9819 - CN_Precision: 0.9882 - MCI_Precision: 0.9887 - AD_Recall: 0.9819 - CN_Recall: 0.9767 - MCI_Recall: 0.9943 - val_loss: 3.2510 - val_Accuracy: 0.8640 - val_AD_Precision: 0.8667 - val_CN_Precision: 0.8707 - val_MCI_Precision: 0.8594 - val_AD_Recall: 0.7143 - val_CN_Recall: 0.8649 - val_MCI_Recall: 0.9205\n",
      "Epoch 58/70\n",
      "476/476 [==============================] - 156s 328ms/step - loss: 0.0622 - Accuracy: 0.9884 - AD_Precision: 0.9820 - CN_Precision: 0.9883 - MCI_Precision: 0.9905 - AD_Recall: 0.9849 - CN_Recall: 0.9825 - MCI_Recall: 0.9915 - val_loss: 3.3946 - val_Accuracy: 0.8452 - val_AD_Precision: 0.8219 - val_CN_Precision: 0.9286 - val_MCI_Precision: 0.8136 - val_AD_Recall: 0.6593 - val_CN_Recall: 0.7905 - val_MCI_Recall: 0.9498\n",
      "Epoch 59/70\n",
      "476/476 [==============================] - 173s 364ms/step - loss: 0.0500 - Accuracy: 0.9921 - AD_Precision: 0.9850 - CN_Precision: 0.9961 - MCI_Precision: 0.9924 - AD_Recall: 0.9910 - CN_Recall: 0.9883 - MCI_Recall: 0.9943 - val_loss: 5.5480 - val_Accuracy: 0.8452 - val_AD_Precision: 0.8871 - val_CN_Precision: 0.9231 - val_MCI_Precision: 0.8007 - val_AD_Recall: 0.6044 - val_CN_Recall: 0.8108 - val_MCI_Recall: 0.9582\n",
      "Epoch 60/70\n",
      "476/476 [==============================] - 172s 361ms/step - loss: 0.0595 - Accuracy: 0.9868 - AD_Precision: 0.9880 - CN_Precision: 0.9843 - MCI_Precision: 0.9877 - AD_Recall: 0.9910 - CN_Recall: 0.9767 - MCI_Recall: 0.9905 - val_loss: 7.0110 - val_Accuracy: 0.7490 - val_AD_Precision: 0.9333 - val_CN_Precision: 0.5966 - val_MCI_Precision: 0.8939 - val_AD_Recall: 0.6154 - val_CN_Recall: 0.9595 - val_MCI_Recall: 0.6695\n",
      "Epoch 61/70\n",
      "476/476 [==============================] - 175s 368ms/step - loss: 0.0493 - Accuracy: 0.9921 - AD_Precision: 0.9940 - CN_Precision: 0.9922 - MCI_Precision: 0.9915 - AD_Recall: 0.9910 - CN_Recall: 0.9883 - MCI_Recall: 0.9924 - val_loss: 3.6809 - val_Accuracy: 0.8640 - val_AD_Precision: 0.7765 - val_CN_Precision: 0.9078 - val_MCI_Precision: 0.8690 - val_AD_Recall: 0.7253 - val_CN_Recall: 0.8649 - val_MCI_Recall: 0.9163\n",
      "Epoch 62/70\n",
      "476/476 [==============================] - 179s 376ms/step - loss: 0.0971 - Accuracy: 0.9868 - AD_Precision: 0.9849 - CN_Precision: 0.9843 - MCI_Precision: 0.9886 - AD_Recall: 0.9849 - CN_Recall: 0.9767 - MCI_Recall: 0.9915 - val_loss: 4.8217 - val_Accuracy: 0.8159 - val_AD_Precision: 0.9245 - val_CN_Precision: 0.7472 - val_MCI_Precision: 0.8421 - val_AD_Recall: 0.5385 - val_CN_Recall: 0.8986 - val_MCI_Recall: 0.8703\n",
      "Epoch 63/70\n",
      "476/476 [==============================] - 176s 369ms/step - loss: 0.0668 - Accuracy: 0.9911 - AD_Precision: 0.9939 - CN_Precision: 0.9922 - MCI_Precision: 0.9896 - AD_Recall: 0.9819 - CN_Recall: 0.9883 - MCI_Recall: 0.9953 - val_loss: 3.8268 - val_Accuracy: 0.8682 - val_AD_Precision: 0.8072 - val_CN_Precision: 0.9028 - val_MCI_Precision: 0.8685 - val_AD_Recall: 0.7363 - val_CN_Recall: 0.8784 - val_MCI_Recall: 0.9121\n",
      "Epoch 64/70\n",
      "476/476 [==============================] - 187s 393ms/step - loss: 0.0695 - Accuracy: 0.9921 - AD_Precision: 0.9881 - CN_Precision: 0.9961 - MCI_Precision: 0.9915 - AD_Recall: 0.9970 - CN_Recall: 0.9825 - MCI_Recall: 0.9953 - val_loss: 4.8340 - val_Accuracy: 0.8473 - val_AD_Precision: 0.8769 - val_CN_Precision: 0.9449 - val_MCI_Precision: 0.7972 - val_AD_Recall: 0.6264 - val_CN_Recall: 0.8108 - val_MCI_Recall: 0.9540\n",
      "Epoch 65/70\n",
      "476/476 [==============================] - 199s 419ms/step - loss: 0.0997 - Accuracy: 0.9905 - AD_Precision: 0.9880 - CN_Precision: 0.9941 - MCI_Precision: 0.9896 - AD_Recall: 0.9880 - CN_Recall: 0.9845 - MCI_Recall: 0.9943 - val_loss: 4.5213 - val_Accuracy: 0.8577 - val_AD_Precision: 0.8133 - val_CN_Precision: 0.9130 - val_MCI_Precision: 0.8415 - val_AD_Recall: 0.6703 - val_CN_Recall: 0.8514 - val_MCI_Recall: 0.9331\n",
      "Epoch 66/70\n",
      "476/476 [==============================] - 177s 371ms/step - loss: 0.0735 - Accuracy: 0.9879 - AD_Precision: 0.9850 - CN_Precision: 0.9883 - MCI_Precision: 0.9886 - AD_Recall: 0.9880 - CN_Recall: 0.9806 - MCI_Recall: 0.9915 - val_loss: 3.5977 - val_Accuracy: 0.8536 - val_AD_Precision: 0.8554 - val_CN_Precision: 0.8389 - val_MCI_Precision: 0.8618 - val_AD_Recall: 0.7802 - val_CN_Recall: 0.8446 - val_MCI_Recall: 0.8870\n",
      "Epoch 67/70\n",
      "476/476 [==============================] - 183s 384ms/step - loss: 0.0470 - Accuracy: 0.9911 - AD_Precision: 0.9880 - CN_Precision: 0.9961 - MCI_Precision: 0.9896 - AD_Recall: 0.9880 - CN_Recall: 0.9864 - MCI_Recall: 0.9943 - val_loss: 4.4976 - val_Accuracy: 0.8473 - val_AD_Precision: 0.8507 - val_CN_Precision: 0.8913 - val_MCI_Precision: 0.8242 - val_AD_Recall: 0.6264 - val_CN_Recall: 0.8311 - val_MCI_Recall: 0.9414\n",
      "Epoch 68/70\n",
      "476/476 [==============================] - 215s 452ms/step - loss: 0.0513 - Accuracy: 0.9911 - AD_Precision: 0.9879 - CN_Precision: 0.9961 - MCI_Precision: 0.9896 - AD_Recall: 0.9819 - CN_Recall: 0.9845 - MCI_Recall: 0.9972 - val_loss: 3.4662 - val_Accuracy: 0.8745 - val_AD_Precision: 0.8780 - val_CN_Precision: 0.8784 - val_MCI_Precision: 0.8710 - val_AD_Recall: 0.7912 - val_CN_Recall: 0.8784 - val_MCI_Recall: 0.9038\n",
      "Epoch 69/70\n",
      "476/476 [==============================] - 166s 349ms/step - loss: 0.0632 - Accuracy: 0.9926 - AD_Precision: 0.9909 - CN_Precision: 0.9941 - MCI_Precision: 0.9924 - AD_Recall: 0.9849 - CN_Recall: 0.9883 - MCI_Recall: 0.9972 - val_loss: 3.4262 - val_Accuracy: 0.8577 - val_AD_Precision: 0.7979 - val_CN_Precision: 0.8553 - val_MCI_Precision: 0.8836 - val_AD_Recall: 0.8242 - val_CN_Recall: 0.8784 - val_MCI_Recall: 0.8577\n",
      "Epoch 70/70\n",
      "476/476 [==============================] - 156s 327ms/step - loss: 0.0550 - Accuracy: 0.9932 - AD_Precision: 0.9881 - CN_Precision: 0.9961 - MCI_Precision: 0.9934 - AD_Recall: 0.9970 - CN_Recall: 0.9845 - MCI_Recall: 0.9962 - val_loss: 4.4571 - val_Accuracy: 0.8536 - val_AD_Precision: 0.8732 - val_CN_Precision: 0.8385 - val_MCI_Precision: 0.8577 - val_AD_Recall: 0.6813 - val_CN_Recall: 0.9122 - val_MCI_Recall: 0.8828\n"
     ]
    },
    {
     "name": "stderr",
     "output_type": "stream",
     "text": [
      "/apps/tensorflow/2.7.0/lib/python3.9/site-packages/keras/engine/functional.py:1410: CustomMaskWarning: Custom mask layers require a config and must override get_config. When loading, the custom mask layer must be passed to the custom_objects argument.\n",
      "  layer_config = serialize_layer_fn(layer)\n"
     ]
    },
    {
     "name": "stdout",
     "output_type": "stream",
     "text": [
      "              precision    recall  f1-score   support\n",
      "\n",
      "          AD       0.88      0.79      0.83        91\n",
      "          CN       0.88      0.88      0.88       148\n",
      "         MCI       0.87      0.90      0.89       239\n",
      "\n",
      "    accuracy                           0.87       478\n",
      "   macro avg       0.88      0.86      0.87       478\n",
      "weighted avg       0.87      0.87      0.87       478\n",
      "\n"
     ]
    },
    {
     "data": {
      "image/png": "[encoded data removed]",
      "text/plain": [
       "<Figure size 432x288 with 2 Axes>"
      ]
     },
     "metadata": {
      "needs_background": "light"
     },
     "output_type": "display_data"
    }
   ],
   "source": [
    "savepath = 'Finetuning/Resnet_70_0.0001/'\n",
    "lr=0.0001\n",
    "if not os.path.isdir(savepath):\n",
    "      os.makedirs(savepath)\n",
    "csvloger_callback = tf.keras.callbacks.CSVLogger(f'{savepath}history.csv', separator=',', append=False)\n",
    "\n",
    "modelcheckpoint_callback = tf.keras.callbacks.ModelCheckpoint(savepath+'resnet50_row_10E-5_weights-epoch:{epoch:03d}-val_Accuracy:{val_Accuracy:.4f}.h5',monitor='val_Accuracy'\n",
    "    ,verbose=0,save_best_only=True,save_weights_only=True,mode='max',save_freq='epoch' , initial_value_threshold=0.85)\n",
    "\n",
    "OPT = tf.keras.optimizers.RMSprop(learning_rate=lr)\n",
    "model04 = resnet50_row(OPT, LOOS,METRICS,image_Shape)\n",
    "history04 = model04.fit(training_image_datagen, epochs=EPOCH, validation_data=testing_image_datagen,callbacks=[csvloger_callback,modelcheckpoint_callback])\n",
    "model04 = resnet50_row(OPT, LOOS,METRICS,image_Shape)\n",
    "model04.load_weights(glob.glob(f\"{savepath}resnet50_row_10E-5_weights-epoch:*-val_Accuracy:{max(history04.history['val_Accuracy']):.4f}.h5\")[0])\n",
    "model04.save(f\"{savepath}/Resnet_70_0.0001.h5\")\n",
    "p1 = model04.predict(testing_image_datagen)\n",
    "predicted_lab = p1.argmax(axis=-1)\n",
    "true_lab = testing_image_datagen.classes\n",
    "plot_confusion_matrix(true_lab, predicted_lab, testing_image_datagen.class_indices.keys(),savepath)\n",
    "report = classification_report(true_lab, predicted_lab, target_names=testing_image_datagen.class_indices.keys())\n",
    "print(report)\n",
    "dump_text(report,f'{savepath}classification_report.txt')\n",
    "np.save(\"resnet_70_0.0001.npy\",p1 )"
   ]
  },
  {
   "cell_type": "code",
   "execution_count": 9,
   "id": "66756067-4c46-4750-9bcb-9bec67de36b0",
   "metadata": {},
   "outputs": [
    {
     "name": "stdout",
     "output_type": "stream",
     "text": [
      "Epoch 1/100\n"
     ]
    },
    {
     "name": "stderr",
     "output_type": "stream",
     "text": [
      "2024-04-01 11:33:32.082639: I tensorflow/stream_executor/cuda/cuda_dnn.cc:366] Loaded cuDNN version 8201\n"
     ]
    },
    {
     "name": "stdout",
     "output_type": "stream",
     "text": [
      "476/476 [==============================] - 81s 150ms/step - loss: 11.5112 - Accuracy: 0.4682 - AD_Precision: 0.2356 - CN_Precision: 0.3588 - MCI_Precision: 0.5760 - AD_Recall: 0.1596 - CN_Recall: 0.3010 - MCI_Recall: 0.5683 - val_loss: 1.6969 - val_Accuracy: 0.5000 - val_AD_Precision: 0.0000e+00 - val_CN_Precision: 0.0000e+00 - val_MCI_Precision: 0.5000 - val_AD_Recall: 0.0000e+00 - val_CN_Recall: 0.0000e+00 - val_MCI_Recall: 1.0000\n",
      "Epoch 2/100\n",
      "476/476 [==============================] - 67s 140ms/step - loss: 1.0604 - Accuracy: 0.5234 - AD_Precision: 0.2022 - CN_Precision: 0.4836 - MCI_Precision: 0.5886 - AD_Recall: 0.0542 - CN_Recall: 0.2583 - MCI_Recall: 0.5797 - val_loss: 1.6673 - val_Accuracy: 0.4519 - val_AD_Precision: 0.0000e+00 - val_CN_Precision: 0.4116 - val_MCI_Precision: 0.5581 - val_AD_Recall: 0.0000e+00 - val_CN_Recall: 0.9595 - val_MCI_Recall: 0.3013\n",
      "Epoch 3/100\n",
      "476/476 [==============================] - 69s 145ms/step - loss: 0.9248 - Accuracy: 0.5865 - AD_Precision: 0.4494 - CN_Precision: 0.5850 - MCI_Precision: 0.6289 - AD_Recall: 0.2139 - CN_Recall: 0.4078 - MCI_Recall: 0.6850 - val_loss: 1.1919 - val_Accuracy: 0.6109 - val_AD_Precision: 1.0000 - val_CN_Precision: 0.5950 - val_MCI_Precision: 0.6236 - val_AD_Recall: 0.0110 - val_CN_Recall: 0.8041 - val_MCI_Recall: 0.7071\n",
      "Epoch 4/100\n",
      "476/476 [==============================] - 67s 140ms/step - loss: 0.7932 - Accuracy: 0.6807 - AD_Precision: 0.6158 - CN_Precision: 0.7129 - MCI_Precision: 0.7111 - AD_Recall: 0.3765 - CN_Recall: 0.5883 - MCI_Recall: 0.7590 - val_loss: 1.6038 - val_Accuracy: 0.5858 - val_AD_Precision: 0.7778 - val_CN_Precision: 0.9394 - val_MCI_Precision: 0.5516 - val_AD_Recall: 0.1538 - val_CN_Recall: 0.2095 - val_MCI_Recall: 0.9833\n",
      "Epoch 5/100\n",
      "476/476 [==============================] - 67s 141ms/step - loss: 0.6377 - Accuracy: 0.7628 - AD_Precision: 0.7033 - CN_Precision: 0.8018 - MCI_Precision: 0.7711 - AD_Recall: 0.5783 - CN_Recall: 0.6990 - MCI_Recall: 0.8245 - val_loss: 2.0969 - val_Accuracy: 0.5753 - val_AD_Precision: 0.8750 - val_CN_Precision: 0.4593 - val_MCI_Precision: 0.8033 - val_AD_Recall: 0.3077 - val_CN_Recall: 0.9527 - val_MCI_Recall: 0.4100\n",
      "Epoch 6/100\n",
      "476/476 [==============================] - 69s 145ms/step - loss: 0.5152 - Accuracy: 0.8159 - AD_Precision: 0.7601 - CN_Precision: 0.8462 - MCI_Precision: 0.8248 - AD_Recall: 0.6777 - CN_Recall: 0.8117 - MCI_Recall: 0.8444 - val_loss: 1.3148 - val_Accuracy: 0.7259 - val_AD_Precision: 0.8621 - val_CN_Precision: 0.9293 - val_MCI_Precision: 0.6590 - val_AD_Recall: 0.2747 - val_CN_Recall: 0.6216 - val_MCI_Recall: 0.9623\n",
      "Epoch 7/100\n",
      "476/476 [==============================] - 67s 140ms/step - loss: 0.4367 - Accuracy: 0.8496 - AD_Precision: 0.8092 - CN_Precision: 0.8657 - MCI_Precision: 0.8590 - AD_Recall: 0.7410 - CN_Recall: 0.8388 - MCI_Recall: 0.8786 - val_loss: 2.5105 - val_Accuracy: 0.6506 - val_AD_Precision: 1.0000 - val_CN_Precision: 0.8621 - val_MCI_Precision: 0.6005 - val_AD_Recall: 0.0330 - val_CN_Recall: 0.5068 - val_MCI_Recall: 0.9749\n",
      "Epoch 8/100\n",
      "476/476 [==============================] - 70s 146ms/step - loss: 0.3765 - Accuracy: 0.8843 - AD_Precision: 0.8486 - CN_Precision: 0.9030 - MCI_Precision: 0.8935 - AD_Recall: 0.8102 - CN_Recall: 0.8680 - MCI_Recall: 0.9070 - val_loss: 1.9483 - val_Accuracy: 0.7448 - val_AD_Precision: 0.9118 - val_CN_Precision: 0.8534 - val_MCI_Precision: 0.6911 - val_AD_Recall: 0.3407 - val_CN_Recall: 0.6689 - val_MCI_Recall: 0.9456\n",
      "Epoch 9/100\n",
      "476/476 [==============================] - 69s 145ms/step - loss: 0.3196 - Accuracy: 0.9032 - AD_Precision: 0.8754 - CN_Precision: 0.9119 - MCI_Precision: 0.9102 - AD_Recall: 0.8253 - CN_Recall: 0.9049 - MCI_Recall: 0.9231 - val_loss: 1.0586 - val_Accuracy: 0.8096 - val_AD_Precision: 0.7778 - val_CN_Precision: 0.8889 - val_MCI_Precision: 0.7821 - val_AD_Recall: 0.6154 - val_CN_Recall: 0.7568 - val_MCI_Recall: 0.9163\n",
      "Epoch 10/100\n",
      "476/476 [==============================] - 67s 141ms/step - loss: 0.2756 - Accuracy: 0.9143 - AD_Precision: 0.8571 - CN_Precision: 0.9426 - MCI_Precision: 0.9229 - AD_Recall: 0.8313 - CN_Recall: 0.9243 - MCI_Recall: 0.9317 - val_loss: 1.0955 - val_Accuracy: 0.7950 - val_AD_Precision: 0.8679 - val_CN_Precision: 0.9244 - val_MCI_Precision: 0.7368 - val_AD_Recall: 0.5055 - val_CN_Recall: 0.7432 - val_MCI_Recall: 0.9372\n",
      "Epoch 11/100\n",
      "476/476 [==============================] - 67s 141ms/step - loss: 0.2560 - Accuracy: 0.9295 - AD_Precision: 0.8934 - CN_Precision: 0.9490 - MCI_Precision: 0.9336 - AD_Recall: 0.8584 - CN_Recall: 0.9398 - MCI_Recall: 0.9469 - val_loss: 0.9702 - val_Accuracy: 0.7699 - val_AD_Precision: 1.0000 - val_CN_Precision: 0.7798 - val_MCI_Precision: 0.7411 - val_AD_Recall: 0.2967 - val_CN_Recall: 0.8851 - val_MCI_Recall: 0.8745\n",
      "Epoch 12/100\n",
      "476/476 [==============================] - 67s 140ms/step - loss: 0.2348 - Accuracy: 0.9285 - AD_Precision: 0.9228 - CN_Precision: 0.9246 - MCI_Precision: 0.9335 - AD_Recall: 0.9006 - CN_Recall: 0.9049 - MCI_Recall: 0.9450 - val_loss: 1.3917 - val_Accuracy: 0.8075 - val_AD_Precision: 0.9375 - val_CN_Precision: 0.8429 - val_MCI_Precision: 0.7690 - val_AD_Recall: 0.4945 - val_CN_Recall: 0.7973 - val_MCI_Recall: 0.9331\n",
      "Epoch 13/100\n",
      "476/476 [==============================] - 67s 140ms/step - loss: 0.1854 - Accuracy: 0.9458 - AD_Precision: 0.9350 - CN_Precision: 0.9473 - MCI_Precision: 0.9519 - AD_Recall: 0.9096 - CN_Recall: 0.9417 - MCI_Recall: 0.9573 - val_loss: 2.0971 - val_Accuracy: 0.7782 - val_AD_Precision: 0.9444 - val_CN_Precision: 0.9279 - val_MCI_Precision: 0.7100 - val_AD_Recall: 0.3736 - val_CN_Recall: 0.6959 - val_MCI_Recall: 0.9833\n",
      "Epoch 14/100\n",
      "476/476 [==============================] - 67s 140ms/step - loss: 0.1847 - Accuracy: 0.9463 - AD_Precision: 0.9387 - CN_Precision: 0.9524 - MCI_Precision: 0.9467 - AD_Recall: 0.9217 - CN_Recall: 0.9320 - MCI_Recall: 0.9611 - val_loss: 1.5485 - val_Accuracy: 0.8033 - val_AD_Precision: 0.7361 - val_CN_Precision: 0.7598 - val_MCI_Precision: 0.8584 - val_AD_Recall: 0.5824 - val_CN_Recall: 0.9189 - val_MCI_Recall: 0.8117\n",
      "Epoch 15/100\n",
      "476/476 [==============================] - 67s 140ms/step - loss: 0.1735 - Accuracy: 0.9479 - AD_Precision: 0.9398 - CN_Precision: 0.9428 - MCI_Precision: 0.9528 - AD_Recall: 0.9398 - CN_Recall: 0.9282 - MCI_Recall: 0.9573 - val_loss: 2.2702 - val_Accuracy: 0.7803 - val_AD_Precision: 0.9250 - val_CN_Precision: 0.9537 - val_MCI_Precision: 0.7061 - val_AD_Recall: 0.4066 - val_CN_Recall: 0.6959 - val_MCI_Recall: 0.9749\n",
      "Epoch 16/100\n",
      "476/476 [==============================] - 69s 145ms/step - loss: 0.1694 - Accuracy: 0.9548 - AD_Precision: 0.9455 - CN_Precision: 0.9568 - MCI_Precision: 0.9592 - AD_Recall: 0.9398 - CN_Recall: 0.9456 - MCI_Recall: 0.9602 - val_loss: 1.7033 - val_Accuracy: 0.8222 - val_AD_Precision: 0.9565 - val_CN_Precision: 0.9280 - val_MCI_Precision: 0.7590 - val_AD_Recall: 0.4835 - val_CN_Recall: 0.7838 - val_MCI_Recall: 0.9749\n",
      "Epoch 17/100\n",
      "476/476 [==============================] - 67s 140ms/step - loss: 0.1187 - Accuracy: 0.9679 - AD_Precision: 0.9604 - CN_Precision: 0.9688 - MCI_Precision: 0.9698 - AD_Recall: 0.9488 - CN_Recall: 0.9631 - MCI_Recall: 0.9763 - val_loss: 1.4545 - val_Accuracy: 0.8054 - val_AD_Precision: 0.6860 - val_CN_Precision: 0.7879 - val_MCI_Precision: 0.8634 - val_AD_Recall: 0.6484 - val_CN_Recall: 0.8784 - val_MCI_Recall: 0.8201\n",
      "Epoch 18/100\n",
      "476/476 [==============================] - 69s 145ms/step - loss: 0.1506 - Accuracy: 0.9637 - AD_Precision: 0.9573 - CN_Precision: 0.9685 - MCI_Precision: 0.9633 - AD_Recall: 0.9458 - CN_Recall: 0.9553 - MCI_Recall: 0.9725 - val_loss: 1.4825 - val_Accuracy: 0.8347 - val_AD_Precision: 0.9583 - val_CN_Precision: 0.8377 - val_MCI_Precision: 0.8102 - val_AD_Recall: 0.5055 - val_CN_Recall: 0.8716 - val_MCI_Recall: 0.9289\n",
      "Epoch 19/100\n",
      "476/476 [==============================] - 66s 139ms/step - loss: 0.1186 - Accuracy: 0.9690 - AD_Precision: 0.9670 - CN_Precision: 0.9646 - MCI_Precision: 0.9726 - AD_Recall: 0.9699 - CN_Recall: 0.9515 - MCI_Recall: 0.9772 - val_loss: 4.6470 - val_Accuracy: 0.7615 - val_AD_Precision: 1.0000 - val_CN_Precision: 0.8647 - val_MCI_Precision: 0.7046 - val_AD_Recall: 0.2198 - val_CN_Recall: 0.7770 - val_MCI_Recall: 0.9582\n",
      "Epoch 20/100\n",
      "476/476 [==============================] - 66s 140ms/step - loss: 0.1241 - Accuracy: 0.9711 - AD_Precision: 0.9665 - CN_Precision: 0.9726 - MCI_Precision: 0.9726 - AD_Recall: 0.9548 - CN_Recall: 0.9650 - MCI_Recall: 0.9782 - val_loss: 2.6355 - val_Accuracy: 0.7720 - val_AD_Precision: 0.8500 - val_CN_Precision: 0.9533 - val_MCI_Precision: 0.7039 - val_AD_Recall: 0.3736 - val_CN_Recall: 0.6892 - val_MCI_Recall: 0.9749\n",
      "Epoch 21/100\n",
      "476/476 [==============================] - 69s 145ms/step - loss: 0.1134 - Accuracy: 0.9721 - AD_Precision: 0.9459 - CN_Precision: 0.9843 - MCI_Precision: 0.9745 - AD_Recall: 0.9488 - CN_Recall: 0.9728 - MCI_Recall: 0.9782 - val_loss: 1.9242 - val_Accuracy: 0.8368 - val_AD_Precision: 0.8400 - val_CN_Precision: 0.9573 - val_MCI_Precision: 0.7867 - val_AD_Recall: 0.6923 - val_CN_Recall: 0.7568 - val_MCI_Recall: 0.9414\n",
      "Epoch 22/100\n",
      "476/476 [==============================] - 67s 140ms/step - loss: 0.1180 - Accuracy: 0.9700 - AD_Precision: 0.9635 - CN_Precision: 0.9687 - MCI_Precision: 0.9727 - AD_Recall: 0.9548 - CN_Recall: 0.9612 - MCI_Recall: 0.9791 - val_loss: 3.0747 - val_Accuracy: 0.7992 - val_AD_Precision: 0.7561 - val_CN_Precision: 0.8947 - val_MCI_Precision: 0.7730 - val_AD_Recall: 0.6813 - val_CN_Recall: 0.6892 - val_MCI_Recall: 0.9121\n",
      "Epoch 23/100\n",
      "476/476 [==============================] - 67s 140ms/step - loss: 0.1166 - Accuracy: 0.9716 - AD_Precision: 0.9697 - CN_Precision: 0.9688 - MCI_Precision: 0.9736 - AD_Recall: 0.9639 - CN_Recall: 0.9631 - MCI_Recall: 0.9782 - val_loss: 2.5946 - val_Accuracy: 0.7615 - val_AD_Precision: 0.8103 - val_CN_Precision: 0.9767 - val_MCI_Precision: 0.6997 - val_AD_Recall: 0.5165 - val_CN_Recall: 0.5676 - val_MCI_Recall: 0.9749\n",
      "Epoch 24/100\n",
      "476/476 [==============================] - 66s 140ms/step - loss: 0.0881 - Accuracy: 0.9805 - AD_Precision: 0.9758 - CN_Precision: 0.9843 - MCI_Precision: 0.9802 - AD_Recall: 0.9729 - CN_Recall: 0.9728 - MCI_Recall: 0.9867 - val_loss: 2.7757 - val_Accuracy: 0.8159 - val_AD_Precision: 0.8793 - val_CN_Precision: 0.8889 - val_MCI_Precision: 0.7721 - val_AD_Recall: 0.5604 - val_CN_Recall: 0.7568 - val_MCI_Recall: 0.9498\n",
      "Epoch 25/100\n",
      "476/476 [==============================] - 67s 140ms/step - loss: 0.1306 - Accuracy: 0.9679 - AD_Precision: 0.9551 - CN_Precision: 0.9688 - MCI_Precision: 0.9715 - AD_Recall: 0.9608 - CN_Recall: 0.9631 - MCI_Recall: 0.9715 - val_loss: 2.8421 - val_Accuracy: 0.8096 - val_AD_Precision: 0.9091 - val_CN_Precision: 0.9444 - val_MCI_Precision: 0.7460 - val_AD_Recall: 0.5495 - val_CN_Recall: 0.6892 - val_MCI_Recall: 0.9833\n",
      "Epoch 26/100\n",
      "476/476 [==============================] - 67s 140ms/step - loss: 0.1016 - Accuracy: 0.9737 - AD_Precision: 0.9496 - CN_Precision: 0.9804 - MCI_Precision: 0.9781 - AD_Recall: 0.9639 - CN_Recall: 0.9728 - MCI_Recall: 0.9763 - val_loss: 2.5849 - val_Accuracy: 0.7971 - val_AD_Precision: 0.8276 - val_CN_Precision: 0.9292 - val_MCI_Precision: 0.7427 - val_AD_Recall: 0.5275 - val_CN_Recall: 0.7095 - val_MCI_Recall: 0.9540\n",
      "Epoch 27/100\n",
      "476/476 [==============================] - 67s 140ms/step - loss: 0.1200 - Accuracy: 0.9690 - AD_Precision: 0.9758 - CN_Precision: 0.9627 - MCI_Precision: 0.9717 - AD_Recall: 0.9699 - CN_Recall: 0.9534 - MCI_Recall: 0.9763 - val_loss: 1.3262 - val_Accuracy: 0.8347 - val_AD_Precision: 0.9298 - val_CN_Precision: 0.8483 - val_MCI_Precision: 0.8080 - val_AD_Recall: 0.5824 - val_CN_Recall: 0.8311 - val_MCI_Recall: 0.9331\n",
      "Epoch 28/100\n",
      "476/476 [==============================] - 66s 140ms/step - loss: 0.0921 - Accuracy: 0.9826 - AD_Precision: 0.9789 - CN_Precision: 0.9805 - MCI_Precision: 0.9857 - AD_Recall: 0.9759 - CN_Recall: 0.9767 - MCI_Recall: 0.9839 - val_loss: 1.6887 - val_Accuracy: 0.8243 - val_AD_Precision: 0.7971 - val_CN_Precision: 0.9134 - val_MCI_Precision: 0.7908 - val_AD_Recall: 0.6044 - val_CN_Recall: 0.7838 - val_MCI_Recall: 0.9331\n",
      "Epoch 29/100\n",
      "476/476 [==============================] - 67s 140ms/step - loss: 0.0666 - Accuracy: 0.9847 - AD_Precision: 0.9909 - CN_Precision: 0.9843 - MCI_Precision: 0.9830 - AD_Recall: 0.9819 - CN_Recall: 0.9767 - MCI_Recall: 0.9867 - val_loss: 1.4093 - val_Accuracy: 0.8264 - val_AD_Precision: 0.6466 - val_CN_Precision: 0.9297 - val_MCI_Precision: 0.8590 - val_AD_Recall: 0.8242 - val_CN_Recall: 0.8041 - val_MCI_Recall: 0.8410\n",
      "Epoch 30/100\n",
      "476/476 [==============================] - 67s 140ms/step - loss: 0.0895 - Accuracy: 0.9842 - AD_Precision: 0.9818 - CN_Precision: 0.9863 - MCI_Precision: 0.9840 - AD_Recall: 0.9729 - CN_Recall: 0.9767 - MCI_Recall: 0.9905 - val_loss: 3.5694 - val_Accuracy: 0.7992 - val_AD_Precision: 0.9138 - val_CN_Precision: 0.9510 - val_MCI_Precision: 0.7296 - val_AD_Recall: 0.5824 - val_CN_Recall: 0.6554 - val_MCI_Recall: 0.9707\n",
      "Epoch 31/100\n",
      "476/476 [==============================] - 66s 140ms/step - loss: 0.0920 - Accuracy: 0.9832 - AD_Precision: 0.9729 - CN_Precision: 0.9863 - MCI_Precision: 0.9849 - AD_Recall: 0.9729 - CN_Recall: 0.9786 - MCI_Recall: 0.9877 - val_loss: 4.4072 - val_Accuracy: 0.7824 - val_AD_Precision: 1.0000 - val_CN_Precision: 0.8692 - val_MCI_Precision: 0.7247 - val_AD_Recall: 0.3516 - val_CN_Recall: 0.7635 - val_MCI_Recall: 0.9582\n",
      "Epoch 32/100\n",
      "476/476 [==============================] - 67s 140ms/step - loss: 0.0948 - Accuracy: 0.9774 - AD_Precision: 0.9729 - CN_Precision: 0.9747 - MCI_Precision: 0.9801 - AD_Recall: 0.9729 - CN_Recall: 0.9709 - MCI_Recall: 0.9820 - val_loss: 2.3549 - val_Accuracy: 0.8201 - val_AD_Precision: 0.8667 - val_CN_Precision: 0.9237 - val_MCI_Precision: 0.7700 - val_AD_Recall: 0.5714 - val_CN_Recall: 0.7365 - val_MCI_Recall: 0.9665\n",
      "Epoch 33/100\n",
      "476/476 [==============================] - 69s 145ms/step - loss: 0.0535 - Accuracy: 0.9879 - AD_Precision: 0.9848 - CN_Precision: 0.9941 - MCI_Precision: 0.9858 - AD_Recall: 0.9759 - CN_Recall: 0.9864 - MCI_Recall: 0.9915 - val_loss: 2.2821 - val_Accuracy: 0.8536 - val_AD_Precision: 0.8923 - val_CN_Precision: 0.8618 - val_MCI_Precision: 0.8391 - val_AD_Recall: 0.6374 - val_CN_Recall: 0.8851 - val_MCI_Recall: 0.9163\n",
      "Epoch 34/100\n",
      "476/476 [==============================] - 67s 140ms/step - loss: 0.0601 - Accuracy: 0.9868 - AD_Precision: 0.9880 - CN_Precision: 0.9843 - MCI_Precision: 0.9877 - AD_Recall: 0.9880 - CN_Recall: 0.9767 - MCI_Recall: 0.9915 - val_loss: 2.1465 - val_Accuracy: 0.8117 - val_AD_Precision: 0.7089 - val_CN_Precision: 0.9070 - val_MCI_Precision: 0.7963 - val_AD_Recall: 0.6154 - val_CN_Recall: 0.7905 - val_MCI_Recall: 0.8996\n",
      "Epoch 35/100\n",
      "476/476 [==============================] - 67s 140ms/step - loss: 0.0955 - Accuracy: 0.9837 - AD_Precision: 0.9818 - CN_Precision: 0.9786 - MCI_Precision: 0.9867 - AD_Recall: 0.9759 - CN_Recall: 0.9786 - MCI_Recall: 0.9886 - val_loss: 2.6188 - val_Accuracy: 0.8243 - val_AD_Precision: 0.7971 - val_CN_Precision: 0.8971 - val_MCI_Precision: 0.7949 - val_AD_Recall: 0.6044 - val_CN_Recall: 0.8243 - val_MCI_Recall: 0.9079\n",
      "Epoch 36/100\n",
      "476/476 [==============================] - 67s 140ms/step - loss: 0.0537 - Accuracy: 0.9874 - AD_Precision: 0.9939 - CN_Precision: 0.9863 - MCI_Precision: 0.9859 - AD_Recall: 0.9849 - CN_Recall: 0.9786 - MCI_Recall: 0.9924 - val_loss: 4.1925 - val_Accuracy: 0.7908 - val_AD_Precision: 0.8913 - val_CN_Precision: 0.8952 - val_MCI_Precision: 0.7338 - val_AD_Recall: 0.4505 - val_CN_Recall: 0.7500 - val_MCI_Recall: 0.9456\n",
      "Epoch 37/100\n",
      "476/476 [==============================] - 66s 140ms/step - loss: 0.0847 - Accuracy: 0.9805 - AD_Precision: 0.9730 - CN_Precision: 0.9804 - MCI_Precision: 0.9829 - AD_Recall: 0.9759 - CN_Recall: 0.9728 - MCI_Recall: 0.9829 - val_loss: 2.4702 - val_Accuracy: 0.8494 - val_AD_Precision: 0.7053 - val_CN_Precision: 0.9091 - val_MCI_Precision: 0.8708 - val_AD_Recall: 0.7363 - val_CN_Recall: 0.8784 - val_MCI_Recall: 0.8745\n",
      "Epoch 38/100\n",
      "476/476 [==============================] - 66s 140ms/step - loss: 0.0574 - Accuracy: 0.9853 - AD_Precision: 0.9788 - CN_Precision: 0.9902 - MCI_Precision: 0.9849 - AD_Recall: 0.9729 - CN_Recall: 0.9806 - MCI_Recall: 0.9915 - val_loss: 4.4834 - val_Accuracy: 0.8222 - val_AD_Precision: 0.8246 - val_CN_Precision: 0.9268 - val_MCI_Precision: 0.7785 - val_AD_Recall: 0.5165 - val_CN_Recall: 0.7703 - val_MCI_Recall: 0.9707\n",
      "Epoch 39/100\n",
      "476/476 [==============================] - 67s 140ms/step - loss: 0.0961 - Accuracy: 0.9816 - AD_Precision: 0.9700 - CN_Precision: 0.9863 - MCI_Precision: 0.9830 - AD_Recall: 0.9729 - CN_Recall: 0.9786 - MCI_Recall: 0.9858 - val_loss: 4.7750 - val_Accuracy: 0.7824 - val_AD_Precision: 0.9592 - val_CN_Precision: 0.9677 - val_MCI_Precision: 0.7054 - val_AD_Recall: 0.5165 - val_CN_Recall: 0.6081 - val_MCI_Recall: 0.9916\n",
      "Epoch 40/100\n",
      "476/476 [==============================] - 66s 140ms/step - loss: 0.1035 - Accuracy: 0.9826 - AD_Precision: 0.9758 - CN_Precision: 0.9843 - MCI_Precision: 0.9839 - AD_Recall: 0.9729 - CN_Recall: 0.9767 - MCI_Recall: 0.9886 - val_loss: 3.7640 - val_Accuracy: 0.7762 - val_AD_Precision: 0.8475 - val_CN_Precision: 0.9381 - val_MCI_Precision: 0.7143 - val_AD_Recall: 0.5495 - val_CN_Recall: 0.6149 - val_MCI_Recall: 0.9623\n",
      "Epoch 41/100\n",
      "476/476 [==============================] - 67s 140ms/step - loss: 0.0819 - Accuracy: 0.9811 - AD_Precision: 0.9670 - CN_Precision: 0.9843 - MCI_Precision: 0.9839 - AD_Recall: 0.9699 - CN_Recall: 0.9748 - MCI_Recall: 0.9867 - val_loss: 4.2707 - val_Accuracy: 0.8243 - val_AD_Precision: 0.9815 - val_CN_Precision: 0.9138 - val_MCI_Precision: 0.7630 - val_AD_Recall: 0.5824 - val_CN_Recall: 0.7162 - val_MCI_Recall: 0.9833\n",
      "Epoch 42/100\n",
      "476/476 [==============================] - 66s 140ms/step - loss: 0.0513 - Accuracy: 0.9863 - AD_Precision: 0.9790 - CN_Precision: 0.9921 - MCI_Precision: 0.9858 - AD_Recall: 0.9819 - CN_Recall: 0.9767 - MCI_Recall: 0.9915 - val_loss: 1.6544 - val_Accuracy: 0.8515 - val_AD_Precision: 0.8171 - val_CN_Precision: 0.8857 - val_MCI_Precision: 0.8498 - val_AD_Recall: 0.7363 - val_CN_Recall: 0.8378 - val_MCI_Recall: 0.8996\n",
      "Epoch 43/100\n",
      "476/476 [==============================] - 66s 140ms/step - loss: 0.0751 - Accuracy: 0.9895 - AD_Precision: 0.9849 - CN_Precision: 0.9921 - MCI_Precision: 0.9896 - AD_Recall: 0.9849 - CN_Recall: 0.9806 - MCI_Recall: 0.9953 - val_loss: 4.3580 - val_Accuracy: 0.8368 - val_AD_Precision: 0.8772 - val_CN_Precision: 0.9167 - val_MCI_Precision: 0.7924 - val_AD_Recall: 0.5495 - val_CN_Recall: 0.8176 - val_MCI_Recall: 0.9582\n",
      "Epoch 44/100\n",
      "476/476 [==============================] - 67s 140ms/step - loss: 0.0547 - Accuracy: 0.9884 - AD_Precision: 0.9940 - CN_Precision: 0.9825 - MCI_Precision: 0.9896 - AD_Recall: 0.9910 - CN_Recall: 0.9786 - MCI_Recall: 0.9915 - val_loss: 2.9445 - val_Accuracy: 0.8285 - val_AD_Precision: 0.7159 - val_CN_Precision: 0.8921 - val_MCI_Precision: 0.8320 - val_AD_Recall: 0.6923 - val_CN_Recall: 0.8378 - val_MCI_Recall: 0.8703\n",
      "Epoch 45/100\n",
      "476/476 [==============================] - 66s 140ms/step - loss: 0.0821 - Accuracy: 0.9884 - AD_Precision: 0.9910 - CN_Precision: 0.9902 - MCI_Precision: 0.9868 - AD_Recall: 0.9910 - CN_Recall: 0.9786 - MCI_Recall: 0.9924 - val_loss: 3.6318 - val_Accuracy: 0.8347 - val_AD_Precision: 0.8406 - val_CN_Precision: 0.8786 - val_MCI_Precision: 0.8104 - val_AD_Recall: 0.6374 - val_CN_Recall: 0.8311 - val_MCI_Recall: 0.9121\n",
      "Epoch 46/100\n",
      "476/476 [==============================] - 66s 140ms/step - loss: 0.0704 - Accuracy: 0.9884 - AD_Precision: 0.9849 - CN_Precision: 0.9903 - MCI_Precision: 0.9886 - AD_Recall: 0.9819 - CN_Recall: 0.9864 - MCI_Recall: 0.9915 - val_loss: 4.5410 - val_Accuracy: 0.7845 - val_AD_Precision: 0.8696 - val_CN_Precision: 0.9619 - val_MCI_Precision: 0.7156 - val_AD_Recall: 0.4396 - val_CN_Recall: 0.6824 - val_MCI_Recall: 0.9791\n",
      "Epoch 47/100\n",
      "476/476 [==============================] - 67s 140ms/step - loss: 0.0640 - Accuracy: 0.9874 - AD_Precision: 0.9850 - CN_Precision: 0.9883 - MCI_Precision: 0.9877 - AD_Recall: 0.9880 - CN_Recall: 0.9806 - MCI_Recall: 0.9896 - val_loss: 4.5713 - val_Accuracy: 0.8326 - val_AD_Precision: 0.9792 - val_CN_Precision: 0.8794 - val_MCI_Precision: 0.7855 - val_AD_Recall: 0.5165 - val_CN_Recall: 0.8378 - val_MCI_Recall: 0.9498\n",
      "Epoch 48/100\n",
      "476/476 [==============================] - 67s 140ms/step - loss: 0.0781 - Accuracy: 0.9895 - AD_Precision: 0.9910 - CN_Precision: 0.9902 - MCI_Precision: 0.9887 - AD_Recall: 0.9940 - CN_Recall: 0.9786 - MCI_Recall: 0.9934 - val_loss: 3.4304 - val_Accuracy: 0.8368 - val_AD_Precision: 0.8158 - val_CN_Precision: 0.8939 - val_MCI_Precision: 0.8148 - val_AD_Recall: 0.6813 - val_CN_Recall: 0.7973 - val_MCI_Recall: 0.9205\n",
      "Epoch 49/100\n",
      "476/476 [==============================] - 67s 140ms/step - loss: 0.0596 - Accuracy: 0.9911 - AD_Precision: 0.9940 - CN_Precision: 0.9883 - MCI_Precision: 0.9915 - AD_Recall: 0.9970 - CN_Recall: 0.9845 - MCI_Recall: 0.9915 - val_loss: 6.3498 - val_Accuracy: 0.7824 - val_AD_Precision: 0.8727 - val_CN_Precision: 0.9307 - val_MCI_Precision: 0.7205 - val_AD_Recall: 0.5275 - val_CN_Recall: 0.6351 - val_MCI_Recall: 0.9707\n",
      "Epoch 50/100\n",
      "476/476 [==============================] - 66s 140ms/step - loss: 0.1030 - Accuracy: 0.9868 - AD_Precision: 0.9879 - CN_Precision: 0.9921 - MCI_Precision: 0.9840 - AD_Recall: 0.9819 - CN_Recall: 0.9786 - MCI_Recall: 0.9924 - val_loss: 3.1061 - val_Accuracy: 0.8159 - val_AD_Precision: 0.6633 - val_CN_Precision: 0.9077 - val_MCI_Precision: 0.8280 - val_AD_Recall: 0.7143 - val_CN_Recall: 0.7973 - val_MCI_Recall: 0.8661\n",
      "Epoch 51/100\n",
      "476/476 [==============================] - 67s 140ms/step - loss: 0.0393 - Accuracy: 0.9926 - AD_Precision: 0.9940 - CN_Precision: 0.9903 - MCI_Precision: 0.9934 - AD_Recall: 0.9940 - CN_Recall: 0.9864 - MCI_Recall: 0.9943 - val_loss: 6.2883 - val_Accuracy: 0.8096 - val_AD_Precision: 0.8596 - val_CN_Precision: 0.9464 - val_MCI_Precision: 0.7508 - val_AD_Recall: 0.5385 - val_CN_Recall: 0.7162 - val_MCI_Recall: 0.9707\n",
      "Epoch 52/100\n",
      "476/476 [==============================] - 66s 140ms/step - loss: 0.0860 - Accuracy: 0.9863 - AD_Precision: 0.9878 - CN_Precision: 0.9825 - MCI_Precision: 0.9877 - AD_Recall: 0.9789 - CN_Recall: 0.9806 - MCI_Recall: 0.9905 - val_loss: 4.8142 - val_Accuracy: 0.8389 - val_AD_Precision: 0.8769 - val_CN_Precision: 0.8992 - val_MCI_Precision: 0.8028 - val_AD_Recall: 0.6264 - val_CN_Recall: 0.7838 - val_MCI_Recall: 0.9540\n",
      "Epoch 53/100\n",
      "476/476 [==============================] - 67s 140ms/step - loss: 0.1007 - Accuracy: 0.9853 - AD_Precision: 0.9758 - CN_Precision: 0.9922 - MCI_Precision: 0.9849 - AD_Recall: 0.9729 - CN_Recall: 0.9825 - MCI_Recall: 0.9905 - val_loss: 2.1330 - val_Accuracy: 0.8326 - val_AD_Precision: 0.7188 - val_CN_Precision: 0.9213 - val_MCI_Precision: 0.8314 - val_AD_Recall: 0.7582 - val_CN_Recall: 0.7905 - val_MCI_Recall: 0.8870\n",
      "Epoch 54/100\n",
      "476/476 [==============================] - 66s 140ms/step - loss: 0.0912 - Accuracy: 0.9842 - AD_Precision: 0.9790 - CN_Precision: 0.9844 - MCI_Precision: 0.9867 - AD_Recall: 0.9819 - CN_Recall: 0.9786 - MCI_Recall: 0.9867 - val_loss: 3.0345 - val_Accuracy: 0.8285 - val_AD_Precision: 0.8852 - val_CN_Precision: 0.8788 - val_MCI_Precision: 0.7930 - val_AD_Recall: 0.5934 - val_CN_Recall: 0.7838 - val_MCI_Recall: 0.9456\n",
      "Epoch 55/100\n",
      "476/476 [==============================] - 67s 141ms/step - loss: 0.0750 - Accuracy: 0.9890 - AD_Precision: 0.9818 - CN_Precision: 0.9961 - MCI_Precision: 0.9887 - AD_Recall: 0.9729 - CN_Recall: 0.9883 - MCI_Recall: 0.9943 - val_loss: 8.9168 - val_Accuracy: 0.7657 - val_AD_Precision: 1.0000 - val_CN_Precision: 0.9406 - val_MCI_Precision: 0.6910 - val_AD_Recall: 0.3736 - val_CN_Recall: 0.6419 - val_MCI_Recall: 0.9916\n",
      "Epoch 56/100\n",
      "476/476 [==============================] - 67s 140ms/step - loss: 0.0398 - Accuracy: 0.9900 - AD_Precision: 0.9820 - CN_Precision: 0.9941 - MCI_Precision: 0.9915 - AD_Recall: 0.9849 - CN_Recall: 0.9864 - MCI_Recall: 0.9905 - val_loss: 3.6062 - val_Accuracy: 0.8452 - val_AD_Precision: 0.8358 - val_CN_Precision: 0.8929 - val_MCI_Precision: 0.8229 - val_AD_Recall: 0.6154 - val_CN_Recall: 0.8446 - val_MCI_Recall: 0.9331\n",
      "Epoch 57/100\n",
      "476/476 [==============================] - 67s 140ms/step - loss: 0.1075 - Accuracy: 0.9890 - AD_Precision: 0.9819 - CN_Precision: 0.9922 - MCI_Precision: 0.9896 - AD_Recall: 0.9789 - CN_Recall: 0.9864 - MCI_Recall: 0.9934 - val_loss: 7.6740 - val_Accuracy: 0.7950 - val_AD_Precision: 0.8871 - val_CN_Precision: 0.8952 - val_MCI_Precision: 0.7428 - val_AD_Recall: 0.6044 - val_CN_Recall: 0.6351 - val_MCI_Recall: 0.9665\n",
      "Epoch 58/100\n",
      "476/476 [==============================] - 67s 141ms/step - loss: 0.0626 - Accuracy: 0.9868 - AD_Precision: 0.9760 - CN_Precision: 0.9902 - MCI_Precision: 0.9886 - AD_Recall: 0.9819 - CN_Recall: 0.9845 - MCI_Recall: 0.9896 - val_loss: 2.8440 - val_Accuracy: 0.8368 - val_AD_Precision: 0.8493 - val_CN_Precision: 0.8333 - val_MCI_Precision: 0.8353 - val_AD_Recall: 0.6813 - val_CN_Recall: 0.8446 - val_MCI_Recall: 0.8912\n",
      "Epoch 59/100\n",
      "476/476 [==============================] - 67s 141ms/step - loss: 0.0451 - Accuracy: 0.9921 - AD_Precision: 0.9879 - CN_Precision: 0.9980 - MCI_Precision: 0.9915 - AD_Recall: 0.9849 - CN_Recall: 0.9903 - MCI_Recall: 0.9953 - val_loss: 5.4489 - val_Accuracy: 0.7908 - val_AD_Precision: 0.8143 - val_CN_Precision: 0.9223 - val_MCI_Precision: 0.7410 - val_AD_Recall: 0.6264 - val_CN_Recall: 0.6419 - val_MCI_Recall: 0.9456\n",
      "Epoch 60/100\n",
      "476/476 [==============================] - 67s 141ms/step - loss: 0.0901 - Accuracy: 0.9884 - AD_Precision: 0.9821 - CN_Precision: 0.9921 - MCI_Precision: 0.9887 - AD_Recall: 0.9910 - CN_Recall: 0.9786 - MCI_Recall: 0.9924 - val_loss: 2.5011 - val_Accuracy: 0.8452 - val_AD_Precision: 0.7654 - val_CN_Precision: 0.9237 - val_MCI_Precision: 0.8308 - val_AD_Recall: 0.6813 - val_CN_Recall: 0.8176 - val_MCI_Recall: 0.9247\n",
      "Epoch 61/100\n",
      "476/476 [==============================] - 68s 142ms/step - loss: 0.0466 - Accuracy: 0.9911 - AD_Precision: 0.9880 - CN_Precision: 0.9941 - MCI_Precision: 0.9906 - AD_Recall: 0.9880 - CN_Recall: 0.9845 - MCI_Recall: 0.9953 - val_loss: 4.1113 - val_Accuracy: 0.8243 - val_AD_Precision: 0.8947 - val_CN_Precision: 0.8521 - val_MCI_Precision: 0.7957 - val_AD_Recall: 0.5604 - val_CN_Recall: 0.8176 - val_MCI_Recall: 0.9289\n",
      "Epoch 62/100\n",
      "476/476 [==============================] - 67s 142ms/step - loss: 0.0907 - Accuracy: 0.9853 - AD_Precision: 0.9909 - CN_Precision: 0.9843 - MCI_Precision: 0.9840 - AD_Recall: 0.9880 - CN_Recall: 0.9728 - MCI_Recall: 0.9905 - val_loss: 3.8589 - val_Accuracy: 0.8075 - val_AD_Precision: 0.6762 - val_CN_Precision: 0.8519 - val_MCI_Precision: 0.8403 - val_AD_Recall: 0.7802 - val_CN_Recall: 0.7770 - val_MCI_Recall: 0.8368\n",
      "Epoch 63/100\n",
      "476/476 [==============================] - 68s 142ms/step - loss: 0.0587 - Accuracy: 0.9926 - AD_Precision: 0.9940 - CN_Precision: 0.9941 - MCI_Precision: 0.9915 - AD_Recall: 0.9970 - CN_Recall: 0.9806 - MCI_Recall: 0.9972 - val_loss: 3.1206 - val_Accuracy: 0.8452 - val_AD_Precision: 0.9474 - val_CN_Precision: 0.8921 - val_MCI_Precision: 0.8014 - val_AD_Recall: 0.5934 - val_CN_Recall: 0.8378 - val_MCI_Recall: 0.9456\n",
      "Epoch 64/100\n",
      "476/476 [==============================] - 68s 142ms/step - loss: 0.0620 - Accuracy: 0.9890 - AD_Precision: 0.9819 - CN_Precision: 0.9941 - MCI_Precision: 0.9886 - AD_Recall: 0.9819 - CN_Recall: 0.9845 - MCI_Recall: 0.9896 - val_loss: 5.4626 - val_Accuracy: 0.8159 - val_AD_Precision: 1.0000 - val_CN_Precision: 0.8593 - val_MCI_Precision: 0.7677 - val_AD_Recall: 0.5055 - val_CN_Recall: 0.7838 - val_MCI_Recall: 0.9540\n",
      "Epoch 65/100\n",
      "476/476 [==============================] - 68s 143ms/step - loss: 0.1055 - Accuracy: 0.9879 - AD_Precision: 0.9850 - CN_Precision: 0.9882 - MCI_Precision: 0.9895 - AD_Recall: 0.9880 - CN_Recall: 0.9786 - MCI_Recall: 0.9867 - val_loss: 4.0051 - val_Accuracy: 0.7615 - val_AD_Precision: 0.5785 - val_CN_Precision: 0.7667 - val_MCI_Precision: 0.8814 - val_AD_Recall: 0.7692 - val_CN_Recall: 0.9324 - val_MCI_Recall: 0.6527\n",
      "Epoch 66/100\n",
      "476/476 [==============================] - 67s 142ms/step - loss: 0.0544 - Accuracy: 0.9926 - AD_Precision: 0.9910 - CN_Precision: 0.9941 - MCI_Precision: 0.9934 - AD_Recall: 0.9910 - CN_Recall: 0.9883 - MCI_Recall: 0.9924 - val_loss: 3.5992 - val_Accuracy: 0.8431 - val_AD_Precision: 0.8923 - val_CN_Precision: 0.7976 - val_MCI_Precision: 0.8612 - val_AD_Recall: 0.6374 - val_CN_Recall: 0.9054 - val_MCI_Recall: 0.8828\n",
      "Epoch 67/100\n",
      "476/476 [==============================] - 67s 142ms/step - loss: 0.0516 - Accuracy: 0.9926 - AD_Precision: 0.9970 - CN_Precision: 0.9922 - MCI_Precision: 0.9915 - AD_Recall: 0.9940 - CN_Recall: 0.9845 - MCI_Recall: 0.9962 - val_loss: 4.3953 - val_Accuracy: 0.8389 - val_AD_Precision: 0.9636 - val_CN_Precision: 0.7771 - val_MCI_Precision: 0.8583 - val_AD_Recall: 0.5824 - val_CN_Recall: 0.9189 - val_MCI_Recall: 0.8870\n",
      "Epoch 68/100\n",
      "476/476 [==============================] - 67s 142ms/step - loss: 0.0543 - Accuracy: 0.9916 - AD_Precision: 0.9909 - CN_Precision: 0.9922 - MCI_Precision: 0.9924 - AD_Recall: 0.9880 - CN_Recall: 0.9845 - MCI_Recall: 0.9943 - val_loss: 6.0518 - val_Accuracy: 0.8243 - val_AD_Precision: 0.9592 - val_CN_Precision: 0.8643 - val_MCI_Precision: 0.7820 - val_AD_Recall: 0.5165 - val_CN_Recall: 0.8176 - val_MCI_Recall: 0.9456\n",
      "Epoch 69/100\n",
      "476/476 [==============================] - 67s 141ms/step - loss: 0.0798 - Accuracy: 0.9879 - AD_Precision: 0.9759 - CN_Precision: 0.9941 - MCI_Precision: 0.9886 - AD_Recall: 0.9759 - CN_Recall: 0.9845 - MCI_Recall: 0.9915 - val_loss: 4.3117 - val_Accuracy: 0.8243 - val_AD_Precision: 0.6897 - val_CN_Precision: 0.8759 - val_MCI_Precision: 0.8419 - val_AD_Recall: 0.6593 - val_CN_Recall: 0.8108 - val_MCI_Recall: 0.8912\n",
      "Epoch 70/100\n",
      "476/476 [==============================] - 67s 142ms/step - loss: 0.0300 - Accuracy: 0.9937 - AD_Precision: 0.9940 - CN_Precision: 0.9942 - MCI_Precision: 0.9934 - AD_Recall: 0.9940 - CN_Recall: 0.9903 - MCI_Recall: 0.9943 - val_loss: 5.1804 - val_Accuracy: 0.8243 - val_AD_Precision: 0.8235 - val_CN_Precision: 0.9561 - val_MCI_Precision: 0.7736 - val_AD_Recall: 0.6154 - val_CN_Recall: 0.7365 - val_MCI_Recall: 0.9582\n",
      "Epoch 71/100\n",
      "476/476 [==============================] - 68s 142ms/step - loss: 0.0671 - Accuracy: 0.9911 - AD_Precision: 0.9880 - CN_Precision: 0.9941 - MCI_Precision: 0.9905 - AD_Recall: 0.9940 - CN_Recall: 0.9825 - MCI_Recall: 0.9943 - val_loss: 14.9158 - val_Accuracy: 0.7594 - val_AD_Precision: 0.8750 - val_CN_Precision: 0.9388 - val_MCI_Precision: 0.6898 - val_AD_Recall: 0.4615 - val_CN_Recall: 0.6216 - val_MCI_Recall: 0.9582\n",
      "Epoch 72/100\n",
      "476/476 [==============================] - 67s 142ms/step - loss: 0.1315 - Accuracy: 0.9847 - AD_Precision: 0.9760 - CN_Precision: 0.9862 - MCI_Precision: 0.9868 - AD_Recall: 0.9789 - CN_Recall: 0.9748 - MCI_Recall: 0.9915 - val_loss: 4.4351 - val_Accuracy: 0.8264 - val_AD_Precision: 0.9388 - val_CN_Precision: 0.8312 - val_MCI_Precision: 0.8036 - val_AD_Recall: 0.5055 - val_CN_Recall: 0.8649 - val_MCI_Recall: 0.9247\n",
      "Epoch 73/100\n",
      "476/476 [==============================] - 68s 142ms/step - loss: 0.0532 - Accuracy: 0.9905 - AD_Precision: 0.9820 - CN_Precision: 0.9961 - MCI_Precision: 0.9905 - AD_Recall: 0.9849 - CN_Recall: 0.9883 - MCI_Recall: 0.9934 - val_loss: 2.3692 - val_Accuracy: 0.8389 - val_AD_Precision: 0.8472 - val_CN_Precision: 0.9194 - val_MCI_Precision: 0.8043 - val_AD_Recall: 0.6703 - val_CN_Recall: 0.7703 - val_MCI_Recall: 0.9456\n",
      "Epoch 74/100\n",
      "476/476 [==============================] - 67s 141ms/step - loss: 0.0483 - Accuracy: 0.9895 - AD_Precision: 0.9879 - CN_Precision: 0.9902 - MCI_Precision: 0.9896 - AD_Recall: 0.9819 - CN_Recall: 0.9845 - MCI_Recall: 0.9943 - val_loss: 5.2392 - val_Accuracy: 0.8013 - val_AD_Precision: 0.9286 - val_CN_Precision: 0.7100 - val_MCI_Precision: 0.8514 - val_AD_Recall: 0.5714 - val_CN_Recall: 0.9595 - val_MCI_Recall: 0.7908\n",
      "Epoch 75/100\n",
      "476/476 [==============================] - 68s 142ms/step - loss: 0.1256 - Accuracy: 0.9858 - AD_Precision: 0.9790 - CN_Precision: 0.9863 - MCI_Precision: 0.9877 - AD_Recall: 0.9819 - CN_Recall: 0.9786 - MCI_Recall: 0.9905 - val_loss: 2.8953 - val_Accuracy: 0.8389 - val_AD_Precision: 0.9344 - val_CN_Precision: 0.7953 - val_MCI_Precision: 0.8455 - val_AD_Recall: 0.6264 - val_CN_Recall: 0.9189 - val_MCI_Recall: 0.8703\n",
      "Epoch 76/100\n",
      "476/476 [==============================] - 68s 142ms/step - loss: 0.0518 - Accuracy: 0.9905 - AD_Precision: 0.9970 - CN_Precision: 0.9863 - MCI_Precision: 0.9905 - AD_Recall: 0.9970 - CN_Recall: 0.9806 - MCI_Recall: 0.9934 - val_loss: 3.5891 - val_Accuracy: 0.8368 - val_AD_Precision: 0.7500 - val_CN_Precision: 0.9091 - val_MCI_Precision: 0.8259 - val_AD_Recall: 0.6264 - val_CN_Recall: 0.8108 - val_MCI_Recall: 0.9331\n",
      "Epoch 77/100\n",
      "476/476 [==============================] - 68s 142ms/step - loss: 0.0438 - Accuracy: 0.9926 - AD_Precision: 0.9910 - CN_Precision: 0.9941 - MCI_Precision: 0.9925 - AD_Recall: 0.9910 - CN_Recall: 0.9825 - MCI_Recall: 0.9981 - val_loss: 5.7511 - val_Accuracy: 0.8201 - val_AD_Precision: 0.8852 - val_CN_Precision: 0.9120 - val_MCI_Precision: 0.7698 - val_AD_Recall: 0.5934 - val_CN_Recall: 0.7703 - val_MCI_Recall: 0.9372\n",
      "Epoch 78/100\n",
      "476/476 [==============================] - 68s 143ms/step - loss: 0.0499 - Accuracy: 0.9926 - AD_Precision: 0.9909 - CN_Precision: 0.9961 - MCI_Precision: 0.9915 - AD_Recall: 0.9880 - CN_Recall: 0.9903 - MCI_Recall: 0.9953 - val_loss: 3.5489 - val_Accuracy: 0.8431 - val_AD_Precision: 0.7765 - val_CN_Precision: 0.9104 - val_MCI_Precision: 0.8301 - val_AD_Recall: 0.7253 - val_CN_Recall: 0.8243 - val_MCI_Recall: 0.8996\n",
      "Epoch 79/100\n",
      "476/476 [==============================] - 68s 142ms/step - loss: 0.0449 - Accuracy: 0.9926 - AD_Precision: 0.9909 - CN_Precision: 0.9922 - MCI_Precision: 0.9934 - AD_Recall: 0.9880 - CN_Recall: 0.9864 - MCI_Recall: 0.9953 - val_loss: 4.8368 - val_Accuracy: 0.8326 - val_AD_Precision: 0.8889 - val_CN_Precision: 0.8881 - val_MCI_Precision: 0.7964 - val_AD_Recall: 0.6154 - val_CN_Recall: 0.8041 - val_MCI_Recall: 0.9331\n",
      "Epoch 80/100\n",
      "476/476 [==============================] - 68s 142ms/step - loss: 0.0835 - Accuracy: 0.9895 - AD_Precision: 0.9879 - CN_Precision: 0.9922 - MCI_Precision: 0.9887 - AD_Recall: 0.9849 - CN_Recall: 0.9864 - MCI_Recall: 0.9924 - val_loss: 3.1579 - val_Accuracy: 0.8431 - val_AD_Precision: 0.8906 - val_CN_Precision: 0.9084 - val_MCI_Precision: 0.8021 - val_AD_Recall: 0.6264 - val_CN_Recall: 0.8041 - val_MCI_Recall: 0.9498\n",
      "Epoch 81/100\n",
      "476/476 [==============================] - 70s 147ms/step - loss: 0.0396 - Accuracy: 0.9921 - AD_Precision: 0.9940 - CN_Precision: 0.9941 - MCI_Precision: 0.9906 - AD_Recall: 0.9910 - CN_Recall: 0.9864 - MCI_Recall: 0.9953 - val_loss: 3.7053 - val_Accuracy: 0.8577 - val_AD_Precision: 0.8857 - val_CN_Precision: 0.9044 - val_MCI_Precision: 0.8272 - val_AD_Recall: 0.6813 - val_CN_Recall: 0.8311 - val_MCI_Recall: 0.9414\n",
      "Epoch 82/100\n",
      "476/476 [==============================] - 67s 141ms/step - loss: 0.0582 - Accuracy: 0.9905 - AD_Precision: 0.9821 - CN_Precision: 0.9941 - MCI_Precision: 0.9915 - AD_Recall: 0.9910 - CN_Recall: 0.9845 - MCI_Recall: 0.9934 - val_loss: 3.9546 - val_Accuracy: 0.8452 - val_AD_Precision: 0.8451 - val_CN_Precision: 0.8921 - val_MCI_Precision: 0.8209 - val_AD_Recall: 0.6593 - val_CN_Recall: 0.8378 - val_MCI_Recall: 0.9205\n",
      "Epoch 83/100\n",
      "476/476 [==============================] - 68s 142ms/step - loss: 0.0569 - Accuracy: 0.9958 - AD_Precision: 0.9940 - CN_Precision: 0.9980 - MCI_Precision: 0.9953 - AD_Recall: 1.0000 - CN_Recall: 0.9903 - MCI_Recall: 0.9972 - val_loss: 6.7721 - val_Accuracy: 0.8389 - val_AD_Precision: 0.9123 - val_CN_Precision: 0.9225 - val_MCI_Precision: 0.7877 - val_AD_Recall: 0.5714 - val_CN_Recall: 0.8041 - val_MCI_Recall: 0.9623\n",
      "Epoch 84/100\n",
      "476/476 [==============================] - 67s 141ms/step - loss: 0.0804 - Accuracy: 0.9884 - AD_Precision: 0.9880 - CN_Precision: 0.9883 - MCI_Precision: 0.9887 - AD_Recall: 0.9880 - CN_Recall: 0.9806 - MCI_Recall: 0.9924 - val_loss: 4.0587 - val_Accuracy: 0.8159 - val_AD_Precision: 0.7750 - val_CN_Precision: 0.9286 - val_MCI_Precision: 0.7832 - val_AD_Recall: 0.6813 - val_CN_Recall: 0.7027 - val_MCI_Recall: 0.9372\n",
      "Epoch 85/100\n",
      "476/476 [==============================] - 67s 142ms/step - loss: 0.0689 - Accuracy: 0.9890 - AD_Precision: 0.9792 - CN_Precision: 0.9921 - MCI_Precision: 0.9905 - AD_Recall: 0.9940 - CN_Recall: 0.9806 - MCI_Recall: 0.9915 - val_loss: 5.6649 - val_Accuracy: 0.8013 - val_AD_Precision: 0.9180 - val_CN_Precision: 0.9400 - val_MCI_Precision: 0.7350 - val_AD_Recall: 0.6154 - val_CN_Recall: 0.6351 - val_MCI_Recall: 0.9749\n",
      "Epoch 86/100\n",
      "476/476 [==============================] - 68s 142ms/step - loss: 0.0499 - Accuracy: 0.9911 - AD_Precision: 0.9910 - CN_Precision: 0.9902 - MCI_Precision: 0.9915 - AD_Recall: 0.9910 - CN_Recall: 0.9845 - MCI_Recall: 0.9943 - val_loss: 4.0284 - val_Accuracy: 0.8556 - val_AD_Precision: 0.8906 - val_CN_Precision: 0.8784 - val_MCI_Precision: 0.8346 - val_AD_Recall: 0.6264 - val_CN_Recall: 0.8784 - val_MCI_Recall: 0.9289\n",
      "Epoch 87/100\n",
      "476/476 [==============================] - 68s 143ms/step - loss: 0.0641 - Accuracy: 0.9921 - AD_Precision: 0.9940 - CN_Precision: 0.9941 - MCI_Precision: 0.9906 - AD_Recall: 0.9910 - CN_Recall: 0.9845 - MCI_Recall: 0.9962 - val_loss: 4.2492 - val_Accuracy: 0.8264 - val_AD_Precision: 0.7805 - val_CN_Precision: 0.9083 - val_MCI_Precision: 0.8043 - val_AD_Recall: 0.7033 - val_CN_Recall: 0.7365 - val_MCI_Recall: 0.9289\n",
      "Epoch 88/100\n",
      "476/476 [==============================] - 68s 143ms/step - loss: 0.1029 - Accuracy: 0.9895 - AD_Precision: 0.9940 - CN_Precision: 0.9882 - MCI_Precision: 0.9887 - AD_Recall: 0.9940 - CN_Recall: 0.9786 - MCI_Recall: 0.9934 - val_loss: 5.6726 - val_Accuracy: 0.8138 - val_AD_Precision: 0.9123 - val_CN_Precision: 0.9720 - val_MCI_Precision: 0.7420 - val_AD_Recall: 0.5714 - val_CN_Recall: 0.7027 - val_MCI_Recall: 0.9749\n",
      "Epoch 89/100\n",
      "476/476 [==============================] - 68s 142ms/step - loss: 0.0544 - Accuracy: 0.9895 - AD_Precision: 0.9970 - CN_Precision: 0.9844 - MCI_Precision: 0.9896 - AD_Recall: 0.9940 - CN_Recall: 0.9786 - MCI_Recall: 0.9934 - val_loss: 3.2348 - val_Accuracy: 0.8494 - val_AD_Precision: 0.8312 - val_CN_Precision: 0.9219 - val_MCI_Precision: 0.8205 - val_AD_Recall: 0.7033 - val_CN_Recall: 0.7973 - val_MCI_Recall: 0.9372\n",
      "Epoch 90/100\n",
      "476/476 [==============================] - 67s 142ms/step - loss: 0.0580 - Accuracy: 0.9911 - AD_Precision: 0.9940 - CN_Precision: 0.9941 - MCI_Precision: 0.9887 - AD_Recall: 0.9910 - CN_Recall: 0.9825 - MCI_Recall: 0.9943 - val_loss: 4.0882 - val_Accuracy: 0.8117 - val_AD_Precision: 0.8101 - val_CN_Precision: 0.9333 - val_MCI_Precision: 0.7687 - val_AD_Recall: 0.7033 - val_CN_Recall: 0.6622 - val_MCI_Recall: 0.9456\n",
      "Epoch 91/100\n",
      "476/476 [==============================] - 68s 142ms/step - loss: 0.0394 - Accuracy: 0.9942 - AD_Precision: 0.9940 - CN_Precision: 0.9961 - MCI_Precision: 0.9934 - AD_Recall: 0.9910 - CN_Recall: 0.9922 - MCI_Recall: 0.9962 - val_loss: 2.8846 - val_Accuracy: 0.8556 - val_AD_Precision: 0.8939 - val_CN_Precision: 0.8819 - val_MCI_Precision: 0.8321 - val_AD_Recall: 0.6484 - val_CN_Recall: 0.8581 - val_MCI_Recall: 0.9331\n",
      "Epoch 92/100\n",
      "476/476 [==============================] - 68s 142ms/step - loss: 0.0358 - Accuracy: 0.9926 - AD_Precision: 0.9851 - CN_Precision: 0.9961 - MCI_Precision: 0.9934 - AD_Recall: 0.9940 - CN_Recall: 0.9864 - MCI_Recall: 0.9953 - val_loss: 4.2263 - val_Accuracy: 0.8515 - val_AD_Precision: 0.9333 - val_CN_Precision: 0.8621 - val_MCI_Precision: 0.8278 - val_AD_Recall: 0.6154 - val_CN_Recall: 0.8446 - val_MCI_Recall: 0.9456\n",
      "Epoch 93/100\n",
      "476/476 [==============================] - 68s 142ms/step - loss: 0.0350 - Accuracy: 0.9932 - AD_Precision: 0.9940 - CN_Precision: 0.9941 - MCI_Precision: 0.9924 - AD_Recall: 0.9940 - CN_Recall: 0.9883 - MCI_Recall: 0.9953 - val_loss: 5.8754 - val_Accuracy: 0.8305 - val_AD_Precision: 0.9231 - val_CN_Precision: 0.8732 - val_MCI_Precision: 0.7923 - val_AD_Recall: 0.5275 - val_CN_Recall: 0.8378 - val_MCI_Recall: 0.9414\n",
      "Epoch 94/100\n",
      "476/476 [==============================] - 68s 143ms/step - loss: 0.0460 - Accuracy: 0.9942 - AD_Precision: 0.9970 - CN_Precision: 0.9980 - MCI_Precision: 0.9915 - AD_Recall: 0.9910 - CN_Recall: 0.9883 - MCI_Recall: 0.9981 - val_loss: 4.7517 - val_Accuracy: 0.8515 - val_AD_Precision: 0.8082 - val_CN_Precision: 0.9065 - val_MCI_Precision: 0.8346 - val_AD_Recall: 0.6484 - val_CN_Recall: 0.8514 - val_MCI_Recall: 0.9289\n",
      "Epoch 95/100\n",
      "476/476 [==============================] - 70s 147ms/step - loss: 0.0519 - Accuracy: 0.9942 - AD_Precision: 0.9940 - CN_Precision: 0.9980 - MCI_Precision: 0.9925 - AD_Recall: 0.9940 - CN_Recall: 0.9864 - MCI_Recall: 0.9981 - val_loss: 3.2637 - val_Accuracy: 0.8598 - val_AD_Precision: 0.8442 - val_CN_Precision: 0.8904 - val_MCI_Precision: 0.8504 - val_AD_Recall: 0.7143 - val_CN_Recall: 0.8784 - val_MCI_Recall: 0.9038\n",
      "Epoch 96/100\n",
      "476/476 [==============================] - 68s 142ms/step - loss: 0.0608 - Accuracy: 0.9926 - AD_Precision: 0.9970 - CN_Precision: 0.9922 - MCI_Precision: 0.9915 - AD_Recall: 0.9970 - CN_Recall: 0.9845 - MCI_Recall: 0.9943 - val_loss: 5.2357 - val_Accuracy: 0.8285 - val_AD_Precision: 0.8286 - val_CN_Precision: 0.9402 - val_MCI_Precision: 0.7835 - val_AD_Recall: 0.6374 - val_CN_Recall: 0.7432 - val_MCI_Recall: 0.9540\n",
      "Epoch 97/100\n",
      "476/476 [==============================] - 68s 142ms/step - loss: 0.0950 - Accuracy: 0.9884 - AD_Precision: 0.9791 - CN_Precision: 0.9941 - MCI_Precision: 0.9905 - AD_Recall: 0.9880 - CN_Recall: 0.9845 - MCI_Recall: 0.9877 - val_loss: 4.9499 - val_Accuracy: 0.8410 - val_AD_Precision: 0.9310 - val_CN_Precision: 0.8732 - val_MCI_Precision: 0.8058 - val_AD_Recall: 0.5934 - val_CN_Recall: 0.8378 - val_MCI_Recall: 0.9372\n",
      "Epoch 98/100\n",
      "476/476 [==============================] - 70s 146ms/step - loss: 0.0721 - Accuracy: 0.9895 - AD_Precision: 0.9849 - CN_Precision: 0.9922 - MCI_Precision: 0.9924 - AD_Recall: 0.9849 - CN_Recall: 0.9825 - MCI_Recall: 0.9934 - val_loss: 4.2384 - val_Accuracy: 0.8619 - val_AD_Precision: 0.9355 - val_CN_Precision: 0.9185 - val_MCI_Precision: 0.8185 - val_AD_Recall: 0.6374 - val_CN_Recall: 0.8378 - val_MCI_Recall: 0.9623\n",
      "Epoch 99/100\n",
      "476/476 [==============================] - 68s 142ms/step - loss: 0.0859 - Accuracy: 0.9926 - AD_Precision: 0.9880 - CN_Precision: 0.9980 - MCI_Precision: 0.9915 - AD_Recall: 0.9880 - CN_Recall: 0.9903 - MCI_Recall: 0.9953 - val_loss: 3.7772 - val_Accuracy: 0.8410 - val_AD_Precision: 0.9048 - val_CN_Precision: 0.9274 - val_MCI_Precision: 0.7904 - val_AD_Recall: 0.6264 - val_CN_Recall: 0.7770 - val_MCI_Recall: 0.9623\n",
      "Epoch 100/100\n",
      "476/476 [==============================] - 67s 142ms/step - loss: 0.0618 - Accuracy: 0.9911 - AD_Precision: 0.9879 - CN_Precision: 0.9922 - MCI_Precision: 0.9924 - AD_Recall: 0.9849 - CN_Recall: 0.9883 - MCI_Recall: 0.9943 - val_loss: 2.9336 - val_Accuracy: 0.8347 - val_AD_Precision: 0.8072 - val_CN_Precision: 0.9652 - val_MCI_Precision: 0.7893 - val_AD_Recall: 0.7363 - val_CN_Recall: 0.7500 - val_MCI_Recall: 0.9247\n"
     ]
    },
    {
     "name": "stderr",
     "output_type": "stream",
     "text": [
      "/apps/tensorflow/2.7.0/lib/python3.9/site-packages/keras/engine/functional.py:1410: CustomMaskWarning: Custom mask layers require a config and must override get_config. When loading, the custom mask layer must be passed to the custom_objects argument.\n",
      "  layer_config = serialize_layer_fn(layer)\n"
     ]
    },
    {
     "name": "stdout",
     "output_type": "stream",
     "text": [
      "              precision    recall  f1-score   support\n",
      "\n",
      "          AD       0.94      0.64      0.76        91\n",
      "          CN       0.92      0.84      0.88       148\n",
      "         MCI       0.82      0.96      0.88       239\n",
      "\n",
      "    accuracy                           0.86       478\n",
      "   macro avg       0.89      0.81      0.84       478\n",
      "weighted avg       0.87      0.86      0.86       478\n",
      "\n"
     ]
    },
    {
     "data": {
      "image/png": "[encoded data removed]",
      "text/plain": [
       "<Figure size 432x288 with 2 Axes>"
      ]
     },
     "metadata": {
      "needs_background": "light"
     },
     "output_type": "display_data"
    }
   ],
   "source": [
    "EPOCH =100\n",
    "savepath = 'Finetuning/Resnet_100_0.0001/'\n",
    "lr=0.0001\n",
    "if not os.path.isdir(savepath):\n",
    "      os.makedirs(savepath)\n",
    "csvloger_callback = tf.keras.callbacks.CSVLogger(f'{savepath}history.csv', separator=',', append=False)\n",
    "\n",
    "modelcheckpoint_callback = tf.keras.callbacks.ModelCheckpoint(savepath+'resnet50_row_10E-5_weights-epoch:{epoch:03d}-val_Accuracy:{val_Accuracy:.4f}.h5',monitor='val_Accuracy'\n",
    "    ,verbose=0,save_best_only=True,save_weights_only=True,mode='max',save_freq='epoch' , initial_value_threshold=0.85)\n",
    "\n",
    "OPT = tf.keras.optimizers.RMSprop(learning_rate=lr)\n",
    "model04 = resnet50_row(OPT, LOOS,METRICS,image_Shape)\n",
    "history04 = model04.fit(training_image_datagen, epochs=EPOCH, validation_data=testing_image_datagen,callbacks=[csvloger_callback,modelcheckpoint_callback])\n",
    "model04 = resnet50_row(OPT, LOOS,METRICS,image_Shape)\n",
    "model04.load_weights(glob.glob(f\"{savepath}resnet50_row_10E-5_weights-epoch:*-val_Accuracy:{max(history04.history['val_Accuracy']):.4f}.h5\")[0])\n",
    "model04.save(f\"{savepath}/Resnet_100_0.0001.h5\")\n",
    "p1 = model04.predict(testing_image_datagen)\n",
    "predicted_lab = p1.argmax(axis=-1)\n",
    "true_lab = testing_image_datagen.classes\n",
    "plot_confusion_matrix(true_lab, predicted_lab, testing_image_datagen.class_indices.keys(),savepath)\n",
    "report = classification_report(true_lab, predicted_lab, target_names=testing_image_datagen.class_indices.keys())\n",
    "print(report)\n",
    "dump_text(report,f'{savepath}classification_report.txt')\n",
    "np.save(\"resnet_100_0.0001.npy\",p1 )"
   ]
  },
  {
   "cell_type": "code",
   "execution_count": null,
   "id": "9f9c7e1a-12a3-497d-b998-1fb73f3fd1dd",
   "metadata": {},
   "outputs": [],
   "source": []
  }
 ],
 "metadata": {
  "kernelspec": {
   "display_name": "Tensorflow-2.7.0",
   "language": "python",
   "name": "tensorflow-2.7.0"
  },
  "language_info": {
   "codemirror_mode": {
    "name": "ipython",
    "version": 3
   },
   "file_extension": ".py",
   "mimetype": "text/x-python",
   "name": "python",
   "nbconvert_exporter": "python",
   "pygments_lexer": "ipython3",
   "version": "3.9.12"
  }
 },
 "nbformat": 4,
 "nbformat_minor": 5
}
