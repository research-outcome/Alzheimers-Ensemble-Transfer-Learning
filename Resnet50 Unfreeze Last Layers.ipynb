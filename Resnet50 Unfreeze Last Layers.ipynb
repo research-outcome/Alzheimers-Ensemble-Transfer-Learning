{
  "cells": [
    {
      "cell_type": "code",
      "execution_count": null,
      "id": "30ed51a7-cd2c-4ede-b833-bd245c91decf",
      "metadata": {
        "id": "30ed51a7-cd2c-4ede-b833-bd245c91decf",
        "tags": []
      },
      "outputs": [],
      "source": [
        "import os\n",
        "import glob\n",
        "import shutil\n",
        "import numpy as np\n",
        "import pandas as pd\n",
        "import seaborn as sns\n",
        "import matplotlib.pyplot as plt\n",
        "from skimage.io import imread,imsave\n",
        "from sklearn.model_selection import train_test_split\n",
        "\n",
        "import tensorflow as tf\n",
        "from tensorflow.keras.utils import plot_model\n",
        "from tensorflow.keras.preprocessing.image import ImageDataGenerator\n",
        "from tensorflow.keras.models import save_model, load_model, Model\n",
        "from tensorflow.keras.layers import Input,InputLayer, Dropout, Flatten, Dense, Activation, MaxPooling2D, Conv2D\n",
        "from sklearn.metrics import classification_report"
      ]
    },
    {
      "cell_type": "code",
      "execution_count": null,
      "id": "dcdf5cc5-25b8-47e8-a479-c67e9ddf9063",
      "metadata": {
        "id": "dcdf5cc5-25b8-47e8-a479-c67e9ddf9063",
        "tags": []
      },
      "outputs": [],
      "source": [
        "root='AFFINE_REG_SKS_MASK_2D_IMAGES_DIR/'"
      ]
    },
    {
      "cell_type": "code",
      "execution_count": null,
      "id": "f6ee7c7a-1ee6-4608-b655-646aa404c280",
      "metadata": {
        "id": "f6ee7c7a-1ee6-4608-b655-646aa404c280",
        "tags": []
      },
      "outputs": [],
      "source": [
        "def resnet50_row(optimizer, loss, metrics, shape, num_layers_trainable=3):\n",
        "    # Load the base ResNet50 model without the top layer\n",
        "    base_model = tf.keras.applications.ResNet50(include_top=False, weights='imagenet', input_shape=shape)\n",
        "\n",
        "    # Freeze all layers except for the last num_layers_trainable layers\n",
        "    for layer in base_model.layers[:-num_layers_trainable]:\n",
        "        layer.trainable = False\n",
        "\n",
        "    # Renaming the trainable layers to avoid naming conflicts\n",
        "    for layer in base_model.layers[-num_layers_trainable:]:\n",
        "        layer.trainable = True\n",
        "        layer._name = layer._name + str('_ft')\n",
        "\n",
        "    # Add new layers on top of the base model\n",
        "    y = Flatten()(base_model.output)\n",
        "    c = Dropout(0.4)(y)\n",
        "    c = Dense(512, activation='relu')(c)\n",
        "    c = Dense(256, activation='relu')(c)\n",
        "    c = Dense(128, activation='relu')(c)\n",
        "    output_layer = Dense(3, activation='softmax')(c)\n",
        "\n",
        "    # Create the new model\n",
        "    model = Model(inputs=base_model.input, outputs=output_layer)\n",
        "\n",
        "    # Compile the model\n",
        "    model.compile(optimizer=optimizer, loss=loss, metrics=metrics)\n",
        "\n",
        "    return model"
      ]
    },
    {
      "cell_type": "code",
      "execution_count": null,
      "id": "2bdd6b9e-6dfc-4a63-ba36-bed0de9a0c0f",
      "metadata": {
        "id": "2bdd6b9e-6dfc-4a63-ba36-bed0de9a0c0f",
        "tags": []
      },
      "outputs": [],
      "source": [
        "def plot_confusion_matrix(true_lab,predict_lab,classes,path):\n",
        "  matrix_confusion = tf.math.confusion_matrix(labels=true_lab, predictions=predicted_lab, num_classes=len(classes))\n",
        "  ax = plt.subplot()\n",
        "  sns.heatmap(matrix_confusion, square=True, annot=True, cmap='Blues', fmt='d', cbar=True)\n",
        "  ax.set_xlabel('Predicted labels')\n",
        "  ax.set_ylabel('True labels')\n",
        "  ax.set_title('Confusion Matrix')\n",
        "  ax.xaxis.set_ticklabels(classes)\n",
        "  ax.yaxis.set_ticklabels(classes)\n",
        "  plt.savefig(f'{path}confusion_matrix.png')"
      ]
    },
    {
      "cell_type": "code",
      "execution_count": null,
      "id": "4dc7db8d-136a-44df-8efc-be0dbeaf77d8",
      "metadata": {
        "id": "4dc7db8d-136a-44df-8efc-be0dbeaf77d8",
        "tags": []
      },
      "outputs": [],
      "source": [
        "def dump_text(text,path):\n",
        "  text_file = open(path, \"w\")\n",
        "  text_file.write(text)\n",
        "  text_file.close()"
      ]
    },
    {
      "cell_type": "code",
      "execution_count": null,
      "id": "439c8047-9415-4e89-b59a-85d01d688121",
      "metadata": {
        "id": "439c8047-9415-4e89-b59a-85d01d688121",
        "outputId": "98245b92-2103-47ce-f87d-1887fbf49491",
        "tags": []
      },
      "outputs": [
        {
          "name": "stdout",
          "output_type": "stream",
          "text": [
            "Found 11059 images belonging to 3 classes.\n",
            "Found 494 images belonging to 3 classes.\n"
          ]
        }
      ],
      "source": [
        "image_Shape=(436,364,3)\n",
        "training_image_datagen = ImageDataGenerator(horizontal_flip=True).flow_from_directory(\n",
        "                                                  directory=f'{root}/training/',\n",
        "                                                  target_size=(image_Shape[0], image_Shape[1]),\n",
        "                                                  class_mode='categorical',\n",
        "                                                  batch_size=10\n",
        "                                                  )\n",
        "\n",
        "testing_image_datagen = ImageDataGenerator().flow_from_directory(\n",
        "                                                  directory = f'{root}/testing/' ,\n",
        "                                                  target_size = (image_Shape[0] ,image_Shape[1]) ,\n",
        "                                                  class_mode = 'categorical' ,\n",
        "                                                  batch_size=1 ,\n",
        "                                                  shuffle = False\n",
        "                                                  )"
      ]
    },
    {
      "cell_type": "code",
      "execution_count": null,
      "id": "560c9b47-60ca-4c4c-b7e0-3aadfc0a56c2",
      "metadata": {
        "id": "560c9b47-60ca-4c4c-b7e0-3aadfc0a56c2",
        "outputId": "7ef498b2-9f0e-4b7e-d62f-bf2c93177542",
        "tags": []
      },
      "outputs": [
        {
          "name": "stderr",
          "output_type": "stream",
          "text": [
            "2024-04-20 13:22:27.192373: I tensorflow/core/platform/cpu_feature_guard.cc:151] This TensorFlow binary is optimized with oneAPI Deep Neural Network Library (oneDNN) to use the following CPU instructions in performance-critical operations:  SSE4.1 SSE4.2 AVX AVX2 AVX512F FMA\n",
            "To enable them in other operations, rebuild TensorFlow with the appropriate compiler flags.\n",
            "2024-04-20 13:22:27.934796: I tensorflow/core/common_runtime/gpu/gpu_device.cc:1525] Created device /job:localhost/replica:0/task:0/device:GPU:0 with 9629 MB memory:  -> device: 0, name: NVIDIA GeForce RTX 2080 Ti, pci bus id: 0000:60:00.0, compute capability: 7.5\n"
          ]
        }
      ],
      "source": [
        "EPOCH = 100\n",
        "METRICS = [\n",
        "    tf.keras.metrics.CategoricalAccuracy(name='Accuracy'),\n",
        "    tf.keras.metrics.Precision(name='AD_Precision',class_id=0),\n",
        "    tf.keras.metrics.Precision(name='CN_Precision',class_id=1),\n",
        "    tf.keras.metrics.Precision(name='MCI_Precision',class_id=2),\n",
        "    tf.keras.metrics.Recall(name='AD_Recall',class_id=0),\n",
        "    tf.keras.metrics.Recall(name='CN_Recall',class_id=1),\n",
        "    tf.keras.metrics.Recall(name='MCI_Recall',class_id=2),\n",
        "    ]\n",
        "LOOS = 'categorical_crossentropy'"
      ]
    },
    {
      "cell_type": "code",
      "execution_count": null,
      "id": "ea309613-dc7d-4d31-9231-e81aa1211cb4",
      "metadata": {
        "id": "ea309613-dc7d-4d31-9231-e81aa1211cb4"
      },
      "outputs": [],
      "source": []
    },
    {
      "cell_type": "code",
      "execution_count": null,
      "id": "d38c859f-01e2-4e43-834d-371434f0a69f",
      "metadata": {
        "id": "d38c859f-01e2-4e43-834d-371434f0a69f",
        "outputId": "797f0b32-0295-4579-9703-b141b406189c",
        "tags": []
      },
      "outputs": [
        {
          "name": "stdout",
          "output_type": "stream",
          "text": [
            "Epoch 1/70\n"
          ]
        },
        {
          "name": "stderr",
          "output_type": "stream",
          "text": [
            "2024-04-18 19:47:15.475800: I tensorflow/stream_executor/cuda/cuda_dnn.cc:366] Loaded cuDNN version 8201\n"
          ]
        },
        {
          "name": "stdout",
          "output_type": "stream",
          "text": [
            "1106/1106 [==============================] - 132s 115ms/step - loss: 1.7849 - Accuracy: 0.4269 - AD_Precision: 0.2229 - CN_Precision: 0.3362 - MCI_Precision: 0.5289 - AD_Recall: 0.1430 - CN_Recall: 0.2480 - MCI_Recall: 0.5285 - val_loss: 2.6014 - val_Accuracy: 0.2004 - val_AD_Precision: 0.2025 - val_CN_Precision: 0.0000e+00 - val_MCI_Precision: 0.2000 - val_AD_Recall: 1.0000 - val_CN_Recall: 0.0000e+00 - val_MCI_Recall: 0.0042\n",
            "Epoch 2/70\n",
            "1106/1106 [==============================] - 101s 91ms/step - loss: 1.1608 - Accuracy: 0.4617 - AD_Precision: 0.2792 - CN_Precision: 0.3880 - MCI_Precision: 0.5442 - AD_Recall: 0.1157 - CN_Recall: 0.2280 - MCI_Recall: 0.5557 - val_loss: 1.1144 - val_Accuracy: 0.4555 - val_AD_Precision: 0.4118 - val_CN_Precision: 0.0000e+00 - val_MCI_Precision: 0.4869 - val_AD_Recall: 0.0714 - val_CN_Recall: 0.0000e+00 - val_MCI_Recall: 0.6987\n",
            "Epoch 3/70\n",
            "1106/1106 [==============================] - 99s 89ms/step - loss: 1.0629 - Accuracy: 0.4985 - AD_Precision: 0.3450 - CN_Precision: 0.4744 - MCI_Precision: 0.5605 - AD_Recall: 0.1016 - CN_Recall: 0.2545 - MCI_Recall: 0.5805 - val_loss: 1.2073 - val_Accuracy: 0.3381 - val_AD_Precision: 0.2464 - val_CN_Precision: 0.5447 - val_MCI_Precision: 0.2500 - val_AD_Recall: 0.5204 - val_CN_Recall: 0.4268 - val_MCI_Recall: 0.0042\n",
            "Epoch 4/70\n",
            "1106/1106 [==============================] - 101s 91ms/step - loss: 0.9818 - Accuracy: 0.5378 - AD_Precision: 0.4305 - CN_Precision: 0.5416 - MCI_Precision: 0.5799 - AD_Recall: 0.1035 - CN_Recall: 0.3274 - MCI_Recall: 0.6052 - val_loss: 1.0223 - val_Accuracy: 0.5405 - val_AD_Precision: 0.0000e+00 - val_CN_Precision: 0.6512 - val_MCI_Precision: 0.5216 - val_AD_Recall: 0.0000e+00 - val_CN_Recall: 0.3567 - val_MCI_Recall: 0.8577\n",
            "Epoch 5/70\n",
            "1106/1106 [==============================] - 99s 89ms/step - loss: 0.9230 - Accuracy: 0.5669 - AD_Precision: 0.5079 - CN_Precision: 0.6056 - MCI_Precision: 0.6036 - AD_Recall: 0.1656 - CN_Recall: 0.3577 - MCI_Recall: 0.6621 - val_loss: 1.0837 - val_Accuracy: 0.5081 - val_AD_Precision: 0.4737 - val_CN_Precision: 0.8500 - val_MCI_Precision: 0.5036 - val_AD_Recall: 0.1837 - val_CN_Recall: 0.1083 - val_MCI_Recall: 0.8870\n",
            "Epoch 6/70\n",
            "1106/1106 [==============================] - 101s 91ms/step - loss: 0.8845 - Accuracy: 0.5916 - AD_Precision: 0.6013 - CN_Precision: 0.6333 - MCI_Precision: 0.6235 - AD_Recall: 0.2206 - CN_Recall: 0.4071 - MCI_Recall: 0.6626 - val_loss: 0.9200 - val_Accuracy: 0.5992 - val_AD_Precision: 0.8333 - val_CN_Precision: 0.8571 - val_MCI_Precision: 0.5965 - val_AD_Recall: 0.0510 - val_CN_Recall: 0.3822 - val_MCI_Recall: 0.7113\n",
            "Epoch 7/70\n",
            "1106/1106 [==============================] - 99s 89ms/step - loss: 0.8289 - Accuracy: 0.6361 - AD_Precision: 0.6504 - CN_Precision: 0.6888 - MCI_Precision: 0.6541 - AD_Recall: 0.2817 - CN_Recall: 0.4894 - MCI_Recall: 0.7201 - val_loss: 1.0432 - val_Accuracy: 0.5769 - val_AD_Precision: 0.6154 - val_CN_Precision: 0.7128 - val_MCI_Precision: 0.5576 - val_AD_Recall: 0.2449 - val_CN_Recall: 0.4268 - val_MCI_Recall: 0.7490\n",
            "Epoch 8/70\n",
            "1106/1106 [==============================] - 99s 89ms/step - loss: 0.7721 - Accuracy: 0.6649 - AD_Precision: 0.6739 - CN_Precision: 0.7177 - MCI_Precision: 0.6827 - AD_Recall: 0.3645 - CN_Recall: 0.5428 - MCI_Recall: 0.7402 - val_loss: 1.0434 - val_Accuracy: 0.5911 - val_AD_Precision: 0.7857 - val_CN_Precision: 0.5826 - val_MCI_Precision: 0.6601 - val_AD_Recall: 0.1122 - val_CN_Recall: 0.8089 - val_MCI_Recall: 0.5607\n",
            "Epoch 9/70\n",
            "1106/1106 [==============================] - 99s 89ms/step - loss: 0.7402 - Accuracy: 0.6796 - AD_Precision: 0.6816 - CN_Precision: 0.7340 - MCI_Precision: 0.7015 - AD_Recall: 0.4069 - CN_Recall: 0.5694 - MCI_Recall: 0.7566 - val_loss: 1.2328 - val_Accuracy: 0.5972 - val_AD_Precision: 0.7500 - val_CN_Precision: 0.6089 - val_MCI_Precision: 0.5974 - val_AD_Recall: 0.0306 - val_CN_Recall: 0.6943 - val_MCI_Recall: 0.7573\n",
            "Epoch 10/70\n",
            "1106/1106 [==============================] - 102s 92ms/step - loss: 0.6884 - Accuracy: 0.7150 - AD_Precision: 0.7090 - CN_Precision: 0.7709 - MCI_Precision: 0.7258 - AD_Recall: 0.4595 - CN_Recall: 0.6273 - MCI_Recall: 0.7866 - val_loss: 0.9627 - val_Accuracy: 0.6478 - val_AD_Precision: 0.5169 - val_CN_Precision: 0.8571 - val_MCI_Precision: 0.6504 - val_AD_Recall: 0.4694 - val_CN_Recall: 0.4968 - val_MCI_Recall: 0.7238\n",
            "Epoch 11/70\n",
            "1106/1106 [==============================] - 102s 93ms/step - loss: 0.6306 - Accuracy: 0.7436 - AD_Precision: 0.7549 - CN_Precision: 0.7877 - MCI_Precision: 0.7540 - AD_Recall: 0.5245 - CN_Recall: 0.6623 - MCI_Recall: 0.8080 - val_loss: 0.9645 - val_Accuracy: 0.6700 - val_AD_Precision: 0.8333 - val_CN_Precision: 0.8544 - val_MCI_Precision: 0.6271 - val_AD_Recall: 0.1531 - val_CN_Recall: 0.5605 - val_MCI_Recall: 0.9289\n",
            "Epoch 12/70\n",
            "1106/1106 [==============================] - 100s 90ms/step - loss: 0.5866 - Accuracy: 0.7613 - AD_Precision: 0.7574 - CN_Precision: 0.8094 - MCI_Precision: 0.7713 - AD_Recall: 0.5668 - CN_Recall: 0.6957 - MCI_Recall: 0.8185 - val_loss: 1.0681 - val_Accuracy: 0.6215 - val_AD_Precision: 0.6071 - val_CN_Precision: 0.9535 - val_MCI_Precision: 0.5881 - val_AD_Recall: 0.5204 - val_CN_Recall: 0.2611 - val_MCI_Recall: 0.8661\n",
            "Epoch 13/70\n",
            "1106/1106 [==============================] - 102s 92ms/step - loss: 0.5495 - Accuracy: 0.7846 - AD_Precision: 0.7820 - CN_Precision: 0.8310 - MCI_Precision: 0.7940 - AD_Recall: 0.6176 - CN_Recall: 0.7317 - MCI_Recall: 0.8373 - val_loss: 0.9251 - val_Accuracy: 0.7146 - val_AD_Precision: 0.8846 - val_CN_Precision: 0.7919 - val_MCI_Precision: 0.6946 - val_AD_Recall: 0.2347 - val_CN_Recall: 0.7516 - val_MCI_Recall: 0.8661\n",
            "Epoch 14/70\n",
            "1106/1106 [==============================] - 102s 92ms/step - loss: 0.5215 - Accuracy: 0.8013 - AD_Precision: 0.8019 - CN_Precision: 0.8349 - MCI_Precision: 0.8112 - AD_Recall: 0.6491 - CN_Recall: 0.7495 - MCI_Recall: 0.8518 - val_loss: 0.8444 - val_Accuracy: 0.7186 - val_AD_Precision: 0.7547 - val_CN_Precision: 0.8430 - val_MCI_Precision: 0.6741 - val_AD_Recall: 0.4082 - val_CN_Recall: 0.6497 - val_MCI_Recall: 0.8828\n",
            "Epoch 15/70\n",
            "1106/1106 [==============================] - 100s 90ms/step - loss: 0.4768 - Accuracy: 0.8149 - AD_Precision: 0.8180 - CN_Precision: 0.8427 - MCI_Precision: 0.8272 - AD_Recall: 0.6914 - CN_Recall: 0.7620 - MCI_Recall: 0.8642 - val_loss: 1.1414 - val_Accuracy: 0.6437 - val_AD_Precision: 0.5000 - val_CN_Precision: 0.9831 - val_MCI_Precision: 0.6587 - val_AD_Recall: 0.6531 - val_CN_Recall: 0.3694 - val_MCI_Recall: 0.8075\n",
            "Epoch 16/70\n",
            "1106/1106 [==============================] - 100s 90ms/step - loss: 0.4634 - Accuracy: 0.8265 - AD_Precision: 0.8249 - CN_Precision: 0.8579 - MCI_Precision: 0.8313 - AD_Recall: 0.7159 - CN_Recall: 0.7795 - MCI_Recall: 0.8694 - val_loss: 0.7450 - val_Accuracy: 0.7166 - val_AD_Precision: 0.7826 - val_CN_Precision: 0.8942 - val_MCI_Precision: 0.6657 - val_AD_Recall: 0.3673 - val_CN_Recall: 0.5924 - val_MCI_Recall: 0.9247\n",
            "Epoch 17/70\n",
            "1106/1106 [==============================] - 102s 92ms/step - loss: 0.4305 - Accuracy: 0.8382 - AD_Precision: 0.8440 - CN_Precision: 0.8542 - MCI_Precision: 0.8505 - AD_Recall: 0.7352 - CN_Recall: 0.8008 - MCI_Recall: 0.8778 - val_loss: 0.8848 - val_Accuracy: 0.7328 - val_AD_Precision: 0.8571 - val_CN_Precision: 0.8306 - val_MCI_Precision: 0.6879 - val_AD_Recall: 0.3673 - val_CN_Recall: 0.6561 - val_MCI_Recall: 0.9038\n",
            "Epoch 18/70\n",
            "1106/1106 [==============================] - 100s 90ms/step - loss: 0.4127 - Accuracy: 0.8513 - AD_Precision: 0.8488 - CN_Precision: 0.8666 - MCI_Precision: 0.8614 - AD_Recall: 0.7634 - CN_Recall: 0.8168 - MCI_Recall: 0.8853 - val_loss: 1.1071 - val_Accuracy: 0.6741 - val_AD_Precision: 0.8846 - val_CN_Precision: 0.8500 - val_MCI_Precision: 0.6164 - val_AD_Recall: 0.2347 - val_CN_Recall: 0.5414 - val_MCI_Recall: 0.9414\n",
            "Epoch 19/70\n",
            "1106/1106 [==============================] - 100s 90ms/step - loss: 0.3836 - Accuracy: 0.8636 - AD_Precision: 0.8574 - CN_Precision: 0.8790 - MCI_Precision: 0.8730 - AD_Recall: 0.7775 - CN_Recall: 0.8268 - MCI_Recall: 0.8987 - val_loss: 1.2170 - val_Accuracy: 0.7206 - val_AD_Precision: 0.9130 - val_CN_Precision: 0.7622 - val_MCI_Precision: 0.6842 - val_AD_Recall: 0.2143 - val_CN_Recall: 0.7962 - val_MCI_Recall: 0.8703\n",
            "Epoch 20/70\n",
            "1106/1106 [==============================] - 102s 92ms/step - loss: 0.3595 - Accuracy: 0.8732 - AD_Precision: 0.8751 - CN_Precision: 0.8796 - MCI_Precision: 0.8874 - AD_Recall: 0.8071 - CN_Recall: 0.8449 - MCI_Recall: 0.9004 - val_loss: 1.0731 - val_Accuracy: 0.7348 - val_AD_Precision: 0.6962 - val_CN_Precision: 0.7625 - val_MCI_Precision: 0.7448 - val_AD_Recall: 0.5612 - val_CN_Recall: 0.7771 - val_MCI_Recall: 0.7448\n",
            "Epoch 21/70\n",
            "1106/1106 [==============================] - 102s 92ms/step - loss: 0.3532 - Accuracy: 0.8770 - AD_Precision: 0.8583 - CN_Precision: 0.8866 - MCI_Precision: 0.8923 - AD_Recall: 0.7977 - CN_Recall: 0.8512 - MCI_Recall: 0.9057 - val_loss: 1.1919 - val_Accuracy: 0.7368 - val_AD_Precision: 0.7800 - val_CN_Precision: 0.7458 - val_MCI_Precision: 0.7315 - val_AD_Recall: 0.3980 - val_CN_Recall: 0.8408 - val_MCI_Recall: 0.7866\n",
            "Epoch 22/70\n",
            "1106/1106 [==============================] - 99s 89ms/step - loss: 0.3200 - Accuracy: 0.8864 - AD_Precision: 0.8732 - CN_Precision: 0.8961 - MCI_Precision: 0.8966 - AD_Recall: 0.8227 - CN_Recall: 0.8605 - MCI_Recall: 0.9132 - val_loss: 1.3236 - val_Accuracy: 0.6964 - val_AD_Precision: 0.7500 - val_CN_Precision: 0.9398 - val_MCI_Precision: 0.6336 - val_AD_Recall: 0.3367 - val_CN_Recall: 0.4968 - val_MCI_Recall: 0.9623\n",
            "Epoch 23/70\n",
            "1106/1106 [==============================] - 101s 91ms/step - loss: 0.2966 - Accuracy: 0.8926 - AD_Precision: 0.8783 - CN_Precision: 0.9000 - MCI_Precision: 0.9040 - AD_Recall: 0.8354 - CN_Recall: 0.8671 - MCI_Recall: 0.9173 - val_loss: 0.7903 - val_Accuracy: 0.7814 - val_AD_Precision: 0.7229 - val_CN_Precision: 0.8593 - val_MCI_Precision: 0.7675 - val_AD_Recall: 0.6122 - val_CN_Recall: 0.7389 - val_MCI_Recall: 0.8703\n",
            "Epoch 24/70\n",
            "1106/1106 [==============================] - 100s 90ms/step - loss: 0.2836 - Accuracy: 0.8994 - AD_Precision: 0.9005 - CN_Precision: 0.9038 - MCI_Precision: 0.9073 - AD_Recall: 0.8556 - CN_Recall: 0.8665 - MCI_Recall: 0.9252 - val_loss: 1.1662 - val_Accuracy: 0.7389 - val_AD_Precision: 0.8704 - val_CN_Precision: 0.8785 - val_MCI_Precision: 0.6747 - val_AD_Recall: 0.4796 - val_CN_Recall: 0.5987 - val_MCI_Recall: 0.9372\n",
            "Epoch 25/70\n",
            "1106/1106 [==============================] - 99s 89ms/step - loss: 0.2743 - Accuracy: 0.9101 - AD_Precision: 0.9015 - CN_Precision: 0.9128 - MCI_Precision: 0.9196 - AD_Recall: 0.8612 - CN_Recall: 0.8809 - MCI_Recall: 0.9355 - val_loss: 0.9488 - val_Accuracy: 0.7773 - val_AD_Precision: 0.7778 - val_CN_Precision: 0.8992 - val_MCI_Precision: 0.7383 - val_AD_Recall: 0.5714 - val_CN_Recall: 0.6815 - val_MCI_Recall: 0.9205\n",
            "Epoch 26/70\n",
            "1106/1106 [==============================] - 99s 89ms/step - loss: 0.2649 - Accuracy: 0.9086 - AD_Precision: 0.9004 - CN_Precision: 0.9104 - MCI_Precision: 0.9177 - AD_Recall: 0.8636 - CN_Recall: 0.8774 - MCI_Recall: 0.9327 - val_loss: 1.4060 - val_Accuracy: 0.7267 - val_AD_Precision: 0.5897 - val_CN_Precision: 0.7184 - val_MCI_Precision: 0.8413 - val_AD_Recall: 0.7041 - val_CN_Recall: 0.7962 - val_MCI_Recall: 0.6653\n",
            "Epoch 27/70\n",
            "1106/1106 [==============================] - 101s 91ms/step - loss: 0.2497 - Accuracy: 0.9162 - AD_Precision: 0.9011 - CN_Precision: 0.9192 - MCI_Precision: 0.9277 - AD_Recall: 0.8744 - CN_Recall: 0.8959 - MCI_Recall: 0.9378 - val_loss: 1.1063 - val_Accuracy: 0.7915 - val_AD_Precision: 0.8310 - val_CN_Precision: 0.7778 - val_MCI_Precision: 0.7984 - val_AD_Recall: 0.6020 - val_CN_Recall: 0.8471 - val_MCI_Recall: 0.8285\n",
            "Epoch 28/70\n",
            "1106/1106 [==============================] - 99s 89ms/step - loss: 0.2437 - Accuracy: 0.9183 - AD_Precision: 0.9180 - CN_Precision: 0.9216 - MCI_Precision: 0.9235 - AD_Recall: 0.8899 - CN_Recall: 0.8827 - MCI_Recall: 0.9414 - val_loss: 1.4260 - val_Accuracy: 0.7652 - val_AD_Precision: 0.8627 - val_CN_Precision: 0.9068 - val_MCI_Precision: 0.6988 - val_AD_Recall: 0.4490 - val_CN_Recall: 0.6815 - val_MCI_Recall: 0.9414\n",
            "Epoch 29/70\n",
            "1106/1106 [==============================] - 99s 89ms/step - loss: 0.2267 - Accuracy: 0.9220 - AD_Precision: 0.9203 - CN_Precision: 0.9203 - MCI_Precision: 0.9299 - AD_Recall: 0.8956 - CN_Recall: 0.8915 - MCI_Recall: 0.9419 - val_loss: 0.9835 - val_Accuracy: 0.7429 - val_AD_Precision: 0.6863 - val_CN_Precision: 0.9043 - val_MCI_Precision: 0.7301 - val_AD_Recall: 0.7143 - val_CN_Recall: 0.5414 - val_MCI_Recall: 0.8828\n",
            "Epoch 30/70\n",
            "1106/1106 [==============================] - 99s 89ms/step - loss: 0.2303 - Accuracy: 0.9217 - AD_Precision: 0.9090 - CN_Precision: 0.9264 - MCI_Precision: 0.9304 - AD_Recall: 0.8885 - CN_Recall: 0.8968 - MCI_Recall: 0.9439 - val_loss: 1.0178 - val_Accuracy: 0.7874 - val_AD_Precision: 0.7722 - val_CN_Precision: 0.8898 - val_MCI_Precision: 0.7509 - val_AD_Recall: 0.6224 - val_CN_Recall: 0.7197 - val_MCI_Recall: 0.8954\n",
            "Epoch 31/70\n",
            "1106/1106 [==============================] - 99s 89ms/step - loss: 0.2322 - Accuracy: 0.9230 - AD_Precision: 0.9246 - CN_Precision: 0.9218 - MCI_Precision: 0.9294 - AD_Recall: 0.8998 - CN_Recall: 0.8915 - MCI_Recall: 0.9433 - val_loss: 1.6552 - val_Accuracy: 0.6579 - val_AD_Precision: 0.4087 - val_CN_Precision: 0.8615 - val_MCI_Precision: 0.8542 - val_AD_Recall: 0.8673 - val_CN_Recall: 0.7134 - val_MCI_Recall: 0.5146\n",
            "Epoch 32/70\n",
            "1106/1106 [==============================] - 100s 90ms/step - loss: 0.2120 - Accuracy: 0.9283 - AD_Precision: 0.9268 - CN_Precision: 0.9242 - MCI_Precision: 0.9363 - AD_Recall: 0.9055 - CN_Recall: 0.9040 - MCI_Recall: 0.9452 - val_loss: 1.4110 - val_Accuracy: 0.7591 - val_AD_Precision: 0.8723 - val_CN_Precision: 0.7243 - val_MCI_Precision: 0.7656 - val_AD_Recall: 0.4184 - val_CN_Recall: 0.8535 - val_MCI_Recall: 0.8201\n",
            "Epoch 33/70\n",
            "1106/1106 [==============================] - 99s 90ms/step - loss: 0.2088 - Accuracy: 0.9343 - AD_Precision: 0.9281 - CN_Precision: 0.9351 - MCI_Precision: 0.9412 - AD_Recall: 0.9102 - CN_Recall: 0.9140 - MCI_Recall: 0.9514 - val_loss: 1.2826 - val_Accuracy: 0.7895 - val_AD_Precision: 0.8387 - val_CN_Precision: 0.8406 - val_MCI_Precision: 0.7534 - val_AD_Recall: 0.5306 - val_CN_Recall: 0.7389 - val_MCI_Recall: 0.9205\n",
            "Epoch 34/70\n",
            "1106/1106 [==============================] - 100s 90ms/step - loss: 0.2041 - Accuracy: 0.9306 - AD_Precision: 0.9244 - CN_Precision: 0.9298 - MCI_Precision: 0.9389 - AD_Recall: 0.8970 - CN_Recall: 0.9109 - MCI_Recall: 0.9508 - val_loss: 1.4919 - val_Accuracy: 0.7409 - val_AD_Precision: 0.8269 - val_CN_Precision: 0.6733 - val_MCI_Precision: 0.7815 - val_AD_Recall: 0.4388 - val_CN_Recall: 0.8662 - val_MCI_Recall: 0.7782\n",
            "Epoch 35/70\n",
            "1106/1106 [==============================] - 99s 89ms/step - loss: 0.1903 - Accuracy: 0.9401 - AD_Precision: 0.9358 - CN_Precision: 0.9375 - MCI_Precision: 0.9468 - AD_Recall: 0.9120 - CN_Recall: 0.9199 - MCI_Recall: 0.9587 - val_loss: 1.7565 - val_Accuracy: 0.7794 - val_AD_Precision: 0.7500 - val_CN_Precision: 0.8682 - val_MCI_Precision: 0.7456 - val_AD_Recall: 0.5816 - val_CN_Recall: 0.7134 - val_MCI_Recall: 0.8954\n",
            "Epoch 36/70\n",
            "1106/1106 [==============================] - 100s 90ms/step - loss: 0.1972 - Accuracy: 0.9360 - AD_Precision: 0.9166 - CN_Precision: 0.9368 - MCI_Precision: 0.9455 - AD_Recall: 0.9097 - CN_Recall: 0.9221 - MCI_Recall: 0.9507 - val_loss: 1.7013 - val_Accuracy: 0.7389 - val_AD_Precision: 0.8947 - val_CN_Precision: 0.6827 - val_MCI_Precision: 0.7801 - val_AD_Recall: 0.3469 - val_CN_Recall: 0.9045 - val_MCI_Recall: 0.7866\n",
            "Epoch 37/70\n",
            "1106/1106 [==============================] - 99s 90ms/step - loss: 0.2021 - Accuracy: 0.9353 - AD_Precision: 0.9267 - CN_Precision: 0.9396 - MCI_Precision: 0.9404 - AD_Recall: 0.9040 - CN_Recall: 0.9153 - MCI_Recall: 0.9550 - val_loss: 1.7515 - val_Accuracy: 0.7429 - val_AD_Precision: 0.9231 - val_CN_Precision: 0.6460 - val_MCI_Precision: 0.8133 - val_AD_Recall: 0.3673 - val_CN_Recall: 0.9299 - val_MCI_Recall: 0.7657\n",
            "Epoch 38/70\n",
            "1106/1106 [==============================] - 99s 90ms/step - loss: 0.2101 - Accuracy: 0.9371 - AD_Precision: 0.9328 - CN_Precision: 0.9364 - MCI_Precision: 0.9426 - AD_Recall: 0.9078 - CN_Recall: 0.9168 - MCI_Recall: 0.9559 - val_loss: 1.4689 - val_Accuracy: 0.7652 - val_AD_Precision: 0.6337 - val_CN_Precision: 0.8806 - val_MCI_Precision: 0.7738 - val_AD_Recall: 0.6531 - val_CN_Recall: 0.7516 - val_MCI_Recall: 0.8159\n",
            "Epoch 39/70\n",
            "1106/1106 [==============================] - 99s 90ms/step - loss: 0.1916 - Accuracy: 0.9384 - AD_Precision: 0.9335 - CN_Precision: 0.9361 - MCI_Precision: 0.9450 - AD_Recall: 0.9050 - CN_Recall: 0.9253 - MCI_Recall: 0.9554 - val_loss: 1.1660 - val_Accuracy: 0.7854 - val_AD_Precision: 0.7195 - val_CN_Precision: 0.9040 - val_MCI_Precision: 0.7597 - val_AD_Recall: 0.6020 - val_CN_Recall: 0.7197 - val_MCI_Recall: 0.8996\n",
            "Epoch 40/70\n",
            "1106/1106 [==============================] - 99s 89ms/step - loss: 0.1858 - Accuracy: 0.9406 - AD_Precision: 0.9350 - CN_Precision: 0.9382 - MCI_Precision: 0.9475 - AD_Recall: 0.9135 - CN_Recall: 0.9215 - MCI_Recall: 0.9568 - val_loss: 2.6248 - val_Accuracy: 0.6619 - val_AD_Precision: 0.7162 - val_CN_Precision: 0.9783 - val_MCI_Precision: 0.6189 - val_AD_Recall: 0.5408 - val_CN_Recall: 0.2866 - val_MCI_Recall: 0.9582\n",
            "Epoch 41/70\n",
            "1106/1106 [==============================] - 99s 89ms/step - loss: 0.1966 - Accuracy: 0.9394 - AD_Precision: 0.9308 - CN_Precision: 0.9415 - MCI_Precision: 0.9445 - AD_Recall: 0.9172 - CN_Recall: 0.9209 - MCI_Recall: 0.9552 - val_loss: 1.9368 - val_Accuracy: 0.7915 - val_AD_Precision: 0.7778 - val_CN_Precision: 0.8451 - val_MCI_Precision: 0.7745 - val_AD_Recall: 0.5714 - val_CN_Recall: 0.7643 - val_MCI_Recall: 0.8912\n",
            "Epoch 42/70\n",
            "1106/1106 [==============================] - 99s 89ms/step - loss: 0.1856 - Accuracy: 0.9418 - AD_Precision: 0.9347 - CN_Precision: 0.9435 - MCI_Precision: 0.9471 - AD_Recall: 0.9163 - CN_Recall: 0.9287 - MCI_Recall: 0.9550 - val_loss: 1.3630 - val_Accuracy: 0.7854 - val_AD_Precision: 0.6552 - val_CN_Precision: 0.8414 - val_MCI_Precision: 0.8210 - val_AD_Recall: 0.7755 - val_CN_Recall: 0.7771 - val_MCI_Recall: 0.7866\n",
            "Epoch 43/70\n",
            "1106/1106 [==============================] - 101s 91ms/step - loss: 0.1797 - Accuracy: 0.9439 - AD_Precision: 0.9339 - CN_Precision: 0.9458 - MCI_Precision: 0.9498 - AD_Recall: 0.9172 - CN_Recall: 0.9275 - MCI_Recall: 0.9594 - val_loss: 1.3099 - val_Accuracy: 0.8057 - val_AD_Precision: 0.8101 - val_CN_Precision: 0.8012 - val_MCI_Precision: 0.8056 - val_AD_Recall: 0.6531 - val_CN_Recall: 0.8217 - val_MCI_Recall: 0.8494\n",
            "Epoch 44/70\n",
            "1106/1106 [==============================] - 101s 91ms/step - loss: 0.1841 - Accuracy: 0.9434 - AD_Precision: 0.9372 - CN_Precision: 0.9458 - MCI_Precision: 0.9487 - AD_Recall: 0.9196 - CN_Recall: 0.9221 - MCI_Recall: 0.9604 - val_loss: 1.1724 - val_Accuracy: 0.8097 - val_AD_Precision: 0.9167 - val_CN_Precision: 0.8562 - val_MCI_Precision: 0.7641 - val_AD_Recall: 0.5612 - val_CN_Recall: 0.7962 - val_MCI_Recall: 0.9079\n",
            "Epoch 45/70\n",
            "1106/1106 [==============================] - 99s 89ms/step - loss: 0.1788 - Accuracy: 0.9449 - AD_Precision: 0.9334 - CN_Precision: 0.9441 - MCI_Precision: 0.9527 - AD_Recall: 0.9229 - CN_Recall: 0.9287 - MCI_Recall: 0.9583 - val_loss: 1.6991 - val_Accuracy: 0.7794 - val_AD_Precision: 0.8776 - val_CN_Precision: 0.8012 - val_MCI_Precision: 0.7571 - val_AD_Recall: 0.4388 - val_CN_Recall: 0.8217 - val_MCI_Recall: 0.8870\n",
            "Epoch 46/70\n",
            "1106/1106 [==============================] - 99s 89ms/step - loss: 0.1731 - Accuracy: 0.9507 - AD_Precision: 0.9452 - CN_Precision: 0.9481 - MCI_Precision: 0.9561 - AD_Recall: 0.9337 - CN_Recall: 0.9362 - MCI_Recall: 0.9639 - val_loss: 1.9858 - val_Accuracy: 0.7611 - val_AD_Precision: 0.9143 - val_CN_Precision: 0.8696 - val_MCI_Precision: 0.7000 - val_AD_Recall: 0.3265 - val_CN_Recall: 0.7643 - val_MCI_Recall: 0.9372\n",
            "Epoch 47/70\n",
            "1106/1106 [==============================] - 99s 90ms/step - loss: 0.1687 - Accuracy: 0.9484 - AD_Precision: 0.9474 - CN_Precision: 0.9441 - MCI_Precision: 0.9529 - AD_Recall: 0.9323 - CN_Recall: 0.9293 - MCI_Recall: 0.9629 - val_loss: 1.4837 - val_Accuracy: 0.7976 - val_AD_Precision: 0.7528 - val_CN_Precision: 0.8235 - val_MCI_Precision: 0.8040 - val_AD_Recall: 0.6837 - val_CN_Recall: 0.8025 - val_MCI_Recall: 0.8410\n",
            "Epoch 48/70\n",
            "1106/1106 [==============================] - 99s 89ms/step - loss: 0.1890 - Accuracy: 0.9486 - AD_Precision: 0.9419 - CN_Precision: 0.9486 - MCI_Precision: 0.9529 - AD_Recall: 0.9304 - CN_Recall: 0.9287 - MCI_Recall: 0.9636 - val_loss: 1.9283 - val_Accuracy: 0.7571 - val_AD_Precision: 0.8667 - val_CN_Precision: 0.8952 - val_MCI_Precision: 0.6904 - val_AD_Recall: 0.3980 - val_CN_Recall: 0.7070 - val_MCI_Recall: 0.9331\n",
            "Epoch 49/70\n",
            "1106/1106 [==============================] - 99s 90ms/step - loss: 0.1599 - Accuracy: 0.9513 - AD_Precision: 0.9474 - CN_Precision: 0.9484 - MCI_Precision: 0.9564 - AD_Recall: 0.9318 - CN_Recall: 0.9375 - MCI_Recall: 0.9639 - val_loss: 1.8837 - val_Accuracy: 0.7834 - val_AD_Precision: 0.7846 - val_CN_Precision: 0.8446 - val_MCI_Precision: 0.7527 - val_AD_Recall: 0.5204 - val_CN_Recall: 0.7962 - val_MCI_Recall: 0.8787\n",
            "Epoch 50/70\n",
            "1106/1106 [==============================] - 99s 90ms/step - loss: 0.1783 - Accuracy: 0.9469 - AD_Precision: 0.9432 - CN_Precision: 0.9485 - MCI_Precision: 0.9505 - AD_Recall: 0.9224 - CN_Recall: 0.9331 - MCI_Recall: 0.9618 - val_loss: 1.7496 - val_Accuracy: 0.7551 - val_AD_Precision: 0.9333 - val_CN_Precision: 0.8212 - val_MCI_Precision: 0.7055 - val_AD_Recall: 0.2857 - val_CN_Recall: 0.7898 - val_MCI_Recall: 0.9121\n",
            "Epoch 51/70\n",
            "1106/1106 [==============================] - 99s 89ms/step - loss: 0.1654 - Accuracy: 0.9509 - AD_Precision: 0.9462 - CN_Precision: 0.9487 - MCI_Precision: 0.9567 - AD_Recall: 0.9341 - CN_Recall: 0.9312 - MCI_Recall: 0.9660 - val_loss: 1.3880 - val_Accuracy: 0.7773 - val_AD_Precision: 0.8519 - val_CN_Precision: 0.8582 - val_MCI_Precision: 0.7282 - val_AD_Recall: 0.4694 - val_CN_Recall: 0.7707 - val_MCI_Recall: 0.9079\n",
            "Epoch 52/70\n",
            "1106/1106 [==============================] - 99s 89ms/step - loss: 0.1618 - Accuracy: 0.9504 - AD_Precision: 0.9397 - CN_Precision: 0.9498 - MCI_Precision: 0.9563 - AD_Recall: 0.9304 - CN_Recall: 0.9340 - MCI_Recall: 0.9650 - val_loss: 1.6647 - val_Accuracy: 0.7713 - val_AD_Precision: 0.8800 - val_CN_Precision: 0.8105 - val_MCI_Precision: 0.7345 - val_AD_Recall: 0.4490 - val_CN_Recall: 0.7898 - val_MCI_Recall: 0.8912\n",
            "Epoch 53/70\n",
            "1106/1106 [==============================] - 99s 89ms/step - loss: 0.1606 - Accuracy: 0.9495 - AD_Precision: 0.9374 - CN_Precision: 0.9500 - MCI_Precision: 0.9553 - AD_Recall: 0.9233 - CN_Recall: 0.9390 - MCI_Recall: 0.9623 - val_loss: 1.6256 - val_Accuracy: 0.7895 - val_AD_Precision: 0.8438 - val_CN_Precision: 0.7892 - val_MCI_Precision: 0.7748 - val_AD_Recall: 0.5510 - val_CN_Recall: 0.8344 - val_MCI_Recall: 0.8494\n",
            "Epoch 54/70\n",
            "1106/1106 [==============================] - 99s 90ms/step - loss: 0.1641 - Accuracy: 0.9534 - AD_Precision: 0.9485 - CN_Precision: 0.9515 - MCI_Precision: 0.9588 - AD_Recall: 0.9440 - CN_Recall: 0.9328 - MCI_Recall: 0.9663 - val_loss: 2.2773 - val_Accuracy: 0.7794 - val_AD_Precision: 0.7442 - val_CN_Precision: 0.9439 - val_MCI_Precision: 0.7349 - val_AD_Recall: 0.6531 - val_CN_Recall: 0.6433 - val_MCI_Recall: 0.9163\n",
            "Epoch 55/70\n",
            "1106/1106 [==============================] - 99s 90ms/step - loss: 0.1632 - Accuracy: 0.9534 - AD_Precision: 0.9484 - CN_Precision: 0.9562 - MCI_Precision: 0.9556 - AD_Recall: 0.9346 - CN_Recall: 0.9346 - MCI_Recall: 0.9688 - val_loss: 2.0933 - val_Accuracy: 0.7713 - val_AD_Precision: 0.8500 - val_CN_Precision: 0.9346 - val_MCI_Precision: 0.7081 - val_AD_Recall: 0.5204 - val_CN_Recall: 0.6369 - val_MCI_Recall: 0.9540\n",
            "Epoch 56/70\n",
            "1106/1106 [==============================] - 99s 90ms/step - loss: 0.1554 - Accuracy: 0.9554 - AD_Precision: 0.9511 - CN_Precision: 0.9533 - MCI_Precision: 0.9597 - AD_Recall: 0.9417 - CN_Recall: 0.9381 - MCI_Recall: 0.9684 - val_loss: 2.5212 - val_Accuracy: 0.7672 - val_AD_Precision: 0.8448 - val_CN_Precision: 0.7514 - val_MCI_Precision: 0.7626 - val_AD_Recall: 0.5000 - val_CN_Recall: 0.8471 - val_MCI_Recall: 0.8201\n",
            "Epoch 57/70\n",
            "1106/1106 [==============================] - 99s 90ms/step - loss: 0.1464 - Accuracy: 0.9572 - AD_Precision: 0.9602 - CN_Precision: 0.9549 - MCI_Precision: 0.9595 - AD_Recall: 0.9431 - CN_Recall: 0.9393 - MCI_Recall: 0.9700 - val_loss: 2.5003 - val_Accuracy: 0.7652 - val_AD_Precision: 0.9375 - val_CN_Precision: 0.8714 - val_MCI_Precision: 0.7019 - val_AD_Recall: 0.3061 - val_CN_Recall: 0.7771 - val_MCI_Recall: 0.9456\n",
            "Epoch 58/70\n",
            "1106/1106 [==============================] - 101s 92ms/step - loss: 0.1780 - Accuracy: 0.9541 - AD_Precision: 0.9514 - CN_Precision: 0.9493 - MCI_Precision: 0.9587 - AD_Recall: 0.9384 - CN_Recall: 0.9365 - MCI_Recall: 0.9672 - val_loss: 1.5869 - val_Accuracy: 0.8117 - val_AD_Precision: 0.8308 - val_CN_Precision: 0.8600 - val_MCI_Precision: 0.7814 - val_AD_Recall: 0.5510 - val_CN_Recall: 0.8217 - val_MCI_Recall: 0.9121\n",
            "Epoch 59/70\n",
            "1106/1106 [==============================] - 99s 90ms/step - loss: 0.1629 - Accuracy: 0.9557 - AD_Precision: 0.9540 - CN_Precision: 0.9550 - MCI_Precision: 0.9581 - AD_Recall: 0.9360 - CN_Recall: 0.9425 - MCI_Recall: 0.9684 - val_loss: 2.4860 - val_Accuracy: 0.7996 - val_AD_Precision: 0.8750 - val_CN_Precision: 0.7735 - val_MCI_Precision: 0.8039 - val_AD_Recall: 0.5000 - val_CN_Recall: 0.8917 - val_MCI_Recall: 0.8577\n",
            "Epoch 60/70\n",
            "1106/1106 [==============================] - 99s 90ms/step - loss: 0.1491 - Accuracy: 0.9598 - AD_Precision: 0.9520 - CN_Precision: 0.9569 - MCI_Precision: 0.9665 - AD_Recall: 0.9412 - CN_Recall: 0.9503 - MCI_Recall: 0.9704 - val_loss: 1.5169 - val_Accuracy: 0.7571 - val_AD_Precision: 0.8143 - val_CN_Precision: 0.8942 - val_MCI_Precision: 0.7089 - val_AD_Recall: 0.5816 - val_CN_Recall: 0.5924 - val_MCI_Recall: 0.9372\n",
            "Epoch 61/70\n",
            "1106/1106 [==============================] - 99s 90ms/step - loss: 0.1481 - Accuracy: 0.9586 - AD_Precision: 0.9523 - CN_Precision: 0.9615 - MCI_Precision: 0.9617 - AD_Recall: 0.9393 - CN_Recall: 0.9447 - MCI_Recall: 0.9711 - val_loss: 1.6081 - val_Accuracy: 0.7753 - val_AD_Precision: 0.9091 - val_CN_Precision: 0.8472 - val_MCI_Precision: 0.7222 - val_AD_Recall: 0.4082 - val_CN_Recall: 0.7771 - val_MCI_Recall: 0.9247\n",
            "Epoch 62/70\n",
            "1106/1106 [==============================] - 99s 89ms/step - loss: 0.1629 - Accuracy: 0.9583 - AD_Precision: 0.9516 - CN_Precision: 0.9593 - MCI_Precision: 0.9616 - AD_Recall: 0.9431 - CN_Recall: 0.9437 - MCI_Recall: 0.9704 - val_loss: 1.7459 - val_Accuracy: 0.7915 - val_AD_Precision: 0.8596 - val_CN_Precision: 0.7988 - val_MCI_Precision: 0.7753 - val_AD_Recall: 0.5000 - val_CN_Recall: 0.8599 - val_MCI_Recall: 0.8661\n",
            "Epoch 63/70\n",
            "1106/1106 [==============================] - 99s 89ms/step - loss: 0.1454 - Accuracy: 0.9609 - AD_Precision: 0.9541 - CN_Precision: 0.9574 - MCI_Precision: 0.9672 - AD_Recall: 0.9478 - CN_Recall: 0.9490 - MCI_Recall: 0.9711 - val_loss: 1.8435 - val_Accuracy: 0.7652 - val_AD_Precision: 0.9189 - val_CN_Precision: 0.7784 - val_MCI_Precision: 0.7379 - val_AD_Recall: 0.3469 - val_CN_Recall: 0.8280 - val_MCI_Recall: 0.8954\n",
            "Epoch 64/70\n",
            "1106/1106 [==============================] - 99s 89ms/step - loss: 0.1426 - Accuracy: 0.9601 - AD_Precision: 0.9526 - CN_Precision: 0.9628 - MCI_Precision: 0.9632 - AD_Recall: 0.9445 - CN_Recall: 0.9481 - MCI_Recall: 0.9723 - val_loss: 2.1843 - val_Accuracy: 0.7814 - val_AD_Precision: 0.9250 - val_CN_Precision: 0.9030 - val_MCI_Precision: 0.7125 - val_AD_Recall: 0.3776 - val_CN_Recall: 0.7707 - val_MCI_Recall: 0.9540\n",
            "Epoch 65/70\n",
            "1106/1106 [==============================] - 100s 90ms/step - loss: 0.1515 - Accuracy: 0.9612 - AD_Precision: 0.9536 - CN_Precision: 0.9567 - MCI_Precision: 0.9675 - AD_Recall: 0.9483 - CN_Recall: 0.9525 - MCI_Recall: 0.9698 - val_loss: 1.7390 - val_Accuracy: 0.7672 - val_AD_Precision: 0.8070 - val_CN_Precision: 0.8917 - val_MCI_Precision: 0.7111 - val_AD_Recall: 0.4694 - val_CN_Recall: 0.6815 - val_MCI_Recall: 0.9372\n",
            "Epoch 66/70\n",
            "1106/1106 [==============================] - 100s 90ms/step - loss: 0.1452 - Accuracy: 0.9605 - AD_Precision: 0.9549 - CN_Precision: 0.9575 - MCI_Precision: 0.9665 - AD_Recall: 0.9468 - CN_Recall: 0.9509 - MCI_Recall: 0.9698 - val_loss: 1.9993 - val_Accuracy: 0.7996 - val_AD_Precision: 0.8889 - val_CN_Precision: 0.7849 - val_MCI_Precision: 0.7910 - val_AD_Recall: 0.4898 - val_CN_Recall: 0.8599 - val_MCI_Recall: 0.8870\n",
            "Epoch 67/70\n",
            "1106/1106 [==============================] - 100s 90ms/step - loss: 0.1396 - Accuracy: 0.9613 - AD_Precision: 0.9541 - CN_Precision: 0.9610 - MCI_Precision: 0.9659 - AD_Recall: 0.9478 - CN_Recall: 0.9475 - MCI_Recall: 0.9731 - val_loss: 1.6686 - val_Accuracy: 0.7976 - val_AD_Precision: 0.8235 - val_CN_Precision: 0.8797 - val_MCI_Precision: 0.7595 - val_AD_Recall: 0.5714 - val_CN_Recall: 0.7452 - val_MCI_Recall: 0.9247\n",
            "Epoch 68/70\n",
            "1106/1106 [==============================] - 100s 90ms/step - loss: 0.1345 - Accuracy: 0.9607 - AD_Precision: 0.9554 - CN_Precision: 0.9605 - MCI_Precision: 0.9637 - AD_Recall: 0.9464 - CN_Recall: 0.9500 - MCI_Recall: 0.9718 - val_loss: 2.0101 - val_Accuracy: 0.8077 - val_AD_Precision: 0.7792 - val_CN_Precision: 0.8963 - val_MCI_Precision: 0.7730 - val_AD_Recall: 0.6122 - val_CN_Recall: 0.7707 - val_MCI_Recall: 0.9121\n",
            "Epoch 69/70\n",
            "1106/1106 [==============================] - 100s 90ms/step - loss: 0.1517 - Accuracy: 0.9608 - AD_Precision: 0.9533 - CN_Precision: 0.9579 - MCI_Precision: 0.9667 - AD_Recall: 0.9501 - CN_Recall: 0.9459 - MCI_Recall: 0.9719 - val_loss: 2.1064 - val_Accuracy: 0.8016 - val_AD_Precision: 0.7342 - val_CN_Precision: 0.9030 - val_MCI_Precision: 0.7742 - val_AD_Recall: 0.5918 - val_CN_Recall: 0.7707 - val_MCI_Recall: 0.9038\n",
            "Epoch 70/70\n",
            "1106/1106 [==============================] - 99s 89ms/step - loss: 0.1426 - Accuracy: 0.9608 - AD_Precision: 0.9532 - CN_Precision: 0.9589 - MCI_Precision: 0.9662 - AD_Recall: 0.9492 - CN_Recall: 0.9481 - MCI_Recall: 0.9709 - val_loss: 1.7208 - val_Accuracy: 0.7874 - val_AD_Precision: 0.6667 - val_CN_Precision: 0.8333 - val_MCI_Precision: 0.8128 - val_AD_Recall: 0.6939 - val_CN_Recall: 0.8280 - val_MCI_Recall: 0.7992\n"
          ]
        },
        {
          "name": "stderr",
          "output_type": "stream",
          "text": [
            "/apps/tensorflow/2.7.0/lib/python3.9/site-packages/keras/engine/functional.py:1410: CustomMaskWarning: Custom mask layers require a config and must override get_config. When loading, the custom mask layer must be passed to the custom_objects argument.\n",
            "  layer_config = serialize_layer_fn(layer)\n"
          ]
        },
        {
          "name": "stdout",
          "output_type": "stream",
          "text": [
            "              precision    recall  f1-score   support\n",
            "\n",
            "          AD       0.83      0.55      0.66        98\n",
            "          CN       0.86      0.82      0.84       157\n",
            "         MCI       0.78      0.91      0.84       239\n",
            "\n",
            "    accuracy                           0.81       494\n",
            "   macro avg       0.82      0.76      0.78       494\n",
            "weighted avg       0.82      0.81      0.81       494\n",
            "\n"
          ]
        },
        {
          "data": {
            "image/png": "[encoded data removed]",
            "text/plain": [
              "<Figure size 432x288 with 2 Axes>"
            ]
          },
          "metadata": {
            "needs_background": "light"
          },
          "output_type": "display_data"
        }
      ],
      "source": [
        "savepath = 'Augmentation training/Resnet50/resnet50_70_0.0001/'\n",
        "lr=0.0001\n",
        "if not os.path.isdir(savepath):\n",
        "      os.makedirs(savepath)\n",
        "csvloger_callback = tf.keras.callbacks.CSVLogger(f'{savepath}history.csv', separator=',', append=False)\n",
        "\n",
        "modelcheckpoint_callback = tf.keras.callbacks.ModelCheckpoint(savepath+'resnet50_row_10E-5_weights-epoch:{epoch:03d}-val_Accuracy:{val_Accuracy:.4f}.h5',monitor='val_Accuracy'\n",
        "    ,verbose=0,save_best_only=True,save_weights_only=True,mode='max',save_freq='epoch' , initial_value_threshold=0.85)\n",
        "\n",
        "OPT = tf.keras.optimizers.RMSprop(learning_rate=lr)\n",
        "model04 = resnet50_row(OPT, LOOS,METRICS,image_Shape)\n",
        "history04 = model04.fit(training_image_datagen, epochs=EPOCH, validation_data=testing_image_datagen,callbacks=[csvloger_callback,modelcheckpoint_callback])\n",
        "model04 = resnet50_row(OPT, LOOS,METRICS,image_Shape)\n",
        "model04.load_weights(glob.glob(f\"{savepath}resnet50_row_10E-5_weights-epoch:*-val_Accuracy:{max(history04.history['val_Accuracy']):.4f}.h5\")[0])\n",
        "model04.save(f\"{savepath}/Resnet_100_0.0001.h5\")\n",
        "p1 = model04.predict(testing_image_datagen)\n",
        "predicted_lab = p1.argmax(axis=-1)\n",
        "true_lab = testing_image_datagen.classes\n",
        "plot_confusion_matrix(true_lab, predicted_lab, testing_image_datagen.class_indices.keys(),savepath)\n",
        "report = classification_report(true_lab, predicted_lab, target_names=testing_image_datagen.class_indices.keys())\n",
        "print(report)\n",
        "dump_text(report,f'{savepath}classification_report.txt')\n",
        "np.save(f\"{savepath}/resnet_100_0.0001.npy\",p1 )"
      ]
    },
    {
      "cell_type": "code",
      "execution_count": null,
      "id": "e354495e-6c9c-48e4-b0bd-76750fd8c930",
      "metadata": {
        "id": "e354495e-6c9c-48e4-b0bd-76750fd8c930",
        "outputId": "50ff834d-c66b-4448-bcfd-244072d9324a"
      },
      "outputs": [
        {
          "name": "stdout",
          "output_type": "stream",
          "text": [
            "Epoch 1/50\n"
          ]
        },
        {
          "name": "stderr",
          "output_type": "stream",
          "text": [
            "2024-04-19 11:31:03.610862: I tensorflow/stream_executor/cuda/cuda_dnn.cc:366] Loaded cuDNN version 8201\n"
          ]
        },
        {
          "name": "stdout",
          "output_type": "stream",
          "text": [
            "1106/1106 [==============================] - 129s 108ms/step - loss: 1.1261 - Accuracy: 0.4731 - AD_Precision: 0.2500 - CN_Precision: 0.3871 - MCI_Precision: 0.5377 - AD_Recall: 0.0536 - CN_Recall: 0.1795 - MCI_Recall: 0.5838 - val_loss: 1.0054 - val_Accuracy: 0.5000 - val_AD_Precision: 0.3846 - val_CN_Precision: 0.7037 - val_MCI_Precision: 0.5238 - val_AD_Recall: 0.1531 - val_CN_Recall: 0.1210 - val_MCI_Recall: 0.5523\n",
            "Epoch 2/50\n",
            "1106/1106 [==============================] - 101s 91ms/step - loss: 1.0129 - Accuracy: 0.5186 - AD_Precision: 0.4015 - CN_Precision: 0.4905 - MCI_Precision: 0.5747 - AD_Recall: 0.0757 - CN_Recall: 0.2339 - MCI_Recall: 0.6108 - val_loss: 1.0226 - val_Accuracy: 0.5425 - val_AD_Precision: 0.5000 - val_CN_Precision: 0.5574 - val_MCI_Precision: 0.5781 - val_AD_Recall: 0.0204 - val_CN_Recall: 0.4331 - val_MCI_Recall: 0.6192\n",
            "Epoch 3/50\n",
            "1106/1106 [==============================] - 99s 89ms/step - loss: 0.9558 - Accuracy: 0.5530 - AD_Precision: 0.4668 - CN_Precision: 0.5671 - MCI_Precision: 0.6069 - AD_Recall: 0.1388 - CN_Recall: 0.3249 - MCI_Recall: 0.6371 - val_loss: 0.9737 - val_Accuracy: 0.5061 - val_AD_Precision: 0.4098 - val_CN_Precision: 0.5849 - val_MCI_Precision: 0.6500 - val_AD_Recall: 0.2551 - val_CN_Recall: 0.5924 - val_MCI_Recall: 0.2176\n",
            "Epoch 4/50\n",
            "1106/1106 [==============================] - 101s 91ms/step - loss: 0.9092 - Accuracy: 0.5775 - AD_Precision: 0.5419 - CN_Precision: 0.5853 - MCI_Precision: 0.6351 - AD_Recall: 0.2159 - CN_Recall: 0.3809 - MCI_Recall: 0.6535 - val_loss: 0.9225 - val_Accuracy: 0.6053 - val_AD_Precision: 0.8000 - val_CN_Precision: 0.6340 - val_MCI_Precision: 0.6240 - val_AD_Recall: 0.0816 - val_CN_Recall: 0.6178 - val_MCI_Recall: 0.6527\n",
            "Epoch 5/50\n",
            "1106/1106 [==============================] - 101s 91ms/step - loss: 0.8530 - Accuracy: 0.6152 - AD_Precision: 0.5850 - CN_Precision: 0.6471 - MCI_Precision: 0.6647 - AD_Recall: 0.2752 - CN_Recall: 0.4478 - MCI_Recall: 0.6858 - val_loss: 0.8726 - val_Accuracy: 0.6336 - val_AD_Precision: 0.6750 - val_CN_Precision: 0.8667 - val_MCI_Precision: 0.6049 - val_AD_Recall: 0.2755 - val_CN_Recall: 0.3312 - val_MCI_Recall: 0.8201\n",
            "Epoch 6/50\n",
            "1106/1106 [==============================] - 99s 89ms/step - loss: 0.7920 - Accuracy: 0.6479 - AD_Precision: 0.6325 - CN_Precision: 0.6873 - MCI_Precision: 0.6960 - AD_Recall: 0.3424 - CN_Recall: 0.5197 - MCI_Recall: 0.7123 - val_loss: 0.9218 - val_Accuracy: 0.5810 - val_AD_Precision: 0.5422 - val_CN_Precision: 0.6077 - val_MCI_Precision: 0.7810 - val_AD_Recall: 0.4592 - val_CN_Recall: 0.8089 - val_MCI_Recall: 0.3431\n",
            "Epoch 7/50\n",
            "1106/1106 [==============================] - 101s 91ms/step - loss: 0.7286 - Accuracy: 0.6863 - AD_Precision: 0.6907 - CN_Precision: 0.7210 - MCI_Precision: 0.7245 - AD_Recall: 0.4139 - CN_Recall: 0.5722 - MCI_Recall: 0.7487 - val_loss: 0.8771 - val_Accuracy: 0.6761 - val_AD_Precision: 0.8571 - val_CN_Precision: 0.8851 - val_MCI_Precision: 0.6253 - val_AD_Recall: 0.1837 - val_CN_Recall: 0.4904 - val_MCI_Recall: 0.9498\n",
            "Epoch 8/50\n",
            "1106/1106 [==============================] - 99s 89ms/step - loss: 0.6640 - Accuracy: 0.7199 - AD_Precision: 0.7266 - CN_Precision: 0.7540 - MCI_Precision: 0.7473 - AD_Recall: 0.4737 - CN_Recall: 0.6220 - MCI_Recall: 0.7749 - val_loss: 0.8039 - val_Accuracy: 0.6761 - val_AD_Precision: 0.7273 - val_CN_Precision: 0.7011 - val_MCI_Precision: 0.6977 - val_AD_Recall: 0.1633 - val_CN_Recall: 0.7771 - val_MCI_Recall: 0.7531\n",
            "Epoch 9/50\n",
            "1106/1106 [==============================] - 99s 89ms/step - loss: 0.6103 - Accuracy: 0.7513 - AD_Precision: 0.7627 - CN_Precision: 0.7864 - MCI_Precision: 0.7751 - AD_Recall: 0.5292 - CN_Recall: 0.6735 - MCI_Recall: 0.7983 - val_loss: 0.9837 - val_Accuracy: 0.6377 - val_AD_Precision: 0.5789 - val_CN_Precision: 0.9038 - val_MCI_Precision: 0.6199 - val_AD_Recall: 0.4490 - val_CN_Recall: 0.2994 - val_MCI_Recall: 0.8870\n",
            "Epoch 10/50\n",
            "1106/1106 [==============================] - 101s 91ms/step - loss: 0.5510 - Accuracy: 0.7761 - AD_Precision: 0.7991 - CN_Precision: 0.8024 - MCI_Precision: 0.8032 - AD_Recall: 0.5894 - CN_Recall: 0.6998 - MCI_Recall: 0.8256 - val_loss: 0.6980 - val_Accuracy: 0.7004 - val_AD_Precision: 0.6133 - val_CN_Precision: 0.8598 - val_MCI_Precision: 0.7148 - val_AD_Recall: 0.4694 - val_CN_Recall: 0.5860 - val_MCI_Recall: 0.8075\n",
            "Epoch 11/50\n",
            "1106/1106 [==============================] - 99s 89ms/step - loss: 0.4882 - Accuracy: 0.8055 - AD_Precision: 0.8187 - CN_Precision: 0.8329 - MCI_Precision: 0.8317 - AD_Recall: 0.6392 - CN_Recall: 0.7530 - MCI_Recall: 0.8490 - val_loss: 0.9692 - val_Accuracy: 0.6964 - val_AD_Precision: 1.0000 - val_CN_Precision: 0.7041 - val_MCI_Precision: 0.6826 - val_AD_Recall: 0.1633 - val_CN_Recall: 0.7580 - val_MCI_Recall: 0.8368\n",
            "Epoch 12/50\n",
            "1106/1106 [==============================] - 99s 89ms/step - loss: 0.4451 - Accuracy: 0.8283 - AD_Precision: 0.8312 - CN_Precision: 0.8499 - MCI_Precision: 0.8444 - AD_Recall: 0.6834 - CN_Recall: 0.7770 - MCI_Recall: 0.8659 - val_loss: 1.1156 - val_Accuracy: 0.6336 - val_AD_Precision: 0.9231 - val_CN_Precision: 0.9800 - val_MCI_Precision: 0.5760 - val_AD_Recall: 0.2449 - val_CN_Recall: 0.3121 - val_MCI_Recall: 0.9833\n",
            "Epoch 13/50\n",
            "1106/1106 [==============================] - 99s 89ms/step - loss: 0.3978 - Accuracy: 0.8487 - AD_Precision: 0.8640 - CN_Precision: 0.8700 - MCI_Precision: 0.8598 - AD_Recall: 0.7230 - CN_Recall: 0.8036 - MCI_Recall: 0.8835 - val_loss: 1.2748 - val_Accuracy: 0.6478 - val_AD_Precision: 0.9286 - val_CN_Precision: 0.9655 - val_MCI_Precision: 0.5884 - val_AD_Recall: 0.2653 - val_CN_Recall: 0.3567 - val_MCI_Recall: 0.9749\n",
            "Epoch 14/50\n",
            "1106/1106 [==============================] - 101s 91ms/step - loss: 0.3642 - Accuracy: 0.8633 - AD_Precision: 0.8573 - CN_Precision: 0.8866 - MCI_Precision: 0.8788 - AD_Recall: 0.7545 - CN_Recall: 0.8261 - MCI_Recall: 0.8928 - val_loss: 0.9053 - val_Accuracy: 0.7328 - val_AD_Precision: 0.9032 - val_CN_Precision: 0.6827 - val_MCI_Precision: 0.7908 - val_AD_Recall: 0.2857 - val_CN_Recall: 0.9045 - val_MCI_Recall: 0.7908\n",
            "Epoch 15/50\n",
            "1106/1106 [==============================] - 101s 91ms/step - loss: 0.3182 - Accuracy: 0.8847 - AD_Precision: 0.8935 - CN_Precision: 0.8989 - MCI_Precision: 0.8952 - AD_Recall: 0.7813 - CN_Recall: 0.8512 - MCI_Recall: 0.9132 - val_loss: 0.7877 - val_Accuracy: 0.7672 - val_AD_Precision: 0.8393 - val_CN_Precision: 0.8548 - val_MCI_Precision: 0.7327 - val_AD_Recall: 0.4796 - val_CN_Recall: 0.6752 - val_MCI_Recall: 0.9289\n",
            "Epoch 16/50\n",
            "1106/1106 [==============================] - 99s 89ms/step - loss: 0.2801 - Accuracy: 0.8998 - AD_Precision: 0.8979 - CN_Precision: 0.9189 - MCI_Precision: 0.9083 - AD_Recall: 0.8189 - CN_Recall: 0.8721 - MCI_Recall: 0.9262 - val_loss: 0.8465 - val_Accuracy: 0.7227 - val_AD_Precision: 0.7808 - val_CN_Precision: 0.8916 - val_MCI_Precision: 0.6768 - val_AD_Recall: 0.5816 - val_CN_Recall: 0.4713 - val_MCI_Recall: 0.9289\n",
            "Epoch 17/50\n",
            "1106/1106 [==============================] - 99s 89ms/step - loss: 0.2608 - Accuracy: 0.9079 - AD_Precision: 0.9064 - CN_Precision: 0.9166 - MCI_Precision: 0.9177 - AD_Recall: 0.8424 - CN_Recall: 0.8762 - MCI_Recall: 0.9297 - val_loss: 0.8708 - val_Accuracy: 0.7652 - val_AD_Precision: 0.8082 - val_CN_Precision: 0.9307 - val_MCI_Precision: 0.7194 - val_AD_Recall: 0.6020 - val_CN_Recall: 0.5987 - val_MCI_Recall: 0.9331\n",
            "Epoch 18/50\n",
            "1106/1106 [==============================] - 99s 89ms/step - loss: 0.2276 - Accuracy: 0.9198 - AD_Precision: 0.9227 - CN_Precision: 0.9321 - MCI_Precision: 0.9273 - AD_Recall: 0.8594 - CN_Recall: 0.8890 - MCI_Recall: 0.9433 - val_loss: 1.2670 - val_Accuracy: 0.7308 - val_AD_Precision: 0.8929 - val_CN_Precision: 0.8444 - val_MCI_Precision: 0.6738 - val_AD_Recall: 0.2551 - val_CN_Recall: 0.7261 - val_MCI_Recall: 0.9247\n",
            "Epoch 19/50\n",
            "1106/1106 [==============================] - 101s 91ms/step - loss: 0.2163 - Accuracy: 0.9245 - AD_Precision: 0.9283 - CN_Precision: 0.9294 - MCI_Precision: 0.9311 - AD_Recall: 0.8711 - CN_Recall: 0.9053 - MCI_Recall: 0.9407 - val_loss: 0.8328 - val_Accuracy: 0.7713 - val_AD_Precision: 0.7746 - val_CN_Precision: 0.8382 - val_MCI_Precision: 0.7518 - val_AD_Recall: 0.5612 - val_CN_Recall: 0.7261 - val_MCI_Recall: 0.8745\n",
            "Epoch 20/50\n",
            "1106/1106 [==============================] - 99s 89ms/step - loss: 0.1864 - Accuracy: 0.9353 - AD_Precision: 0.9359 - CN_Precision: 0.9348 - MCI_Precision: 0.9442 - AD_Recall: 0.8928 - CN_Recall: 0.9187 - MCI_Recall: 0.9505 - val_loss: 1.1947 - val_Accuracy: 0.7105 - val_AD_Precision: 1.0000 - val_CN_Precision: 0.9065 - val_MCI_Precision: 0.6364 - val_AD_Recall: 0.1939 - val_CN_Recall: 0.6178 - val_MCI_Recall: 0.9665\n",
            "Epoch 21/50\n",
            "1106/1106 [==============================] - 99s 89ms/step - loss: 0.1657 - Accuracy: 0.9445 - AD_Precision: 0.9446 - CN_Precision: 0.9519 - MCI_Precision: 0.9484 - AD_Recall: 0.9055 - CN_Recall: 0.9290 - MCI_Recall: 0.9575 - val_loss: 0.9213 - val_Accuracy: 0.7611 - val_AD_Precision: 0.9184 - val_CN_Precision: 0.6636 - val_MCI_Precision: 0.8265 - val_AD_Recall: 0.4592 - val_CN_Recall: 0.9172 - val_MCI_Recall: 0.7573\n",
            "Epoch 22/50\n",
            "1106/1106 [==============================] - 101s 91ms/step - loss: 0.1570 - Accuracy: 0.9466 - AD_Precision: 0.9467 - CN_Precision: 0.9510 - MCI_Precision: 0.9498 - AD_Recall: 0.9102 - CN_Recall: 0.9337 - MCI_Recall: 0.9597 - val_loss: 0.8942 - val_Accuracy: 0.7935 - val_AD_Precision: 0.9070 - val_CN_Precision: 0.9242 - val_MCI_Precision: 0.7270 - val_AD_Recall: 0.3980 - val_CN_Recall: 0.7771 - val_MCI_Recall: 0.9582\n",
            "Epoch 23/50\n",
            "1106/1106 [==============================] - 99s 89ms/step - loss: 0.1346 - Accuracy: 0.9544 - AD_Precision: 0.9555 - CN_Precision: 0.9541 - MCI_Precision: 0.9594 - AD_Recall: 0.9285 - CN_Recall: 0.9422 - MCI_Recall: 0.9651 - val_loss: 0.9697 - val_Accuracy: 0.7692 - val_AD_Precision: 0.9211 - val_CN_Precision: 0.8483 - val_MCI_Precision: 0.7175 - val_AD_Recall: 0.3571 - val_CN_Recall: 0.7834 - val_MCI_Recall: 0.9247\n",
            "Epoch 24/50\n",
            "1106/1106 [==============================] - 101s 91ms/step - loss: 0.1239 - Accuracy: 0.9583 - AD_Precision: 0.9578 - CN_Precision: 0.9570 - MCI_Precision: 0.9649 - AD_Recall: 0.9398 - CN_Recall: 0.9462 - MCI_Recall: 0.9674 - val_loss: 0.8489 - val_Accuracy: 0.7955 - val_AD_Precision: 0.9057 - val_CN_Precision: 0.8228 - val_MCI_Precision: 0.7634 - val_AD_Recall: 0.4898 - val_CN_Recall: 0.8280 - val_MCI_Recall: 0.8912\n",
            "Epoch 25/50\n",
            "1106/1106 [==============================] - 101s 91ms/step - loss: 0.1130 - Accuracy: 0.9642 - AD_Precision: 0.9692 - CN_Precision: 0.9639 - MCI_Precision: 0.9657 - AD_Recall: 0.9487 - CN_Recall: 0.9518 - MCI_Recall: 0.9716 - val_loss: 0.8645 - val_Accuracy: 0.8097 - val_AD_Precision: 0.8814 - val_CN_Precision: 0.8261 - val_MCI_Precision: 0.7948 - val_AD_Recall: 0.5306 - val_CN_Recall: 0.8471 - val_MCI_Recall: 0.8912\n",
            "Epoch 26/50\n",
            "1106/1106 [==============================] - 101s 91ms/step - loss: 0.1003 - Accuracy: 0.9688 - AD_Precision: 0.9689 - CN_Precision: 0.9691 - MCI_Precision: 0.9727 - AD_Recall: 0.9539 - CN_Recall: 0.9609 - MCI_Recall: 0.9759 - val_loss: 0.7410 - val_Accuracy: 0.8178 - val_AD_Precision: 0.8592 - val_CN_Precision: 0.8963 - val_MCI_Precision: 0.7739 - val_AD_Recall: 0.6224 - val_CN_Recall: 0.7707 - val_MCI_Recall: 0.9163\n",
            "Epoch 27/50\n",
            "1106/1106 [==============================] - 99s 89ms/step - loss: 0.0879 - Accuracy: 0.9733 - AD_Precision: 0.9770 - CN_Precision: 0.9704 - MCI_Precision: 0.9760 - AD_Recall: 0.9595 - CN_Recall: 0.9640 - MCI_Recall: 0.9806 - val_loss: 0.9463 - val_Accuracy: 0.7753 - val_AD_Precision: 0.9057 - val_CN_Precision: 0.8862 - val_MCI_Precision: 0.7134 - val_AD_Recall: 0.4898 - val_CN_Recall: 0.6943 - val_MCI_Recall: 0.9372\n",
            "Epoch 28/50\n",
            "1106/1106 [==============================] - 101s 91ms/step - loss: 0.0877 - Accuracy: 0.9726 - AD_Precision: 0.9751 - CN_Precision: 0.9713 - MCI_Precision: 0.9747 - AD_Recall: 0.9591 - CN_Recall: 0.9637 - MCI_Recall: 0.9794 - val_loss: 0.8125 - val_Accuracy: 0.8259 - val_AD_Precision: 0.9118 - val_CN_Precision: 0.8160 - val_MCI_Precision: 0.8154 - val_AD_Recall: 0.6327 - val_CN_Recall: 0.8471 - val_MCI_Recall: 0.8870\n",
            "Epoch 29/50\n",
            "1106/1106 [==============================] - 99s 89ms/step - loss: 0.0810 - Accuracy: 0.9760 - AD_Precision: 0.9833 - CN_Precision: 0.9716 - MCI_Precision: 0.9773 - AD_Recall: 0.9704 - CN_Recall: 0.9637 - MCI_Recall: 0.9824 - val_loss: 0.8895 - val_Accuracy: 0.7915 - val_AD_Precision: 0.6931 - val_CN_Precision: 0.9145 - val_MCI_Precision: 0.7903 - val_AD_Recall: 0.7143 - val_CN_Recall: 0.6815 - val_MCI_Recall: 0.8828\n",
            "Epoch 30/50\n",
            "1106/1106 [==============================] - 99s 89ms/step - loss: 0.0726 - Accuracy: 0.9795 - AD_Precision: 0.9844 - CN_Precision: 0.9760 - MCI_Precision: 0.9811 - AD_Recall: 0.9770 - CN_Recall: 0.9681 - MCI_Recall: 0.9840 - val_loss: 0.9881 - val_Accuracy: 0.8138 - val_AD_Precision: 0.8514 - val_CN_Precision: 0.9565 - val_MCI_Precision: 0.7500 - val_AD_Recall: 0.6429 - val_CN_Recall: 0.7006 - val_MCI_Recall: 0.9540\n",
            "Epoch 31/50\n",
            "1106/1106 [==============================] - 99s 90ms/step - loss: 0.0695 - Accuracy: 0.9793 - AD_Precision: 0.9833 - CN_Precision: 0.9764 - MCI_Precision: 0.9811 - AD_Recall: 0.9708 - CN_Recall: 0.9712 - MCI_Recall: 0.9852 - val_loss: 1.0721 - val_Accuracy: 0.8057 - val_AD_Precision: 0.8793 - val_CN_Precision: 0.8732 - val_MCI_Precision: 0.7611 - val_AD_Recall: 0.5204 - val_CN_Recall: 0.7898 - val_MCI_Recall: 0.9331\n",
            "Epoch 32/50\n",
            "1106/1106 [==============================] - 99s 89ms/step - loss: 0.0649 - Accuracy: 0.9795 - AD_Precision: 0.9838 - CN_Precision: 0.9777 - MCI_Precision: 0.9800 - AD_Recall: 0.9737 - CN_Recall: 0.9712 - MCI_Recall: 0.9848 - val_loss: 0.8940 - val_Accuracy: 0.8016 - val_AD_Precision: 0.6796 - val_CN_Precision: 0.9180 - val_MCI_Precision: 0.8154 - val_AD_Recall: 0.7143 - val_CN_Recall: 0.7134 - val_MCI_Recall: 0.8870\n",
            "Epoch 33/50\n",
            "1106/1106 [==============================] - 99s 89ms/step - loss: 0.0621 - Accuracy: 0.9824 - AD_Precision: 0.9849 - CN_Precision: 0.9799 - MCI_Precision: 0.9840 - AD_Recall: 0.9788 - CN_Recall: 0.9753 - MCI_Recall: 0.9861 - val_loss: 1.0785 - val_Accuracy: 0.8239 - val_AD_Precision: 0.9231 - val_CN_Precision: 0.8940 - val_MCI_Precision: 0.7778 - val_AD_Recall: 0.4898 - val_CN_Recall: 0.8599 - val_MCI_Recall: 0.9372\n",
            "Epoch 34/50\n",
            "1106/1106 [==============================] - 99s 89ms/step - loss: 0.0563 - Accuracy: 0.9823 - AD_Precision: 0.9839 - CN_Precision: 0.9802 - MCI_Precision: 0.9838 - AD_Recall: 0.9774 - CN_Recall: 0.9772 - MCI_Recall: 0.9855 - val_loss: 0.9915 - val_Accuracy: 0.8138 - val_AD_Precision: 0.8025 - val_CN_Precision: 0.7845 - val_MCI_Precision: 0.8578 - val_AD_Recall: 0.6633 - val_CN_Recall: 0.9045 - val_MCI_Recall: 0.8075\n",
            "Epoch 35/50\n",
            "1106/1106 [==============================] - 99s 90ms/step - loss: 0.0528 - Accuracy: 0.9854 - AD_Precision: 0.9896 - CN_Precision: 0.9846 - MCI_Precision: 0.9856 - AD_Recall: 0.9840 - CN_Recall: 0.9784 - MCI_Recall: 0.9881 - val_loss: 1.5578 - val_Accuracy: 0.7571 - val_AD_Precision: 0.9333 - val_CN_Precision: 0.9794 - val_MCI_Precision: 0.6733 - val_AD_Recall: 0.4286 - val_CN_Recall: 0.6051 - val_MCI_Recall: 0.9916\n",
            "Epoch 36/50\n",
            "1106/1106 [==============================] - 99s 90ms/step - loss: 0.0513 - Accuracy: 0.9857 - AD_Precision: 0.9910 - CN_Precision: 0.9842 - MCI_Precision: 0.9854 - AD_Recall: 0.9835 - CN_Recall: 0.9762 - MCI_Recall: 0.9909 - val_loss: 1.2400 - val_Accuracy: 0.8077 - val_AD_Precision: 0.9556 - val_CN_Precision: 0.8150 - val_MCI_Precision: 0.7847 - val_AD_Recall: 0.4388 - val_CN_Recall: 0.8981 - val_MCI_Recall: 0.8996\n",
            "Epoch 37/50\n",
            "1106/1106 [==============================] - 99s 90ms/step - loss: 0.0490 - Accuracy: 0.9872 - AD_Precision: 0.9891 - CN_Precision: 0.9856 - MCI_Precision: 0.9883 - AD_Recall: 0.9854 - CN_Recall: 0.9819 - MCI_Recall: 0.9904 - val_loss: 1.1065 - val_Accuracy: 0.7895 - val_AD_Precision: 0.8837 - val_CN_Precision: 0.8707 - val_MCI_Precision: 0.7393 - val_AD_Recall: 0.3878 - val_CN_Recall: 0.8153 - val_MCI_Recall: 0.9372\n",
            "Epoch 38/50\n",
            "1106/1106 [==============================] - 99s 89ms/step - loss: 0.0469 - Accuracy: 0.9865 - AD_Precision: 0.9882 - CN_Precision: 0.9864 - MCI_Precision: 0.9865 - AD_Recall: 0.9845 - CN_Recall: 0.9781 - MCI_Recall: 0.9909 - val_loss: 1.2327 - val_Accuracy: 0.8077 - val_AD_Precision: 0.8906 - val_CN_Precision: 0.9487 - val_MCI_Precision: 0.7380 - val_AD_Recall: 0.5816 - val_CN_Recall: 0.7070 - val_MCI_Recall: 0.9665\n",
            "Epoch 39/50\n",
            "1106/1106 [==============================] - 99s 89ms/step - loss: 0.0428 - Accuracy: 0.9886 - AD_Precision: 0.9906 - CN_Precision: 0.9887 - MCI_Precision: 0.9885 - AD_Recall: 0.9878 - CN_Recall: 0.9812 - MCI_Recall: 0.9925 - val_loss: 0.9101 - val_Accuracy: 0.8259 - val_AD_Precision: 0.8919 - val_CN_Precision: 0.8389 - val_MCI_Precision: 0.8022 - val_AD_Recall: 0.6735 - val_CN_Recall: 0.7962 - val_MCI_Recall: 0.8996\n",
            "Epoch 40/50\n",
            "1106/1106 [==============================] - 99s 89ms/step - loss: 0.0450 - Accuracy: 0.9864 - AD_Precision: 0.9891 - CN_Precision: 0.9806 - MCI_Precision: 0.9894 - AD_Recall: 0.9831 - CN_Recall: 0.9816 - MCI_Recall: 0.9897 - val_loss: 1.0565 - val_Accuracy: 0.8198 - val_AD_Precision: 0.8983 - val_CN_Precision: 0.8395 - val_MCI_Precision: 0.7912 - val_AD_Recall: 0.5408 - val_CN_Recall: 0.8662 - val_MCI_Recall: 0.9038\n",
            "Epoch 41/50\n",
            "1106/1106 [==============================] - 99s 89ms/step - loss: 0.0396 - Accuracy: 0.9879 - AD_Precision: 0.9929 - CN_Precision: 0.9865 - MCI_Precision: 0.9873 - AD_Recall: 0.9882 - CN_Recall: 0.9812 - MCI_Recall: 0.9915 - val_loss: 1.0713 - val_Accuracy: 0.8259 - val_AD_Precision: 0.8971 - val_CN_Precision: 0.8344 - val_MCI_Precision: 0.8052 - val_AD_Recall: 0.6224 - val_CN_Recall: 0.8344 - val_MCI_Recall: 0.8996\n",
            "Epoch 42/50\n",
            "1106/1106 [==============================] - 101s 91ms/step - loss: 0.0398 - Accuracy: 0.9887 - AD_Precision: 0.9929 - CN_Precision: 0.9878 - MCI_Precision: 0.9884 - AD_Recall: 0.9849 - CN_Recall: 0.9837 - MCI_Recall: 0.9920 - val_loss: 0.9072 - val_Accuracy: 0.8279 - val_AD_Precision: 0.7816 - val_CN_Precision: 0.8187 - val_MCI_Precision: 0.8541 - val_AD_Recall: 0.6939 - val_CN_Recall: 0.8917 - val_MCI_Recall: 0.8326\n",
            "Epoch 43/50\n",
            "1106/1106 [==============================] - 101s 91ms/step - loss: 0.0396 - Accuracy: 0.9885 - AD_Precision: 0.9929 - CN_Precision: 0.9877 - MCI_Precision: 0.9878 - AD_Recall: 0.9868 - CN_Recall: 0.9828 - MCI_Recall: 0.9920 - val_loss: 1.0157 - val_Accuracy: 0.8320 - val_AD_Precision: 0.8472 - val_CN_Precision: 0.8476 - val_MCI_Precision: 0.8203 - val_AD_Recall: 0.6224 - val_CN_Recall: 0.8854 - val_MCI_Recall: 0.8787\n",
            "Epoch 44/50\n",
            "1106/1106 [==============================] - 99s 89ms/step - loss: 0.0411 - Accuracy: 0.9882 - AD_Precision: 0.9910 - CN_Precision: 0.9865 - MCI_Precision: 0.9890 - AD_Recall: 0.9849 - CN_Recall: 0.9831 - MCI_Recall: 0.9920 - val_loss: 1.0168 - val_Accuracy: 0.8219 - val_AD_Precision: 0.8571 - val_CN_Precision: 0.8210 - val_MCI_Precision: 0.8175 - val_AD_Recall: 0.6735 - val_CN_Recall: 0.8471 - val_MCI_Recall: 0.8619\n",
            "Epoch 45/50\n",
            "1106/1106 [==============================] - 99s 89ms/step - loss: 0.0396 - Accuracy: 0.9887 - AD_Precision: 0.9915 - CN_Precision: 0.9850 - MCI_Precision: 0.9899 - AD_Recall: 0.9882 - CN_Recall: 0.9850 - MCI_Recall: 0.9904 - val_loss: 1.4234 - val_Accuracy: 0.7692 - val_AD_Precision: 0.8000 - val_CN_Precision: 0.8952 - val_MCI_Precision: 0.7244 - val_AD_Recall: 0.6122 - val_CN_Recall: 0.5987 - val_MCI_Recall: 0.9456\n",
            "Epoch 46/50\n",
            "1106/1106 [==============================] - 99s 89ms/step - loss: 0.0334 - Accuracy: 0.9920 - AD_Precision: 0.9962 - CN_Precision: 0.9906 - MCI_Precision: 0.9913 - AD_Recall: 0.9892 - CN_Recall: 0.9887 - MCI_Recall: 0.9944 - val_loss: 1.2022 - val_Accuracy: 0.8300 - val_AD_Precision: 0.8806 - val_CN_Precision: 0.9014 - val_MCI_Precision: 0.7880 - val_AD_Recall: 0.6020 - val_CN_Recall: 0.8153 - val_MCI_Recall: 0.9331\n",
            "Epoch 47/50\n",
            "1106/1106 [==============================] - 100s 90ms/step - loss: 0.0338 - Accuracy: 0.9915 - AD_Precision: 0.9925 - CN_Precision: 0.9912 - MCI_Precision: 0.9915 - AD_Recall: 0.9911 - CN_Recall: 0.9869 - MCI_Recall: 0.9935 - val_loss: 1.2223 - val_Accuracy: 0.8198 - val_AD_Precision: 0.9180 - val_CN_Precision: 0.7619 - val_MCI_Precision: 0.8395 - val_AD_Recall: 0.5714 - val_CN_Recall: 0.9172 - val_MCI_Recall: 0.8536\n",
            "Epoch 48/50\n",
            "1106/1106 [==============================] - 102s 92ms/step - loss: 0.0332 - Accuracy: 0.9903 - AD_Precision: 0.9920 - CN_Precision: 0.9887 - MCI_Precision: 0.9906 - AD_Recall: 0.9878 - CN_Recall: 0.9866 - MCI_Recall: 0.9932 - val_loss: 1.3595 - val_Accuracy: 0.8320 - val_AD_Precision: 0.9167 - val_CN_Precision: 0.9071 - val_MCI_Precision: 0.7808 - val_AD_Recall: 0.5612 - val_CN_Recall: 0.8089 - val_MCI_Recall: 0.9540\n",
            "Epoch 49/50\n",
            "1106/1106 [==============================] - 99s 89ms/step - loss: 0.0326 - Accuracy: 0.9904 - AD_Precision: 0.9939 - CN_Precision: 0.9872 - MCI_Precision: 0.9911 - AD_Recall: 0.9897 - CN_Recall: 0.9866 - MCI_Recall: 0.9927 - val_loss: 1.2455 - val_Accuracy: 0.8198 - val_AD_Precision: 0.8438 - val_CN_Precision: 0.9078 - val_MCI_Precision: 0.7708 - val_AD_Recall: 0.5510 - val_CN_Recall: 0.8153 - val_MCI_Recall: 0.9289\n",
            "Epoch 50/50\n",
            "1106/1106 [==============================] - 99s 89ms/step - loss: 0.0300 - Accuracy: 0.9921 - AD_Precision: 0.9925 - CN_Precision: 0.9909 - MCI_Precision: 0.9927 - AD_Recall: 0.9939 - CN_Recall: 0.9884 - MCI_Recall: 0.9934 - val_loss: 1.5172 - val_Accuracy: 0.8219 - val_AD_Precision: 0.9020 - val_CN_Precision: 0.8443 - val_MCI_Precision: 0.7964 - val_AD_Recall: 0.4694 - val_CN_Recall: 0.8981 - val_MCI_Recall: 0.9163\n"
          ]
        },
        {
          "name": "stderr",
          "output_type": "stream",
          "text": [
            "/apps/tensorflow/2.7.0/lib/python3.9/site-packages/keras/engine/functional.py:1410: CustomMaskWarning: Custom mask layers require a config and must override get_config. When loading, the custom mask layer must be passed to the custom_objects argument.\n",
            "  layer_config = serialize_layer_fn(layer)\n"
          ]
        },
        {
          "name": "stdout",
          "output_type": "stream",
          "text": [
            "              precision    recall  f1-score   support\n",
            "\n",
            "          AD       0.85      0.62      0.72        98\n",
            "          CN       0.84      0.89      0.86       157\n",
            "         MCI       0.82      0.88      0.85       239\n",
            "\n",
            "    accuracy                           0.83       494\n",
            "   macro avg       0.84      0.80      0.81       494\n",
            "weighted avg       0.83      0.83      0.83       494\n",
            "\n"
          ]
        },
        {
          "data": {
            "image/png": "[encoded data removed]",
            "text/plain": [
              "<Figure size 432x288 with 2 Axes>"
            ]
          },
          "metadata": {
            "needs_background": "light"
          },
          "output_type": "display_data"
        }
      ],
      "source": [
        "savepath = 'Augmentation training/Resnet50/Resnet_50_0.00001/'\n",
        "lr=0.00001\n",
        "if not os.path.isdir(savepath):\n",
        "      os.makedirs(savepath)\n",
        "csvloger_callback = tf.keras.callbacks.CSVLogger(f'{savepath}history.csv', separator=',', append=False)\n",
        "\n",
        "modelcheckpoint_callback = tf.keras.callbacks.ModelCheckpoint(savepath+'resnet50_row_10E-5_weights-epoch:{epoch:03d}-val_Accuracy:{val_Accuracy:.4f}.h5',monitor='val_Accuracy'\n",
        "    ,verbose=0,save_best_only=True,save_weights_only=True,mode='max',save_freq='epoch' , initial_value_threshold=0.85)\n",
        "\n",
        "OPT = tf.keras.optimizers.RMSprop(learning_rate=lr)\n",
        "model04 = resnet50_row(OPT, LOOS,METRICS,image_Shape)\n",
        "history04 = model04.fit(training_image_datagen, epochs=EPOCH, validation_data=testing_image_datagen,callbacks=[csvloger_callback,modelcheckpoint_callback])\n",
        "model04 = resnet50_row(OPT, LOOS,METRICS,image_Shape)\n",
        "model04.load_weights(glob.glob(f\"{savepath}resnet50_row_10E-5_weights-epoch:*-val_Accuracy:{max(history04.history['val_Accuracy']):.4f}.h5\")[0])\n",
        "model04.save(f\"{savepath}/Resnet_50_0.00001.h5\")\n",
        "p1 = model04.predict(testing_image_datagen)\n",
        "predicted_lab = p1.argmax(axis=-1)\n",
        "true_lab = testing_image_datagen.classes\n",
        "plot_confusion_matrix(true_lab, predicted_lab, testing_image_datagen.class_indices.keys(),savepath)\n",
        "report = classification_report(true_lab, predicted_lab, target_names=testing_image_datagen.class_indices.keys())\n",
        "print(report)\n",
        "dump_text(report,f'{savepath}classification_report.txt')\n",
        "np.save(f\"{savepath}/resnet_50_0.00001.npy\",p1 )"
      ]
    },
    {
      "cell_type": "code",
      "execution_count": null,
      "id": "09fb125a-5982-4edf-8aa7-5e16d0f0ac62",
      "metadata": {
        "id": "09fb125a-5982-4edf-8aa7-5e16d0f0ac62"
      },
      "outputs": [],
      "source": []
    }
  ],
  "metadata": {
    "colab": {
      "provenance": []
    },
    "kernelspec": {
      "display_name": "Tensorflow-2.7.0",
      "language": "python",
      "name": "tensorflow-2.7.0"
    },
    "language_info": {
      "codemirror_mode": {
        "name": "ipython",
        "version": 3
      },
      "file_extension": ".py",
      "mimetype": "text/x-python",
      "name": "python",
      "nbconvert_exporter": "python",
      "pygments_lexer": "ipython3",
      "version": "3.9.12"
    }
  },
  "nbformat": 4,
  "nbformat_minor": 5
}
