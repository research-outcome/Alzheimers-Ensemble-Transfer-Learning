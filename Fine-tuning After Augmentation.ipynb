{
  "cells": [
    {
      "cell_type": "code",
      "execution_count": null,
      "id": "8479c3b5-62eb-440e-a02c-2d2eea238054",
      "metadata": {
        "tags": [],
        "id": "8479c3b5-62eb-440e-a02c-2d2eea238054"
      },
      "outputs": [],
      "source": [
        "import os\n",
        "import glob\n",
        "import shutil\n",
        "import numpy as np\n",
        "import pandas as pd\n",
        "import seaborn as sns\n",
        "import matplotlib.pyplot as plt\n",
        "from skimage.io import imread,imsave\n",
        "from sklearn.model_selection import train_test_split\n",
        "\n",
        "import tensorflow as tf\n",
        "from tensorflow.keras.utils import plot_model\n",
        "from tensorflow.keras.preprocessing.image import ImageDataGenerator\n",
        "from tensorflow.keras.models import save_model, load_model, Model\n",
        "from tensorflow.keras.layers import Input,InputLayer, Dropout, Flatten, Dense, Activation, MaxPooling2D, Conv2D\n",
        "from sklearn.metrics import classification_report"
      ]
    },
    {
      "cell_type": "code",
      "execution_count": null,
      "id": "58583250-e4c9-4123-be6a-16da13073218",
      "metadata": {
        "tags": [],
        "id": "58583250-e4c9-4123-be6a-16da13073218"
      },
      "outputs": [],
      "source": [
        "root='AFFINE_REG_SKS_MASK_2D_IMAGES_DIR/'"
      ]
    },
    {
      "cell_type": "code",
      "execution_count": null,
      "id": "e147f85c-8f87-469e-8139-f8e971ad3c74",
      "metadata": {
        "tags": [],
        "id": "e147f85c-8f87-469e-8139-f8e971ad3c74"
      },
      "outputs": [],
      "source": [
        "def densenet201_row(optimizer, loss, metrics, shape):\n",
        "    image_input = tf.keras.applications.DenseNet201(include_top=False, weights='imagenet', input_shape=shape)\n",
        "\n",
        "    for layer in image_input.layers:\n",
        "        layer.trainable = True\n",
        "        layer._name = layer._name + str('_img')\n",
        "\n",
        "    y = Flatten()(image_input.output)\n",
        "    c = Dropout(0.4)(y)\n",
        "    c = Dense(512)(c)\n",
        "    c = Dense(256)(c)\n",
        "    c = Dense(128)(c)\n",
        "    output_layer = Dense(3, activation='softmax')(c)\n",
        "\n",
        "    model = Model(inputs=image_input.input, outputs=output_layer)\n",
        "    model.compile(optimizer=optimizer, loss=loss, metrics=metrics)\n",
        "    return model"
      ]
    },
    {
      "cell_type": "code",
      "execution_count": null,
      "id": "f530b042-fe8b-4bc5-88a5-4e3fd75d4e3f",
      "metadata": {
        "tags": [],
        "id": "f530b042-fe8b-4bc5-88a5-4e3fd75d4e3f"
      },
      "outputs": [],
      "source": [
        "def plot_confusion_matrix(true_lab,predict_lab,classes,path):\n",
        "  matrix_confusion = tf.math.confusion_matrix(labels=true_lab, predictions=predicted_lab, num_classes=len(classes))\n",
        "  ax = plt.subplot()\n",
        "  sns.heatmap(matrix_confusion, square=True, annot=True, cmap='Blues', fmt='d', cbar=True)\n",
        "  ax.set_xlabel('Predicted labels')\n",
        "  ax.set_ylabel('True labels')\n",
        "  ax.set_title('Confusion Matrix')\n",
        "  ax.xaxis.set_ticklabels(classes)\n",
        "  ax.yaxis.set_ticklabels(classes)\n",
        "  plt.savefig(f'{path}confusion_matrix.png')\n"
      ]
    },
    {
      "cell_type": "code",
      "execution_count": null,
      "id": "2c1069e9-ba49-4ffe-8938-dd09168830d1",
      "metadata": {
        "tags": [],
        "id": "2c1069e9-ba49-4ffe-8938-dd09168830d1"
      },
      "outputs": [],
      "source": [
        "def dump_text(text,path):\n",
        "  text_file = open(path, \"w\")\n",
        "  text_file.write(text)\n",
        "  text_file.close()"
      ]
    },
    {
      "cell_type": "code",
      "execution_count": null,
      "id": "de745d4c-17c0-4ec5-861b-8b30fd9206c9",
      "metadata": {
        "tags": [],
        "id": "de745d4c-17c0-4ec5-861b-8b30fd9206c9",
        "outputId": "d6a98b44-2ce3-40b4-fb20-69e488656fbc"
      },
      "outputs": [
        {
          "name": "stderr",
          "output_type": "stream",
          "text": [
            "2024-03-25 10:46:58.494065: I tensorflow/core/platform/cpu_feature_guard.cc:151] This TensorFlow binary is optimized with oneAPI Deep Neural Network Library (oneDNN) to use the following CPU instructions in performance-critical operations:  SSE4.1 SSE4.2 AVX AVX2 AVX512F FMA\n",
            "To enable them in other operations, rebuild TensorFlow with the appropriate compiler flags.\n",
            "2024-03-25 10:46:59.353967: I tensorflow/core/common_runtime/gpu/gpu_device.cc:1525] Created device /job:localhost/replica:0/task:0/device:GPU:0 with 9629 MB memory:  -> device: 0, name: NVIDIA GeForce RTX 2080 Ti, pci bus id: 0000:b2:00.0, compute capability: 7.5\n"
          ]
        }
      ],
      "source": [
        "config = tf.compat.v1.ConfigProto()\n",
        "config.gpu_options.allow_growth = True\n",
        "session = tf.compat.v1.Session(config=config)"
      ]
    },
    {
      "cell_type": "code",
      "execution_count": null,
      "id": "6820e9a4-828a-411f-b550-b89b51ed62b7",
      "metadata": {
        "tags": [],
        "id": "6820e9a4-828a-411f-b550-b89b51ed62b7",
        "outputId": "750753dd-321d-4c80-9b18-f442a4ffad32"
      },
      "outputs": [
        {
          "name": "stdout",
          "output_type": "stream",
          "text": [
            "Found 11059 images belonging to 3 classes.\n",
            "Found 494 images belonging to 3 classes.\n"
          ]
        }
      ],
      "source": [
        "image_Shape=(436,364,3)\n",
        "training_image_datagen = ImageDataGenerator(horizontal_flip=True).flow_from_directory(\n",
        "                                                  directory=f'{root}/training/',\n",
        "                                                  target_size=(image_Shape[0], image_Shape[1]),\n",
        "                                                  class_mode='categorical',\n",
        "                                                  batch_size=16\n",
        "                                                  )\n",
        "\n",
        "testing_image_datagen = ImageDataGenerator().flow_from_directory(\n",
        "                                                  directory = f'{root}/testing/' ,\n",
        "                                                  target_size = (image_Shape[0] ,image_Shape[1]) ,\n",
        "                                                  class_mode = 'categorical' ,\n",
        "                                                  batch_size=1 ,\n",
        "                                                  shuffle = False\n",
        "                                                  )"
      ]
    },
    {
      "cell_type": "code",
      "execution_count": null,
      "id": "4463ff1f-4b0f-487f-a96b-02dea5ffde97",
      "metadata": {
        "tags": [],
        "id": "4463ff1f-4b0f-487f-a96b-02dea5ffde97",
        "outputId": "41ea046e-4ae8-49f5-b8d7-f3bab2804152"
      },
      "outputs": [
        {
          "name": "stderr",
          "output_type": "stream",
          "text": [
            "2024-03-25 10:47:06.956055: I tensorflow/core/common_runtime/gpu/gpu_device.cc:1525] Created device /job:localhost/replica:0/task:0/device:GPU:0 with 9629 MB memory:  -> device: 0, name: NVIDIA GeForce RTX 2080 Ti, pci bus id: 0000:b2:00.0, compute capability: 7.5\n"
          ]
        }
      ],
      "source": [
        "EPOCH = 50\n",
        "METRICS = [\n",
        "    tf.keras.metrics.CategoricalAccuracy(name='Accuracy'),\n",
        "    tf.keras.metrics.Precision(name='AD_Precision',class_id=0),\n",
        "    tf.keras.metrics.Precision(name='CN_Precision',class_id=1),\n",
        "    tf.keras.metrics.Precision(name='MCI_Precision',class_id=2),\n",
        "    tf.keras.metrics.Recall(name='AD_Recall',class_id=0),\n",
        "    tf.keras.metrics.Recall(name='CN_Recall',class_id=1),\n",
        "    tf.keras.metrics.Recall(name='MCI_Recall',class_id=2),\n",
        "    ]\n",
        "LOOS = 'categorical_crossentropy'"
      ]
    },
    {
      "cell_type": "code",
      "source": [],
      "metadata": {
        "id": "N_3cM-Rwh1bG"
      },
      "id": "N_3cM-Rwh1bG",
      "execution_count": null,
      "outputs": []
    },
    {
      "cell_type": "code",
      "execution_count": null,
      "metadata": {
        "tags": [],
        "id": "02baa5c2-26db-4d24-a34e-a5acc3eef6d9",
        "outputId": "f1d19daf-a01d-44c3-9118-7de22b61f672"
      },
      "outputs": [
        {
          "name": "stdout",
          "output_type": "stream",
          "text": [
            "Epoch 1/50\n",
            "1001/1106 [==========================>...] - ETA: 31s - loss: 1.0166 - Accuracy: 0.5154 - AD_Precision: 0.3779 - CN_Precision: 0.4879 - MCI_Precision: 0.5556 - AD_Recall: 0.0429 - CN_Recall: 0.2011 - MCI_Recall: 0.5798"
          ]
        },
        {
          "name": "stderr",
          "output_type": "stream",
          "text": [
            "2024-03-27 11:54:12.972354: W tensorflow/core/common_runtime/bfc_allocator.cc:275] Allocator (GPU_0_bfc) ran out of memory trying to allocate 2.68GiB with freed_by_count=0. The caller indicates that this is not a failure, but may mean that there could be performance gains if more memory were available.\n",
            "2024-03-27 11:54:13.105730: W tensorflow/core/common_runtime/bfc_allocator.cc:275] Allocator (GPU_0_bfc) ran out of memory trying to allocate 3.43GiB with freed_by_count=0. The caller indicates that this is not a failure, but may mean that there could be performance gains if more memory were available.\n"
          ]
        },
        {
          "name": "stdout",
          "output_type": "stream",
          "text": [
            "1106/1106 [==============================] - ETA: 0s - loss: 0.9981 - Accuracy: 0.5236 - AD_Precision: 0.4677 - CN_Precision: 0.5051 - MCI_Precision: 0.5638 - AD_Recall: 0.0715 - CN_Recall: 0.2189 - MCI_Recall: 0.5899"
          ]
        },
        {
          "name": "stderr",
          "output_type": "stream",
          "text": [
            "2024-03-27 11:54:48.719585: W tensorflow/core/common_runtime/bfc_allocator.cc:275] Allocator (GPU_0_bfc) ran out of memory trying to allocate 3.41GiB with freed_by_count=0. The caller indicates that this is not a failure, but may mean that there could be performance gains if more memory were available.\n"
          ]
        },
        {
          "name": "stdout",
          "output_type": "stream",
          "text": [
            "1106/1106 [==============================] - 370s 323ms/step - loss: 0.9981 - Accuracy: 0.5236 - AD_Precision: 0.4677 - CN_Precision: 0.5051 - MCI_Precision: 0.5638 - AD_Recall: 0.0715 - CN_Recall: 0.2189 - MCI_Recall: 0.5899 - val_loss: 1.3794 - val_Accuracy: 0.4028 - val_AD_Precision: 0.3089 - val_CN_Precision: 1.0000 - val_MCI_Precision: 0.5436 - val_AD_Recall: 0.7755 - val_CN_Recall: 0.0510 - val_MCI_Recall: 0.4435\n",
            "Epoch 2/50\n",
            "1106/1106 [==============================] - 356s 321ms/step - loss: 0.6647 - Accuracy: 0.7148 - AD_Precision: 0.7139 - CN_Precision: 0.7420 - MCI_Precision: 0.7452 - AD_Recall: 0.4741 - CN_Recall: 0.6735 - MCI_Recall: 0.7398 - val_loss: 0.8163 - val_Accuracy: 0.6619 - val_AD_Precision: 0.4244 - val_CN_Precision: 0.8393 - val_MCI_Precision: 0.7914 - val_AD_Recall: 0.7449 - val_CN_Recall: 0.5987 - val_MCI_Recall: 0.6192\n",
            "Epoch 3/50\n",
            "1106/1106 [==============================] - 358s 324ms/step - loss: 0.3844 - Accuracy: 0.8532 - AD_Precision: 0.8413 - CN_Precision: 0.8816 - MCI_Precision: 0.8640 - AD_Recall: 0.7404 - CN_Recall: 0.8405 - MCI_Recall: 0.8781 - val_loss: 0.6620 - val_Accuracy: 0.8259 - val_AD_Precision: 0.8676 - val_CN_Precision: 0.8616 - val_MCI_Precision: 0.8030 - val_AD_Recall: 0.6020 - val_CN_Recall: 0.8726 - val_MCI_Recall: 0.8870\n",
            "Epoch 4/50\n",
            "1106/1106 [==============================] - 354s 320ms/step - loss: 0.2271 - Accuracy: 0.9191 - AD_Precision: 0.9181 - CN_Precision: 0.9292 - MCI_Precision: 0.9206 - AD_Recall: 0.8758 - CN_Recall: 0.9024 - MCI_Recall: 0.9360 - val_loss: 0.7477 - val_Accuracy: 0.8016 - val_AD_Precision: 0.8421 - val_CN_Precision: 0.9369 - val_MCI_Precision: 0.7525 - val_AD_Recall: 0.6531 - val_CN_Recall: 0.6624 - val_MCI_Recall: 0.9540\n",
            "Epoch 5/50\n",
            "1106/1106 [==============================] - 356s 322ms/step - loss: 0.1444 - Accuracy: 0.9484 - AD_Precision: 0.9430 - CN_Precision: 0.9520 - MCI_Precision: 0.9526 - AD_Recall: 0.9262 - CN_Recall: 0.9375 - MCI_Recall: 0.9569 - val_loss: 0.6016 - val_Accuracy: 0.8522 - val_AD_Precision: 0.9848 - val_CN_Precision: 0.8333 - val_MCI_Precision: 0.8359 - val_AD_Recall: 0.6633 - val_CN_Recall: 0.8917 - val_MCI_Recall: 0.8954\n",
            "Epoch 6/50\n",
            "1106/1106 [==============================] - 353s 319ms/step - loss: 0.1197 - Accuracy: 0.9582 - AD_Precision: 0.9523 - CN_Precision: 0.9678 - MCI_Precision: 0.9579 - AD_Recall: 0.9384 - CN_Recall: 0.9493 - MCI_Recall: 0.9669 - val_loss: 1.2974 - val_Accuracy: 0.7895 - val_AD_Precision: 0.9697 - val_CN_Precision: 0.8667 - val_MCI_Precision: 0.7355 - val_AD_Recall: 0.3265 - val_CN_Recall: 0.8280 - val_MCI_Recall: 0.9540\n",
            "Epoch 7/50\n",
            "1106/1106 [==============================] - 356s 322ms/step - loss: 0.0995 - Accuracy: 0.9665 - AD_Precision: 0.9630 - CN_Precision: 0.9678 - MCI_Precision: 0.9699 - AD_Recall: 0.9548 - CN_Recall: 0.9593 - MCI_Recall: 0.9724 - val_loss: 1.0714 - val_Accuracy: 0.7814 - val_AD_Precision: 0.9762 - val_CN_Precision: 0.6833 - val_MCI_Precision: 0.8502 - val_AD_Recall: 0.4184 - val_CN_Recall: 0.9618 - val_MCI_Recall: 0.8075\n",
            "Epoch 8/50\n",
            "1106/1106 [==============================] - 357s 323ms/step - loss: 0.1126 - Accuracy: 0.9618 - AD_Precision: 0.9577 - CN_Precision: 0.9614 - MCI_Precision: 0.9669 - AD_Recall: 0.9483 - CN_Recall: 0.9572 - MCI_Recall: 0.9669 - val_loss: 0.7392 - val_Accuracy: 0.8765 - val_AD_Precision: 0.9577 - val_CN_Precision: 0.8606 - val_MCI_Precision: 0.8638 - val_AD_Recall: 0.6939 - val_CN_Recall: 0.9045 - val_MCI_Recall: 0.9289\n",
            "Epoch 9/50\n",
            "1106/1106 [==============================] - 357s 323ms/step - loss: 0.0771 - Accuracy: 0.9732 - AD_Precision: 0.9679 - CN_Precision: 0.9745 - MCI_Precision: 0.9763 - AD_Recall: 0.9643 - CN_Recall: 0.9684 - MCI_Recall: 0.9773 - val_loss: 0.5898 - val_Accuracy: 0.8806 - val_AD_Precision: 0.9359 - val_CN_Precision: 0.8861 - val_MCI_Precision: 0.8638 - val_AD_Recall: 0.7449 - val_CN_Recall: 0.8917 - val_MCI_Recall: 0.9289\n",
            "Epoch 10/50\n",
            "1106/1106 [==============================] - 357s 323ms/step - loss: 0.0684 - Accuracy: 0.9764 - AD_Precision: 0.9749 - CN_Precision: 0.9785 - MCI_Precision: 0.9769 - AD_Recall: 0.9694 - CN_Recall: 0.9684 - MCI_Recall: 0.9810 - val_loss: 0.5592 - val_Accuracy: 0.8846 - val_AD_Precision: 0.9342 - val_CN_Precision: 0.8875 - val_MCI_Precision: 0.8701 - val_AD_Recall: 0.7245 - val_CN_Recall: 0.9045 - val_MCI_Recall: 0.9247\n",
            "Epoch 11/50\n",
            "1106/1106 [==============================] - 354s 320ms/step - loss: 0.0637 - Accuracy: 0.9801 - AD_Precision: 0.9796 - CN_Precision: 0.9820 - MCI_Precision: 0.9804 - AD_Recall: 0.9718 - CN_Recall: 0.9728 - MCI_Recall: 0.9862 - val_loss: 0.7268 - val_Accuracy: 0.8441 - val_AD_Precision: 0.6875 - val_CN_Precision: 0.8820 - val_MCI_Precision: 0.8959 - val_AD_Recall: 0.7857 - val_CN_Recall: 0.9045 - val_MCI_Recall: 0.8285\n",
            "Epoch 12/50\n",
            "1106/1106 [==============================] - 355s 321ms/step - loss: 0.0670 - Accuracy: 0.9762 - AD_Precision: 0.9710 - CN_Precision: 0.9826 - MCI_Precision: 0.9759 - AD_Recall: 0.9600 - CN_Recall: 0.9740 - MCI_Recall: 0.9824 - val_loss: 0.7068 - val_Accuracy: 0.8704 - val_AD_Precision: 0.8242 - val_CN_Precision: 0.8571 - val_MCI_Precision: 0.8979 - val_AD_Recall: 0.7653 - val_CN_Recall: 0.9172 - val_MCI_Recall: 0.8828\n",
            "Epoch 13/50\n",
            "1106/1106 [==============================] - 353s 319ms/step - loss: 0.0531 - Accuracy: 0.9830 - AD_Precision: 0.9816 - CN_Precision: 0.9877 - MCI_Precision: 0.9823 - AD_Recall: 0.9774 - CN_Recall: 0.9765 - MCI_Recall: 0.9881 - val_loss: 0.7154 - val_Accuracy: 0.8947 - val_AD_Precision: 0.9589 - val_CN_Precision: 0.9119 - val_MCI_Precision: 0.8664 - val_AD_Recall: 0.7143 - val_CN_Recall: 0.9236 - val_MCI_Recall: 0.9498\n",
            "Epoch 14/50\n",
            "1106/1106 [==============================] - 353s 319ms/step - loss: 0.0586 - Accuracy: 0.9813 - AD_Precision: 0.9792 - CN_Precision: 0.9814 - MCI_Precision: 0.9828 - AD_Recall: 0.9751 - CN_Recall: 0.9712 - MCI_Recall: 0.9871 - val_loss: 0.6597 - val_Accuracy: 0.8826 - val_AD_Precision: 0.8621 - val_CN_Precision: 0.8788 - val_MCI_Precision: 0.8958 - val_AD_Recall: 0.7653 - val_CN_Recall: 0.9236 - val_MCI_Recall: 0.8996\n",
            "Epoch 15/50\n",
            "1106/1106 [==============================] - 353s 319ms/step - loss: 0.0516 - Accuracy: 0.9839 - AD_Precision: 0.9835 - CN_Precision: 0.9876 - MCI_Precision: 0.9827 - AD_Recall: 0.9826 - CN_Recall: 0.9734 - MCI_Recall: 0.9894 - val_loss: 1.2278 - val_Accuracy: 0.8239 - val_AD_Precision: 0.9853 - val_CN_Precision: 0.7115 - val_MCI_Precision: 0.8843 - val_AD_Recall: 0.6837 - val_CN_Recall: 0.9427 - val_MCI_Recall: 0.7992\n",
            "Epoch 16/50\n",
            "1106/1106 [==============================] - 353s 319ms/step - loss: 0.0472 - Accuracy: 0.9848 - AD_Precision: 0.9820 - CN_Precision: 0.9890 - MCI_Precision: 0.9844 - AD_Recall: 0.9760 - CN_Recall: 0.9800 - MCI_Recall: 0.9904 - val_loss: 0.8551 - val_Accuracy: 0.8563 - val_AD_Precision: 0.9028 - val_CN_Precision: 0.9155 - val_MCI_Precision: 0.8136 - val_AD_Recall: 0.6633 - val_CN_Recall: 0.8280 - val_MCI_Recall: 0.9498\n",
            "Epoch 17/50\n",
            "1106/1106 [==============================] - 354s 320ms/step - loss: 0.0428 - Accuracy: 0.9861 - AD_Precision: 0.9826 - CN_Precision: 0.9899 - MCI_Precision: 0.9863 - AD_Recall: 0.9802 - CN_Recall: 0.9794 - MCI_Recall: 0.9911 - val_loss: 0.9424 - val_Accuracy: 0.8502 - val_AD_Precision: 0.8889 - val_CN_Precision: 0.9021 - val_MCI_Precision: 0.8136 - val_AD_Recall: 0.6531 - val_CN_Recall: 0.8217 - val_MCI_Recall: 0.9498\n",
            "Epoch 18/50\n",
            "1106/1106 [==============================] - 355s 321ms/step - loss: 0.0423 - Accuracy: 0.9855 - AD_Precision: 0.9886 - CN_Precision: 0.9883 - MCI_Precision: 0.9834 - AD_Recall: 0.9807 - CN_Recall: 0.9790 - MCI_Recall: 0.9908 - val_loss: 1.2598 - val_Accuracy: 0.8603 - val_AD_Precision: 0.9655 - val_CN_Precision: 0.8521 - val_MCI_Precision: 0.8421 - val_AD_Recall: 0.5714 - val_CN_Recall: 0.9172 - val_MCI_Recall: 0.9372\n",
            "Epoch 19/50\n",
            "1106/1106 [==============================] - 355s 321ms/step - loss: 0.0387 - Accuracy: 0.9874 - AD_Precision: 0.9845 - CN_Precision: 0.9908 - MCI_Precision: 0.9872 - AD_Recall: 0.9831 - CN_Recall: 0.9809 - MCI_Recall: 0.9916 - val_loss: 0.8953 - val_Accuracy: 0.8543 - val_AD_Precision: 0.8500 - val_CN_Precision: 0.9167 - val_MCI_Precision: 0.8253 - val_AD_Recall: 0.6939 - val_CN_Recall: 0.8408 - val_MCI_Recall: 0.9289\n",
            "Epoch 20/50\n",
            "1106/1106 [==============================] - 353s 319ms/step - loss: 0.0393 - Accuracy: 0.9860 - AD_Precision: 0.9845 - CN_Precision: 0.9883 - MCI_Precision: 0.9860 - AD_Recall: 0.9840 - CN_Recall: 0.9765 - MCI_Recall: 0.9913 - val_loss: 0.8135 - val_Accuracy: 0.8785 - val_AD_Precision: 0.9710 - val_CN_Precision: 0.8902 - val_MCI_Precision: 0.8467 - val_AD_Recall: 0.6837 - val_CN_Recall: 0.9299 - val_MCI_Recall: 0.9247\n",
            "Epoch 21/50\n",
            "1106/1106 [==============================] - 354s 320ms/step - loss: 0.0335 - Accuracy: 0.9892 - AD_Precision: 0.9920 - CN_Precision: 0.9896 - MCI_Precision: 0.9885 - AD_Recall: 0.9878 - CN_Recall: 0.9819 - MCI_Recall: 0.9929 - val_loss: 0.9339 - val_Accuracy: 0.8725 - val_AD_Precision: 0.9412 - val_CN_Precision: 0.8910 - val_MCI_Precision: 0.8444 - val_AD_Recall: 0.6531 - val_CN_Recall: 0.8854 - val_MCI_Recall: 0.9540\n",
            "Epoch 22/50\n",
            "1106/1106 [==============================] - 354s 320ms/step - loss: 0.0428 - Accuracy: 0.9864 - AD_Precision: 0.9877 - CN_Precision: 0.9883 - MCI_Precision: 0.9859 - AD_Recall: 0.9854 - CN_Recall: 0.9787 - MCI_Recall: 0.9908 - val_loss: 0.7228 - val_Accuracy: 0.8603 - val_AD_Precision: 0.9296 - val_CN_Precision: 0.9412 - val_MCI_Precision: 0.8049 - val_AD_Recall: 0.6735 - val_CN_Recall: 0.8153 - val_MCI_Recall: 0.9665\n",
            "Epoch 23/50\n",
            "1106/1106 [==============================] - 351s 317ms/step - loss: 0.0428 - Accuracy: 0.9853 - AD_Precision: 0.9798 - CN_Precision: 0.9915 - MCI_Precision: 0.9854 - AD_Recall: 0.9798 - CN_Recall: 0.9797 - MCI_Recall: 0.9897 - val_loss: 0.8482 - val_Accuracy: 0.8704 - val_AD_Precision: 0.9459 - val_CN_Precision: 0.8305 - val_MCI_Precision: 0.8802 - val_AD_Recall: 0.7143 - val_CN_Recall: 0.9363 - val_MCI_Recall: 0.8912\n",
            "Epoch 24/50\n",
            "1106/1106 [==============================] - 353s 319ms/step - loss: 0.0225 - Accuracy: 0.9930 - AD_Precision: 0.9939 - CN_Precision: 0.9940 - MCI_Precision: 0.9924 - AD_Recall: 0.9939 - CN_Recall: 0.9866 - MCI_Recall: 0.9962 - val_loss: 1.0622 - val_Accuracy: 0.8320 - val_AD_Precision: 0.7952 - val_CN_Precision: 0.9338 - val_MCI_Precision: 0.7956 - val_AD_Recall: 0.6735 - val_CN_Recall: 0.8089 - val_MCI_Recall: 0.9121\n",
            "Epoch 25/50\n",
            "1106/1106 [==============================] - 353s 319ms/step - loss: 0.0324 - Accuracy: 0.9889 - AD_Precision: 0.9878 - CN_Precision: 0.9909 - MCI_Precision: 0.9883 - AD_Recall: 0.9892 - CN_Recall: 0.9837 - MCI_Recall: 0.9908 - val_loss: 1.0757 - val_Accuracy: 0.8664 - val_AD_Precision: 0.9429 - val_CN_Precision: 0.9556 - val_MCI_Precision: 0.8062 - val_AD_Recall: 0.6735 - val_CN_Recall: 0.8217 - val_MCI_Recall: 0.9749\n",
            "Epoch 26/50\n",
            "1106/1106 [==============================] - 351s 317ms/step - loss: 0.0321 - Accuracy: 0.9899 - AD_Precision: 0.9882 - CN_Precision: 0.9934 - MCI_Precision: 0.9887 - AD_Recall: 0.9878 - CN_Recall: 0.9844 - MCI_Recall: 0.9937 - val_loss: 0.9538 - val_Accuracy: 0.8563 - val_AD_Precision: 0.9841 - val_CN_Precision: 0.8912 - val_MCI_Precision: 0.8099 - val_AD_Recall: 0.6327 - val_CN_Recall: 0.8344 - val_MCI_Recall: 0.9623\n",
            "Epoch 27/50\n",
            "1106/1106 [==============================] - 354s 320ms/step - loss: 0.0271 - Accuracy: 0.9911 - AD_Precision: 0.9929 - CN_Precision: 0.9934 - MCI_Precision: 0.9899 - AD_Recall: 0.9897 - CN_Recall: 0.9853 - MCI_Recall: 0.9946 - val_loss: 1.7440 - val_Accuracy: 0.8117 - val_AD_Precision: 1.0000 - val_CN_Precision: 0.9000 - val_MCI_Precision: 0.7435 - val_AD_Recall: 0.4694 - val_CN_Recall: 0.8025 - val_MCI_Recall: 0.9582\n",
            "Epoch 28/50\n",
            "1106/1106 [==============================] - 350s 316ms/step - loss: 0.0353 - Accuracy: 0.9876 - AD_Precision: 0.9877 - CN_Precision: 0.9890 - MCI_Precision: 0.9873 - AD_Recall: 0.9854 - CN_Recall: 0.9809 - MCI_Recall: 0.9918 - val_loss: 0.8572 - val_Accuracy: 0.8704 - val_AD_Precision: 0.9595 - val_CN_Precision: 0.8571 - val_MCI_Precision: 0.8599 - val_AD_Recall: 0.7245 - val_CN_Recall: 0.8790 - val_MCI_Recall: 0.9247\n",
            "Epoch 29/50\n",
            "1106/1106 [==============================] - 350s 316ms/step - loss: 0.0274 - Accuracy: 0.9906 - AD_Precision: 0.9896 - CN_Precision: 0.9921 - MCI_Precision: 0.9903 - AD_Recall: 0.9859 - CN_Recall: 0.9856 - MCI_Recall: 0.9948 - val_loss: 1.0550 - val_Accuracy: 0.8785 - val_AD_Precision: 0.9595 - val_CN_Precision: 0.8512 - val_MCI_Precision: 0.8725 - val_AD_Recall: 0.7245 - val_CN_Recall: 0.9108 - val_MCI_Recall: 0.9163\n",
            "Epoch 30/50\n",
            "1106/1106 [==============================] - 350s 316ms/step - loss: 0.0318 - Accuracy: 0.9898 - AD_Precision: 0.9882 - CN_Precision: 0.9915 - MCI_Precision: 0.9899 - AD_Recall: 0.9887 - CN_Recall: 0.9834 - MCI_Recall: 0.9934 - val_loss: 0.8634 - val_Accuracy: 0.8866 - val_AD_Precision: 0.8737 - val_CN_Precision: 0.8854 - val_MCI_Precision: 0.8926 - val_AD_Recall: 0.8469 - val_CN_Recall: 0.8854 - val_MCI_Recall: 0.9038\n",
            "Epoch 31/50\n",
            "1106/1106 [==============================] - 349s 316ms/step - loss: 0.0247 - Accuracy: 0.9914 - AD_Precision: 0.9911 - CN_Precision: 0.9934 - MCI_Precision: 0.9906 - AD_Recall: 0.9901 - CN_Recall: 0.9834 - MCI_Recall: 0.9960 - val_loss: 1.1594 - val_Accuracy: 0.8644 - val_AD_Precision: 0.9836 - val_CN_Precision: 0.8839 - val_MCI_Precision: 0.8303 - val_AD_Recall: 0.6122 - val_CN_Recall: 0.8726 - val_MCI_Recall: 0.9623\n",
            "Epoch 32/50\n",
            "1106/1106 [==============================] - 349s 316ms/step - loss: 0.0308 - Accuracy: 0.9901 - AD_Precision: 0.9901 - CN_Precision: 0.9940 - MCI_Precision: 0.9884 - AD_Recall: 0.9849 - CN_Recall: 0.9853 - MCI_Recall: 0.9944 - val_loss: 0.6969 - val_Accuracy: 0.8664 - val_AD_Precision: 0.8111 - val_CN_Precision: 0.9032 - val_MCI_Precision: 0.8629 - val_AD_Recall: 0.7449 - val_CN_Recall: 0.8917 - val_MCI_Recall: 0.8954\n",
            "Epoch 33/50\n",
            "1106/1106 [==============================] - 350s 316ms/step - loss: 0.0276 - Accuracy: 0.9920 - AD_Precision: 0.9915 - CN_Precision: 0.9931 - MCI_Precision: 0.9917 - AD_Recall: 0.9906 - CN_Recall: 0.9856 - MCI_Recall: 0.9955 - val_loss: 0.8194 - val_Accuracy: 0.8401 - val_AD_Precision: 0.6957 - val_CN_Precision: 0.9837 - val_MCI_Precision: 0.8425 - val_AD_Recall: 0.8163 - val_CN_Recall: 0.7707 - val_MCI_Recall: 0.8954\n",
            "Epoch 34/50\n",
            "1106/1106 [==============================] - 349s 315ms/step - loss: 0.0186 - Accuracy: 0.9937 - AD_Precision: 0.9962 - CN_Precision: 0.9953 - MCI_Precision: 0.9922 - AD_Recall: 0.9962 - CN_Recall: 0.9856 - MCI_Recall: 0.9967 - val_loss: 1.2215 - val_Accuracy: 0.8543 - val_AD_Precision: 0.8649 - val_CN_Precision: 0.9184 - val_MCI_Precision: 0.8199 - val_AD_Recall: 0.6531 - val_CN_Recall: 0.8599 - val_MCI_Recall: 0.9331\n",
            "Epoch 35/50\n",
            "1106/1106 [==============================] - 351s 318ms/step - loss: 0.0268 - Accuracy: 0.9914 - AD_Precision: 0.9901 - CN_Precision: 0.9940 - MCI_Precision: 0.9906 - AD_Recall: 0.9882 - CN_Recall: 0.9869 - MCI_Recall: 0.9948 - val_loss: 1.1541 - val_Accuracy: 0.8441 - val_AD_Precision: 0.8242 - val_CN_Precision: 0.7838 - val_MCI_Precision: 0.9078 - val_AD_Recall: 0.7653 - val_CN_Recall: 0.9236 - val_MCI_Recall: 0.8243\n",
            "Epoch 36/50\n",
            "1106/1106 [==============================] - 350s 316ms/step - loss: 0.0259 - Accuracy: 0.9909 - AD_Precision: 0.9920 - CN_Precision: 0.9921 - MCI_Precision: 0.9903 - AD_Recall: 0.9887 - CN_Recall: 0.9844 - MCI_Recall: 0.9948 - val_loss: 0.8838 - val_Accuracy: 0.8806 - val_AD_Precision: 0.8795 - val_CN_Precision: 0.8813 - val_MCI_Precision: 0.8805 - val_AD_Recall: 0.7449 - val_CN_Recall: 0.8981 - val_MCI_Recall: 0.9247\n",
            "Epoch 37/50\n",
            "1106/1106 [==============================] - 354s 320ms/step - loss: 0.0242 - Accuracy: 0.9920 - AD_Precision: 0.9920 - CN_Precision: 0.9934 - MCI_Precision: 0.9917 - AD_Recall: 0.9897 - CN_Recall: 0.9872 - MCI_Recall: 0.9951 - val_loss: 1.1231 - val_Accuracy: 0.8664 - val_AD_Precision: 0.9286 - val_CN_Precision: 0.8452 - val_MCI_Precision: 0.8667 - val_AD_Recall: 0.6633 - val_CN_Recall: 0.9045 - val_MCI_Recall: 0.9247\n",
            "Epoch 38/50\n",
            "1106/1106 [==============================] - 354s 320ms/step - loss: 0.0279 - Accuracy: 0.9908 - AD_Precision: 0.9910 - CN_Precision: 0.9927 - MCI_Precision: 0.9905 - AD_Recall: 0.9873 - CN_Recall: 0.9828 - MCI_Recall: 0.9958 - val_loss: 0.9173 - val_Accuracy: 0.8441 - val_AD_Precision: 0.9385 - val_CN_Precision: 0.7653 - val_MCI_Precision: 0.8841 - val_AD_Recall: 0.6224 - val_CN_Recall: 0.9554 - val_MCI_Recall: 0.8619\n",
            "Epoch 39/50\n",
            "1106/1106 [==============================] - 350s 316ms/step - loss: 0.0244 - Accuracy: 0.9919 - AD_Precision: 0.9934 - CN_Precision: 0.9934 - MCI_Precision: 0.9910 - AD_Recall: 0.9925 - CN_Recall: 0.9866 - MCI_Recall: 0.9944 - val_loss: 1.0239 - val_Accuracy: 0.8340 - val_AD_Precision: 0.9714 - val_CN_Precision: 0.7376 - val_MCI_Precision: 0.8858 - val_AD_Recall: 0.6939 - val_CN_Recall: 0.9490 - val_MCI_Recall: 0.8117\n",
            "Epoch 40/50\n",
            "1106/1106 [==============================] - 350s 316ms/step - loss: 0.0177 - Accuracy: 0.9928 - AD_Precision: 0.9934 - CN_Precision: 0.9946 - MCI_Precision: 0.9917 - AD_Recall: 0.9929 - CN_Recall: 0.9872 - MCI_Recall: 0.9958 - val_loss: 1.4524 - val_Accuracy: 0.8279 - val_AD_Precision: 0.9130 - val_CN_Precision: 0.7796 - val_MCI_Precision: 0.8403 - val_AD_Recall: 0.6429 - val_CN_Recall: 0.9236 - val_MCI_Recall: 0.8368\n",
            "Epoch 41/50\n",
            "1106/1106 [==============================] - 350s 317ms/step - loss: 0.0233 - Accuracy: 0.9920 - AD_Precision: 0.9925 - CN_Precision: 0.9949 - MCI_Precision: 0.9908 - AD_Recall: 0.9929 - CN_Recall: 0.9844 - MCI_Recall: 0.9956 - val_loss: 0.9403 - val_Accuracy: 0.8704 - val_AD_Precision: 0.8191 - val_CN_Precision: 0.8675 - val_MCI_Precision: 0.8970 - val_AD_Recall: 0.7857 - val_CN_Recall: 0.9172 - val_MCI_Recall: 0.8745\n",
            "Epoch 42/50\n",
            "1106/1106 [==============================] - 350s 317ms/step - loss: 0.0213 - Accuracy: 0.9921 - AD_Precision: 0.9915 - CN_Precision: 0.9940 - MCI_Precision: 0.9917 - AD_Recall: 0.9901 - CN_Recall: 0.9859 - MCI_Recall: 0.9962 - val_loss: 1.2598 - val_Accuracy: 0.8441 - val_AD_Precision: 0.8667 - val_CN_Precision: 0.9407 - val_MCI_Precision: 0.7951 - val_AD_Recall: 0.6633 - val_CN_Recall: 0.8089 - val_MCI_Recall: 0.9414\n",
            "Epoch 43/50\n",
            "1106/1106 [==============================] - 350s 317ms/step - loss: 0.0326 - Accuracy: 0.9908 - AD_Precision: 0.9910 - CN_Precision: 0.9927 - MCI_Precision: 0.9898 - AD_Recall: 0.9892 - CN_Recall: 0.9847 - MCI_Recall: 0.9946 - val_loss: 1.0383 - val_Accuracy: 0.8664 - val_AD_Precision: 0.9125 - val_CN_Precision: 0.8276 - val_MCI_Precision: 0.8828 - val_AD_Recall: 0.7449 - val_CN_Recall: 0.9172 - val_MCI_Recall: 0.8828\n",
            "Epoch 44/50\n",
            "1106/1106 [==============================] - 350s 317ms/step - loss: 0.0177 - Accuracy: 0.9939 - AD_Precision: 0.9953 - CN_Precision: 0.9962 - MCI_Precision: 0.9922 - AD_Recall: 0.9948 - CN_Recall: 0.9875 - MCI_Recall: 0.9970 - val_loss: 0.9529 - val_Accuracy: 0.8664 - val_AD_Precision: 0.9429 - val_CN_Precision: 0.9306 - val_MCI_Precision: 0.8172 - val_AD_Recall: 0.6735 - val_CN_Recall: 0.8535 - val_MCI_Recall: 0.9540\n",
            "Epoch 45/50\n",
            "1106/1106 [==============================] - 351s 317ms/step - loss: 0.0180 - Accuracy: 0.9943 - AD_Precision: 0.9948 - CN_Precision: 0.9972 - MCI_Precision: 0.9929 - AD_Recall: 0.9939 - CN_Recall: 0.9891 - MCI_Recall: 0.9972 - val_loss: 0.6585 - val_Accuracy: 0.8765 - val_AD_Precision: 0.8837 - val_CN_Precision: 0.8683 - val_MCI_Precision: 0.8941 - val_AD_Recall: 0.7755 - val_CN_Recall: 0.9236 - val_MCI_Recall: 0.8828\n",
            "Epoch 46/50\n",
            "1106/1106 [==============================] - 350s 317ms/step - loss: 0.0163 - Accuracy: 0.9939 - AD_Precision: 0.9958 - CN_Precision: 0.9962 - MCI_Precision: 0.9924 - AD_Recall: 0.9939 - CN_Recall: 0.9872 - MCI_Recall: 0.9977 - val_loss: 1.0731 - val_Accuracy: 0.8623 - val_AD_Precision: 0.9444 - val_CN_Precision: 0.8114 - val_MCI_Precision: 0.8745 - val_AD_Recall: 0.6939 - val_CN_Recall: 0.9045 - val_MCI_Recall: 0.9038\n",
            "Epoch 47/50\n",
            "1106/1106 [==============================] - 350s 317ms/step - loss: 0.0169 - Accuracy: 0.9945 - AD_Precision: 0.9953 - CN_Precision: 0.9965 - MCI_Precision: 0.9932 - AD_Recall: 0.9967 - CN_Recall: 0.9875 - MCI_Recall: 0.9970 - val_loss: 1.4284 - val_Accuracy: 0.8543 - val_AD_Precision: 0.8873 - val_CN_Precision: 0.8926 - val_MCI_Precision: 0.8333 - val_AD_Recall: 0.6429 - val_CN_Recall: 0.8471 - val_MCI_Recall: 0.9414\n",
            "Epoch 48/50\n",
            "1106/1106 [==============================] - 350s 316ms/step - loss: 0.0257 - Accuracy: 0.9923 - AD_Precision: 0.9925 - CN_Precision: 0.9950 - MCI_Precision: 0.9910 - AD_Recall: 0.9929 - CN_Recall: 0.9862 - MCI_Recall: 0.9953 - val_loss: 1.1835 - val_Accuracy: 0.8583 - val_AD_Precision: 0.9000 - val_CN_Precision: 0.9441 - val_MCI_Precision: 0.8071 - val_AD_Recall: 0.6429 - val_CN_Recall: 0.8599 - val_MCI_Recall: 0.9456\n",
            "Epoch 49/50\n",
            "1106/1106 [==============================] - 351s 317ms/step - loss: 0.0178 - Accuracy: 0.9940 - AD_Precision: 0.9948 - CN_Precision: 0.9965 - MCI_Precision: 0.9924 - AD_Recall: 0.9925 - CN_Recall: 0.9878 - MCI_Recall: 0.9977 - val_loss: 1.0485 - val_Accuracy: 0.8684 - val_AD_Precision: 0.8352 - val_CN_Precision: 0.8961 - val_MCI_Precision: 0.8635 - val_AD_Recall: 0.7755 - val_CN_Recall: 0.8790 - val_MCI_Recall: 0.8996\n",
            "Epoch 50/50\n",
            "1106/1106 [==============================] - 353s 319ms/step - loss: 0.0302 - Accuracy: 0.9901 - AD_Precision: 0.9897 - CN_Precision: 0.9921 - MCI_Precision: 0.9898 - AD_Recall: 0.9920 - CN_Recall: 0.9828 - MCI_Recall: 0.9935 - val_loss: 1.1264 - val_Accuracy: 0.8543 - val_AD_Precision: 0.8961 - val_CN_Precision: 0.8528 - val_MCI_Precision: 0.8458 - val_AD_Recall: 0.7041 - val_CN_Recall: 0.8854 - val_MCI_Recall: 0.8954\n"
          ]
        }
      ],
      "source": [
        "savepath = 'models'\n",
        "lr=0.0001\n",
        "if not os.path.isdir(savepath):\n",
        "      os.makedirs(savepath)\n",
        "csvloger_callback = tf.keras.callbacks.CSVLogger(f'{savepath}history.csv', separator=',', append=False)\n",
        "\n",
        "modelcheckpoint_callback = tf.keras.callbacks.ModelCheckpoint(savepath+'densenet201_row_10E-5_weights-epoch:{epoch:03d}-val_Accuracy:{val_Accuracy:.4f}.h5',monitor='val_Accuracy'\n",
        "    ,verbose=0,save_best_only=True,save_weights_only=True,mode='max',save_freq='epoch' , initial_value_threshold=0.85)\n",
        "\n",
        "OPT = tf.keras.optimizers.Adam(learning_rate=lr)\n",
        "model05 = densenet201_row(OPT, LOOS,METRICS,image_Shape)\n",
        "history05 = model05.fit(training_image_datagen, epochs=EPOCH, validation_data=testing_image_datagen,callbacks=[csvloger_callback,modelcheckpoint_callback])\n",
        "model05 = densenet201_row(OPT, LOOS,METRICS,image_Shape)\n",
        "model05.load_weights(glob.glob(f\"{savepath}densenet201_row_10E-5_weights-epoch:*-val_Accuracy:{max(history05.history['val_Accuracy']):.4f}.h5\")[0])\n",
        "model05.save(f\"{savepath}/densenet201aug_50_0.0001.h5\")"
      ],
      "id": "02baa5c2-26db-4d24-a34e-a5acc3eef6d9"
    },
    {
      "cell_type": "code",
      "execution_count": null,
      "metadata": {
        "id": "dd19845e-ecfb-49e7-9431-ec3ea9379bd0",
        "outputId": "164d4e1b-46eb-4516-928e-9d0e8296ed62"
      },
      "outputs": [
        {
          "name": "stdout",
          "output_type": "stream",
          "text": [
            "              precision    recall  f1-score   support\n",
            "\n",
            "          AD       0.96      0.71      0.82        98\n",
            "          CN       0.91      0.92      0.92       157\n",
            "         MCI       0.87      0.95      0.91       239\n",
            "\n",
            "    accuracy                           0.89       494\n",
            "   macro avg       0.91      0.86      0.88       494\n",
            "weighted avg       0.90      0.89      0.89       494\n",
            "\n"
          ]
        },
        {
          "data": {
            "image/png": "[encoded data removed]",
            "text/plain": [
              "<Figure size 432x288 with 2 Axes>"
            ]
          },
          "metadata": {
            "needs_background": "light"
          },
          "output_type": "display_data"
        }
      ],
      "source": [
        "p2 = model05.predict(testing_image_datagen)\n",
        "predicted_lab = p2.argmax(axis=-1)\n",
        "true_lab = testing_image_datagen.classes\n",
        "plot_confusion_matrix(true_lab, predicted_lab, testing_image_datagen.class_indices.keys(),savepath)\n",
        "report = classification_report(true_lab, predicted_lab, target_names=testing_image_datagen.class_indices.keys())\n",
        "print(report)\n",
        "dump_text(report,f'{savepath}classification_report.txt')\n",
        "np.save(f\"{savepath}/densenet201aug_50_0.0001.npy\",p2 )"
      ],
      "id": "dd19845e-ecfb-49e7-9431-ec3ea9379bd0"
    },
    {
      "cell_type": "code",
      "execution_count": null,
      "id": "48bca59b-0517-4fad-b05a-8e4f07838a8a",
      "metadata": {
        "tags": [],
        "id": "48bca59b-0517-4fad-b05a-8e4f07838a8a"
      },
      "outputs": [],
      "source": [
        "def resnet50_row(optimizer, loss,metrics,shape):\n",
        "  image_input = tf.keras.applications.ResNet50(include_top=False,weights='imagenet',input_shape=shape)\n",
        "\n",
        "  for layer in image_input.layers:\n",
        "      layer.trainable = True\n",
        "      layer._name = layer._name  + str('_img')\n",
        "\n",
        "  y = Flatten() (image_input.output)\n",
        "  c = Dropout(0.4) (y)\n",
        "  c = Dense(512) (c)\n",
        "  c = Dense(256) (c)\n",
        "  c = Dense(128) (c)\n",
        "  output_layer = Dense(3, activation='softmax')(c)\n",
        "\n",
        "  model = Model(inputs=image_input.input,outputs=output_layer)\n",
        "  model.compile(optimizer=optimizer, loss=loss, metrics=metrics)\n",
        "  return model"
      ]
    },
    {
      "cell_type": "code",
      "execution_count": null,
      "id": "2adf316c-7984-4d1c-be19-744e7b0e1639",
      "metadata": {
        "tags": [],
        "id": "2adf316c-7984-4d1c-be19-744e7b0e1639",
        "outputId": "ad02aae3-1b15-4cb9-b15f-d32afadb89a7"
      },
      "outputs": [
        {
          "ename": "SyntaxError",
          "evalue": "unmatched ')' (556479921.py, line 11)",
          "output_type": "error",
          "traceback": [
            "\u001b[0;36m  Input \u001b[0;32mIn [27]\u001b[0;36m\u001b[0m\n\u001b[0;31m    monitor_gpu_memory())\u001b[0m\n\u001b[0m                        ^\u001b[0m\n\u001b[0;31mSyntaxError\u001b[0m\u001b[0;31m:\u001b[0m unmatched ')'\n"
          ]
        }
      ],
      "source": [
        "import subprocess\n",
        "import time\n",
        "\n",
        "def monitor_gpu_memory(interval=1):\n",
        "    while True:\n",
        "        result = subprocess.check_output([\"nvidia-smi\", \"--query-gpu=memory.used,memory.free\", \"--format=csv\"])\n",
        "        print(result.decode(\"utf-8\"))\n",
        "        time.sleep(interval)\n",
        "\n",
        "# Call the function to start monitoring\n",
        "monitor_gpu_memory())\n"
      ]
    },
    {
      "cell_type": "code",
      "execution_count": null,
      "id": "557b566a-3802-40d8-ae76-f9c554d2edb8",
      "metadata": {
        "tags": [],
        "id": "557b566a-3802-40d8-ae76-f9c554d2edb8",
        "outputId": "084004b9-5fe1-4f8f-dfbd-fce2fbf4ab9e"
      },
      "outputs": [
        {
          "name": "stdout",
          "output_type": "stream",
          "text": [
            "Epoch 1/50\n"
          ]
        },
        {
          "name": "stderr",
          "output_type": "stream",
          "text": [
            "2024-02-27 13:50:29.515015: I tensorflow/stream_executor/cuda/cuda_dnn.cc:366] Loaded cuDNN version 8201\n"
          ]
        },
        {
          "name": "stdout",
          "output_type": "stream",
          "text": [
            "1106/1106 [==============================] - 213s 185ms/step - loss: 3.5153 - Accuracy: 0.4603 - AD_Precision: 0.2905 - CN_Precision: 0.3935 - MCI_Precision: 0.5476 - AD_Recall: 0.1712 - CN_Recall: 0.3083 - MCI_Recall: 0.5524 - val_loss: 1.1435 - val_Accuracy: 0.5182 - val_AD_Precision: 0.5000 - val_CN_Precision: 0.6944 - val_MCI_Precision: 0.5081 - val_AD_Recall: 0.1020 - val_CN_Recall: 0.1592 - val_MCI_Recall: 0.9205\n",
            "Epoch 2/50\n",
            "1106/1106 [==============================] - 202s 183ms/step - loss: 0.9074 - Accuracy: 0.6098 - AD_Precision: 0.5446 - CN_Precision: 0.6209 - MCI_Precision: 0.6604 - AD_Recall: 0.3674 - CN_Recall: 0.5066 - MCI_Recall: 0.6718 - val_loss: 0.9136 - val_Accuracy: 0.6498 - val_AD_Precision: 0.4500 - val_CN_Precision: 0.7769 - val_MCI_Precision: 0.7131 - val_AD_Recall: 0.3673 - val_CN_Recall: 0.6433 - val_MCI_Recall: 0.7071\n",
            "Epoch 3/50\n",
            "1106/1106 [==============================] - 200s 181ms/step - loss: 0.6911 - Accuracy: 0.7183 - AD_Precision: 0.6811 - CN_Precision: 0.7323 - MCI_Precision: 0.7529 - AD_Recall: 0.5386 - CN_Recall: 0.6654 - MCI_Recall: 0.7602 - val_loss: 1.5403 - val_Accuracy: 0.6417 - val_AD_Precision: 0.6000 - val_CN_Precision: 0.8378 - val_MCI_Precision: 0.5860 - val_AD_Recall: 0.0306 - val_CN_Recall: 0.5924 - val_MCI_Recall: 0.9121\n",
            "Epoch 4/50\n",
            "1106/1106 [==============================] - 205s 185ms/step - loss: 0.5664 - Accuracy: 0.7773 - AD_Precision: 0.7405 - CN_Precision: 0.7949 - MCI_Precision: 0.8011 - AD_Recall: 0.6402 - CN_Recall: 0.7455 - MCI_Recall: 0.8159 - val_loss: 1.2839 - val_Accuracy: 0.7328 - val_AD_Precision: 0.8605 - val_CN_Precision: 0.8291 - val_MCI_Precision: 0.6818 - val_AD_Recall: 0.3776 - val_CN_Recall: 0.6178 - val_MCI_Recall: 0.9414\n",
            "Epoch 5/50\n",
            "1106/1106 [==============================] - 201s 182ms/step - loss: 0.4682 - Accuracy: 0.8203 - AD_Precision: 0.7903 - CN_Precision: 0.8359 - MCI_Precision: 0.8385 - AD_Recall: 0.7107 - CN_Recall: 0.7964 - MCI_Recall: 0.8473 - val_loss: 1.0468 - val_Accuracy: 0.7146 - val_AD_Precision: 0.5981 - val_CN_Precision: 0.8916 - val_MCI_Precision: 0.7104 - val_AD_Recall: 0.6531 - val_CN_Recall: 0.4713 - val_MCI_Recall: 0.8828\n",
            "Epoch 6/50\n",
            "1106/1106 [==============================] - 203s 183ms/step - loss: 0.3882 - Accuracy: 0.8541 - AD_Precision: 0.8345 - CN_Precision: 0.8625 - MCI_Precision: 0.8687 - AD_Recall: 0.7803 - CN_Recall: 0.8336 - MCI_Recall: 0.8776 - val_loss: 1.9109 - val_Accuracy: 0.6943 - val_AD_Precision: 0.9375 - val_CN_Precision: 0.5820 - val_MCI_Precision: 0.7961 - val_AD_Recall: 0.3061 - val_CN_Recall: 0.9490 - val_MCI_Recall: 0.6862\n",
            "Epoch 7/50\n",
            "1106/1106 [==============================] - 205s 185ms/step - loss: 0.3464 - Accuracy: 0.8724 - AD_Precision: 0.8555 - CN_Precision: 0.8830 - MCI_Precision: 0.8874 - AD_Recall: 0.8076 - CN_Recall: 0.8587 - MCI_Recall: 0.8931 - val_loss: 1.0516 - val_Accuracy: 0.7773 - val_AD_Precision: 0.8382 - val_CN_Precision: 0.6726 - val_MCI_Precision: 0.8794 - val_AD_Recall: 0.5816 - val_CN_Recall: 0.9554 - val_MCI_Recall: 0.7322\n",
            "Epoch 8/50\n",
            "1106/1106 [==============================] - 204s 185ms/step - loss: 0.2855 - Accuracy: 0.8940 - AD_Precision: 0.8746 - CN_Precision: 0.9049 - MCI_Precision: 0.9058 - AD_Recall: 0.8363 - CN_Recall: 0.8834 - MCI_Recall: 0.9142 - val_loss: 1.2385 - val_Accuracy: 0.7955 - val_AD_Precision: 0.7753 - val_CN_Precision: 0.7164 - val_MCI_Precision: 0.8911 - val_AD_Recall: 0.7041 - val_CN_Recall: 0.9172 - val_MCI_Recall: 0.7531\n",
            "Epoch 9/50\n",
            "1106/1106 [==============================] - 203s 184ms/step - loss: 0.2565 - Accuracy: 0.9085 - AD_Precision: 0.8922 - CN_Precision: 0.9095 - MCI_Precision: 0.9202 - AD_Recall: 0.8641 - CN_Recall: 0.8990 - MCI_Recall: 0.9229 - val_loss: 1.2517 - val_Accuracy: 0.7591 - val_AD_Precision: 0.5315 - val_CN_Precision: 0.9381 - val_MCI_Precision: 0.8136 - val_AD_Recall: 0.7755 - val_CN_Recall: 0.6752 - val_MCI_Recall: 0.8033\n",
            "Epoch 10/50\n",
            "1106/1106 [==============================] - 203s 184ms/step - loss: 0.2367 - Accuracy: 0.9166 - AD_Precision: 0.9009 - CN_Precision: 0.9217 - MCI_Precision: 0.9252 - AD_Recall: 0.8763 - CN_Recall: 0.9053 - MCI_Recall: 0.9320 - val_loss: 1.4051 - val_Accuracy: 0.7874 - val_AD_Precision: 0.6778 - val_CN_Precision: 0.9219 - val_MCI_Precision: 0.7628 - val_AD_Recall: 0.6224 - val_CN_Recall: 0.7516 - val_MCI_Recall: 0.8745\n",
            "Epoch 11/50\n",
            "1106/1106 [==============================] - 203s 184ms/step - loss: 0.2046 - Accuracy: 0.9288 - AD_Precision: 0.9193 - CN_Precision: 0.9295 - MCI_Precision: 0.9363 - AD_Recall: 0.8998 - CN_Recall: 0.9187 - MCI_Recall: 0.9398 - val_loss: 1.6506 - val_Accuracy: 0.7713 - val_AD_Precision: 0.9545 - val_CN_Precision: 0.9237 - val_MCI_Precision: 0.6970 - val_AD_Recall: 0.4286 - val_CN_Recall: 0.6943 - val_MCI_Recall: 0.9623\n",
            "Epoch 12/50\n",
            "1106/1106 [==============================] - 202s 183ms/step - loss: 0.1740 - Accuracy: 0.9425 - AD_Precision: 0.9325 - CN_Precision: 0.9454 - MCI_Precision: 0.9481 - AD_Recall: 0.9163 - CN_Recall: 0.9375 - MCI_Recall: 0.9524 - val_loss: 1.8888 - val_Accuracy: 0.7672 - val_AD_Precision: 0.8310 - val_CN_Precision: 0.9886 - val_MCI_Precision: 0.6997 - val_AD_Recall: 0.6020 - val_CN_Recall: 0.5541 - val_MCI_Recall: 0.9749\n",
            "Epoch 13/50\n",
            "1106/1106 [==============================] - 203s 183ms/step - loss: 0.1825 - Accuracy: 0.9367 - AD_Precision: 0.9297 - CN_Precision: 0.9376 - MCI_Precision: 0.9436 - AD_Recall: 0.9144 - CN_Recall: 0.9256 - MCI_Recall: 0.9473 - val_loss: 2.1824 - val_Accuracy: 0.7065 - val_AD_Precision: 1.0000 - val_CN_Precision: 0.6901 - val_MCI_Precision: 0.6987 - val_AD_Recall: 0.1939 - val_CN_Recall: 0.7516 - val_MCI_Recall: 0.8828\n",
            "Epoch 14/50\n",
            "1106/1106 [==============================] - 206s 186ms/step - loss: 0.1695 - Accuracy: 0.9439 - AD_Precision: 0.9379 - CN_Precision: 0.9438 - MCI_Precision: 0.9511 - AD_Recall: 0.9238 - CN_Recall: 0.9346 - MCI_Recall: 0.9538 - val_loss: 1.3345 - val_Accuracy: 0.8077 - val_AD_Precision: 0.7500 - val_CN_Precision: 0.8264 - val_MCI_Precision: 0.8213 - val_AD_Recall: 0.6429 - val_CN_Recall: 0.7580 - val_MCI_Recall: 0.9038\n",
            "Epoch 15/50\n",
            "1106/1106 [==============================] - 203s 184ms/step - loss: 0.1313 - Accuracy: 0.9545 - AD_Precision: 0.9434 - CN_Precision: 0.9546 - MCI_Precision: 0.9627 - AD_Recall: 0.9327 - CN_Recall: 0.9462 - MCI_Recall: 0.9643 - val_loss: 1.0584 - val_Accuracy: 0.8462 - val_AD_Precision: 0.9524 - val_CN_Precision: 0.9474 - val_MCI_Precision: 0.7778 - val_AD_Recall: 0.6122 - val_CN_Recall: 0.8025 - val_MCI_Recall: 0.9665\n",
            "Epoch 16/50\n",
            "1106/1106 [==============================] - 205s 185ms/step - loss: 0.1529 - Accuracy: 0.9494 - AD_Precision: 0.9390 - CN_Precision: 0.9477 - MCI_Precision: 0.9573 - AD_Recall: 0.9337 - CN_Recall: 0.9403 - MCI_Recall: 0.9576 - val_loss: 2.4146 - val_Accuracy: 0.7794 - val_AD_Precision: 1.0000 - val_CN_Precision: 0.8679 - val_MCI_Precision: 0.7206 - val_AD_Recall: 0.1837 - val_CN_Recall: 0.8790 - val_MCI_Recall: 0.9498\n",
            "Epoch 17/50\n",
            "1106/1106 [==============================] - 203s 184ms/step - loss: 0.1412 - Accuracy: 0.9529 - AD_Precision: 0.9495 - CN_Precision: 0.9533 - MCI_Precision: 0.9576 - AD_Recall: 0.9370 - CN_Recall: 0.9443 - MCI_Recall: 0.9613 - val_loss: 0.7419 - val_Accuracy: 0.8401 - val_AD_Precision: 0.8333 - val_CN_Precision: 0.9028 - val_MCI_Precision: 0.8111 - val_AD_Recall: 0.6633 - val_CN_Recall: 0.8280 - val_MCI_Recall: 0.9163\n",
            "Epoch 18/50\n",
            "1106/1106 [==============================] - 203s 184ms/step - loss: 0.1121 - Accuracy: 0.9632 - AD_Precision: 0.9579 - CN_Precision: 0.9643 - MCI_Precision: 0.9665 - AD_Recall: 0.9530 - CN_Recall: 0.9534 - MCI_Recall: 0.9707 - val_loss: 1.8417 - val_Accuracy: 0.7672 - val_AD_Precision: 0.8205 - val_CN_Precision: 0.8812 - val_MCI_Precision: 0.7220 - val_AD_Recall: 0.6531 - val_CN_Recall: 0.5669 - val_MCI_Recall: 0.9456\n",
            "Epoch 19/50\n",
            "1106/1106 [==============================] - 208s 188ms/step - loss: 0.1288 - Accuracy: 0.9593 - AD_Precision: 0.9517 - CN_Precision: 0.9579 - MCI_Precision: 0.9658 - AD_Recall: 0.9445 - CN_Recall: 0.9525 - MCI_Recall: 0.9653 - val_loss: 1.1576 - val_Accuracy: 0.8401 - val_AD_Precision: 0.9524 - val_CN_Precision: 0.9130 - val_MCI_Precision: 0.7816 - val_AD_Recall: 0.6122 - val_CN_Recall: 0.8025 - val_MCI_Recall: 0.9582\n",
            "Epoch 20/50\n",
            "1106/1106 [==============================] - 215s 194ms/step - loss: 0.1125 - Accuracy: 0.9631 - AD_Precision: 0.9574 - CN_Precision: 0.9646 - MCI_Precision: 0.9663 - AD_Recall: 0.9520 - CN_Recall: 0.9547 - MCI_Recall: 0.9698 - val_loss: 1.4619 - val_Accuracy: 0.8219 - val_AD_Precision: 0.8171 - val_CN_Precision: 0.8194 - val_MCI_Precision: 0.8281 - val_AD_Recall: 0.6837 - val_CN_Recall: 0.8089 - val_MCI_Recall: 0.8870\n",
            "Epoch 21/50\n",
            "1106/1106 [==============================] - 207s 187ms/step - loss: 0.1191 - Accuracy: 0.9601 - AD_Precision: 0.9571 - CN_Precision: 0.9591 - MCI_Precision: 0.9637 - AD_Recall: 0.9445 - CN_Recall: 0.9525 - MCI_Recall: 0.9681 - val_loss: 1.1470 - val_Accuracy: 0.8543 - val_AD_Precision: 0.8608 - val_CN_Precision: 0.8608 - val_MCI_Precision: 0.8477 - val_AD_Recall: 0.6939 - val_CN_Recall: 0.8662 - val_MCI_Recall: 0.9079\n",
            "Epoch 22/50\n",
            "1106/1106 [==============================] - 201s 182ms/step - loss: 0.1141 - Accuracy: 0.9620 - AD_Precision: 0.9529 - CN_Precision: 0.9598 - MCI_Precision: 0.9674 - AD_Recall: 0.9516 - CN_Recall: 0.9547 - MCI_Recall: 0.9686 - val_loss: 4.5228 - val_Accuracy: 0.6741 - val_AD_Precision: 1.0000 - val_CN_Precision: 0.8718 - val_MCI_Precision: 0.6088 - val_AD_Recall: 0.2959 - val_CN_Recall: 0.4331 - val_MCI_Recall: 0.9833\n",
            "Epoch 23/50\n",
            "1106/1106 [==============================] - 201s 182ms/step - loss: 0.0934 - Accuracy: 0.9692 - AD_Precision: 0.9660 - CN_Precision: 0.9682 - MCI_Precision: 0.9722 - AD_Recall: 0.9614 - CN_Recall: 0.9622 - MCI_Recall: 0.9745 - val_loss: 1.7183 - val_Accuracy: 0.7409 - val_AD_Precision: 0.5411 - val_CN_Precision: 0.7527 - val_MCI_Precision: 0.9068 - val_AD_Recall: 0.8061 - val_CN_Recall: 0.8917 - val_MCI_Recall: 0.6109\n",
            "Epoch 24/50\n",
            "1106/1106 [==============================] - 202s 182ms/step - loss: 0.1004 - Accuracy: 0.9654 - AD_Precision: 0.9607 - CN_Precision: 0.9654 - MCI_Precision: 0.9690 - AD_Recall: 0.9553 - CN_Recall: 0.9603 - MCI_Recall: 0.9705 - val_loss: 1.6305 - val_Accuracy: 0.8057 - val_AD_Precision: 1.0000 - val_CN_Precision: 0.7513 - val_MCI_Precision: 0.8256 - val_AD_Recall: 0.4388 - val_CN_Recall: 0.9045 - val_MCI_Recall: 0.8912\n",
            "Epoch 25/50\n",
            "1106/1106 [==============================] - 202s 182ms/step - loss: 0.0915 - Accuracy: 0.9700 - AD_Precision: 0.9649 - CN_Precision: 0.9695 - MCI_Precision: 0.9735 - AD_Recall: 0.9563 - CN_Recall: 0.9647 - MCI_Recall: 0.9752 - val_loss: 1.4911 - val_Accuracy: 0.8401 - val_AD_Precision: 0.8657 - val_CN_Precision: 0.9236 - val_MCI_Precision: 0.7915 - val_AD_Recall: 0.5918 - val_CN_Recall: 0.8471 - val_MCI_Recall: 0.9372\n",
            "Epoch 26/50\n",
            "1106/1106 [==============================] - 202s 183ms/step - loss: 0.0841 - Accuracy: 0.9723 - AD_Precision: 0.9661 - CN_Precision: 0.9732 - MCI_Precision: 0.9753 - AD_Recall: 0.9657 - CN_Recall: 0.9647 - MCI_Recall: 0.9786 - val_loss: 3.2134 - val_Accuracy: 0.7510 - val_AD_Precision: 0.8846 - val_CN_Precision: 0.6303 - val_MCI_Precision: 0.8571 - val_AD_Recall: 0.4694 - val_CN_Recall: 0.9554 - val_MCI_Recall: 0.7280\n",
            "Epoch 27/50\n",
            "1106/1106 [==============================] - 201s 182ms/step - loss: 0.0892 - Accuracy: 0.9703 - AD_Precision: 0.9674 - CN_Precision: 0.9670 - MCI_Precision: 0.9744 - AD_Recall: 0.9633 - CN_Recall: 0.9628 - MCI_Recall: 0.9759 - val_loss: 3.6160 - val_Accuracy: 0.7004 - val_AD_Precision: 0.6200 - val_CN_Precision: 1.0000 - val_MCI_Precision: 0.6726 - val_AD_Recall: 0.6327 - val_CN_Recall: 0.3694 - val_MCI_Recall: 0.9456\n",
            "Epoch 28/50\n",
            "1106/1106 [==============================] - 202s 183ms/step - loss: 0.0906 - Accuracy: 0.9699 - AD_Precision: 0.9669 - CN_Precision: 0.9688 - MCI_Precision: 0.9731 - AD_Recall: 0.9610 - CN_Recall: 0.9615 - MCI_Recall: 0.9766 - val_loss: 1.7118 - val_Accuracy: 0.8381 - val_AD_Precision: 0.8095 - val_CN_Precision: 0.8166 - val_MCI_Precision: 0.8631 - val_AD_Recall: 0.6939 - val_CN_Recall: 0.8790 - val_MCI_Recall: 0.8703\n",
            "Epoch 29/50\n",
            "1106/1106 [==============================] - 202s 182ms/step - loss: 0.0799 - Accuracy: 0.9744 - AD_Precision: 0.9679 - CN_Precision: 0.9769 - MCI_Precision: 0.9760 - AD_Recall: 0.9657 - CN_Recall: 0.9672 - MCI_Recall: 0.9805 - val_loss: 1.7087 - val_Accuracy: 0.8462 - val_AD_Precision: 1.0000 - val_CN_Precision: 0.8701 - val_MCI_Precision: 0.8014 - val_AD_Recall: 0.5918 - val_CN_Recall: 0.8535 - val_MCI_Recall: 0.9456\n",
            "Epoch 30/50\n",
            "1106/1106 [==============================] - 203s 183ms/step - loss: 0.0788 - Accuracy: 0.9729 - AD_Precision: 0.9690 - CN_Precision: 0.9733 - MCI_Precision: 0.9751 - AD_Recall: 0.9690 - CN_Recall: 0.9700 - MCI_Recall: 0.9758 - val_loss: 1.3218 - val_Accuracy: 0.8381 - val_AD_Precision: 0.8313 - val_CN_Precision: 0.8966 - val_MCI_Precision: 0.8083 - val_AD_Recall: 0.7041 - val_CN_Recall: 0.8280 - val_MCI_Recall: 0.8996\n",
            "Epoch 31/50\n",
            "1106/1106 [==============================] - 203s 183ms/step - loss: 0.0849 - Accuracy: 0.9750 - AD_Precision: 0.9730 - CN_Precision: 0.9766 - MCI_Precision: 0.9762 - AD_Recall: 0.9675 - CN_Recall: 0.9665 - MCI_Recall: 0.9815 - val_loss: 1.9303 - val_Accuracy: 0.7915 - val_AD_Precision: 0.9767 - val_CN_Precision: 0.8255 - val_MCI_Precision: 0.7475 - val_AD_Recall: 0.4286 - val_CN_Recall: 0.7834 - val_MCI_Recall: 0.9414\n",
            "Epoch 32/50\n",
            "1106/1106 [==============================] - 202s 183ms/step - loss: 0.0691 - Accuracy: 0.9775 - AD_Precision: 0.9760 - CN_Precision: 0.9776 - MCI_Precision: 0.9784 - AD_Recall: 0.9755 - CN_Recall: 0.9706 - MCI_Recall: 0.9812 - val_loss: 1.3378 - val_Accuracy: 0.8543 - val_AD_Precision: 0.8701 - val_CN_Precision: 0.9348 - val_MCI_Precision: 0.8129 - val_AD_Recall: 0.6837 - val_CN_Recall: 0.8217 - val_MCI_Recall: 0.9456\n",
            "Epoch 33/50\n",
            "1106/1106 [==============================] - 202s 183ms/step - loss: 0.0797 - Accuracy: 0.9753 - AD_Precision: 0.9764 - CN_Precision: 0.9718 - MCI_Precision: 0.9775 - AD_Recall: 0.9713 - CN_Recall: 0.9690 - MCI_Recall: 0.9791 - val_loss: 1.3954 - val_Accuracy: 0.8300 - val_AD_Precision: 0.9492 - val_CN_Precision: 0.8544 - val_MCI_Precision: 0.7899 - val_AD_Recall: 0.5714 - val_CN_Recall: 0.8599 - val_MCI_Recall: 0.9121\n",
            "Epoch 34/50\n",
            "1106/1106 [==============================] - 202s 183ms/step - loss: 0.0669 - Accuracy: 0.9784 - AD_Precision: 0.9708 - CN_Precision: 0.9820 - MCI_Precision: 0.9810 - AD_Recall: 0.9680 - CN_Recall: 0.9750 - MCI_Recall: 0.9833 - val_loss: 1.9846 - val_Accuracy: 0.7935 - val_AD_Precision: 0.6602 - val_CN_Precision: 0.8926 - val_MCI_Precision: 0.8000 - val_AD_Recall: 0.6939 - val_CN_Recall: 0.6879 - val_MCI_Recall: 0.9038\n",
            "Epoch 35/50\n",
            "1106/1106 [==============================] - 205s 185ms/step - loss: 0.0770 - Accuracy: 0.9749 - AD_Precision: 0.9713 - CN_Precision: 0.9733 - MCI_Precision: 0.9782 - AD_Recall: 0.9718 - CN_Recall: 0.9672 - MCI_Recall: 0.9796 - val_loss: 1.2645 - val_Accuracy: 0.8765 - val_AD_Precision: 0.9200 - val_CN_Precision: 0.8639 - val_MCI_Precision: 0.8720 - val_AD_Recall: 0.7041 - val_CN_Recall: 0.9299 - val_MCI_Recall: 0.9121\n",
            "Epoch 36/50\n",
            "1106/1106 [==============================] - 202s 182ms/step - loss: 0.0642 - Accuracy: 0.9805 - AD_Precision: 0.9775 - CN_Precision: 0.9817 - MCI_Precision: 0.9812 - AD_Recall: 0.9788 - CN_Recall: 0.9740 - MCI_Recall: 0.9834 - val_loss: 1.8645 - val_Accuracy: 0.8138 - val_AD_Precision: 0.9394 - val_CN_Precision: 0.9091 - val_MCI_Precision: 0.7516 - val_AD_Recall: 0.6327 - val_CN_Recall: 0.7006 - val_MCI_Recall: 0.9623\n",
            "Epoch 37/50\n",
            "1106/1106 [==============================] - 203s 184ms/step - loss: 0.0733 - Accuracy: 0.9748 - AD_Precision: 0.9750 - CN_Precision: 0.9711 - MCI_Precision: 0.9775 - AD_Recall: 0.9732 - CN_Recall: 0.9662 - MCI_Recall: 0.9793 - val_loss: 1.3284 - val_Accuracy: 0.8340 - val_AD_Precision: 0.9821 - val_CN_Precision: 0.8140 - val_MCI_Precision: 0.8158 - val_AD_Recall: 0.5612 - val_CN_Recall: 0.8917 - val_MCI_Recall: 0.9079\n",
            "Epoch 38/50\n",
            "1106/1106 [==============================] - 203s 183ms/step - loss: 0.0720 - Accuracy: 0.9767 - AD_Precision: 0.9670 - CN_Precision: 0.9780 - MCI_Precision: 0.9805 - AD_Recall: 0.9661 - CN_Recall: 0.9753 - MCI_Recall: 0.9808 - val_loss: 2.2437 - val_Accuracy: 0.7733 - val_AD_Precision: 1.0000 - val_CN_Precision: 0.8681 - val_MCI_Precision: 0.7103 - val_AD_Recall: 0.2959 - val_CN_Recall: 0.7962 - val_MCI_Recall: 0.9540\n",
            "Epoch 39/50\n",
            "1106/1106 [==============================] - 203s 183ms/step - loss: 0.0563 - Accuracy: 0.9826 - AD_Precision: 0.9816 - CN_Precision: 0.9830 - MCI_Precision: 0.9837 - AD_Recall: 0.9779 - CN_Recall: 0.9781 - MCI_Recall: 0.9862 - val_loss: 2.1177 - val_Accuracy: 0.8158 - val_AD_Precision: 1.0000 - val_CN_Precision: 0.7869 - val_MCI_Precision: 0.8095 - val_AD_Recall: 0.3776 - val_CN_Recall: 0.9172 - val_MCI_Recall: 0.9247\n",
            "Epoch 40/50\n",
            "1106/1106 [==============================] - 202s 183ms/step - loss: 0.0699 - Accuracy: 0.9778 - AD_Precision: 0.9750 - CN_Precision: 0.9776 - MCI_Precision: 0.9798 - AD_Recall: 0.9741 - CN_Recall: 0.9700 - MCI_Recall: 0.9829 - val_loss: 4.2590 - val_Accuracy: 0.7206 - val_AD_Precision: 0.6854 - val_CN_Precision: 0.9844 - val_MCI_Precision: 0.6804 - val_AD_Recall: 0.6224 - val_CN_Recall: 0.4013 - val_MCI_Recall: 0.9707\n",
            "Epoch 41/50\n",
            "1106/1106 [==============================] - 199s 180ms/step - loss: 0.0579 - Accuracy: 0.9815 - AD_Precision: 0.9802 - CN_Precision: 0.9823 - MCI_Precision: 0.9826 - AD_Recall: 0.9760 - CN_Recall: 0.9740 - MCI_Recall: 0.9871 - val_loss: 1.2287 - val_Accuracy: 0.8644 - val_AD_Precision: 0.9000 - val_CN_Precision: 0.8642 - val_MCI_Precision: 0.8532 - val_AD_Recall: 0.7347 - val_CN_Recall: 0.8917 - val_MCI_Recall: 0.8996\n",
            "Epoch 42/50\n",
            "1106/1106 [==============================] - 202s 183ms/step - loss: 0.0661 - Accuracy: 0.9785 - AD_Precision: 0.9751 - CN_Precision: 0.9753 - MCI_Precision: 0.9826 - AD_Recall: 0.9755 - CN_Recall: 0.9737 - MCI_Recall: 0.9819 - val_loss: 1.9346 - val_Accuracy: 0.8381 - val_AD_Precision: 0.9104 - val_CN_Precision: 0.8658 - val_MCI_Precision: 0.8043 - val_AD_Recall: 0.6224 - val_CN_Recall: 0.8217 - val_MCI_Recall: 0.9289\n",
            "Epoch 43/50\n",
            "1106/1106 [==============================] - 202s 183ms/step - loss: 0.0540 - Accuracy: 0.9835 - AD_Precision: 0.9807 - CN_Precision: 0.9843 - MCI_Precision: 0.9845 - AD_Recall: 0.9779 - CN_Recall: 0.9787 - MCI_Recall: 0.9869 - val_loss: 1.2556 - val_Accuracy: 0.8583 - val_AD_Precision: 0.7900 - val_CN_Precision: 0.9091 - val_MCI_Precision: 0.8566 - val_AD_Recall: 0.8061 - val_CN_Recall: 0.8280 - val_MCI_Recall: 0.8996\n",
            "Epoch 44/50\n",
            "1106/1106 [==============================] - 203s 183ms/step - loss: 0.0607 - Accuracy: 0.9814 - AD_Precision: 0.9830 - CN_Precision: 0.9783 - MCI_Precision: 0.9828 - AD_Recall: 0.9802 - CN_Recall: 0.9740 - MCI_Recall: 0.9854 - val_loss: 1.7159 - val_Accuracy: 0.8016 - val_AD_Precision: 0.6887 - val_CN_Precision: 0.7554 - val_MCI_Precision: 0.9055 - val_AD_Recall: 0.7449 - val_CN_Recall: 0.8854 - val_MCI_Recall: 0.7615\n",
            "Epoch 45/50\n",
            "1106/1106 [==============================] - 203s 184ms/step - loss: 0.0566 - Accuracy: 0.9816 - AD_Precision: 0.9774 - CN_Precision: 0.9845 - MCI_Precision: 0.9821 - AD_Recall: 0.9760 - CN_Recall: 0.9762 - MCI_Recall: 0.9866 - val_loss: 1.3594 - val_Accuracy: 0.8441 - val_AD_Precision: 0.8415 - val_CN_Precision: 0.8636 - val_MCI_Precision: 0.8333 - val_AD_Recall: 0.7041 - val_CN_Recall: 0.8471 - val_MCI_Recall: 0.8996\n",
            "Epoch 46/50\n",
            "1106/1106 [==============================] - 203s 183ms/step - loss: 0.0414 - Accuracy: 0.9873 - AD_Precision: 0.9882 - CN_Precision: 0.9856 - MCI_Precision: 0.9883 - AD_Recall: 0.9878 - CN_Recall: 0.9816 - MCI_Recall: 0.9895 - val_loss: 1.3638 - val_Accuracy: 0.8320 - val_AD_Precision: 0.8500 - val_CN_Precision: 0.9141 - val_MCI_Precision: 0.7930 - val_AD_Recall: 0.6939 - val_CN_Recall: 0.7452 - val_MCI_Recall: 0.9456\n",
            "Epoch 47/50\n",
            "1106/1106 [==============================] - 202s 183ms/step - loss: 0.0663 - Accuracy: 0.9798 - AD_Precision: 0.9755 - CN_Precision: 0.9775 - MCI_Precision: 0.9828 - AD_Recall: 0.9737 - CN_Recall: 0.9759 - MCI_Recall: 0.9838 - val_loss: 2.9951 - val_Accuracy: 0.7834 - val_AD_Precision: 0.8800 - val_CN_Precision: 0.9462 - val_MCI_Precision: 0.7169 - val_AD_Recall: 0.6735 - val_CN_Recall: 0.5605 - val_MCI_Recall: 0.9749\n",
            "Epoch 48/50\n",
            "1106/1106 [==============================] - 203s 183ms/step - loss: 0.0513 - Accuracy: 0.9821 - AD_Precision: 0.9807 - CN_Precision: 0.9827 - MCI_Precision: 0.9835 - AD_Recall: 0.9812 - CN_Recall: 0.9772 - MCI_Recall: 0.9848 - val_loss: 2.0974 - val_Accuracy: 0.8441 - val_AD_Precision: 0.9167 - val_CN_Precision: 0.8385 - val_MCI_Precision: 0.8276 - val_AD_Recall: 0.6735 - val_CN_Recall: 0.8599 - val_MCI_Recall: 0.9038\n",
            "Epoch 49/50\n",
            "1106/1106 [==============================] - 202s 182ms/step - loss: 0.0549 - Accuracy: 0.9835 - AD_Precision: 0.9802 - CN_Precision: 0.9846 - MCI_Precision: 0.9847 - AD_Recall: 0.9798 - CN_Recall: 0.9790 - MCI_Recall: 0.9871 - val_loss: 2.9561 - val_Accuracy: 0.7449 - val_AD_Precision: 0.7320 - val_CN_Precision: 0.9444 - val_MCI_Precision: 0.7046 - val_AD_Recall: 0.7245 - val_CN_Recall: 0.4331 - val_MCI_Recall: 0.9582\n",
            "Epoch 50/50\n",
            "1106/1106 [==============================] - 203s 184ms/step - loss: 0.0408 - Accuracy: 0.9863 - AD_Precision: 0.9854 - CN_Precision: 0.9893 - MCI_Precision: 0.9854 - AD_Recall: 0.9845 - CN_Recall: 0.9812 - MCI_Recall: 0.9897 - val_loss: 2.5855 - val_Accuracy: 0.8381 - val_AD_Precision: 0.9344 - val_CN_Precision: 0.9270 - val_MCI_Precision: 0.7823 - val_AD_Recall: 0.5816 - val_CN_Recall: 0.8089 - val_MCI_Recall: 0.9623\n"
          ]
        }
      ],
      "source": [
        "# learning_rate=10E-5\n",
        "savepath = 'models'\n",
        "lr=0.0001\n",
        "if not os.path.isdir(savepath):\n",
        "      os.makedirs(savepath)\n",
        "csvloger_callback = tf.keras.callbacks.CSVLogger(f'{savepath}history.csv', separator=',', append=False)\n",
        "\n",
        "modelcheckpoint_callback = tf.keras.callbacks.ModelCheckpoint(savepath+'resnet50_row_10E-5_weights-epoch:{epoch:03d}-val_Accuracy:{val_Accuracy:.4f}.h5',monitor='val_Accuracy'\n",
        "    ,verbose=0,save_best_only=True,save_weights_only=True,mode='max',save_freq='epoch' , initial_value_threshold=0.85)\n",
        "\n",
        "OPT = tf.keras.optimizers.Adam(learning_rate=lr)\n",
        "model05 = resnet50_row(OPT, LOOS,METRICS,image_Shape)\n",
        "history05 = model05.fit(training_image_datagen, epochs=EPOCH, validation_data=testing_image_datagen,callbacks=[csvloger_callback,modelcheckpoint_callback])\n",
        "model05 = resnet50_row(OPT, LOOS,METRICS,image_Shape)\n",
        "model05.load_weights(glob.glob(f\"{savepath}resnet50_row_10E-5_weights-epoch:*-val_Accuracy:{max(history05.history['val_Accuracy']):.4f}.h5\")[0])"
      ]
    },
    {
      "cell_type": "code",
      "execution_count": null,
      "id": "3806e2cb-6cbb-48bc-a247-1dc6f905d069",
      "metadata": {
        "tags": [],
        "id": "3806e2cb-6cbb-48bc-a247-1dc6f905d069",
        "outputId": "87e14a22-0c42-42d1-c4de-379b186e7154"
      },
      "outputs": [
        {
          "name": "stderr",
          "output_type": "stream",
          "text": [
            "/apps/tensorflow/2.7.0/lib/python3.9/site-packages/keras/engine/functional.py:1410: CustomMaskWarning: Custom mask layers require a config and must override get_config. When loading, the custom mask layer must be passed to the custom_objects argument.\n",
            "  layer_config = serialize_layer_fn(layer)\n"
          ]
        },
        {
          "name": "stdout",
          "output_type": "stream",
          "text": [
            "              precision    recall  f1-score   support\n",
            "\n",
            "          AD       0.93      0.76      0.83        98\n",
            "          CN       0.92      0.84      0.88       157\n",
            "         MCI       0.84      0.95      0.89       239\n",
            "\n",
            "    accuracy                           0.88       494\n",
            "   macro avg       0.90      0.85      0.87       494\n",
            "weighted avg       0.88      0.88      0.88       494\n",
            "\n"
          ]
        },
        {
          "data": {
            "image/png": "[encoded data removed]",
            "text/plain": [
              "<Figure size 432x288 with 2 Axes>"
            ]
          },
          "metadata": {
            "needs_background": "light"
          },
          "output_type": "display_data"
        }
      ],
      "source": [
        "model05.save(f\"{savepath}/resnetaug_50_0.0001.h5\")\n",
        "p1 = model05.predict(testing_image_datagen)\n",
        "predicted_lab = p1.argmax(axis=-1)\n",
        "true_lab = testing_image_datagen.classes\n",
        "plot_confusion_matrix(true_lab, predicted_lab, testing_image_datagen.class_indices.keys(),savepath)\n",
        "report = classification_report(true_lab, predicted_lab, target_names=testing_image_datagen.class_indices.keys())\n",
        "print(report)\n",
        "dump_text(report,f'{savepath}classification_report.txt')\n",
        "np.save(\"resnetaug_50_0.0001.npy\",p1 )"
      ]
    },
    {
      "cell_type": "code",
      "execution_count": null,
      "id": "c44fc5ac-970a-4c81-8ad9-fc59a92dbd43",
      "metadata": {
        "tags": [],
        "id": "c44fc5ac-970a-4c81-8ad9-fc59a92dbd43"
      },
      "outputs": [],
      "source": [
        "def efficientnet_row(optimizer, loss, metrics, shape):\n",
        "    image_input = tf.keras.applications.EfficientNetB0(include_top=False, weights='imagenet', input_shape=shape)  # Change model to EfficientNet\n",
        "\n",
        "    for layer in image_input.layers:\n",
        "        layer.trainable = False\n",
        "        layer._name = layer._name + str('_img')\n",
        "\n",
        "    y = Flatten()(image_input.output)\n",
        "    c = Dropout(0.4)(y)\n",
        "    c = Dense(512)(c)\n",
        "    c = Dense(256)(c)\n",
        "    c = Dense(128)(c)\n",
        "    output_layer = Dense(3, activation='softmax')(c)\n",
        "\n",
        "    model = Model(inputs=image_input.input, outputs=output_layer)\n",
        "    model.compile(optimizer=optimizer, loss=loss, metrics=metrics)\n",
        "    return model"
      ]
    },
    {
      "cell_type": "code",
      "execution_count": null,
      "id": "2befa537-be24-4459-84ce-3779e9b4e082",
      "metadata": {
        "tags": [],
        "id": "2befa537-be24-4459-84ce-3779e9b4e082",
        "outputId": "ae9033a3-6062-4e40-c74a-9f415fb7dc0f"
      },
      "outputs": [
        {
          "name": "stdout",
          "output_type": "stream",
          "text": [
            "Epoch 1/50\n"
          ]
        },
        {
          "name": "stderr",
          "output_type": "stream",
          "text": [
            "2024-02-27 21:43:41.103430: I tensorflow/stream_executor/cuda/cuda_dnn.cc:366] Loaded cuDNN version 8201\n"
          ]
        },
        {
          "name": "stdout",
          "output_type": "stream",
          "text": [
            "1106/1106 [==============================] - 202s 147ms/step - loss: 1.8592 - Accuracy: 0.4926 - AD_Precision: 0.2529 - CN_Precision: 0.4063 - MCI_Precision: 0.5526 - AD_Recall: 0.0607 - CN_Recall: 0.1660 - MCI_Recall: 0.6010 - val_loss: 0.9679 - val_Accuracy: 0.5526 - val_AD_Precision: 0.5532 - val_CN_Precision: 0.9444 - val_MCI_Precision: 0.5860 - val_AD_Recall: 0.2653 - val_CN_Recall: 0.1083 - val_MCI_Recall: 0.6987\n",
            "Epoch 2/50\n",
            "1106/1106 [==============================] - 154s 139ms/step - loss: 0.8555 - Accuracy: 0.6048 - AD_Precision: 0.5833 - CN_Precision: 0.6494 - MCI_Precision: 0.6398 - AD_Recall: 0.2568 - CN_Recall: 0.4396 - MCI_Recall: 0.6736 - val_loss: 1.2116 - val_Accuracy: 0.5526 - val_AD_Precision: 0.6163 - val_CN_Precision: 1.0000 - val_MCI_Precision: 0.5445 - val_AD_Recall: 0.5408 - val_CN_Recall: 0.0573 - val_MCI_Recall: 0.8703\n",
            "Epoch 3/50\n",
            "1106/1106 [==============================] - 156s 141ms/step - loss: 0.5658 - Accuracy: 0.7644 - AD_Precision: 0.7490 - CN_Precision: 0.7996 - MCI_Precision: 0.7843 - AD_Recall: 0.5992 - CN_Recall: 0.7286 - MCI_Recall: 0.8019 - val_loss: 1.0711 - val_Accuracy: 0.7186 - val_AD_Precision: 0.9048 - val_CN_Precision: 0.6340 - val_MCI_Precision: 0.7837 - val_AD_Recall: 0.3878 - val_CN_Recall: 0.9490 - val_MCI_Recall: 0.6820\n",
            "Epoch 4/50\n",
            "1106/1106 [==============================] - 153s 138ms/step - loss: 0.3782 - Accuracy: 0.8535 - AD_Precision: 0.8395 - CN_Precision: 0.8717 - MCI_Precision: 0.8639 - AD_Recall: 0.7578 - CN_Recall: 0.8368 - MCI_Recall: 0.8755 - val_loss: 0.8399 - val_Accuracy: 0.7955 - val_AD_Precision: 0.7468 - val_CN_Precision: 0.8690 - val_MCI_Precision: 0.7710 - val_AD_Recall: 0.6020 - val_CN_Recall: 0.8025 - val_MCI_Recall: 0.8452\n",
            "Epoch 5/50\n",
            "1106/1106 [==============================] - 154s 139ms/step - loss: 0.2489 - Accuracy: 0.9059 - AD_Precision: 0.8926 - CN_Precision: 0.9108 - MCI_Precision: 0.9183 - AD_Recall: 0.8641 - CN_Recall: 0.8971 - MCI_Recall: 0.9177 - val_loss: 2.5233 - val_Accuracy: 0.6559 - val_AD_Precision: 1.0000 - val_CN_Precision: 0.9873 - val_MCI_Precision: 0.5848 - val_AD_Recall: 0.0816 - val_CN_Recall: 0.4968 - val_MCI_Recall: 0.9958\n",
            "Epoch 6/50\n",
            "1106/1106 [==============================] - 154s 140ms/step - loss: 0.2038 - Accuracy: 0.9242 - AD_Precision: 0.9117 - CN_Precision: 0.9320 - MCI_Precision: 0.9314 - AD_Recall: 0.8833 - CN_Recall: 0.9128 - MCI_Recall: 0.9391 - val_loss: 0.7940 - val_Accuracy: 0.8259 - val_AD_Precision: 0.7500 - val_CN_Precision: 0.9174 - val_MCI_Precision: 0.8202 - val_AD_Recall: 0.7653 - val_CN_Recall: 0.7070 - val_MCI_Recall: 0.9163\n",
            "Epoch 7/50\n",
            "1106/1106 [==============================] - 157s 142ms/step - loss: 0.1571 - Accuracy: 0.9427 - AD_Precision: 0.9358 - CN_Precision: 0.9409 - MCI_Precision: 0.9500 - AD_Recall: 0.9191 - CN_Recall: 0.9353 - MCI_Recall: 0.9510 - val_loss: 0.8125 - val_Accuracy: 0.8482 - val_AD_Precision: 0.9508 - val_CN_Precision: 0.8229 - val_MCI_Precision: 0.8504 - val_AD_Recall: 0.5918 - val_CN_Recall: 0.9172 - val_MCI_Recall: 0.9038\n",
            "Epoch 8/50\n",
            "1106/1106 [==============================] - 153s 138ms/step - loss: 0.1365 - Accuracy: 0.9508 - AD_Precision: 0.9449 - CN_Precision: 0.9497 - MCI_Precision: 0.9574 - AD_Recall: 0.9365 - CN_Recall: 0.9453 - MCI_Recall: 0.9564 - val_loss: 1.0783 - val_Accuracy: 0.8320 - val_AD_Precision: 1.0000 - val_CN_Precision: 0.8471 - val_MCI_Precision: 0.7986 - val_AD_Recall: 0.4592 - val_CN_Recall: 0.9172 - val_MCI_Recall: 0.9289\n",
            "Epoch 9/50\n",
            "1106/1106 [==============================] - 152s 138ms/step - loss: 0.1064 - Accuracy: 0.9641 - AD_Precision: 0.9623 - CN_Precision: 0.9635 - MCI_Precision: 0.9667 - AD_Recall: 0.9483 - CN_Recall: 0.9572 - MCI_Recall: 0.9712 - val_loss: 1.0143 - val_Accuracy: 0.8360 - val_AD_Precision: 0.9322 - val_CN_Precision: 0.8363 - val_MCI_Precision: 0.8130 - val_AD_Recall: 0.5612 - val_CN_Recall: 0.9108 - val_MCI_Recall: 0.8912\n",
            "Epoch 10/50\n",
            "1106/1106 [==============================] - 153s 138ms/step - loss: 0.0988 - Accuracy: 0.9659 - AD_Precision: 0.9615 - CN_Precision: 0.9625 - MCI_Precision: 0.9710 - AD_Recall: 0.9520 - CN_Recall: 0.9625 - MCI_Recall: 0.9705 - val_loss: 0.8573 - val_Accuracy: 0.8057 - val_AD_Precision: 0.7290 - val_CN_Precision: 0.9802 - val_MCI_Precision: 0.7719 - val_AD_Recall: 0.7959 - val_CN_Recall: 0.6306 - val_MCI_Recall: 0.9205\n",
            "Epoch 11/50\n",
            "1106/1106 [==============================] - 153s 138ms/step - loss: 0.0968 - Accuracy: 0.9666 - AD_Precision: 0.9573 - CN_Precision: 0.9706 - MCI_Precision: 0.9698 - AD_Recall: 0.9501 - CN_Recall: 0.9612 - MCI_Recall: 0.9738 - val_loss: 1.7850 - val_Accuracy: 0.7854 - val_AD_Precision: 1.0000 - val_CN_Precision: 0.7566 - val_MCI_Precision: 0.7761 - val_AD_Recall: 0.3776 - val_CN_Recall: 0.9108 - val_MCI_Recall: 0.8703\n",
            "Epoch 12/50\n",
            "1106/1106 [==============================] - 154s 139ms/step - loss: 0.0830 - Accuracy: 0.9705 - AD_Precision: 0.9702 - CN_Precision: 0.9713 - MCI_Precision: 0.9705 - AD_Recall: 0.9643 - CN_Recall: 0.9631 - MCI_Recall: 0.9758 - val_loss: 1.6321 - val_Accuracy: 0.8117 - val_AD_Precision: 1.0000 - val_CN_Precision: 0.9197 - val_MCI_Precision: 0.7395 - val_AD_Recall: 0.4592 - val_CN_Recall: 0.8025 - val_MCI_Recall: 0.9623\n",
            "Epoch 13/50\n",
            "1106/1106 [==============================] - 156s 141ms/step - loss: 0.0761 - Accuracy: 0.9737 - AD_Precision: 0.9688 - CN_Precision: 0.9770 - MCI_Precision: 0.9750 - AD_Recall: 0.9643 - CN_Recall: 0.9684 - MCI_Recall: 0.9787 - val_loss: 0.9271 - val_Accuracy: 0.8543 - val_AD_Precision: 0.8889 - val_CN_Precision: 0.9343 - val_MCI_Precision: 0.8057 - val_AD_Recall: 0.6531 - val_CN_Recall: 0.8153 - val_MCI_Recall: 0.9540\n",
            "Epoch 14/50\n",
            "1106/1106 [==============================] - 155s 140ms/step - loss: 0.0910 - Accuracy: 0.9703 - AD_Precision: 0.9650 - CN_Precision: 0.9717 - MCI_Precision: 0.9736 - AD_Recall: 0.9586 - CN_Recall: 0.9650 - MCI_Recall: 0.9766 - val_loss: 1.1548 - val_Accuracy: 0.8239 - val_AD_Precision: 0.9643 - val_CN_Precision: 0.8811 - val_MCI_Precision: 0.7721 - val_AD_Recall: 0.5510 - val_CN_Recall: 0.8025 - val_MCI_Recall: 0.9498\n",
            "Epoch 15/50\n",
            "1106/1106 [==============================] - 152s 137ms/step - loss: 0.0761 - Accuracy: 0.9731 - AD_Precision: 0.9717 - CN_Precision: 0.9710 - MCI_Precision: 0.9767 - AD_Recall: 0.9690 - CN_Recall: 0.9644 - MCI_Recall: 0.9787 - val_loss: 0.9843 - val_Accuracy: 0.8360 - val_AD_Precision: 0.9324 - val_CN_Precision: 0.7632 - val_MCI_Precision: 0.8767 - val_AD_Recall: 0.7041 - val_CN_Recall: 0.9236 - val_MCI_Recall: 0.8326\n",
            "Epoch 16/50\n",
            "1106/1106 [==============================] - 155s 140ms/step - loss: 0.0598 - Accuracy: 0.9790 - AD_Precision: 0.9793 - CN_Precision: 0.9759 - MCI_Precision: 0.9822 - AD_Recall: 0.9770 - CN_Recall: 0.9731 - MCI_Recall: 0.9820 - val_loss: 0.9065 - val_Accuracy: 0.8583 - val_AD_Precision: 0.8706 - val_CN_Precision: 0.8782 - val_MCI_Precision: 0.8419 - val_AD_Recall: 0.7551 - val_CN_Recall: 0.8726 - val_MCI_Recall: 0.8912\n",
            "Epoch 17/50\n",
            "1106/1106 [==============================] - 152s 137ms/step - loss: 0.0662 - Accuracy: 0.9768 - AD_Precision: 0.9735 - CN_Precision: 0.9773 - MCI_Precision: 0.9788 - AD_Recall: 0.9680 - CN_Recall: 0.9700 - MCI_Recall: 0.9827 - val_loss: 1.0327 - val_Accuracy: 0.8522 - val_AD_Precision: 0.9306 - val_CN_Precision: 0.8353 - val_MCI_Precision: 0.8413 - val_AD_Recall: 0.6837 - val_CN_Recall: 0.9045 - val_MCI_Recall: 0.8870\n",
            "Epoch 18/50\n",
            "1106/1106 [==============================] - 152s 137ms/step - loss: 0.0557 - Accuracy: 0.9799 - AD_Precision: 0.9793 - CN_Precision: 0.9798 - MCI_Precision: 0.9807 - AD_Recall: 0.9793 - CN_Recall: 0.9706 - MCI_Recall: 0.9840 - val_loss: 1.1583 - val_Accuracy: 0.8462 - val_AD_Precision: 0.9538 - val_CN_Precision: 0.8235 - val_MCI_Precision: 0.8340 - val_AD_Recall: 0.6327 - val_CN_Recall: 0.8917 - val_MCI_Recall: 0.9038\n",
            "Epoch 19/50\n",
            "1106/1106 [==============================] - 152s 138ms/step - loss: 0.0750 - Accuracy: 0.9758 - AD_Precision: 0.9703 - CN_Precision: 0.9749 - MCI_Precision: 0.9786 - AD_Recall: 0.9685 - CN_Recall: 0.9697 - MCI_Recall: 0.9810 - val_loss: 1.2086 - val_Accuracy: 0.8279 - val_AD_Precision: 0.8140 - val_CN_Precision: 0.7880 - val_MCI_Precision: 0.8700 - val_AD_Recall: 0.7143 - val_CN_Recall: 0.9236 - val_MCI_Recall: 0.8117\n",
            "Epoch 20/50\n",
            "1106/1106 [==============================] - 152s 138ms/step - loss: 0.0810 - Accuracy: 0.9738 - AD_Precision: 0.9653 - CN_Precision: 0.9751 - MCI_Precision: 0.9773 - AD_Recall: 0.9675 - CN_Recall: 0.9690 - MCI_Recall: 0.9779 - val_loss: 1.1694 - val_Accuracy: 0.8340 - val_AD_Precision: 0.8529 - val_CN_Precision: 0.9124 - val_MCI_Precision: 0.7909 - val_AD_Recall: 0.5918 - val_CN_Recall: 0.7962 - val_MCI_Recall: 0.9498\n",
            "Epoch 21/50\n",
            "1106/1106 [==============================] - 153s 138ms/step - loss: 0.0500 - Accuracy: 0.9830 - AD_Precision: 0.9811 - CN_Precision: 0.9821 - MCI_Precision: 0.9850 - AD_Recall: 0.9760 - CN_Recall: 0.9778 - MCI_Recall: 0.9878 - val_loss: 1.2594 - val_Accuracy: 0.8421 - val_AD_Precision: 0.9508 - val_CN_Precision: 0.8011 - val_MCI_Precision: 0.8438 - val_AD_Recall: 0.5918 - val_CN_Recall: 0.8981 - val_MCI_Recall: 0.9038\n",
            "Epoch 22/50\n",
            "1106/1106 [==============================] - 153s 138ms/step - loss: 0.0572 - Accuracy: 0.9820 - AD_Precision: 0.9760 - CN_Precision: 0.9840 - MCI_Precision: 0.9840 - AD_Recall: 0.9737 - CN_Recall: 0.9794 - MCI_Recall: 0.9857 - val_loss: 1.2894 - val_Accuracy: 0.7713 - val_AD_Precision: 0.8133 - val_CN_Precision: 0.8727 - val_MCI_Precision: 0.7264 - val_AD_Recall: 0.6224 - val_CN_Recall: 0.6115 - val_MCI_Recall: 0.9331\n",
            "Epoch 23/50\n",
            "1106/1106 [==============================] - 152s 138ms/step - loss: 0.0472 - Accuracy: 0.9826 - AD_Precision: 0.9803 - CN_Precision: 0.9836 - MCI_Precision: 0.9835 - AD_Recall: 0.9812 - CN_Recall: 0.9765 - MCI_Recall: 0.9861 - val_loss: 1.2835 - val_Accuracy: 0.8563 - val_AD_Precision: 0.9552 - val_CN_Precision: 0.8146 - val_MCI_Precision: 0.8589 - val_AD_Recall: 0.6531 - val_CN_Recall: 0.9236 - val_MCI_Recall: 0.8912\n",
            "Epoch 24/50\n",
            "1106/1106 [==============================] - 153s 138ms/step - loss: 0.0428 - Accuracy: 0.9853 - AD_Precision: 0.9872 - CN_Precision: 0.9843 - MCI_Precision: 0.9858 - AD_Recall: 0.9831 - CN_Recall: 0.9772 - MCI_Recall: 0.9897 - val_loss: 0.9291 - val_Accuracy: 0.8583 - val_AD_Precision: 0.9178 - val_CN_Precision: 0.9291 - val_MCI_Precision: 0.8129 - val_AD_Recall: 0.6837 - val_CN_Recall: 0.8344 - val_MCI_Recall: 0.9456\n",
            "Epoch 25/50\n",
            "1106/1106 [==============================] - 152s 138ms/step - loss: 0.0529 - Accuracy: 0.9817 - AD_Precision: 0.9783 - CN_Precision: 0.9827 - MCI_Precision: 0.9830 - AD_Recall: 0.9755 - CN_Recall: 0.9781 - MCI_Recall: 0.9855 - val_loss: 1.1755 - val_Accuracy: 0.8279 - val_AD_Precision: 0.7727 - val_CN_Precision: 0.8068 - val_MCI_Precision: 0.8879 - val_AD_Recall: 0.6939 - val_CN_Recall: 0.9045 - val_MCI_Recall: 0.8285\n",
            "Epoch 26/50\n",
            "1106/1106 [==============================] - 154s 139ms/step - loss: 0.0409 - Accuracy: 0.9873 - AD_Precision: 0.9878 - CN_Precision: 0.9874 - MCI_Precision: 0.9871 - AD_Recall: 0.9878 - CN_Recall: 0.9797 - MCI_Recall: 0.9904 - val_loss: 1.2291 - val_Accuracy: 0.8320 - val_AD_Precision: 0.9125 - val_CN_Precision: 0.7374 - val_MCI_Precision: 0.8930 - val_AD_Recall: 0.7449 - val_CN_Recall: 0.9299 - val_MCI_Recall: 0.8033\n",
            "Epoch 27/50\n",
            "1106/1106 [==============================] - 154s 139ms/step - loss: 0.0500 - Accuracy: 0.9828 - AD_Precision: 0.9812 - CN_Precision: 0.9823 - MCI_Precision: 0.9845 - AD_Recall: 0.9812 - CN_Recall: 0.9740 - MCI_Recall: 0.9874 - val_loss: 1.8394 - val_Accuracy: 0.8482 - val_AD_Precision: 1.0000 - val_CN_Precision: 0.8519 - val_MCI_Precision: 0.8165 - val_AD_Recall: 0.5306 - val_CN_Recall: 0.8790 - val_MCI_Recall: 0.9498\n",
            "Epoch 28/50\n",
            "1106/1106 [==============================] - 152s 137ms/step - loss: 0.0371 - Accuracy: 0.9878 - AD_Precision: 0.9835 - CN_Precision: 0.9887 - MCI_Precision: 0.9894 - AD_Recall: 0.9831 - CN_Recall: 0.9841 - MCI_Recall: 0.9911 - val_loss: 1.7946 - val_Accuracy: 0.8138 - val_AD_Precision: 0.9583 - val_CN_Precision: 0.9466 - val_MCI_Precision: 0.7365 - val_AD_Recall: 0.4694 - val_CN_Recall: 0.7898 - val_MCI_Recall: 0.9707\n",
            "Epoch 29/50\n",
            "1106/1106 [==============================] - 152s 137ms/step - loss: 0.0424 - Accuracy: 0.9856 - AD_Precision: 0.9849 - CN_Precision: 0.9880 - MCI_Precision: 0.9859 - AD_Recall: 0.9845 - CN_Recall: 0.9787 - MCI_Recall: 0.9887 - val_loss: 1.1448 - val_Accuracy: 0.8178 - val_AD_Precision: 0.7043 - val_CN_Precision: 0.9206 - val_MCI_Precision: 0.8214 - val_AD_Recall: 0.8265 - val_CN_Recall: 0.7389 - val_MCI_Recall: 0.8661\n",
            "Epoch 30/50\n",
            "1106/1106 [==============================] - 152s 137ms/step - loss: 0.0427 - Accuracy: 0.9857 - AD_Precision: 0.9840 - CN_Precision: 0.9855 - MCI_Precision: 0.9870 - AD_Recall: 0.9817 - CN_Recall: 0.9800 - MCI_Recall: 0.9901 - val_loss: 1.9944 - val_Accuracy: 0.8138 - val_AD_Precision: 0.9787 - val_CN_Precision: 0.8776 - val_MCI_Precision: 0.7592 - val_AD_Recall: 0.4694 - val_CN_Recall: 0.8217 - val_MCI_Recall: 0.9498\n",
            "Epoch 31/50\n",
            "1106/1106 [==============================] - 153s 138ms/step - loss: 0.0395 - Accuracy: 0.9857 - AD_Precision: 0.9849 - CN_Precision: 0.9864 - MCI_Precision: 0.9859 - AD_Recall: 0.9802 - CN_Recall: 0.9787 - MCI_Recall: 0.9911 - val_loss: 1.1068 - val_Accuracy: 0.8381 - val_AD_Precision: 0.8295 - val_CN_Precision: 0.8675 - val_MCI_Precision: 0.8221 - val_AD_Recall: 0.7449 - val_CN_Recall: 0.8344 - val_MCI_Recall: 0.8703\n",
            "Epoch 32/50\n",
            "1106/1106 [==============================] - 153s 138ms/step - loss: 0.0395 - Accuracy: 0.9867 - AD_Precision: 0.9864 - CN_Precision: 0.9868 - MCI_Precision: 0.9870 - AD_Recall: 0.9878 - CN_Recall: 0.9803 - MCI_Recall: 0.9897 - val_loss: 1.5894 - val_Accuracy: 0.8421 - val_AD_Precision: 0.9655 - val_CN_Precision: 0.8926 - val_MCI_Precision: 0.7909 - val_AD_Recall: 0.5714 - val_CN_Recall: 0.8471 - val_MCI_Recall: 0.9498\n",
            "Epoch 33/50\n",
            "1106/1106 [==============================] - 152s 137ms/step - loss: 0.0473 - Accuracy: 0.9854 - AD_Precision: 0.9868 - CN_Precision: 0.9846 - MCI_Precision: 0.9861 - AD_Recall: 0.9817 - CN_Recall: 0.9787 - MCI_Recall: 0.9899 - val_loss: 1.0210 - val_Accuracy: 0.8563 - val_AD_Precision: 0.9706 - val_CN_Precision: 0.8187 - val_MCI_Precision: 0.8510 - val_AD_Recall: 0.6735 - val_CN_Recall: 0.8917 - val_MCI_Recall: 0.9079\n",
            "Epoch 34/50\n",
            "1106/1106 [==============================] - 153s 138ms/step - loss: 0.0270 - Accuracy: 0.9904 - AD_Precision: 0.9906 - CN_Precision: 0.9924 - MCI_Precision: 0.9896 - AD_Recall: 0.9882 - CN_Recall: 0.9853 - MCI_Recall: 0.9935 - val_loss: 1.5724 - val_Accuracy: 0.8522 - val_AD_Precision: 0.9452 - val_CN_Precision: 0.8481 - val_MCI_Precision: 0.8289 - val_AD_Recall: 0.7041 - val_CN_Recall: 0.8535 - val_MCI_Recall: 0.9121\n",
            "Epoch 35/50\n",
            "1106/1106 [==============================] - 153s 138ms/step - loss: 0.0662 - Accuracy: 0.9804 - AD_Precision: 0.9807 - CN_Precision: 0.9817 - MCI_Precision: 0.9809 - AD_Recall: 0.9779 - CN_Recall: 0.9731 - MCI_Recall: 0.9847 - val_loss: 1.1828 - val_Accuracy: 0.8502 - val_AD_Precision: 0.9688 - val_CN_Precision: 0.9357 - val_MCI_Precision: 0.7855 - val_AD_Recall: 0.6327 - val_CN_Recall: 0.8344 - val_MCI_Recall: 0.9498\n",
            "Epoch 36/50\n",
            "1106/1106 [==============================] - 152s 137ms/step - loss: 0.0245 - Accuracy: 0.9920 - AD_Precision: 0.9915 - CN_Precision: 0.9950 - MCI_Precision: 0.9910 - AD_Recall: 0.9925 - CN_Recall: 0.9872 - MCI_Recall: 0.9944 - val_loss: 1.5043 - val_Accuracy: 0.8421 - val_AD_Precision: 1.0000 - val_CN_Precision: 0.8650 - val_MCI_Precision: 0.7978 - val_AD_Recall: 0.5408 - val_CN_Recall: 0.8981 - val_MCI_Recall: 0.9247\n",
            "Epoch 37/50\n",
            "1106/1106 [==============================] - 152s 138ms/step - loss: 0.0407 - Accuracy: 0.9862 - AD_Precision: 0.9854 - CN_Precision: 0.9880 - MCI_Precision: 0.9858 - AD_Recall: 0.9812 - CN_Recall: 0.9800 - MCI_Recall: 0.9908 - val_loss: 1.3533 - val_Accuracy: 0.8421 - val_AD_Precision: 0.9811 - val_CN_Precision: 0.9301 - val_MCI_Precision: 0.7752 - val_AD_Recall: 0.5306 - val_CN_Recall: 0.8471 - val_MCI_Recall: 0.9665\n",
            "Epoch 38/50\n",
            "1106/1106 [==============================] - 153s 138ms/step - loss: 0.0331 - Accuracy: 0.9887 - AD_Precision: 0.9873 - CN_Precision: 0.9927 - MCI_Precision: 0.9872 - AD_Recall: 0.9845 - CN_Recall: 0.9819 - MCI_Recall: 0.9934 - val_loss: 1.1516 - val_Accuracy: 0.8219 - val_AD_Precision: 0.9655 - val_CN_Precision: 0.8160 - val_MCI_Precision: 0.8007 - val_AD_Recall: 0.5714 - val_CN_Recall: 0.8471 - val_MCI_Recall: 0.9079\n",
            "Epoch 39/50\n",
            "1106/1106 [==============================] - 152s 137ms/step - loss: 0.0377 - Accuracy: 0.9864 - AD_Precision: 0.9854 - CN_Precision: 0.9880 - MCI_Precision: 0.9865 - AD_Recall: 0.9826 - CN_Recall: 0.9809 - MCI_Recall: 0.9904 - val_loss: 1.2680 - val_Accuracy: 0.8219 - val_AD_Precision: 0.9667 - val_CN_Precision: 0.8000 - val_MCI_Precision: 0.8060 - val_AD_Recall: 0.5918 - val_CN_Recall: 0.8408 - val_MCI_Recall: 0.9038\n",
            "Epoch 40/50\n",
            "1106/1106 [==============================] - 153s 138ms/step - loss: 0.0295 - Accuracy: 0.9907 - AD_Precision: 0.9897 - CN_Precision: 0.9924 - MCI_Precision: 0.9904 - AD_Recall: 0.9906 - CN_Recall: 0.9856 - MCI_Recall: 0.9934 - val_loss: 1.8345 - val_Accuracy: 0.8381 - val_AD_Precision: 1.0000 - val_CN_Precision: 0.7730 - val_MCI_Precision: 0.8571 - val_AD_Recall: 0.5510 - val_CN_Recall: 0.9108 - val_MCI_Recall: 0.9038\n",
            "Epoch 41/50\n",
            "1106/1106 [==============================] - 155s 140ms/step - loss: 0.0319 - Accuracy: 0.9891 - AD_Precision: 0.9920 - CN_Precision: 0.9856 - MCI_Precision: 0.9901 - AD_Recall: 0.9920 - CN_Recall: 0.9825 - MCI_Recall: 0.9915 - val_loss: 1.0281 - val_Accuracy: 0.8725 - val_AD_Precision: 0.9048 - val_CN_Precision: 0.9214 - val_MCI_Precision: 0.8364 - val_AD_Recall: 0.7755 - val_CN_Recall: 0.8217 - val_MCI_Recall: 0.9414\n",
            "Epoch 42/50\n",
            "1106/1106 [==============================] - 154s 139ms/step - loss: 0.0291 - Accuracy: 0.9904 - AD_Precision: 0.9887 - CN_Precision: 0.9928 - MCI_Precision: 0.9903 - AD_Recall: 0.9882 - CN_Recall: 0.9856 - MCI_Recall: 0.9934 - val_loss: 1.2364 - val_Accuracy: 0.8583 - val_AD_Precision: 0.9836 - val_CN_Precision: 0.8797 - val_MCI_Precision: 0.8175 - val_AD_Recall: 0.6122 - val_CN_Recall: 0.8854 - val_MCI_Recall: 0.9372\n",
            "Epoch 43/50\n",
            "1106/1106 [==============================] - 152s 138ms/step - loss: 0.0364 - Accuracy: 0.9873 - AD_Precision: 0.9877 - CN_Precision: 0.9890 - MCI_Precision: 0.9867 - AD_Recall: 0.9840 - CN_Recall: 0.9803 - MCI_Recall: 0.9923 - val_loss: 1.1970 - val_Accuracy: 0.8644 - val_AD_Precision: 0.9559 - val_CN_Precision: 0.9178 - val_MCI_Precision: 0.8143 - val_AD_Recall: 0.6633 - val_CN_Recall: 0.8535 - val_MCI_Recall: 0.9540\n",
            "Epoch 44/50\n",
            "1106/1106 [==============================] - 154s 139ms/step - loss: 0.0267 - Accuracy: 0.9909 - AD_Precision: 0.9925 - CN_Precision: 0.9921 - MCI_Precision: 0.9899 - AD_Recall: 0.9911 - CN_Recall: 0.9831 - MCI_Recall: 0.9949 - val_loss: 1.3652 - val_Accuracy: 0.8360 - val_AD_Precision: 0.8904 - val_CN_Precision: 0.8282 - val_MCI_Precision: 0.8288 - val_AD_Recall: 0.6633 - val_CN_Recall: 0.8599 - val_MCI_Recall: 0.8912\n",
            "Epoch 45/50\n",
            "1106/1106 [==============================] - 151s 137ms/step - loss: 0.0275 - Accuracy: 0.9906 - AD_Precision: 0.9939 - CN_Precision: 0.9899 - MCI_Precision: 0.9899 - AD_Recall: 0.9939 - CN_Recall: 0.9850 - MCI_Recall: 0.9925 - val_loss: 1.6925 - val_Accuracy: 0.8543 - val_AD_Precision: 0.9571 - val_CN_Precision: 0.9606 - val_MCI_Precision: 0.7838 - val_AD_Recall: 0.6837 - val_CN_Recall: 0.7771 - val_MCI_Recall: 0.9707\n",
            "Epoch 46/50\n",
            "1106/1106 [==============================] - 154s 139ms/step - loss: 0.0328 - Accuracy: 0.9891 - AD_Precision: 0.9911 - CN_Precision: 0.9905 - MCI_Precision: 0.9882 - AD_Recall: 0.9911 - CN_Recall: 0.9816 - MCI_Recall: 0.9923 - val_loss: 1.5987 - val_Accuracy: 0.8441 - val_AD_Precision: 0.9296 - val_CN_Precision: 0.9398 - val_MCI_Precision: 0.7820 - val_AD_Recall: 0.6735 - val_CN_Recall: 0.7962 - val_MCI_Recall: 0.9456\n",
            "Epoch 47/50\n",
            "1106/1106 [==============================] - 153s 139ms/step - loss: 0.0280 - Accuracy: 0.9901 - AD_Precision: 0.9878 - CN_Precision: 0.9937 - MCI_Precision: 0.9891 - AD_Recall: 0.9868 - CN_Recall: 0.9856 - MCI_Recall: 0.9935 - val_loss: 2.2309 - val_Accuracy: 0.7551 - val_AD_Precision: 0.9180 - val_CN_Precision: 0.6157 - val_MCI_Precision: 0.8883 - val_AD_Recall: 0.5714 - val_CN_Recall: 0.9490 - val_MCI_Recall: 0.6987\n",
            "Epoch 48/50\n",
            "1106/1106 [==============================] - 154s 139ms/step - loss: 0.0344 - Accuracy: 0.9886 - AD_Precision: 0.9849 - CN_Precision: 0.9915 - MCI_Precision: 0.9891 - AD_Recall: 0.9835 - CN_Recall: 0.9850 - MCI_Recall: 0.9925 - val_loss: 2.1080 - val_Accuracy: 0.8077 - val_AD_Precision: 0.9667 - val_CN_Precision: 0.9316 - val_MCI_Precision: 0.7310 - val_AD_Recall: 0.5918 - val_CN_Recall: 0.6943 - val_MCI_Recall: 0.9665\n",
            "Epoch 49/50\n",
            "1106/1106 [==============================] - 153s 138ms/step - loss: 0.0196 - Accuracy: 0.9925 - AD_Precision: 0.9943 - CN_Precision: 0.9928 - MCI_Precision: 0.9918 - AD_Recall: 0.9915 - CN_Recall: 0.9884 - MCI_Recall: 0.9949 - val_loss: 1.4525 - val_Accuracy: 0.8300 - val_AD_Precision: 0.8140 - val_CN_Precision: 0.8696 - val_MCI_Precision: 0.8148 - val_AD_Recall: 0.7143 - val_CN_Recall: 0.7643 - val_MCI_Recall: 0.9205\n",
            "Epoch 50/50\n",
            "1106/1106 [==============================] - 153s 138ms/step - loss: 0.0215 - Accuracy: 0.9920 - AD_Precision: 0.9929 - CN_Precision: 0.9934 - MCI_Precision: 0.9911 - AD_Recall: 0.9901 - CN_Recall: 0.9869 - MCI_Recall: 0.9956 - val_loss: 1.3149 - val_Accuracy: 0.8482 - val_AD_Precision: 0.8090 - val_CN_Precision: 0.8808 - val_MCI_Precision: 0.8425 - val_AD_Recall: 0.7347 - val_CN_Recall: 0.8471 - val_MCI_Recall: 0.8954\n",
            "              precision    recall  f1-score   support\n",
            "\n",
            "          AD       0.90      0.78      0.84        98\n",
            "          CN       0.92      0.83      0.87       157\n",
            "         MCI       0.84      0.94      0.89       239\n",
            "\n",
            "    accuracy                           0.87       494\n",
            "   macro avg       0.89      0.85      0.86       494\n",
            "weighted avg       0.88      0.87      0.87       494\n",
            "\n"
          ]
        },
        {
          "data": {
            "image/png": "[encoded data removed]",
            "text/plain": [
              "<Figure size 432x288 with 2 Axes>"
            ]
          },
          "metadata": {
            "needs_background": "light"
          },
          "output_type": "display_data"
        }
      ],
      "source": [
        "savepath = 'models'\n",
        "lr=0.00001\n",
        "if not os.path.isdir(savepath):\n",
        "      os.makedirs(savepath)\n",
        "csvloger_callback = tf.keras.callbacks.CSVLogger(f'{savepath}history.csv', separator=',', append=False)\n",
        "\n",
        "modelcheckpoint_callback = tf.keras.callbacks.ModelCheckpoint(savepath+'efficientnet_row_10E-5_weights-epoch:{epoch:03d}-val_Accuracy:{val_Accuracy:.4f}.h5',monitor='val_Accuracy'\n",
        "    ,verbose=0,save_best_only=True,save_weights_only=True,mode='max',save_freq='epoch' , initial_value_threshold=0.85)\n",
        "\n",
        "OPT = tf.keras.optimizers.Adam(learning_rate=lr)\n",
        "model02 = efficientnet_row(OPT, LOOS,METRICS,image_Shape)\n",
        "history02 = model02.fit(training_image_datagen, epochs=EPOCH, validation_data=testing_image_datagen,callbacks=[csvloger_callback,modelcheckpoint_callback])\n",
        "model02 = efficientnet_row(OPT, LOOS,METRICS,image_Shape)\n",
        "model02.load_weights(glob.glob(f\"{savepath}efficientnet_row_10E-5_weights-epoch:*-val_Accuracy:{max(history02.history['val_Accuracy']):.4f}.h5\")[0])\n",
        "model02.save(f\"{savepath}/efficientnetaug_50_0.0001.h5\")\n",
        "p2 = model02.predict(testing_image_datagen)\n",
        "predicted_lab = p2.argmax(axis=-1)\n",
        "true_lab = testing_image_datagen.classes\n",
        "plot_confusion_matrix(true_lab, predicted_lab, testing_image_datagen.class_indices.keys(),savepath)\n",
        "report = classification_report(true_lab, predicted_lab, target_names=testing_image_datagen.class_indices.keys())\n",
        "print(report)\n",
        "dump_text(report,f'{savepath}classification_report.txt')\n",
        "np.save(\"efficientnetaug_50_0.0001.npy\",p2 )"
      ]
    },
    {
      "cell_type": "code",
      "source": [
        "import tensorflow as tf\n",
        "image_Shape=(436,364,3)\n",
        "\n",
        "def inceptionv3_row(optimizer, loss, metrics, shape):\n",
        "    image_input = tf.keras.applications.InceptionV3(include_top=False, weights='imagenet', input_shape=shape)\n",
        "\n",
        "    for layer in image_input.layers:\n",
        "        layer.trainable = True\n",
        "        layer._name = layer._name + str('_img')\n",
        "\n",
        "    x = Flatten()(image_input.output)\n",
        "    x = Dropout(0.4)(x)\n",
        "    x = Dense(512)(x)\n",
        "    x = Dense(256)(x)\n",
        "    x = Dense(128)(x)\n",
        "    output_layer = Dense(3, activation='softmax')(x)\n",
        "\n",
        "    model = Model(inputs=image_input.input, outputs=output_layer)\n",
        "    model.compile(optimizer=optimizer, loss=loss, metrics=metrics)\n",
        "    return model"
      ],
      "metadata": {
        "id": "fEHrif5Amzr3"
      },
      "id": "fEHrif5Amzr3",
      "execution_count": null,
      "outputs": []
    },
    {
      "cell_type": "code",
      "execution_count": null,
      "metadata": {
        "tags": [],
        "id": "fde0b2e3-1b4d-407a-9f8d-a9f23f7873a1",
        "outputId": "617448c9-214f-4a68-a292-9f66ffd298df"
      },
      "outputs": [
        {
          "name": "stdout",
          "output_type": "stream",
          "text": [
            "Epoch 1/50\n"
          ]
        },
        {
          "name": "stderr",
          "output_type": "stream",
          "text": [
            "2024-03-05 17:45:50.775127: I tensorflow/stream_executor/cuda/cuda_dnn.cc:366] Loaded cuDNN version 8201\n",
            "2024-03-05 17:46:00.806606: W tensorflow/core/common_runtime/bfc_allocator.cc:275] Allocator (GPU_0_bfc) ran out of memory trying to allocate 1.73GiB with freed_by_count=0. The caller indicates that this is not a failure, but may mean that there could be performance gains if more memory were available.\n",
            "2024-03-05 17:46:00.815345: W tensorflow/core/common_runtime/bfc_allocator.cc:275] Allocator (GPU_0_bfc) ran out of memory trying to allocate 1.77GiB with freed_by_count=0. The caller indicates that this is not a failure, but may mean that there could be performance gains if more memory were available.\n",
            "2024-03-05 17:46:00.823943: W tensorflow/core/common_runtime/bfc_allocator.cc:275] Allocator (GPU_0_bfc) ran out of memory trying to allocate 1.81GiB with freed_by_count=0. The caller indicates that this is not a failure, but may mean that there could be performance gains if more memory were available.\n",
            "2024-03-05 17:46:00.832499: W tensorflow/core/common_runtime/bfc_allocator.cc:275] Allocator (GPU_0_bfc) ran out of memory trying to allocate 1.84GiB with freed_by_count=0. The caller indicates that this is not a failure, but may mean that there could be performance gains if more memory were available.\n",
            "2024-03-05 17:46:00.841124: W tensorflow/core/common_runtime/bfc_allocator.cc:275] Allocator (GPU_0_bfc) ran out of memory trying to allocate 1.88GiB with freed_by_count=0. The caller indicates that this is not a failure, but may mean that there could be performance gains if more memory were available.\n",
            "2024-03-05 17:46:00.849820: W tensorflow/core/common_runtime/bfc_allocator.cc:275] Allocator (GPU_0_bfc) ran out of memory trying to allocate 1.91GiB with freed_by_count=0. The caller indicates that this is not a failure, but may mean that there could be performance gains if more memory were available.\n",
            "2024-03-05 17:46:00.858586: W tensorflow/core/common_runtime/bfc_allocator.cc:275] Allocator (GPU_0_bfc) ran out of memory trying to allocate 1.95GiB with freed_by_count=0. The caller indicates that this is not a failure, but may mean that there could be performance gains if more memory were available.\n",
            "2024-03-05 17:46:00.867344: W tensorflow/core/common_runtime/bfc_allocator.cc:275] Allocator (GPU_0_bfc) ran out of memory trying to allocate 1.98GiB with freed_by_count=0. The caller indicates that this is not a failure, but may mean that there could be performance gains if more memory were available.\n"
          ]
        },
        {
          "name": "stdout",
          "output_type": "stream",
          "text": [
            " 329/1106 [=======>......................] - ETA: 3:19 - loss: 3.7597 - Accuracy: 0.4410 - AD_Precision: 0.2599 - CN_Precision: 0.3646 - MCI_Precision: 0.5499 - AD_Recall: 0.2536 - CN_Recall: 0.3554 - MCI_Recall: 0.5495"
          ]
        },
        {
          "name": "stderr",
          "output_type": "stream",
          "text": [
            "2024-03-05 17:47:30.556135: W tensorflow/core/common_runtime/bfc_allocator.cc:275] Allocator (GPU_0_bfc) ran out of memory trying to allocate 1.65GiB with freed_by_count=0. The caller indicates that this is not a failure, but may mean that there could be performance gains if more memory were available.\n",
            "2024-03-05 17:47:30.579056: W tensorflow/core/common_runtime/bfc_allocator.cc:275] Allocator (GPU_0_bfc) ran out of memory trying to allocate 2.19GiB with freed_by_count=0. The caller indicates that this is not a failure, but may mean that there could be performance gains if more memory were available.\n"
          ]
        },
        {
          "name": "stdout",
          "output_type": "stream",
          "text": [
            "1106/1106 [==============================] - 338s 276ms/step - loss: 2.9646 - Accuracy: 0.4885 - AD_Precision: 0.3305 - CN_Precision: 0.4249 - MCI_Precision: 0.5820 - AD_Recall: 0.3137 - CN_Recall: 0.4124 - MCI_Recall: 0.5838 - val_loss: 2.5797 - val_Accuracy: 0.6336 - val_AD_Precision: 1.0000 - val_CN_Precision: 0.7063 - val_MCI_Precision: 0.6033 - val_AD_Recall: 0.0510 - val_CN_Recall: 0.5669 - val_MCI_Recall: 0.9163\n",
            "Epoch 2/50\n",
            "1106/1106 [==============================] - 306s 277ms/step - loss: 1.2456 - Accuracy: 0.6357 - AD_Precision: 0.5176 - CN_Precision: 0.6191 - MCI_Precision: 0.6974 - AD_Recall: 0.4760 - CN_Recall: 0.5869 - MCI_Recall: 0.7044 - val_loss: 0.9863 - val_Accuracy: 0.7146 - val_AD_Precision: 0.7955 - val_CN_Precision: 0.8362 - val_MCI_Precision: 0.6647 - val_AD_Recall: 0.3571 - val_CN_Recall: 0.6178 - val_MCI_Recall: 0.9205\n",
            "Epoch 3/50\n",
            "1106/1106 [==============================] - 305s 275ms/step - loss: 0.6653 - Accuracy: 0.7507 - AD_Precision: 0.7031 - CN_Precision: 0.7425 - MCI_Precision: 0.7913 - AD_Recall: 0.6350 - CN_Recall: 0.7008 - MCI_Recall: 0.7993 - val_loss: 1.4236 - val_Accuracy: 0.7105 - val_AD_Precision: 1.0000 - val_CN_Precision: 0.7622 - val_MCI_Precision: 0.6763 - val_AD_Recall: 0.1531 - val_CN_Recall: 0.7962 - val_MCI_Recall: 0.8828\n",
            "Epoch 4/50\n",
            "1106/1106 [==============================] - 307s 277ms/step - loss: 0.4502 - Accuracy: 0.8267 - AD_Precision: 0.8059 - CN_Precision: 0.8361 - MCI_Precision: 0.8461 - AD_Recall: 0.7441 - CN_Recall: 0.7899 - MCI_Recall: 0.8568 - val_loss: 0.6735 - val_Accuracy: 0.7955 - val_AD_Precision: 0.8254 - val_CN_Precision: 0.8768 - val_MCI_Precision: 0.7604 - val_AD_Recall: 0.5306 - val_CN_Recall: 0.7707 - val_MCI_Recall: 0.9163\n",
            "Epoch 5/50\n",
            "1106/1106 [==============================] - 304s 275ms/step - loss: 0.3253 - Accuracy: 0.8733 - AD_Precision: 0.8542 - CN_Precision: 0.8809 - MCI_Precision: 0.8877 - AD_Recall: 0.8133 - CN_Recall: 0.8530 - MCI_Recall: 0.8959 - val_loss: 0.8730 - val_Accuracy: 0.7955 - val_AD_Precision: 0.9434 - val_CN_Precision: 0.8288 - val_MCI_Precision: 0.7551 - val_AD_Recall: 0.5102 - val_CN_Recall: 0.7707 - val_MCI_Recall: 0.9289\n",
            "Epoch 6/50\n",
            "1106/1106 [==============================] - 307s 277ms/step - loss: 0.2404 - Accuracy: 0.9088 - AD_Precision: 0.8930 - CN_Precision: 0.9192 - MCI_Precision: 0.9156 - AD_Recall: 0.8556 - CN_Recall: 0.8965 - MCI_Recall: 0.9275 - val_loss: 0.7197 - val_Accuracy: 0.8381 - val_AD_Precision: 0.8462 - val_CN_Precision: 0.8881 - val_MCI_Precision: 0.8095 - val_AD_Recall: 0.6735 - val_CN_Recall: 0.8089 - val_MCI_Recall: 0.9247\n",
            "Epoch 7/50\n",
            "1106/1106 [==============================] - 305s 275ms/step - loss: 0.1958 - Accuracy: 0.9268 - AD_Precision: 0.9175 - CN_Precision: 0.9256 - MCI_Precision: 0.9367 - AD_Recall: 0.8946 - CN_Recall: 0.9137 - MCI_Recall: 0.9412 - val_loss: 0.8414 - val_Accuracy: 0.8158 - val_AD_Precision: 0.8250 - val_CN_Precision: 0.7513 - val_MCI_Precision: 0.8796 - val_AD_Recall: 0.6735 - val_CN_Recall: 0.9236 - val_MCI_Recall: 0.7950\n",
            "Epoch 8/50\n",
            "1106/1106 [==============================] - 305s 276ms/step - loss: 0.1600 - Accuracy: 0.9423 - AD_Precision: 0.9360 - CN_Precision: 0.9442 - MCI_Precision: 0.9460 - AD_Recall: 0.9149 - CN_Recall: 0.9306 - MCI_Recall: 0.9540 - val_loss: 0.9927 - val_Accuracy: 0.8077 - val_AD_Precision: 0.8378 - val_CN_Precision: 0.7565 - val_MCI_Precision: 0.8507 - val_AD_Recall: 0.6327 - val_CN_Recall: 0.9299 - val_MCI_Recall: 0.7866\n",
            "Epoch 9/50\n",
            "1106/1106 [==============================] - 305s 276ms/step - loss: 0.1230 - Accuracy: 0.9563 - AD_Precision: 0.9514 - CN_Precision: 0.9549 - MCI_Precision: 0.9621 - AD_Recall: 0.9384 - CN_Recall: 0.9472 - MCI_Recall: 0.9644 - val_loss: 1.1022 - val_Accuracy: 0.7996 - val_AD_Precision: 0.9180 - val_CN_Precision: 0.7164 - val_MCI_Precision: 0.8478 - val_AD_Recall: 0.5714 - val_CN_Recall: 0.9172 - val_MCI_Recall: 0.8159\n",
            "Epoch 10/50\n",
            "1106/1106 [==============================] - 305s 276ms/step - loss: 0.1030 - Accuracy: 0.9618 - AD_Precision: 0.9497 - CN_Precision: 0.9662 - MCI_Precision: 0.9666 - AD_Recall: 0.9412 - CN_Recall: 0.9578 - MCI_Recall: 0.9681 - val_loss: 1.3312 - val_Accuracy: 0.8219 - val_AD_Precision: 0.9600 - val_CN_Precision: 0.8654 - val_MCI_Precision: 0.7797 - val_AD_Recall: 0.4898 - val_CN_Recall: 0.8599 - val_MCI_Recall: 0.9331\n",
            "Epoch 11/50\n",
            "1106/1106 [==============================] - 305s 276ms/step - loss: 0.0853 - Accuracy: 0.9666 - AD_Precision: 0.9616 - CN_Precision: 0.9676 - MCI_Precision: 0.9703 - AD_Recall: 0.9544 - CN_Recall: 0.9612 - MCI_Recall: 0.9731 - val_loss: 1.1375 - val_Accuracy: 0.8300 - val_AD_Precision: 0.9062 - val_CN_Precision: 0.8354 - val_MCI_Precision: 0.8111 - val_AD_Recall: 0.5918 - val_CN_Recall: 0.8408 - val_MCI_Recall: 0.9163\n",
            "Epoch 12/50\n",
            "1106/1106 [==============================] - 305s 276ms/step - loss: 0.0838 - Accuracy: 0.9698 - AD_Precision: 0.9659 - CN_Precision: 0.9683 - MCI_Precision: 0.9729 - AD_Recall: 0.9605 - CN_Recall: 0.9650 - MCI_Recall: 0.9749 - val_loss: 1.1859 - val_Accuracy: 0.8320 - val_AD_Precision: 0.9155 - val_CN_Precision: 0.7413 - val_MCI_Precision: 0.8940 - val_AD_Recall: 0.6633 - val_CN_Recall: 0.9490 - val_MCI_Recall: 0.8117\n",
            "Epoch 13/50\n",
            "1106/1106 [==============================] - 307s 278ms/step - loss: 0.0615 - Accuracy: 0.9769 - AD_Precision: 0.9778 - CN_Precision: 0.9764 - MCI_Precision: 0.9786 - AD_Recall: 0.9751 - CN_Recall: 0.9687 - MCI_Recall: 0.9808 - val_loss: 0.9880 - val_Accuracy: 0.8623 - val_AD_Precision: 0.8523 - val_CN_Precision: 0.8766 - val_MCI_Precision: 0.8571 - val_AD_Recall: 0.7653 - val_CN_Recall: 0.8599 - val_MCI_Recall: 0.9038\n",
            "Epoch 14/50\n",
            "1106/1106 [==============================] - 305s 276ms/step - loss: 0.0627 - Accuracy: 0.9764 - AD_Precision: 0.9750 - CN_Precision: 0.9755 - MCI_Precision: 0.9777 - AD_Recall: 0.9708 - CN_Recall: 0.9725 - MCI_Recall: 0.9799 - val_loss: 0.9859 - val_Accuracy: 0.8401 - val_AD_Precision: 0.8684 - val_CN_Precision: 0.8263 - val_MCI_Precision: 0.8406 - val_AD_Recall: 0.6735 - val_CN_Recall: 0.8790 - val_MCI_Recall: 0.8828\n",
            "Epoch 15/50\n",
            "1106/1106 [==============================] - 305s 276ms/step - loss: 0.0623 - Accuracy: 0.9776 - AD_Precision: 0.9713 - CN_Precision: 0.9777 - MCI_Precision: 0.9808 - AD_Recall: 0.9718 - CN_Recall: 0.9722 - MCI_Recall: 0.9815 - val_loss: 1.4366 - val_Accuracy: 0.8279 - val_AD_Precision: 0.8161 - val_CN_Precision: 0.7717 - val_MCI_Precision: 0.8869 - val_AD_Recall: 0.7245 - val_CN_Recall: 0.9045 - val_MCI_Recall: 0.8201\n",
            "Epoch 16/50\n",
            "1106/1106 [==============================] - 305s 276ms/step - loss: 0.0607 - Accuracy: 0.9775 - AD_Precision: 0.9740 - CN_Precision: 0.9792 - MCI_Precision: 0.9788 - AD_Recall: 0.9680 - CN_Recall: 0.9731 - MCI_Recall: 0.9827 - val_loss: 1.1983 - val_Accuracy: 0.8522 - val_AD_Precision: 0.9412 - val_CN_Precision: 0.7701 - val_MCI_Precision: 0.8945 - val_AD_Recall: 0.6531 - val_CN_Recall: 0.9172 - val_MCI_Recall: 0.8870\n",
            "Epoch 17/50\n",
            "1106/1106 [==============================] - 305s 276ms/step - loss: 0.0465 - Accuracy: 0.9825 - AD_Precision: 0.9798 - CN_Precision: 0.9839 - MCI_Precision: 0.9836 - AD_Recall: 0.9821 - CN_Recall: 0.9769 - MCI_Recall: 0.9855 - val_loss: 1.2476 - val_Accuracy: 0.8441 - val_AD_Precision: 0.9394 - val_CN_Precision: 0.8395 - val_MCI_Precision: 0.8264 - val_AD_Recall: 0.6327 - val_CN_Recall: 0.8662 - val_MCI_Recall: 0.9163\n",
            "Epoch 18/50\n",
            "1106/1106 [==============================] - 307s 278ms/step - loss: 0.0404 - Accuracy: 0.9843 - AD_Precision: 0.9821 - CN_Precision: 0.9855 - MCI_Precision: 0.9845 - AD_Recall: 0.9798 - CN_Recall: 0.9800 - MCI_Recall: 0.9878 - val_loss: 1.1212 - val_Accuracy: 0.8644 - val_AD_Precision: 0.9221 - val_CN_Precision: 0.8571 - val_MCI_Precision: 0.8550 - val_AD_Recall: 0.7245 - val_CN_Recall: 0.8408 - val_MCI_Recall: 0.9372\n",
            "Epoch 19/50\n",
            "1106/1106 [==============================] - 305s 276ms/step - loss: 0.0438 - Accuracy: 0.9837 - AD_Precision: 0.9835 - CN_Precision: 0.9836 - MCI_Precision: 0.9844 - AD_Recall: 0.9817 - CN_Recall: 0.9759 - MCI_Recall: 0.9881 - val_loss: 1.4713 - val_Accuracy: 0.8522 - val_AD_Precision: 0.9375 - val_CN_Precision: 0.8926 - val_MCI_Precision: 0.8114 - val_AD_Recall: 0.6122 - val_CN_Recall: 0.8471 - val_MCI_Recall: 0.9540\n",
            "Epoch 20/50\n",
            "1106/1106 [==============================] - 305s 276ms/step - loss: 0.0376 - Accuracy: 0.9865 - AD_Precision: 0.9868 - CN_Precision: 0.9852 - MCI_Precision: 0.9871 - AD_Recall: 0.9849 - CN_Recall: 0.9787 - MCI_Recall: 0.9906 - val_loss: 1.5109 - val_Accuracy: 0.8421 - val_AD_Precision: 0.8519 - val_CN_Precision: 0.7784 - val_MCI_Precision: 0.8943 - val_AD_Recall: 0.7041 - val_CN_Recall: 0.9172 - val_MCI_Recall: 0.8494\n",
            "Epoch 21/50\n",
            "1106/1106 [==============================] - 305s 276ms/step - loss: 0.0418 - Accuracy: 0.9835 - AD_Precision: 0.9821 - CN_Precision: 0.9833 - MCI_Precision: 0.9845 - AD_Recall: 0.9807 - CN_Recall: 0.9775 - MCI_Recall: 0.9873 - val_loss: 1.4654 - val_Accuracy: 0.8462 - val_AD_Precision: 0.8684 - val_CN_Precision: 0.9071 - val_MCI_Precision: 0.8152 - val_AD_Recall: 0.6735 - val_CN_Recall: 0.8089 - val_MCI_Recall: 0.9414\n",
            "Epoch 22/50\n",
            "1106/1106 [==============================] - 305s 276ms/step - loss: 0.0359 - Accuracy: 0.9863 - AD_Precision: 0.9854 - CN_Precision: 0.9846 - MCI_Precision: 0.9883 - AD_Recall: 0.9835 - CN_Recall: 0.9816 - MCI_Recall: 0.9897 - val_loss: 1.0997 - val_Accuracy: 0.8522 - val_AD_Precision: 0.8642 - val_CN_Precision: 0.8491 - val_MCI_Precision: 0.8504 - val_AD_Recall: 0.7143 - val_CN_Recall: 0.8599 - val_MCI_Recall: 0.9038\n",
            "Epoch 23/50\n",
            "1106/1106 [==============================] - 305s 276ms/step - loss: 0.0393 - Accuracy: 0.9847 - AD_Precision: 0.9826 - CN_Precision: 0.9831 - MCI_Precision: 0.9868 - AD_Recall: 0.9807 - CN_Recall: 0.9812 - MCI_Recall: 0.9880 - val_loss: 1.4957 - val_Accuracy: 0.8563 - val_AD_Precision: 0.9552 - val_CN_Precision: 0.8274 - val_MCI_Precision: 0.8527 - val_AD_Recall: 0.6531 - val_CN_Recall: 0.8854 - val_MCI_Recall: 0.9205\n",
            "Epoch 24/50\n",
            "1106/1106 [==============================] - 305s 276ms/step - loss: 0.0284 - Accuracy: 0.9885 - AD_Precision: 0.9863 - CN_Precision: 0.9906 - MCI_Precision: 0.9885 - AD_Recall: 0.9845 - CN_Recall: 0.9856 - MCI_Recall: 0.9916 - val_loss: 1.6938 - val_Accuracy: 0.8623 - val_AD_Precision: 0.9444 - val_CN_Precision: 0.8090 - val_MCI_Precision: 0.8770 - val_AD_Recall: 0.6939 - val_CN_Recall: 0.9172 - val_MCI_Recall: 0.8954\n",
            "Epoch 25/50\n",
            "1106/1106 [==============================] - 305s 276ms/step - loss: 0.0333 - Accuracy: 0.9880 - AD_Precision: 0.9854 - CN_Precision: 0.9896 - MCI_Precision: 0.9880 - AD_Recall: 0.9864 - CN_Recall: 0.9828 - MCI_Recall: 0.9915 - val_loss: 1.5598 - val_Accuracy: 0.8421 - val_AD_Precision: 0.9403 - val_CN_Precision: 0.8070 - val_MCI_Precision: 0.8398 - val_AD_Recall: 0.6429 - val_CN_Recall: 0.8790 - val_MCI_Recall: 0.8996\n",
            "Epoch 26/50\n",
            "1106/1106 [==============================] - 305s 276ms/step - loss: 0.0296 - Accuracy: 0.9889 - AD_Precision: 0.9915 - CN_Precision: 0.9896 - MCI_Precision: 0.9880 - AD_Recall: 0.9901 - CN_Recall: 0.9828 - MCI_Recall: 0.9916 - val_loss: 1.6837 - val_Accuracy: 0.8623 - val_AD_Precision: 0.9683 - val_CN_Precision: 0.8961 - val_MCI_Precision: 0.8188 - val_AD_Recall: 0.6224 - val_CN_Recall: 0.8790 - val_MCI_Recall: 0.9456\n",
            "Epoch 27/50\n",
            "1106/1106 [==============================] - 305s 276ms/step - loss: 0.0315 - Accuracy: 0.9881 - AD_Precision: 0.9882 - CN_Precision: 0.9874 - MCI_Precision: 0.9887 - AD_Recall: 0.9854 - CN_Recall: 0.9825 - MCI_Recall: 0.9913 - val_loss: 1.7154 - val_Accuracy: 0.8482 - val_AD_Precision: 0.9559 - val_CN_Precision: 0.8811 - val_MCI_Precision: 0.8085 - val_AD_Recall: 0.6633 - val_CN_Recall: 0.8025 - val_MCI_Recall: 0.9540\n",
            "Epoch 28/50\n",
            "1106/1106 [==============================] - 305s 276ms/step - loss: 0.0360 - Accuracy: 0.9871 - AD_Precision: 0.9882 - CN_Precision: 0.9862 - MCI_Precision: 0.9873 - AD_Recall: 0.9864 - CN_Recall: 0.9800 - MCI_Recall: 0.9908 - val_loss: 1.0741 - val_Accuracy: 0.8603 - val_AD_Precision: 0.8444 - val_CN_Precision: 0.8457 - val_MCI_Precision: 0.8833 - val_AD_Recall: 0.7755 - val_CN_Recall: 0.8726 - val_MCI_Recall: 0.8870\n",
            "Epoch 29/50\n",
            "1106/1106 [==============================] - 305s 275ms/step - loss: 0.0279 - Accuracy: 0.9896 - AD_Precision: 0.9896 - CN_Precision: 0.9918 - MCI_Precision: 0.9891 - AD_Recall: 0.9873 - CN_Recall: 0.9850 - MCI_Recall: 0.9929 - val_loss: 2.4883 - val_Accuracy: 0.8198 - val_AD_Precision: 1.0000 - val_CN_Precision: 0.8844 - val_MCI_Precision: 0.7667 - val_AD_Recall: 0.4592 - val_CN_Recall: 0.8280 - val_MCI_Recall: 0.9623\n",
            "Epoch 30/50\n",
            "1106/1106 [==============================] - 305s 276ms/step - loss: 0.0278 - Accuracy: 0.9901 - AD_Precision: 0.9906 - CN_Precision: 0.9906 - MCI_Precision: 0.9901 - AD_Recall: 0.9882 - CN_Recall: 0.9859 - MCI_Recall: 0.9930 - val_loss: 1.4224 - val_Accuracy: 0.8462 - val_AD_Precision: 0.9286 - val_CN_Precision: 0.8118 - val_MCI_Precision: 0.8465 - val_AD_Recall: 0.6633 - val_CN_Recall: 0.8790 - val_MCI_Recall: 0.8996\n",
            "Epoch 31/50\n",
            "1106/1106 [==============================] - 305s 276ms/step - loss: 0.0258 - Accuracy: 0.9898 - AD_Precision: 0.9920 - CN_Precision: 0.9909 - MCI_Precision: 0.9887 - AD_Recall: 0.9887 - CN_Recall: 0.9844 - MCI_Recall: 0.9929 - val_loss: 1.7071 - val_Accuracy: 0.8482 - val_AD_Precision: 0.9844 - val_CN_Precision: 0.7989 - val_MCI_Precision: 0.8477 - val_AD_Recall: 0.6429 - val_CN_Recall: 0.8854 - val_MCI_Recall: 0.9079\n",
            "Epoch 32/50\n",
            "1106/1106 [==============================] - 307s 278ms/step - loss: 0.0262 - Accuracy: 0.9901 - AD_Precision: 0.9901 - CN_Precision: 0.9903 - MCI_Precision: 0.9901 - AD_Recall: 0.9882 - CN_Recall: 0.9853 - MCI_Recall: 0.9932 - val_loss: 1.3864 - val_Accuracy: 0.8765 - val_AD_Precision: 0.9351 - val_CN_Precision: 0.8276 - val_MCI_Precision: 0.8930 - val_AD_Recall: 0.7347 - val_CN_Recall: 0.9172 - val_MCI_Recall: 0.9079\n",
            "Epoch 33/50\n",
            "1106/1106 [==============================] - 305s 276ms/step - loss: 0.0296 - Accuracy: 0.9899 - AD_Precision: 0.9920 - CN_Precision: 0.9906 - MCI_Precision: 0.9889 - AD_Recall: 0.9897 - CN_Recall: 0.9853 - MCI_Recall: 0.9925 - val_loss: 0.9439 - val_Accuracy: 0.8583 - val_AD_Precision: 0.8000 - val_CN_Precision: 0.8466 - val_MCI_Precision: 0.8898 - val_AD_Recall: 0.7755 - val_CN_Recall: 0.8790 - val_MCI_Recall: 0.8787\n",
            "Epoch 34/50\n",
            "1106/1106 [==============================] - 305s 276ms/step - loss: 0.0274 - Accuracy: 0.9907 - AD_Precision: 0.9911 - CN_Precision: 0.9899 - MCI_Precision: 0.9910 - AD_Recall: 0.9911 - CN_Recall: 0.9850 - MCI_Recall: 0.9935 - val_loss: 1.4392 - val_Accuracy: 0.8502 - val_AD_Precision: 0.9524 - val_CN_Precision: 0.8225 - val_MCI_Precision: 0.8423 - val_AD_Recall: 0.6122 - val_CN_Recall: 0.8854 - val_MCI_Recall: 0.9163\n",
            "Epoch 35/50\n",
            "1106/1106 [==============================] - 305s 276ms/step - loss: 0.0195 - Accuracy: 0.9920 - AD_Precision: 0.9934 - CN_Precision: 0.9928 - MCI_Precision: 0.9915 - AD_Recall: 0.9920 - CN_Recall: 0.9884 - MCI_Recall: 0.9937 - val_loss: 1.6302 - val_Accuracy: 0.8462 - val_AD_Precision: 0.9692 - val_CN_Precision: 0.8828 - val_MCI_Precision: 0.7986 - val_AD_Recall: 0.6429 - val_CN_Recall: 0.8153 - val_MCI_Recall: 0.9456\n",
            "Epoch 36/50\n",
            "1106/1106 [==============================] - 305s 276ms/step - loss: 0.0234 - Accuracy: 0.9910 - AD_Precision: 0.9906 - CN_Precision: 0.9924 - MCI_Precision: 0.9908 - AD_Recall: 0.9915 - CN_Recall: 0.9856 - MCI_Recall: 0.9937 - val_loss: 1.3111 - val_Accuracy: 0.8543 - val_AD_Precision: 0.8537 - val_CN_Precision: 0.8274 - val_MCI_Precision: 0.8730 - val_AD_Recall: 0.7143 - val_CN_Recall: 0.8854 - val_MCI_Recall: 0.8912\n",
            "Epoch 37/50\n",
            "1106/1106 [==============================] - 305s 276ms/step - loss: 0.0215 - Accuracy: 0.9913 - AD_Precision: 0.9934 - CN_Precision: 0.9890 - MCI_Precision: 0.9920 - AD_Recall: 0.9920 - CN_Recall: 0.9859 - MCI_Recall: 0.9937 - val_loss: 1.5872 - val_Accuracy: 0.8482 - val_AD_Precision: 0.9836 - val_CN_Precision: 0.8187 - val_MCI_Precision: 0.8391 - val_AD_Recall: 0.6122 - val_CN_Recall: 0.8917 - val_MCI_Recall: 0.9163\n",
            "Epoch 38/50\n",
            "1106/1106 [==============================] - 305s 276ms/step - loss: 0.0231 - Accuracy: 0.9904 - AD_Precision: 0.9916 - CN_Precision: 0.9896 - MCI_Precision: 0.9904 - AD_Recall: 0.9944 - CN_Recall: 0.9834 - MCI_Recall: 0.9929 - val_loss: 1.3132 - val_Accuracy: 0.8543 - val_AD_Precision: 0.8000 - val_CN_Precision: 0.8373 - val_MCI_Precision: 0.8884 - val_AD_Recall: 0.7755 - val_CN_Recall: 0.8854 - val_MCI_Recall: 0.8661\n",
            "Epoch 39/50\n",
            "1106/1106 [==============================] - 305s 276ms/step - loss: 0.0265 - Accuracy: 0.9909 - AD_Precision: 0.9901 - CN_Precision: 0.9915 - MCI_Precision: 0.9910 - AD_Recall: 0.9920 - CN_Recall: 0.9866 - MCI_Recall: 0.9929 - val_loss: 1.5207 - val_Accuracy: 0.8522 - val_AD_Precision: 0.9559 - val_CN_Precision: 0.8235 - val_MCI_Precision: 0.8471 - val_AD_Recall: 0.6633 - val_CN_Recall: 0.8917 - val_MCI_Recall: 0.9038\n",
            "Epoch 40/50\n",
            "1106/1106 [==============================] - 305s 276ms/step - loss: 0.0190 - Accuracy: 0.9923 - AD_Precision: 0.9948 - CN_Precision: 0.9921 - MCI_Precision: 0.9917 - AD_Recall: 0.9953 - CN_Recall: 0.9866 - MCI_Recall: 0.9942 - val_loss: 1.7588 - val_Accuracy: 0.8583 - val_AD_Precision: 0.9683 - val_CN_Precision: 0.9122 - val_MCI_Precision: 0.8057 - val_AD_Recall: 0.6224 - val_CN_Recall: 0.8599 - val_MCI_Recall: 0.9540\n",
            "Epoch 41/50\n",
            "1106/1106 [==============================] - 305s 276ms/step - loss: 0.0214 - Accuracy: 0.9921 - AD_Precision: 0.9915 - CN_Precision: 0.9934 - MCI_Precision: 0.9917 - AD_Recall: 0.9906 - CN_Recall: 0.9859 - MCI_Recall: 0.9956 - val_loss: 1.9109 - val_Accuracy: 0.8360 - val_AD_Precision: 0.9155 - val_CN_Precision: 0.7632 - val_MCI_Precision: 0.8712 - val_AD_Recall: 0.6633 - val_CN_Recall: 0.9236 - val_MCI_Recall: 0.8494\n",
            "Epoch 42/50\n",
            "1106/1106 [==============================] - 305s 276ms/step - loss: 0.0204 - Accuracy: 0.9923 - AD_Precision: 0.9925 - CN_Precision: 0.9931 - MCI_Precision: 0.9918 - AD_Recall: 0.9911 - CN_Recall: 0.9894 - MCI_Recall: 0.9941 - val_loss: 1.7171 - val_Accuracy: 0.8704 - val_AD_Precision: 0.9324 - val_CN_Precision: 0.8537 - val_MCI_Precision: 0.8633 - val_AD_Recall: 0.7041 - val_CN_Recall: 0.8917 - val_MCI_Recall: 0.9247\n",
            "Epoch 43/50\n",
            "1106/1106 [==============================] - 305s 276ms/step - loss: 0.0190 - Accuracy: 0.9930 - AD_Precision: 0.9925 - CN_Precision: 0.9937 - MCI_Precision: 0.9929 - AD_Recall: 0.9925 - CN_Recall: 0.9875 - MCI_Recall: 0.9962 - val_loss: 1.7212 - val_Accuracy: 0.8522 - val_AD_Precision: 0.8537 - val_CN_Precision: 0.8140 - val_MCI_Precision: 0.8792 - val_AD_Recall: 0.7143 - val_CN_Recall: 0.8917 - val_MCI_Recall: 0.8828\n",
            "Epoch 44/50\n",
            "1106/1106 [==============================] - 305s 276ms/step - loss: 0.0197 - Accuracy: 0.9934 - AD_Precision: 0.9944 - CN_Precision: 0.9943 - MCI_Precision: 0.9927 - AD_Recall: 0.9939 - CN_Recall: 0.9884 - MCI_Recall: 0.9960 - val_loss: 1.6680 - val_Accuracy: 0.8623 - val_AD_Precision: 0.9221 - val_CN_Precision: 0.8535 - val_MCI_Precision: 0.8500 - val_AD_Recall: 0.7245 - val_CN_Recall: 0.8535 - val_MCI_Recall: 0.9247\n",
            "Epoch 45/50\n",
            "1106/1106 [==============================] - 305s 276ms/step - loss: 0.0236 - Accuracy: 0.9923 - AD_Precision: 0.9920 - CN_Precision: 0.9928 - MCI_Precision: 0.9922 - AD_Recall: 0.9920 - CN_Recall: 0.9872 - MCI_Recall: 0.9953 - val_loss: 1.8109 - val_Accuracy: 0.8603 - val_AD_Precision: 0.9200 - val_CN_Precision: 0.8214 - val_MCI_Precision: 0.8685 - val_AD_Recall: 0.7041 - val_CN_Recall: 0.8790 - val_MCI_Recall: 0.9121\n",
            "Epoch 46/50\n",
            "1106/1106 [==============================] - 305s 276ms/step - loss: 0.0199 - Accuracy: 0.9926 - AD_Precision: 0.9902 - CN_Precision: 0.9940 - MCI_Precision: 0.9927 - AD_Recall: 0.9929 - CN_Recall: 0.9894 - MCI_Recall: 0.9942 - val_loss: 1.8164 - val_Accuracy: 0.8543 - val_AD_Precision: 0.9444 - val_CN_Precision: 0.7978 - val_MCI_Precision: 0.8689 - val_AD_Recall: 0.6939 - val_CN_Recall: 0.9045 - val_MCI_Recall: 0.8870\n",
            "Epoch 47/50\n",
            "1106/1106 [==============================] - 305s 276ms/step - loss: 0.0202 - Accuracy: 0.9930 - AD_Precision: 0.9925 - CN_Precision: 0.9947 - MCI_Precision: 0.9924 - AD_Recall: 0.9920 - CN_Recall: 0.9887 - MCI_Recall: 0.9956 - val_loss: 1.7363 - val_Accuracy: 0.8704 - val_AD_Precision: 0.9444 - val_CN_Precision: 0.9116 - val_MCI_Precision: 0.8291 - val_AD_Recall: 0.6939 - val_CN_Recall: 0.8535 - val_MCI_Recall: 0.9540\n",
            "Epoch 48/50\n",
            "1106/1106 [==============================] - 307s 278ms/step - loss: 0.0199 - Accuracy: 0.9930 - AD_Precision: 0.9930 - CN_Precision: 0.9931 - MCI_Precision: 0.9930 - AD_Recall: 0.9944 - CN_Recall: 0.9884 - MCI_Recall: 0.9949 - val_loss: 1.4716 - val_Accuracy: 0.8826 - val_AD_Precision: 0.9259 - val_CN_Precision: 0.8820 - val_MCI_Precision: 0.8690 - val_AD_Recall: 0.7653 - val_CN_Recall: 0.9045 - val_MCI_Recall: 0.9163\n",
            "Epoch 49/50\n",
            "1106/1106 [==============================] - 305s 276ms/step - loss: 0.0194 - Accuracy: 0.9932 - AD_Precision: 0.9948 - CN_Precision: 0.9934 - MCI_Precision: 0.9925 - AD_Recall: 0.9929 - CN_Recall: 0.9884 - MCI_Recall: 0.9960 - val_loss: 1.8494 - val_Accuracy: 0.8462 - val_AD_Precision: 0.9429 - val_CN_Precision: 0.9058 - val_MCI_Precision: 0.7965 - val_AD_Recall: 0.6735 - val_CN_Recall: 0.7962 - val_MCI_Recall: 0.9498\n",
            "Epoch 50/50\n",
            "1106/1106 [==============================] - 305s 276ms/step - loss: 0.0151 - Accuracy: 0.9936 - AD_Precision: 0.9953 - CN_Precision: 0.9934 - MCI_Precision: 0.9930 - AD_Recall: 0.9958 - CN_Recall: 0.9894 - MCI_Recall: 0.9946 - val_loss: 2.0671 - val_Accuracy: 0.8502 - val_AD_Precision: 0.9221 - val_CN_Precision: 0.8811 - val_MCI_Precision: 0.8139 - val_AD_Recall: 0.7245 - val_CN_Recall: 0.8025 - val_MCI_Recall: 0.9331\n"
          ]
        }
      ],
      "source": [
        "savepath = 'models'\n",
        "lr=0.0001\n",
        "if not os.path.isdir(savepath):\n",
        "      os.makedirs(savepath)\n",
        "csvloger_callback = tf.keras.callbacks.CSVLogger(f'{savepath}history.csv', separator=',', append=False)\n",
        "\n",
        "modelcheckpoint_callback = tf.keras.callbacks.ModelCheckpoint(savepath+'inceptionv3_row_10E-5_weights-epoch:{epoch:03d}-val_Accuracy:{val_Accuracy:.4f}.h5',monitor='val_Accuracy'\n",
        "    ,verbose=0,save_best_only=True,save_weights_only=True,mode='max',save_freq='epoch' , initial_value_threshold=0.85)\n",
        "\n",
        "OPT = tf.keras.optimizers.Adam(learning_rate=lr)\n",
        "model03 = inceptionv3_row(OPT, LOOS,METRICS,image_Shape)\n",
        "history03 = model03.fit(training_image_datagen, epochs=EPOCH, validation_data=testing_image_datagen,callbacks=[csvloger_callback,modelcheckpoint_callback])\n",
        "model03 = inceptionv3_row(OPT, LOOS,METRICS,image_Shape)\n",
        "model03.load_weights(glob.glob(f\"{savepath}inceptionv3_row_10E-5_weights-epoch:*-val_Accuracy:{max(history03.history['val_Accuracy']):.4f}.h5\")[0])"
      ],
      "id": "fde0b2e3-1b4d-407a-9f8d-a9f23f7873a1"
    },
    {
      "cell_type": "code",
      "source": [],
      "metadata": {
        "id": "7QsWe0M2nBYL"
      },
      "id": "7QsWe0M2nBYL",
      "execution_count": null,
      "outputs": []
    },
    {
      "cell_type": "code",
      "execution_count": null,
      "metadata": {
        "tags": [],
        "id": "199fa68d-df51-4e93-b168-1c9fa0876620",
        "outputId": "8bd15b22-0f50-4857-e73c-62544d07bc69"
      },
      "outputs": [
        {
          "name": "stdout",
          "output_type": "stream",
          "text": [
            "              precision    recall  f1-score   support\n",
            "\n",
            "          AD       0.93      0.77      0.84        98\n",
            "          CN       0.88      0.90      0.89       157\n",
            "         MCI       0.87      0.92      0.89       239\n",
            "\n",
            "    accuracy                           0.88       494\n",
            "   macro avg       0.89      0.86      0.87       494\n",
            "weighted avg       0.88      0.88      0.88       494\n",
            "\n"
          ]
        },
        {
          "data": {
            "image/png": "[encoded data removed]",
            "text/plain": [
              "<Figure size 432x288 with 2 Axes>"
            ]
          },
          "metadata": {
            "needs_background": "light"
          },
          "output_type": "display_data"
        }
      ],
      "source": [
        "model03.save(f\"{savepath}/inceptionv3aug_50_0.00001.h5\")\n",
        "p3 = model03.predict(testing_image_datagen)\n",
        "predicted_lab = p3.argmax(axis=-1)\n",
        "true_lab = testing_image_datagen.classes\n",
        "plot_confusion_matrix(true_lab, predicted_lab, testing_image_datagen.class_indices.keys(),savepath)\n",
        "report = classification_report(true_lab, predicted_lab, target_names=testing_image_datagen.class_indices.keys())\n",
        "print(report)\n",
        "dump_text(report,f'{savepath}classification_report.txt')\n",
        "np.save(\"inceptionv3aug_50_0.00001.npy\",p3 )"
      ],
      "id": "199fa68d-df51-4e93-b168-1c9fa0876620"
    },
    {
      "cell_type": "code",
      "execution_count": null,
      "id": "071f4f99-2638-4087-aad7-804b2bc65fb9",
      "metadata": {
        "id": "071f4f99-2638-4087-aad7-804b2bc65fb9"
      },
      "outputs": [],
      "source": [
        "def xception_row(optimizer, loss, metrics, shape):\n",
        "    image_input = tf.keras.applications.Xception(include_top=False, weights='imagenet', input_shape=shape)  # Change model to Xception\n",
        "\n",
        "    for layer in image_input.layers:\n",
        "        layer.trainable = False\n",
        "        layer._name = layer._name + str('_img')\n",
        "\n",
        "    y = Flatten()(image_input.output)\n",
        "    c = Dropout(0.4)(y)\n",
        "    c = Dense(512)(c)\n",
        "    c = Dense(256)(c)\n",
        "    c = Dense(128)(c)\n",
        "    output_layer = Dense(3, activation='softmax')(c)\n",
        "\n",
        "    model = Model(inputs=image_input.input, outputs=output_layer)\n",
        "    model.compile(optimizer=optimizer, loss=loss, metrics=metrics)\n",
        "    return model"
      ]
    },
    {
      "cell_type": "code",
      "execution_count": null,
      "id": "97e77b87-2659-4e4a-b341-8300a75b90b9",
      "metadata": {
        "tags": [],
        "id": "97e77b87-2659-4e4a-b341-8300a75b90b9"
      },
      "outputs": [],
      "source": [
        "def plot_confusion_matrix(true_lab,predict_lab,classes,path):\n",
        "  matrix_confusion = tf.math.confusion_matrix(labels=true_lab, predictions=predicted_lab, num_classes=len(classes))\n",
        "  ax = plt.subplot()\n",
        "  sns.heatmap(matrix_confusion, square=True, annot=True, cmap='Blues', fmt='d', cbar=True)\n",
        "  ax.set_xlabel('Predicted labels')\n",
        "  ax.set_ylabel('True labels')\n",
        "  ax.set_title('Confusion Matrix')\n",
        "  ax.xaxis.set_ticklabels(classes)\n",
        "  ax.yaxis.set_ticklabels(classes)\n",
        "  plt.savefig(f'{path}confusion_matrix.png')\n"
      ]
    },
    {
      "cell_type": "code",
      "execution_count": null,
      "id": "f8c3dd4e-37ef-4a4c-85d7-17e3ed4e13b0",
      "metadata": {
        "tags": [],
        "id": "f8c3dd4e-37ef-4a4c-85d7-17e3ed4e13b0"
      },
      "outputs": [],
      "source": [
        "def dump_text(text,path):\n",
        "  text_file = open(path, \"w\")\n",
        "  text_file.write(text)\n",
        "  text_file.close()"
      ]
    },
    {
      "cell_type": "code",
      "execution_count": null,
      "id": "82d2f4dc-7313-48a5-8a1d-0ec744f580b5",
      "metadata": {
        "tags": [],
        "id": "82d2f4dc-7313-48a5-8a1d-0ec744f580b5",
        "outputId": "29c277ce-9efc-40ed-c5a0-3c4c13822fb9"
      },
      "outputs": [
        {
          "name": "stderr",
          "output_type": "stream",
          "text": [
            "2024-03-23 18:44:25.198641: I tensorflow/core/common_runtime/gpu/gpu_device.cc:1525] Created device /job:localhost/replica:0/task:0/device:GPU:0 with 9629 MB memory:  -> device: 0, name: NVIDIA GeForce RTX 2080 Ti, pci bus id: 0000:da:00.0, compute capability: 7.5\n"
          ]
        }
      ],
      "source": [
        "config = tf.compat.v1.ConfigProto()\n",
        "config.gpu_options.allow_growth = True\n",
        "session = tf.compat.v1.Session(config=config)\n"
      ]
    },
    {
      "cell_type": "code",
      "execution_count": null,
      "id": "75c278a2-5645-4512-bc1d-cfe5f3d3babd",
      "metadata": {
        "tags": [],
        "id": "75c278a2-5645-4512-bc1d-cfe5f3d3babd",
        "outputId": "523bb2e1-c4c6-49c7-fdf4-5e233c0dfef7"
      },
      "outputs": [
        {
          "name": "stdout",
          "output_type": "stream",
          "text": [
            "Found 11059 images belonging to 3 classes.\n",
            "Found 494 images belonging to 3 classes.\n"
          ]
        }
      ],
      "source": [
        "image_Shape=(436,364,3)\n",
        "training_image_datagen = ImageDataGenerator(horizontal_flip=True).flow_from_directory(\n",
        "                                                  directory=f'{root}/training/',\n",
        "                                                  target_size=(image_Shape[0], image_Shape[1]),\n",
        "                                                  class_mode='categorical',\n",
        "                                                  batch_size=4\n",
        "                                                  )\n",
        "\n",
        "testing_image_datagen = ImageDataGenerator().flow_from_directory(\n",
        "                                                  directory = f'{root}/testing/' ,\n",
        "                                                  target_size = (image_Shape[0] ,image_Shape[1]) ,\n",
        "                                                  class_mode = 'categorical' ,\n",
        "                                                  batch_size=1 ,\n",
        "                                                  shuffle = False\n",
        "                                                  )"
      ]
    },
    {
      "cell_type": "code",
      "execution_count": null,
      "id": "19fa7a4c-1f45-4144-ab33-d53fa1b2ec36",
      "metadata": {
        "tags": [],
        "id": "19fa7a4c-1f45-4144-ab33-d53fa1b2ec36"
      },
      "outputs": [],
      "source": [
        "EPOCH = 50\n",
        "METRICS = [\n",
        "    tf.keras.metrics.CategoricalAccuracy(name='Accuracy'),\n",
        "    tf.keras.metrics.Precision(name='AD_Precision',class_id=0),\n",
        "    tf.keras.metrics.Precision(name='CN_Precision',class_id=1),\n",
        "    tf.keras.metrics.Precision(name='MCI_Precision',class_id=2),\n",
        "    tf.keras.metrics.Recall(name='AD_Recall',class_id=0),\n",
        "    tf.keras.metrics.Recall(name='CN_Recall',class_id=1),\n",
        "    tf.keras.metrics.Recall(name='MCI_Recall',class_id=2),\n",
        "    ]\n",
        "LOOS = 'categorical_crossentropy'"
      ]
    },
    {
      "cell_type": "code",
      "execution_count": null,
      "id": "c6cd8964-f974-466e-bf9c-a23a67611098",
      "metadata": {
        "tags": [],
        "id": "c6cd8964-f974-466e-bf9c-a23a67611098",
        "outputId": "26358786-5577-41f2-8ee3-a830e95118d0"
      },
      "outputs": [
        {
          "name": "stdout",
          "output_type": "stream",
          "text": [
            "Epoch 1/50\n"
          ]
        },
        {
          "name": "stderr",
          "output_type": "stream",
          "text": [
            "2024-03-25 10:47:33.983816: I tensorflow/stream_executor/cuda/cuda_dnn.cc:366] Loaded cuDNN version 8201\n"
          ]
        },
        {
          "name": "stdout",
          "output_type": "stream",
          "text": [
            "692/692 [==============================] - 242s 343ms/step - loss: 7.6349 - Accuracy: 0.4059 - AD_Precision: 0.2150 - CN_Precision: 0.3108 - MCI_Precision: 0.5275 - AD_Recall: 0.2150 - CN_Recall: 0.3027 - MCI_Recall: 0.5304 - val_loss: 4.2425 - val_Accuracy: 0.4676 - val_AD_Precision: 0.2034 - val_CN_Precision: 0.4786 - val_MCI_Precision: 0.5140 - val_AD_Recall: 0.1224 - val_CN_Recall: 0.4268 - val_MCI_Recall: 0.6151\n",
            "Epoch 2/50\n",
            "692/692 [==============================] - 85s 123ms/step - loss: 6.5513 - Accuracy: 0.4216 - AD_Precision: 0.2180 - CN_Precision: 0.3382 - MCI_Precision: 0.5423 - AD_Recall: 0.2168 - CN_Recall: 0.3333 - MCI_Recall: 0.5435 - val_loss: 5.4394 - val_Accuracy: 0.4838 - val_AD_Precision: 0.2222 - val_CN_Precision: 0.5000 - val_MCI_Precision: 0.4932 - val_AD_Recall: 0.0408 - val_CN_Recall: 0.1083 - val_MCI_Recall: 0.9121\n",
            "Epoch 3/50\n",
            "692/692 [==============================] - 85s 122ms/step - loss: 5.8963 - Accuracy: 0.4294 - AD_Precision: 0.2332 - CN_Precision: 0.3370 - MCI_Precision: 0.5529 - AD_Recall: 0.2300 - CN_Recall: 0.3333 - MCI_Recall: 0.5538 - val_loss: 4.2957 - val_Accuracy: 0.5243 - val_AD_Precision: 0.6667 - val_CN_Precision: 0.5041 - val_MCI_Precision: 0.5297 - val_AD_Recall: 0.0204 - val_CN_Recall: 0.3885 - val_MCI_Recall: 0.8201\n",
            "Epoch 4/50\n",
            "692/692 [==============================] - 83s 119ms/step - loss: 5.4059 - Accuracy: 0.4414 - AD_Precision: 0.2424 - CN_Precision: 0.3610 - MCI_Precision: 0.5577 - AD_Recall: 0.2357 - CN_Recall: 0.3562 - MCI_Recall: 0.5611 - val_loss: 3.9683 - val_Accuracy: 0.4737 - val_AD_Precision: 0.2500 - val_CN_Precision: 0.4049 - val_MCI_Precision: 0.5157 - val_AD_Recall: 0.0306 - val_CN_Recall: 0.4204 - val_MCI_Recall: 0.6862\n",
            "Epoch 5/50\n",
            "692/692 [==============================] - 84s 122ms/step - loss: 4.8821 - Accuracy: 0.4628 - AD_Precision: 0.2620 - CN_Precision: 0.3909 - MCI_Precision: 0.5770 - AD_Recall: 0.2568 - CN_Recall: 0.3859 - MCI_Recall: 0.5772 - val_loss: 4.9741 - val_Accuracy: 0.5344 - val_AD_Precision: 0.0000e+00 - val_CN_Precision: 0.5364 - val_MCI_Precision: 0.5339 - val_AD_Recall: 0.0000e+00 - val_CN_Recall: 0.3758 - val_MCI_Recall: 0.8577\n",
            "Epoch 6/50\n",
            "692/692 [==============================] - 82s 119ms/step - loss: 4.4263 - Accuracy: 0.4723 - AD_Precision: 0.2843 - CN_Precision: 0.3918 - MCI_Precision: 0.5865 - AD_Recall: 0.2742 - CN_Recall: 0.3856 - MCI_Recall: 0.5885 - val_loss: 3.7650 - val_Accuracy: 0.5162 - val_AD_Precision: 1.0000 - val_CN_Precision: 0.4370 - val_MCI_Precision: 0.5833 - val_AD_Recall: 0.0306 - val_CN_Recall: 0.6624 - val_MCI_Recall: 0.6151\n",
            "Epoch 7/50\n",
            "692/692 [==============================] - 82s 119ms/step - loss: 4.1550 - Accuracy: 0.4717 - AD_Precision: 0.2826 - CN_Precision: 0.3984 - MCI_Precision: 0.5840 - AD_Recall: 0.2742 - CN_Recall: 0.3937 - MCI_Recall: 0.5840 - val_loss: 3.7346 - val_Accuracy: 0.5101 - val_AD_Precision: 0.3061 - val_CN_Precision: 0.5652 - val_MCI_Precision: 0.5412 - val_AD_Recall: 0.1531 - val_CN_Recall: 0.2484 - val_MCI_Recall: 0.8243\n",
            "Epoch 8/50\n",
            "692/692 [==============================] - 83s 119ms/step - loss: 3.7558 - Accuracy: 0.4930 - AD_Precision: 0.2994 - CN_Precision: 0.4192 - MCI_Precision: 0.6041 - AD_Recall: 0.2874 - CN_Recall: 0.4156 - MCI_Recall: 0.6065 - val_loss: 2.1329 - val_Accuracy: 0.4818 - val_AD_Precision: 0.2812 - val_CN_Precision: 0.4868 - val_MCI_Precision: 0.6244 - val_AD_Recall: 0.3673 - val_CN_Recall: 0.4713 - val_MCI_Recall: 0.5146\n",
            "Epoch 9/50\n",
            "692/692 [==============================] - 85s 122ms/step - loss: 3.5405 - Accuracy: 0.4928 - AD_Precision: 0.3152 - CN_Precision: 0.4182 - MCI_Precision: 0.6003 - AD_Recall: 0.3029 - CN_Recall: 0.4106 - MCI_Recall: 0.6021 - val_loss: 2.7232 - val_Accuracy: 0.5425 - val_AD_Precision: 0.3846 - val_CN_Precision: 0.5357 - val_MCI_Precision: 0.5522 - val_AD_Recall: 0.0510 - val_CN_Recall: 0.3822 - val_MCI_Recall: 0.8410\n",
            "Epoch 10/50\n",
            "692/692 [==============================] - 84s 122ms/step - loss: 3.2779 - Accuracy: 0.5075 - AD_Precision: 0.3199 - CN_Precision: 0.4447 - MCI_Precision: 0.6104 - AD_Recall: 0.3057 - CN_Recall: 0.4353 - MCI_Recall: 0.6138 - val_loss: 4.0051 - val_Accuracy: 0.5445 - val_AD_Precision: 0.2500 - val_CN_Precision: 0.5276 - val_MCI_Precision: 0.5512 - val_AD_Recall: 0.0102 - val_CN_Recall: 0.4268 - val_MCI_Recall: 0.8326\n",
            "Epoch 11/50\n",
            "692/692 [==============================] - 82s 119ms/step - loss: 3.1872 - Accuracy: 0.5053 - AD_Precision: 0.3260 - CN_Precision: 0.4301 - MCI_Precision: 0.6128 - AD_Recall: 0.3151 - CN_Recall: 0.4212 - MCI_Recall: 0.6152 - val_loss: 3.1823 - val_Accuracy: 0.5040 - val_AD_Precision: 0.2400 - val_CN_Precision: 0.5932 - val_MCI_Precision: 0.5476 - val_AD_Recall: 0.1837 - val_CN_Recall: 0.2229 - val_MCI_Recall: 0.7950\n",
            "Epoch 12/50\n",
            "692/692 [==============================] - 82s 119ms/step - loss: 3.0067 - Accuracy: 0.5137 - AD_Precision: 0.3369 - CN_Precision: 0.4477 - MCI_Precision: 0.6172 - AD_Recall: 0.3278 - CN_Recall: 0.4375 - MCI_Recall: 0.6174 - val_loss: 2.6943 - val_Accuracy: 0.5283 - val_AD_Precision: 0.4667 - val_CN_Precision: 0.4596 - val_MCI_Precision: 0.6143 - val_AD_Recall: 0.1429 - val_CN_Recall: 0.6879 - val_MCI_Recall: 0.5732\n",
            "Epoch 13/50\n",
            "692/692 [==============================] - 83s 119ms/step - loss: 2.7383 - Accuracy: 0.5239 - AD_Precision: 0.3551 - CN_Precision: 0.4581 - MCI_Precision: 0.6246 - AD_Recall: 0.3401 - CN_Recall: 0.4497 - MCI_Recall: 0.6249 - val_loss: 2.1334 - val_Accuracy: 0.5344 - val_AD_Precision: 0.7000 - val_CN_Precision: 0.4480 - val_MCI_Precision: 0.6464 - val_AD_Recall: 0.1429 - val_CN_Recall: 0.7962 - val_MCI_Recall: 0.4895\n",
            "Epoch 14/50\n",
            "692/692 [==============================] - 85s 122ms/step - loss: 2.6499 - Accuracy: 0.5330 - AD_Precision: 0.3630 - CN_Precision: 0.4671 - MCI_Precision: 0.6339 - AD_Recall: 0.3476 - CN_Recall: 0.4565 - MCI_Recall: 0.6345 - val_loss: 2.1793 - val_Accuracy: 0.5567 - val_AD_Precision: 1.0000 - val_CN_Precision: 0.5024 - val_MCI_Precision: 0.5978 - val_AD_Recall: 0.0408 - val_CN_Recall: 0.6561 - val_MCI_Recall: 0.6904\n",
            "Epoch 15/50\n",
            "692/692 [==============================] - 85s 122ms/step - loss: 2.5061 - Accuracy: 0.5426 - AD_Precision: 0.3761 - CN_Precision: 0.4897 - MCI_Precision: 0.6357 - AD_Recall: 0.3556 - CN_Recall: 0.4775 - MCI_Recall: 0.6387 - val_loss: 2.6954 - val_Accuracy: 0.5870 - val_AD_Precision: 0.5312 - val_CN_Precision: 0.5982 - val_MCI_Precision: 0.5982 - val_AD_Recall: 0.1735 - val_CN_Recall: 0.4268 - val_MCI_Recall: 0.8410\n",
            "Epoch 16/50\n",
            "692/692 [==============================] - 82s 119ms/step - loss: 2.3462 - Accuracy: 0.5442 - AD_Precision: 0.3746 - CN_Precision: 0.4919 - MCI_Precision: 0.6375 - AD_Recall: 0.3542 - CN_Recall: 0.4772 - MCI_Recall: 0.6384 - val_loss: 2.6958 - val_Accuracy: 0.4777 - val_AD_Precision: 0.7143 - val_CN_Precision: 0.4018 - val_MCI_Precision: 0.6312 - val_AD_Recall: 0.1531 - val_CN_Recall: 0.8344 - val_MCI_Recall: 0.3724\n",
            "Epoch 17/50\n",
            "692/692 [==============================] - 83s 119ms/step - loss: 2.3156 - Accuracy: 0.5519 - AD_Precision: 0.3970 - CN_Precision: 0.4879 - MCI_Precision: 0.6457 - AD_Recall: 0.3735 - CN_Recall: 0.4722 - MCI_Recall: 0.6509 - val_loss: 2.4573 - val_Accuracy: 0.4656 - val_AD_Precision: 0.3361 - val_CN_Precision: 0.4484 - val_MCI_Precision: 0.6476 - val_AD_Recall: 0.4082 - val_CN_Recall: 0.7197 - val_MCI_Recall: 0.2845\n",
            "Epoch 18/50\n",
            "692/692 [==============================] - 82s 119ms/step - loss: 2.1769 - Accuracy: 0.5654 - AD_Precision: 0.3990 - CN_Precision: 0.5127 - MCI_Precision: 0.6581 - AD_Recall: 0.3735 - CN_Recall: 0.4978 - MCI_Recall: 0.6624 - val_loss: 1.8569 - val_Accuracy: 0.5121 - val_AD_Precision: 0.3824 - val_CN_Precision: 0.4876 - val_MCI_Precision: 0.6416 - val_AD_Recall: 0.3980 - val_CN_Recall: 0.6242 - val_MCI_Recall: 0.4644\n",
            "Epoch 19/50\n",
            "692/692 [==============================] - 82s 119ms/step - loss: 2.1605 - Accuracy: 0.5619 - AD_Precision: 0.4060 - CN_Precision: 0.5119 - MCI_Precision: 0.6519 - AD_Recall: 0.3899 - CN_Recall: 0.4897 - MCI_Recall: 0.6551 - val_loss: 2.8538 - val_Accuracy: 0.5587 - val_AD_Precision: 0.5556 - val_CN_Precision: 0.4977 - val_MCI_Precision: 0.6059 - val_AD_Recall: 0.0510 - val_CN_Recall: 0.6752 - val_MCI_Recall: 0.6820\n",
            "Epoch 20/50\n",
            "692/692 [==============================] - 82s 119ms/step - loss: 2.0961 - Accuracy: 0.5694 - AD_Precision: 0.4283 - CN_Precision: 0.5047 - MCI_Precision: 0.6603 - AD_Recall: 0.4017 - CN_Recall: 0.4853 - MCI_Recall: 0.6650 - val_loss: 1.8004 - val_Accuracy: 0.5648 - val_AD_Precision: 0.6216 - val_CN_Precision: 0.4854 - val_MCI_Precision: 0.6426 - val_AD_Recall: 0.2347 - val_CN_Recall: 0.6369 - val_MCI_Recall: 0.6318\n",
            "Epoch 21/50\n",
            "692/692 [==============================] - 82s 119ms/step - loss: 1.9218 - Accuracy: 0.5763 - AD_Precision: 0.4188 - CN_Precision: 0.5233 - MCI_Precision: 0.6676 - AD_Recall: 0.3989 - CN_Recall: 0.5028 - MCI_Recall: 0.6711 - val_loss: 2.4037 - val_Accuracy: 0.4919 - val_AD_Precision: 0.3762 - val_CN_Precision: 0.4630 - val_MCI_Precision: 0.7184 - val_AD_Recall: 0.3878 - val_CN_Recall: 0.7962 - val_MCI_Recall: 0.3096\n",
            "Epoch 22/50\n",
            "692/692 [==============================] - 82s 119ms/step - loss: 1.8611 - Accuracy: 0.5924 - AD_Precision: 0.4533 - CN_Precision: 0.5446 - MCI_Precision: 0.6768 - AD_Recall: 0.4271 - CN_Recall: 0.5313 - MCI_Recall: 0.6734 - val_loss: 3.0923 - val_Accuracy: 0.5304 - val_AD_Precision: 0.4318 - val_CN_Precision: 0.8000 - val_MCI_Precision: 0.5308 - val_AD_Recall: 0.1939 - val_CN_Recall: 0.1019 - val_MCI_Recall: 0.9372\n",
            "Epoch 23/50\n",
            "692/692 [==============================] - 82s 119ms/step - loss: 1.8653 - Accuracy: 0.5856 - AD_Precision: 0.4350 - CN_Precision: 0.5402 - MCI_Precision: 0.6704 - AD_Recall: 0.4064 - CN_Recall: 0.5184 - MCI_Recall: 0.6750 - val_loss: 1.8893 - val_Accuracy: 0.5628 - val_AD_Precision: 0.4054 - val_CN_Precision: 0.5543 - val_MCI_Precision: 0.7029 - val_AD_Recall: 0.4592 - val_CN_Recall: 0.6497 - val_MCI_Recall: 0.5146\n",
            "Epoch 24/50\n",
            "692/692 [==============================] - 85s 123ms/step - loss: 1.7949 - Accuracy: 0.5956 - AD_Precision: 0.4687 - CN_Precision: 0.5436 - MCI_Precision: 0.6767 - AD_Recall: 0.4370 - CN_Recall: 0.5203 - MCI_Recall: 0.6837 - val_loss: 2.4427 - val_Accuracy: 0.5972 - val_AD_Precision: 0.6875 - val_CN_Precision: 0.6505 - val_MCI_Precision: 0.5799 - val_AD_Recall: 0.1122 - val_CN_Recall: 0.4268 - val_MCI_Recall: 0.8954\n",
            "Epoch 25/50\n",
            "692/692 [==============================] - 83s 119ms/step - loss: 1.6916 - Accuracy: 0.6063 - AD_Precision: 0.4778 - CN_Precision: 0.5536 - MCI_Precision: 0.6891 - AD_Recall: 0.4454 - CN_Recall: 0.5363 - MCI_Recall: 0.6886 - val_loss: 3.0188 - val_Accuracy: 0.4656 - val_AD_Precision: 0.4853 - val_CN_Precision: 0.4057 - val_MCI_Precision: 0.7846 - val_AD_Recall: 0.3367 - val_CN_Recall: 0.9045 - val_MCI_Recall: 0.2134\n",
            "Epoch 26/50\n",
            "692/692 [==============================] - 85s 122ms/step - loss: 1.7253 - Accuracy: 0.6043 - AD_Precision: 0.4754 - CN_Precision: 0.5565 - MCI_Precision: 0.6829 - AD_Recall: 0.4403 - CN_Recall: 0.5328 - MCI_Recall: 0.6879 - val_loss: 2.3250 - val_Accuracy: 0.5992 - val_AD_Precision: 0.6346 - val_CN_Precision: 0.5271 - val_MCI_Precision: 0.6652 - val_AD_Recall: 0.3367 - val_CN_Recall: 0.6815 - val_MCI_Recall: 0.6318\n",
            "Epoch 27/50\n",
            "692/692 [==============================] - 83s 120ms/step - loss: 1.7011 - Accuracy: 0.6122 - AD_Precision: 0.4751 - CN_Precision: 0.5685 - MCI_Precision: 0.6925 - AD_Recall: 0.4403 - CN_Recall: 0.5463 - MCI_Recall: 0.6935 - val_loss: 1.7167 - val_Accuracy: 0.5850 - val_AD_Precision: 0.8667 - val_CN_Precision: 0.5000 - val_MCI_Precision: 0.6730 - val_AD_Recall: 0.1327 - val_CN_Recall: 0.8280 - val_MCI_Recall: 0.5941\n",
            "Epoch 28/50\n",
            "692/692 [==============================] - 83s 119ms/step - loss: 1.6329 - Accuracy: 0.6143 - AD_Precision: 0.5013 - CN_Precision: 0.5606 - MCI_Precision: 0.6906 - AD_Recall: 0.4671 - CN_Recall: 0.5438 - MCI_Recall: 0.6912 - val_loss: 2.3562 - val_Accuracy: 0.5344 - val_AD_Precision: 0.3673 - val_CN_Precision: 0.5963 - val_MCI_Precision: 0.6368 - val_AD_Recall: 0.5510 - val_CN_Recall: 0.4140 - val_MCI_Recall: 0.5649\n",
            "Epoch 29/50\n",
            "692/692 [==============================] - 83s 120ms/step - loss: 1.5622 - Accuracy: 0.6251 - AD_Precision: 0.5005 - CN_Precision: 0.5738 - MCI_Precision: 0.7069 - AD_Recall: 0.4605 - CN_Recall: 0.5553 - MCI_Recall: 0.7078 - val_loss: 1.5878 - val_Accuracy: 0.5972 - val_AD_Precision: 0.6667 - val_CN_Precision: 0.5890 - val_MCI_Precision: 0.6086 - val_AD_Recall: 0.2245 - val_CN_Recall: 0.5478 - val_MCI_Recall: 0.7741\n",
            "Epoch 30/50\n",
            "692/692 [==============================] - 83s 119ms/step - loss: 1.5161 - Accuracy: 0.6206 - AD_Precision: 0.5046 - CN_Precision: 0.5692 - MCI_Precision: 0.6977 - AD_Recall: 0.4671 - CN_Recall: 0.5453 - MCI_Recall: 0.7027 - val_loss: 2.0485 - val_Accuracy: 0.5830 - val_AD_Precision: 0.5185 - val_CN_Precision: 0.5297 - val_MCI_Precision: 0.6636 - val_AD_Recall: 0.2857 - val_CN_Recall: 0.6815 - val_MCI_Recall: 0.6109\n",
            "Epoch 31/50\n",
            "692/692 [==============================] - 83s 120ms/step - loss: 1.4784 - Accuracy: 0.6299 - AD_Precision: 0.5051 - CN_Precision: 0.5873 - MCI_Precision: 0.7042 - AD_Recall: 0.4685 - CN_Recall: 0.5704 - MCI_Recall: 0.7031 - val_loss: 3.0602 - val_Accuracy: 0.5304 - val_AD_Precision: 1.0000 - val_CN_Precision: 0.7500 - val_MCI_Precision: 0.5153 - val_AD_Recall: 0.0204 - val_CN_Recall: 0.1529 - val_MCI_Recall: 0.9874\n",
            "Epoch 32/50\n",
            "692/692 [==============================] - 83s 119ms/step - loss: 1.4060 - Accuracy: 0.6321 - AD_Precision: 0.5208 - CN_Precision: 0.5851 - MCI_Precision: 0.7072 - AD_Recall: 0.4831 - CN_Recall: 0.5635 - MCI_Recall: 0.7093 - val_loss: 2.5781 - val_Accuracy: 0.5466 - val_AD_Precision: 0.6486 - val_CN_Precision: 0.4613 - val_MCI_Precision: 0.7075 - val_AD_Recall: 0.2449 - val_CN_Recall: 0.8726 - val_MCI_Recall: 0.4351\n",
            "Epoch 33/50\n",
            "692/692 [==============================] - 85s 122ms/step - loss: 1.4757 - Accuracy: 0.6369 - AD_Precision: 0.4959 - CN_Precision: 0.6023 - MCI_Precision: 0.7150 - AD_Recall: 0.4553 - CN_Recall: 0.5797 - MCI_Recall: 0.7179 - val_loss: 2.1303 - val_Accuracy: 0.6113 - val_AD_Precision: 0.6923 - val_CN_Precision: 0.5939 - val_MCI_Precision: 0.6246 - val_AD_Recall: 0.1837 - val_CN_Recall: 0.6242 - val_MCI_Recall: 0.7657\n",
            "Epoch 34/50\n",
            "692/692 [==============================] - 83s 119ms/step - loss: 1.4072 - Accuracy: 0.6343 - AD_Precision: 0.5156 - CN_Precision: 0.5927 - MCI_Precision: 0.7070 - AD_Recall: 0.4737 - CN_Recall: 0.5669 - MCI_Recall: 0.7118 - val_loss: 2.1923 - val_Accuracy: 0.5668 - val_AD_Precision: 1.0000 - val_CN_Precision: 0.5932 - val_MCI_Precision: 0.5603 - val_AD_Recall: 0.0102 - val_CN_Recall: 0.4459 - val_MCI_Recall: 0.8745\n",
            "Epoch 35/50\n",
            "692/692 [==============================] - ETA: 0s - loss: 1.4034 - Accuracy: 0.6379 - AD_Precision: 0.5266 - CN_Precision: 0.5916 - MCI_Precision: 0.7116 - AD_Recall: 0.4840 - CN_Recall: 0.5657 - MCI_Recall: 0.7165"
          ]
        },
        {
          "ename": "OSError",
          "evalue": "[Errno 28] Unable to create file (unable to open file: name = 'modelsxception_row_10E-5_weights-epoch:035-val_Accuracy:0.6235.h5', errno = 28, error message = 'No space left on device', flags = 13, o_flags = 242)",
          "output_type": "error",
          "traceback": [
            "\u001b[0;31m---------------------------------------------------------------------------\u001b[0m",
            "\u001b[0;31mOSError\u001b[0m                                   Traceback (most recent call last)",
            "Input \u001b[0;32mIn [9]\u001b[0m, in \u001b[0;36m<cell line: 12>\u001b[0;34m()\u001b[0m\n\u001b[1;32m     10\u001b[0m OPT \u001b[38;5;241m=\u001b[39m tf\u001b[38;5;241m.\u001b[39mkeras\u001b[38;5;241m.\u001b[39moptimizers\u001b[38;5;241m.\u001b[39mRMSprop(learning_rate\u001b[38;5;241m=\u001b[39mlr)\n\u001b[1;32m     11\u001b[0m model05 \u001b[38;5;241m=\u001b[39m xception_row(OPT, LOOS,METRICS,image_Shape)\n\u001b[0;32m---> 12\u001b[0m history05 \u001b[38;5;241m=\u001b[39m \u001b[43mmodel05\u001b[49m\u001b[38;5;241;43m.\u001b[39;49m\u001b[43mfit\u001b[49m\u001b[43m(\u001b[49m\u001b[43mtraining_image_datagen\u001b[49m\u001b[43m,\u001b[49m\u001b[43m \u001b[49m\u001b[43mepochs\u001b[49m\u001b[38;5;241;43m=\u001b[39;49m\u001b[43mEPOCH\u001b[49m\u001b[43m,\u001b[49m\u001b[43m \u001b[49m\u001b[43mvalidation_data\u001b[49m\u001b[38;5;241;43m=\u001b[39;49m\u001b[43mtesting_image_datagen\u001b[49m\u001b[43m,\u001b[49m\u001b[43mcallbacks\u001b[49m\u001b[38;5;241;43m=\u001b[39;49m\u001b[43m[\u001b[49m\u001b[43mcsvloger_callback\u001b[49m\u001b[43m,\u001b[49m\u001b[43mmodelcheckpoint_callback\u001b[49m\u001b[43m]\u001b[49m\u001b[43m)\u001b[49m\n\u001b[1;32m     13\u001b[0m model05 \u001b[38;5;241m=\u001b[39m xception_row(OPT, LOOS,METRICS,image_Shape)\n\u001b[1;32m     14\u001b[0m model05\u001b[38;5;241m.\u001b[39mload_weights(glob\u001b[38;5;241m.\u001b[39mglob(\u001b[38;5;124mf\u001b[39m\u001b[38;5;124m\"\u001b[39m\u001b[38;5;132;01m{\u001b[39;00msavepath\u001b[38;5;132;01m}\u001b[39;00m\u001b[38;5;124mxception_row_10E-5_weights-epoch:*-val_Accuracy:\u001b[39m\u001b[38;5;132;01m{\u001b[39;00m\u001b[38;5;28mmax\u001b[39m(history05\u001b[38;5;241m.\u001b[39mhistory[\u001b[38;5;124m'\u001b[39m\u001b[38;5;124mval_Accuracy\u001b[39m\u001b[38;5;124m'\u001b[39m])\u001b[38;5;132;01m:\u001b[39;00m\u001b[38;5;124m.4f\u001b[39m\u001b[38;5;132;01m}\u001b[39;00m\u001b[38;5;124m.h5\u001b[39m\u001b[38;5;124m\"\u001b[39m)[\u001b[38;5;241m0\u001b[39m])\n",
            "File \u001b[0;32m/apps/tensorflow/2.7.0/lib/python3.9/site-packages/keras/utils/traceback_utils.py:67\u001b[0m, in \u001b[0;36mfilter_traceback.<locals>.error_handler\u001b[0;34m(*args, **kwargs)\u001b[0m\n\u001b[1;32m     65\u001b[0m \u001b[38;5;28;01mexcept\u001b[39;00m \u001b[38;5;167;01mException\u001b[39;00m \u001b[38;5;28;01mas\u001b[39;00m e:  \u001b[38;5;66;03m# pylint: disable=broad-except\u001b[39;00m\n\u001b[1;32m     66\u001b[0m   filtered_tb \u001b[38;5;241m=\u001b[39m _process_traceback_frames(e\u001b[38;5;241m.\u001b[39m__traceback__)\n\u001b[0;32m---> 67\u001b[0m   \u001b[38;5;28;01mraise\u001b[39;00m e\u001b[38;5;241m.\u001b[39mwith_traceback(filtered_tb) \u001b[38;5;28;01mfrom\u001b[39;00m \u001b[38;5;28mNone\u001b[39m\n\u001b[1;32m     68\u001b[0m \u001b[38;5;28;01mfinally\u001b[39;00m:\n\u001b[1;32m     69\u001b[0m   \u001b[38;5;28;01mdel\u001b[39;00m filtered_tb\n",
            "File \u001b[0;32m/apps/tensorflow/2.7.0/lib/python3.9/site-packages/h5py/_hl/files.py:507\u001b[0m, in \u001b[0;36mFile.__init__\u001b[0;34m(self, name, mode, driver, libver, userblock_size, swmr, rdcc_nslots, rdcc_nbytes, rdcc_w0, track_order, fs_strategy, fs_persist, fs_threshold, fs_page_size, page_buf_size, min_meta_keep, min_raw_keep, locking, **kwds)\u001b[0m\n\u001b[1;32m    502\u001b[0m     fapl \u001b[38;5;241m=\u001b[39m make_fapl(driver, libver, rdcc_nslots, rdcc_nbytes, rdcc_w0,\n\u001b[1;32m    503\u001b[0m                      locking, page_buf_size, min_meta_keep, min_raw_keep, \u001b[38;5;241m*\u001b[39m\u001b[38;5;241m*\u001b[39mkwds)\n\u001b[1;32m    504\u001b[0m     fcpl \u001b[38;5;241m=\u001b[39m make_fcpl(track_order\u001b[38;5;241m=\u001b[39mtrack_order, fs_strategy\u001b[38;5;241m=\u001b[39mfs_strategy,\n\u001b[1;32m    505\u001b[0m                      fs_persist\u001b[38;5;241m=\u001b[39mfs_persist, fs_threshold\u001b[38;5;241m=\u001b[39mfs_threshold,\n\u001b[1;32m    506\u001b[0m                      fs_page_size\u001b[38;5;241m=\u001b[39mfs_page_size)\n\u001b[0;32m--> 507\u001b[0m     fid \u001b[38;5;241m=\u001b[39m make_fid(name, mode, userblock_size, fapl, fcpl, swmr\u001b[38;5;241m=\u001b[39mswmr)\n\u001b[1;32m    509\u001b[0m \u001b[38;5;28;01mif\u001b[39;00m \u001b[38;5;28misinstance\u001b[39m(libver, \u001b[38;5;28mtuple\u001b[39m):\n\u001b[1;32m    510\u001b[0m     \u001b[38;5;28mself\u001b[39m\u001b[38;5;241m.\u001b[39m_libver \u001b[38;5;241m=\u001b[39m libver\n",
            "File \u001b[0;32m/apps/tensorflow/2.7.0/lib/python3.9/site-packages/h5py/_hl/files.py:226\u001b[0m, in \u001b[0;36mmake_fid\u001b[0;34m(name, mode, userblock_size, fapl, fcpl, swmr)\u001b[0m\n\u001b[1;32m    224\u001b[0m     fid \u001b[38;5;241m=\u001b[39m h5f\u001b[38;5;241m.\u001b[39mcreate(name, h5f\u001b[38;5;241m.\u001b[39mACC_EXCL, fapl\u001b[38;5;241m=\u001b[39mfapl, fcpl\u001b[38;5;241m=\u001b[39mfcpl)\n\u001b[1;32m    225\u001b[0m \u001b[38;5;28;01melif\u001b[39;00m mode \u001b[38;5;241m==\u001b[39m \u001b[38;5;124m'\u001b[39m\u001b[38;5;124mw\u001b[39m\u001b[38;5;124m'\u001b[39m:\n\u001b[0;32m--> 226\u001b[0m     fid \u001b[38;5;241m=\u001b[39m \u001b[43mh5f\u001b[49m\u001b[38;5;241;43m.\u001b[39;49m\u001b[43mcreate\u001b[49m\u001b[43m(\u001b[49m\u001b[43mname\u001b[49m\u001b[43m,\u001b[49m\u001b[43m \u001b[49m\u001b[43mh5f\u001b[49m\u001b[38;5;241;43m.\u001b[39;49m\u001b[43mACC_TRUNC\u001b[49m\u001b[43m,\u001b[49m\u001b[43m \u001b[49m\u001b[43mfapl\u001b[49m\u001b[38;5;241;43m=\u001b[39;49m\u001b[43mfapl\u001b[49m\u001b[43m,\u001b[49m\u001b[43m \u001b[49m\u001b[43mfcpl\u001b[49m\u001b[38;5;241;43m=\u001b[39;49m\u001b[43mfcpl\u001b[49m\u001b[43m)\u001b[49m\n\u001b[1;32m    227\u001b[0m \u001b[38;5;28;01melif\u001b[39;00m mode \u001b[38;5;241m==\u001b[39m \u001b[38;5;124m'\u001b[39m\u001b[38;5;124ma\u001b[39m\u001b[38;5;124m'\u001b[39m:\n\u001b[1;32m    228\u001b[0m     \u001b[38;5;66;03m# Open in append mode (read/write).\u001b[39;00m\n\u001b[1;32m    229\u001b[0m     \u001b[38;5;66;03m# If that fails, create a new file only if it won't clobber an\u001b[39;00m\n\u001b[1;32m    230\u001b[0m     \u001b[38;5;66;03m# existing one (ACC_EXCL)\u001b[39;00m\n\u001b[1;32m    231\u001b[0m     \u001b[38;5;28;01mtry\u001b[39;00m:\n",
            "File \u001b[0;32mh5py/_objects.pyx:54\u001b[0m, in \u001b[0;36mh5py._objects.with_phil.wrapper\u001b[0;34m()\u001b[0m\n",
            "File \u001b[0;32mh5py/_objects.pyx:55\u001b[0m, in \u001b[0;36mh5py._objects.with_phil.wrapper\u001b[0;34m()\u001b[0m\n",
            "File \u001b[0;32mh5py/h5f.pyx:126\u001b[0m, in \u001b[0;36mh5py.h5f.create\u001b[0;34m()\u001b[0m\n",
            "\u001b[0;31mOSError\u001b[0m: [Errno 28] Unable to create file (unable to open file: name = 'modelsxception_row_10E-5_weights-epoch:035-val_Accuracy:0.6235.h5', errno = 28, error message = 'No space left on device', flags = 13, o_flags = 242)"
          ]
        }
      ],
      "source": [
        "savepath = 'models'\n",
        "lr=0.000001\n",
        "if not os.path.isdir(savepath):\n",
        "      os.makedirs(savepath)\n",
        "csvloger_callback = tf.keras.callbacks.CSVLogger(f'{savepath}history.csv', separator=',', append=False)\n",
        "\n",
        "modelcheckpoint_callback = tf.keras.callbacks.ModelCheckpoint(savepath+'xception_row_10E-5_weights-epoch:{epoch:03d}-val_Accuracy:{val_Accuracy:.4f}.h5',monitor='val_Accuracy'\n",
        "    ,verbose=0,save_best_only=True,save_weights_only=True,mode='max',save_freq='epoch' , initial_value_threshold=0.85)\n",
        "\n",
        "OPT = tf.keras.optimizers.RMSprop(learning_rate=lr)\n",
        "model05 = xception_row(OPT, LOOS,METRICS,image_Shape)\n",
        "history05 = model05.fit(training_image_datagen, epochs=EPOCH, validation_data=testing_image_datagen,callbacks=[csvloger_callback,modelcheckpoint_callback])\n",
        "model05 = xception_row(OPT, LOOS,METRICS,image_Shape)\n",
        "model05.load_weights(glob.glob(f\"{savepath}xception_row_10E-5_weights-epoch:*-val_Accuracy:{max(history05.history['val_Accuracy']):.4f}.h5\")[0])\n",
        "model05.save(f\"{savepath}/xceptionaug_50_0.000001.h5\")\n",
        "p2 = model05.predict(testing_image_datagen)\n",
        "predicted_lab = p2.argmax(axis=-1)\n",
        "true_lab = testing_image_datagen.classes\n",
        "plot_confusion_matrix(true_lab, predicted_lab, testing_image_datagen.class_indices.keys(),savepath)\n",
        "report = classification_report(true_lab, predicted_lab, target_names=testing_image_datagen.class_indices.keys())\n",
        "print(report)\n",
        "dump_text(report,f'{savepath}classification_report.txt')\n",
        "np.save(\"xceptionaug_50_0.000001.npy\",p2 )"
      ]
    },
    {
      "cell_type": "code",
      "source": [
        "model = tf.keras.models.load_model('/blue/oguzhan/swetha.lenkala/Finetuning_models/Xception/Adam/Xception_50_0.000001/xception_50_0.000001.h5')\n",
        "predictions_densenet201 = model.predict(testing_image_datagen)"
      ],
      "metadata": {
        "id": "4YUMkgwxTDVA"
      },
      "id": "4YUMkgwxTDVA",
      "execution_count": null,
      "outputs": []
    },
    {
      "cell_type": "code",
      "execution_count": null,
      "metadata": {
        "tags": [],
        "id": "ffd3dd33-0776-42fa-a0e6-6d35de915cee",
        "outputId": "cf86d36a-9476-472b-cacc-58977dcb9964"
      },
      "outputs": [
        {
          "name": "stdout",
          "output_type": "stream",
          "text": [
            "              precision    recall  f1-score   support\n",
            "\n",
            "          AD       0.81      0.47      0.59        98\n",
            "          CN       0.78      0.75      0.76       157\n",
            "         MCI       0.74      0.88      0.80       239\n",
            "\n",
            "    accuracy                           0.76       494\n",
            "   macro avg       0.77      0.70      0.72       494\n",
            "weighted avg       0.76      0.76      0.75       494\n",
            "\n"
          ]
        },
        {
          "data": {
            "image/png": "[encoded data removed]",
            "text/plain": [
              "<Figure size 432x288 with 2 Axes>"
            ]
          },
          "metadata": {
            "needs_background": "light"
          },
          "output_type": "display_data"
        }
      ],
      "source": [
        "savepath='models'\n",
        "predicted_lab = predictions_densenet201.argmax(axis=-1)\n",
        "true_lab = testing_image_datagen.classes\n",
        "plot_confusion_matrix(true_lab, predicted_lab, testing_image_datagen.class_indices.keys(),savepath)\n",
        "report = classification_report(true_lab, predicted_lab, target_names=testing_image_datagen.class_indices.keys())\n",
        "print(report)\n",
        "\n",
        "np.save(\"resnet_100_0.0001.npy\",predictions_densenet201 )"
      ],
      "id": "ffd3dd33-0776-42fa-a0e6-6d35de915cee"
    },
    {
      "cell_type": "code",
      "execution_count": null,
      "id": "c3f54798-280a-490f-a06c-b30d7b3889af",
      "metadata": {
        "tags": [],
        "id": "c3f54798-280a-490f-a06c-b30d7b3889af"
      },
      "outputs": [],
      "source": [
        "import os\n",
        "import numpy as np\n",
        "from tensorflow.keras.preprocessing.image import ImageDataGenerator\n",
        "from PIL import Image\n",
        "# Define directories\n",
        "base_dir = 'AFFINE_REG_SKS_MASK_2D_IMAGES_DIR'\n",
        "train_dir = os.path.join(base_dir, 'training')\n",
        "augmented_dir = os.path.join(base_dir, 'augmented')\n",
        "\n",
        "# Define subdirectories\n",
        "classes = ['MCI', 'AD', 'CN']\n",
        "\n",
        "# Data augmentation parameters\n",
        "datagen = ImageDataGenerator(\n",
        "    rotation_range=30,\n",
        "    width_shift_range=0.2,\n",
        "    height_shift_range=0.2,\n",
        "    shear_range=0.2,\n",
        "    zoom_range=0.2,\n",
        "    vertical_flip=True,\n",
        "    fill_mode='nearest'\n",
        ")\n",
        "\n",
        "def augment_images(input_dir, output_dir, class_name):\n",
        "    class_dir = os.path.join(input_dir, class_name)\n",
        "    output_class_dir = os.path.join(output_dir, class_name)\n",
        "    if not os.path.exists(output_class_dir):\n",
        "        os.makedirs(output_class_dir)\n",
        "\n",
        "    # List only files (not directories) in the class directory\n",
        "    images = [f for f in os.listdir(class_dir) if os.path.isfile(os.path.join(class_dir, f)) and not f.startswith('.')]\n",
        "    for img_name in images:\n",
        "        img_path = os.path.join(class_dir, img_name)\n",
        "        img = np.array(Image.open(img_path))  # Load image using PIL\n",
        "        img = np.expand_dims(img, axis=-1)  # Add channel dimension (assuming images are grayscale)\n",
        "        img = np.expand_dims(img, axis=0)   # Add batch dimension\n",
        "        # Generate augmented images\n",
        "        for i, batch in enumerate(datagen.flow(img, batch_size=1, save_to_dir=output_class_dir, save_prefix='aug_', save_format='png')):\n",
        "            if i >= 5:  # Number of augmented images to generate\n",
        "                break\n",
        "\n",
        "\n",
        "\n",
        "# Augment images for each class\n",
        "for class_name in classes:\n",
        "    augment_images(train_dir, augmented_dir, class_name)\n"
      ]
    },
    {
      "cell_type": "code",
      "execution_count": null,
      "id": "34718231-8a9c-403f-af95-15a0f6d30f31",
      "metadata": {
        "id": "34718231-8a9c-403f-af95-15a0f6d30f31"
      },
      "outputs": [],
      "source": []
    },
    {
      "cell_type": "code",
      "execution_count": null,
      "id": "eef73038-d64c-4d19-b0ff-f2be214f9594",
      "metadata": {
        "id": "eef73038-d64c-4d19-b0ff-f2be214f9594"
      },
      "outputs": [],
      "source": [
        "import os\n",
        "\n",
        "# Define base directory\n",
        "base_dir = 'AFFINE_REG_SKS_MASK_2D_IMAGES_DIR'\n",
        "train_dir = os.path.join(base_dir, 'AD')\n",
        "\n",
        "# Define subdirectories\n",
        "#classes = ['MCI', 'AD', 'CN']\n",
        "\n",
        "# Function to count images in a directory\n",
        "def count_images(directory):\n",
        "    count = 0\n",
        "    for root, dirs, files in os.walk(directory):\n",
        "        for file in files:\n",
        "            if file.endswith('.jpg') or file.endswith('.png') or file.endswith('.jpeg'):\n",
        "                count += 1\n",
        "    return count\n",
        "\n",
        "# Count images for each clas\n",
        "\n",
        "    num_images = count_images(class_dir)\n",
        "    print(f\"Number of images in : {num_images}\")\n"
      ]
    },
    {
      "cell_type": "code",
      "execution_count": null,
      "id": "29d77912-6d44-4f86-ba63-8fca14ce4f11",
      "metadata": {
        "tags": [],
        "id": "29d77912-6d44-4f86-ba63-8fca14ce4f11"
      },
      "outputs": [],
      "source": [
        "import os\n",
        "import shutil\n",
        "\n",
        "# Define directories\n",
        "base_dir = 'AFFINE_REG_SKS_MASK_2D_IMAGES_DIR'\n",
        "augmented_dir = os.path.join(base_dir, 'augmented')\n",
        "\n",
        "# Define subdirectories\n",
        "classes = ['MCI', 'AD', 'CN']\n",
        "\n",
        "# Iterate over each class directory\n",
        "for class_name in classes:\n",
        "    class_dir = os.path.join(augmented_dir, class_name)\n",
        "    output_class_dir = os.path.join(base_dir, class_name)\n",
        "\n",
        "    # Ensure the output directory exists\n",
        "    if not os.path.exists(output_class_dir):\n",
        "        os.makedirs(output_class_dir)\n",
        "\n",
        "    # Iterate over images in the class directory\n",
        "    for img_name in os.listdir(class_dir):\n",
        "        img_path = os.path.join(class_dir, img_name)\n",
        "\n",
        "        # Skip hidden directories\n",
        "        if os.path.isdir(img_path):\n",
        "            continue\n",
        "\n",
        "        # Copy original images to the output directory\n",
        "        if not img_name.startswith('aug_'):\n",
        "            shutil.copy(img_path, output_class_dir)\n",
        "\n",
        "        # Copy augmented images to the output directory\n",
        "        else:\n",
        "            augmented_img_path = os.path.join(class_dir, img_name)\n",
        "            shutil.copy(augmented_img_path, output_class_dir)\n"
      ]
    },
    {
      "cell_type": "code",
      "execution_count": null,
      "id": "e8fe340b-cb5a-4f7c-bd4c-64ea41d544f5",
      "metadata": {
        "tags": [],
        "id": "e8fe340b-cb5a-4f7c-bd4c-64ea41d544f5"
      },
      "outputs": [],
      "source": [
        "import os\n",
        "import shutil\n",
        "\n",
        "# Define directories\n",
        "base_dir = 'AFFINE_REG_SKS_MASK_2D_IMAGES_DIR'\n",
        "original_dir = os.path.join(base_dir, 'training')\n",
        "augmented_dir = os.path.join(base_dir, 'augmented')\n",
        "\n",
        "# Define subdirectories\n",
        "classes = ['MCI', 'AD', 'CN']\n",
        "\n",
        "# Function to copy images from augmented directory to original directory\n",
        "def combine_images(original_dir, augmented_dir, class_name):\n",
        "    original_class_dir = os.path.join(original_dir, class_name)\n",
        "    augmented_class_dir = os.path.join(augmented_dir, class_name)\n",
        "\n",
        "    # Ensure the output directory exists\n",
        "    if not os.path.exists(original_class_dir):\n",
        "        os.makedirs(original_class_dir)\n",
        "\n",
        "    # Copy augmented images to the original directory\n",
        "    for img_name in os.listdir(augmented_class_dir):\n",
        "        if img_name.startswith('.') or img_name.endswith('.ipynb_checkpoints'):\n",
        "            continue  # Skip hidden directories and checkpoints\n",
        "        img_path = os.path.join(augmented_class_dir, img_name)\n",
        "        shutil.copy(img_path, original_class_dir)\n",
        "\n",
        "# Combine images for each class\n",
        "for class_name in classes:\n",
        "    combine_images(original_dir, augmented_dir, class_name)\n"
      ]
    }
  ],
  "metadata": {
    "kernelspec": {
      "display_name": "Tensorflow-2.7.0",
      "language": "python",
      "name": "tensorflow-2.7.0"
    },
    "language_info": {
      "codemirror_mode": {
        "name": "ipython",
        "version": 3
      },
      "file_extension": ".py",
      "mimetype": "text/x-python",
      "name": "python",
      "nbconvert_exporter": "python",
      "pygments_lexer": "ipython3",
      "version": "3.9.12"
    },
    "colab": {
      "provenance": []
    }
  },
  "nbformat": 4,
  "nbformat_minor": 5
}
